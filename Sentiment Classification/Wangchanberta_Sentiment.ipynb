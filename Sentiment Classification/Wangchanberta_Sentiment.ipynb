{
  "nbformat": 4,
  "nbformat_minor": 0,
  "metadata": {
    "colab": {
      "name": "Wangchanberta_system_aftersam.ipynb",
      "provenance": [],
      "collapsed_sections": [],
      "machine_shape": "hm"
    },
    "kernelspec": {
      "name": "python3",
      "display_name": "Python 3"
    },
    "language_info": {
      "name": "python"
    },
    "accelerator": "GPU"
  },
  "cells": [
    {
      "cell_type": "code",
      "metadata": {
        "id": "f4P6G5XGwL59"
      },
      "source": [
        "# Install thai2transformer \n",
        "!pip -q install torch==1.5.0 torchtext==0.4.0 torchvision==0.6.0\n",
        "!pip -q install transformers==3.5.0 thai2transformers==0.1.2"
      ],
      "execution_count": 29,
      "outputs": []
    },
    {
      "cell_type": "code",
      "metadata": {
        "id": "93Lp2eIRwhF0"
      },
      "source": [
        "import numpy as np\n",
        "from tqdm.auto import tqdm\n",
        "import torch\n",
        "\n",
        "#datasets\n",
        "from datasets import load_dataset\n",
        "\n",
        "#transformers\n",
        "from transformers import (\n",
        "    CamembertTokenizer,\n",
        "    AutoTokenizer,\n",
        "    AutoModel,\n",
        "    AutoModelForMaskedLM,\n",
        "    AutoModelForSequenceClassification,\n",
        "    AutoModelForTokenClassification,\n",
        "    TrainingArguments,\n",
        "    Trainer,\n",
        "    pipeline,\n",
        ")\n",
        "\n",
        "#thai2transformers\n",
        "import thai2transformers\n",
        "from thai2transformers.preprocess import process_transformers\n",
        "from thai2transformers.metrics import (\n",
        "    classification_metrics, \n",
        "    multilabel_classification_metrics,\n",
        ")\n",
        "from thai2transformers.tokenizers import (\n",
        "    ThaiRobertaTokenizer,\n",
        "    ThaiWordsNewmmTokenizer,\n",
        "    ThaiWordsSyllableTokenizer,\n",
        "    FakeSefrCutTokenizer,\n",
        "    SEFR_SPLIT_TOKEN\n",
        ")"
      ],
      "execution_count": 30,
      "outputs": []
    },
    {
      "cell_type": "code",
      "metadata": {
        "id": "xvO079ssxqBd"
      },
      "source": [
        "model_names = [\n",
        "    'wangchanberta-base-att-spm-uncased',\n",
        "    'xlm-roberta-base',\n",
        "    'bert-base-multilingual-cased',\n",
        "    'wangchanberta-base-wiki-newmm',\n",
        "    'wangchanberta-base-wiki-ssg',\n",
        "    'wangchanberta-base-wiki-sefr',\n",
        "    'wangchanberta-base-wiki-spm',\n",
        "]\n",
        "\n",
        "tokenizers = {\n",
        "    'wangchanberta-base-att-spm-uncased': AutoTokenizer,\n",
        "    'xlm-roberta-base': AutoTokenizer,\n",
        "    'bert-base-multilingual-cased': AutoTokenizer,\n",
        "    'wangchanberta-base-wiki-newmm': ThaiWordsNewmmTokenizer,\n",
        "    'wangchanberta-base-wiki-ssg': ThaiWordsSyllableTokenizer,\n",
        "    'wangchanberta-base-wiki-sefr': FakeSefrCutTokenizer,\n",
        "    'wangchanberta-base-wiki-spm': ThaiRobertaTokenizer,\n",
        "}\n",
        "public_models = ['xlm-roberta-base', 'bert-base-multilingual-cased'] \n",
        "#@title Choose Pretrained Model\n",
        "model_name = \"wangchanberta-base-att-spm-uncased\" #@param [\"wangchanberta-base-att-spm-uncased\", \"xlm-roberta-base\", \"bert-base-multilingual-cased\", \"wangchanberta-base-wiki-newmm\", \"wangchanberta-base-wiki-syllable\", \"wangchanberta-base-wiki-sefr\", \"wangchanberta-base-wiki-spm\"]\n",
        "\n",
        "#create tokenizer\n",
        "tokenizer = tokenizers[model_name].from_pretrained(\n",
        "                f'airesearch/{model_name}' if model_name not in public_models else f'{model_name}',\n",
        "                revision='main',\n",
        "                model_max_length=416,)\n"
      ],
      "execution_count": 31,
      "outputs": []
    },
    {
      "cell_type": "markdown",
      "metadata": {
        "id": "CtTrg_gS2d_w"
      },
      "source": [
        "# Sentiment Analysis"
      ]
    },
    {
      "cell_type": "code",
      "metadata": {
        "id": "Y_TByUUtx_mt"
      },
      "source": [
        "#@title Choose Multi-class Classification Dataset\n",
        "dataset_name = \"wisesight_sentiment\" #@param ['wisesight_sentiment','wongnai_reviews']\n",
        "\n",
        "#pipeline\n",
        "classify_multiclass = pipeline(task='sentiment-analysis',\n",
        "         tokenizer=tokenizer,\n",
        "         model = f'airesearch/{model_name}' if model_name not in public_models else f'{model_name}',\n",
        "         revision = f'finetuned@{dataset_name}')"
      ],
      "execution_count": 32,
      "outputs": []
    },
    {
      "cell_type": "markdown",
      "metadata": {
        "id": "nwXa1635knNy"
      },
      "source": [
        "# COMPANY"
      ]
    },
    {
      "cell_type": "markdown",
      "metadata": {
        "id": "aC65Ia11Jj5C"
      },
      "source": [
        "### Input Data"
      ]
    },
    {
      "cell_type": "code",
      "metadata": {
        "colab": {
          "base_uri": "https://localhost:8080/"
        },
        "id": "TTjjDoAJ5RIH",
        "outputId": "ae96197e-d40b-421f-c33e-17dece2f3560"
      },
      "source": [
        "# main library\n",
        "import pandas as pd\n",
        "import numpy as np\n",
        "data = pd.read_excel('/content/Shopee_Tweet_NEW.xlsx')\n",
        "data.shape"
      ],
      "execution_count": 80,
      "outputs": [
        {
          "output_type": "execute_result",
          "data": {
            "text/plain": [
              "(4458, 4)"
            ]
          },
          "metadata": {
            "tags": []
          },
          "execution_count": 80
        }
      ]
    },
    {
      "cell_type": "code",
      "metadata": {
        "colab": {
          "base_uri": "https://localhost:8080/",
          "height": 204
        },
        "id": "Yc5erEQFL1y1",
        "outputId": "035477ac-5a48-44e2-8699-948b5067cf01"
      },
      "source": [
        "data.head()"
      ],
      "execution_count": 81,
      "outputs": [
        {
          "output_type": "execute_result",
          "data": {
            "text/html": [
              "<div>\n",
              "<style scoped>\n",
              "    .dataframe tbody tr th:only-of-type {\n",
              "        vertical-align: middle;\n",
              "    }\n",
              "\n",
              "    .dataframe tbody tr th {\n",
              "        vertical-align: top;\n",
              "    }\n",
              "\n",
              "    .dataframe thead th {\n",
              "        text-align: right;\n",
              "    }\n",
              "</style>\n",
              "<table border=\"1\" class=\"dataframe\">\n",
              "  <thead>\n",
              "    <tr style=\"text-align: right;\">\n",
              "      <th></th>\n",
              "      <th>Create_at</th>\n",
              "      <th>clean_text</th>\n",
              "      <th>Sentiment</th>\n",
              "      <th>Topics</th>\n",
              "    </tr>\n",
              "  </thead>\n",
              "  <tbody>\n",
              "    <tr>\n",
              "      <th>0</th>\n",
              "      <td>2021-01-05</td>\n",
              "      <td>ใช่ค่ะ ตอนแรกบอกว่าให้กดรับของได้เลยแล้วจะส่งใ...</td>\n",
              "      <td>neg</td>\n",
              "      <td>Company</td>\n",
              "    </tr>\n",
              "    <tr>\n",
              "      <th>1</th>\n",
              "      <td>2021-01-05</td>\n",
              "      <td>อยากให้เรื่องนี้แมส เผื่อว่า จะออกมารับผิดชอบอ...</td>\n",
              "      <td>neg</td>\n",
              "      <td>Company</td>\n",
              "    </tr>\n",
              "    <tr>\n",
              "      <th>2</th>\n",
              "      <td>2021-02-06</td>\n",
              "      <td>ขอบคุณบริษัทช้อปปี้มากฮะที่แอดมินพาพี่มายกับอา...</td>\n",
              "      <td>pos</td>\n",
              "      <td>Company</td>\n",
              "    </tr>\n",
              "    <tr>\n",
              "      <th>3</th>\n",
              "      <td>2021-03-26</td>\n",
              "      <td>บอกลาบริษัทช้อปปี้ก่อนนะ แอดมินแบบนี้ ซื้อด้วย...</td>\n",
              "      <td>neg</td>\n",
              "      <td>Company</td>\n",
              "    </tr>\n",
              "    <tr>\n",
              "      <th>4</th>\n",
              "      <td>2021-02-01</td>\n",
              "      <td>เรากดสั่งของไปรอของมาจนวันนี้ ไม่ส่งซักที วันน...</td>\n",
              "      <td>neg</td>\n",
              "      <td>Company</td>\n",
              "    </tr>\n",
              "  </tbody>\n",
              "</table>\n",
              "</div>"
            ],
            "text/plain": [
              "   Create_at  ...   Topics\n",
              "0 2021-01-05  ...  Company\n",
              "1 2021-01-05  ...  Company\n",
              "2 2021-02-06  ...  Company\n",
              "3 2021-03-26  ...  Company\n",
              "4 2021-02-01  ...  Company\n",
              "\n",
              "[5 rows x 4 columns]"
            ]
          },
          "metadata": {
            "tags": []
          },
          "execution_count": 81
        }
      ]
    },
    {
      "cell_type": "code",
      "metadata": {
        "colab": {
          "base_uri": "https://localhost:8080/",
          "height": 142
        },
        "id": "Gj2V34ivIC8z",
        "outputId": "9626cc6d-dde9-46ca-fd89-f3a4c5c6cc30"
      },
      "source": [
        "sentiment_rate = data.groupby('Sentiment').agg({'clean_text': lambda x: len(x)}).reset_index()\n",
        "sentiment_rate.head()"
      ],
      "execution_count": 82,
      "outputs": [
        {
          "output_type": "execute_result",
          "data": {
            "text/html": [
              "<div>\n",
              "<style scoped>\n",
              "    .dataframe tbody tr th:only-of-type {\n",
              "        vertical-align: middle;\n",
              "    }\n",
              "\n",
              "    .dataframe tbody tr th {\n",
              "        vertical-align: top;\n",
              "    }\n",
              "\n",
              "    .dataframe thead th {\n",
              "        text-align: right;\n",
              "    }\n",
              "</style>\n",
              "<table border=\"1\" class=\"dataframe\">\n",
              "  <thead>\n",
              "    <tr style=\"text-align: right;\">\n",
              "      <th></th>\n",
              "      <th>Sentiment</th>\n",
              "      <th>clean_text</th>\n",
              "    </tr>\n",
              "  </thead>\n",
              "  <tbody>\n",
              "    <tr>\n",
              "      <th>0</th>\n",
              "      <td>neg</td>\n",
              "      <td>1838</td>\n",
              "    </tr>\n",
              "    <tr>\n",
              "      <th>1</th>\n",
              "      <td>neu</td>\n",
              "      <td>1447</td>\n",
              "    </tr>\n",
              "    <tr>\n",
              "      <th>2</th>\n",
              "      <td>pos</td>\n",
              "      <td>1173</td>\n",
              "    </tr>\n",
              "  </tbody>\n",
              "</table>\n",
              "</div>"
            ],
            "text/plain": [
              "  Sentiment  clean_text\n",
              "0       neg        1838\n",
              "1       neu        1447\n",
              "2       pos        1173"
            ]
          },
          "metadata": {
            "tags": []
          },
          "execution_count": 82
        }
      ]
    },
    {
      "cell_type": "code",
      "metadata": {
        "colab": {
          "base_uri": "https://localhost:8080/",
          "height": 350
        },
        "id": "TkP1xV5I-02e",
        "outputId": "956a13eb-962e-421e-b305-9ede99bd650d"
      },
      "source": [
        "import matplotlib.pyplot as plt\n",
        "plt.figure(figsize=(5,5))\n",
        "x=range(3)\n",
        "plt.bar(x,sentiment_rate['clean_text'])\n",
        "plt.xticks(sentiment_rate.index)\n",
        "plt.title('Sentiment Distribution')\n",
        "plt.xlabel('Convert or Not')\n",
        "plt.ylabel('no. of users')\n",
        "plt.show()\n",
        "\n",
        "#Data is imbalanced"
      ],
      "execution_count": 83,
      "outputs": [
        {
          "output_type": "display_data",
          "data": {
            "image/png": "[encoded data removed]",
            "text/plain": [
              "<Figure size 360x360 with 1 Axes>"
            ]
          },
          "metadata": {
            "tags": [],
            "needs_background": "light"
          }
        }
      ]
    },
    {
      "cell_type": "markdown",
      "metadata": {
        "id": "zY5_pd0fpRoD"
      },
      "source": [
        "### Fixing imbalanced data"
      ]
    },
    {
      "cell_type": "code",
      "metadata": {
        "colab": {
          "base_uri": "https://localhost:8080/"
        },
        "id": "aDUCWirWHVay",
        "outputId": "2e512bc8-77ea-4c63-e8b9-c3b24f392f5b"
      },
      "source": [
        "# fixing Imbalanced data\n",
        "neg = data.loc[lambda data: data['Sentiment'] == 'neg']\n",
        "neu = data.loc[lambda data: data['Sentiment'] == 'neu']\n",
        "pos = data.loc[lambda data: data['Sentiment'] == 'pos']\n",
        "sampling_neg = neg.sample(frac =0.64, random_state=42)\n",
        "sampling_neu = neu.sample(frac =0.81, random_state=42)\n",
        "sampling_pos = pos.sample(frac =0.86, random_state=42)\n",
        "print(sampling_neg)\n",
        "print(sampling_neu)\n",
        "print(pos)\n",
        "#print(pos)"
      ],
      "execution_count": 84,
      "outputs": [
        {
          "output_type": "stream",
          "text": [
            "      Create_at  ...     Topics\n",
            "3774 2021-03-14  ...      Store\n",
            "2624 2021-03-14  ...      Store\n",
            "705  2021-01-11  ...  Logistics\n",
            "786  2021-01-11  ...  Logistics\n",
            "3253 2021-04-04  ...      Store\n",
            "...         ...  ...        ...\n",
            "701  2021-01-11  ...  Logistics\n",
            "747  2021-01-11  ...  Logistics\n",
            "1953 2021-02-04  ...  Promotion\n",
            "1637 2021-01-13  ...  Logistics\n",
            "1511 2021-04-04  ...  Logistics\n",
            "\n",
            "[1176 rows x 4 columns]\n",
            "      Create_at  ...     Topics\n",
            "3315 2021-05-04  ...      Store\n",
            "1636 2021-01-12  ...  Logistics\n",
            "2921 2021-03-15  ...      Store\n",
            "1762 2021-02-09  ...  Promotion\n",
            "798  2021-03-02  ...  Logistics\n",
            "...         ...  ...        ...\n",
            "1037 2021-01-11  ...  Logistics\n",
            "99   2021-02-20  ...    Company\n",
            "1778 2021-01-07  ...  Promotion\n",
            "4356 2021-03-17  ...     System\n",
            "1050 2021-01-11  ...  Logistics\n",
            "\n",
            "[1172 rows x 4 columns]\n",
            "      Create_at  ...   Topics\n",
            "2    2021-02-06  ...  Company\n",
            "7    2021-04-05  ...  Company\n",
            "14   2021-03-26  ...  Company\n",
            "20   2021-03-26  ...  Company\n",
            "21   2021-03-26  ...  Company\n",
            "...         ...  ...      ...\n",
            "4444 2021-03-16  ...   System\n",
            "4445 2021-03-17  ...   System\n",
            "4446 2021-03-18  ...   System\n",
            "4455 2021-03-28  ...   System\n",
            "4456 2021-03-29  ...   System\n",
            "\n",
            "[1173 rows x 4 columns]\n"
          ],
          "name": "stdout"
        }
      ]
    },
    {
      "cell_type": "code",
      "metadata": {
        "colab": {
          "base_uri": "https://localhost:8080/",
          "height": 419
        },
        "id": "IBgy0aUJA1OQ",
        "outputId": "1cd17d6c-31ad-406e-edbb-985438658e21"
      },
      "source": [
        "# append columns \n",
        "df1 = sampling_neg.append(sampling_neu, ignore_index=True)\n",
        "df = df1.append(pos, ignore_index=True)\n",
        "df"
      ],
      "execution_count": 85,
      "outputs": [
        {
          "output_type": "execute_result",
          "data": {
            "text/html": [
              "<div>\n",
              "<style scoped>\n",
              "    .dataframe tbody tr th:only-of-type {\n",
              "        vertical-align: middle;\n",
              "    }\n",
              "\n",
              "    .dataframe tbody tr th {\n",
              "        vertical-align: top;\n",
              "    }\n",
              "\n",
              "    .dataframe thead th {\n",
              "        text-align: right;\n",
              "    }\n",
              "</style>\n",
              "<table border=\"1\" class=\"dataframe\">\n",
              "  <thead>\n",
              "    <tr style=\"text-align: right;\">\n",
              "      <th></th>\n",
              "      <th>Create_at</th>\n",
              "      <th>clean_text</th>\n",
              "      <th>Sentiment</th>\n",
              "      <th>Topics</th>\n",
              "    </tr>\n",
              "  </thead>\n",
              "  <tbody>\n",
              "    <tr>\n",
              "      <th>0</th>\n",
              "      <td>2021-03-14</td>\n",
              "      <td>บัตรเครดิตกุโดนแฮคจ้าาา ไม่แน่ใจว่าแฮคได้ไง แต...</td>\n",
              "      <td>neg</td>\n",
              "      <td>Store</td>\n",
              "    </tr>\n",
              "    <tr>\n",
              "      <th>1</th>\n",
              "      <td>2021-03-14</td>\n",
              "      <td>อะเอาผิดเรื่องสินค้าไม่ตรงปกด้วยค่ะ แล้วก็เรื่...</td>\n",
              "      <td>neg</td>\n",
              "      <td>Store</td>\n",
              "    </tr>\n",
              "    <tr>\n",
              "      <th>2</th>\n",
              "      <td>2021-01-11</td>\n",
              "      <td>ช้อปปี้ ดองของส่งช้ามากกกก มึงไม่ให้กูเลือกอะอ...</td>\n",
              "      <td>neg</td>\n",
              "      <td>Logistics</td>\n",
              "    </tr>\n",
              "    <tr>\n",
              "      <th>3</th>\n",
              "      <td>2021-01-11</td>\n",
              "      <td>ช้อปปี้​ Express​ ส่งของช้ามากคร๊​ ถ้าเลือกขนส...</td>\n",
              "      <td>neg</td>\n",
              "      <td>Logistics</td>\n",
              "    </tr>\n",
              "    <tr>\n",
              "      <th>4</th>\n",
              "      <td>2021-04-04</td>\n",
              "      <td>กุเบื่อการกดสั่งของในช้อปปี้อย่างคือตอนกดอ่ะมี...</td>\n",
              "      <td>neg</td>\n",
              "      <td>Store</td>\n",
              "    </tr>\n",
              "    <tr>\n",
              "      <th>...</th>\n",
              "      <td>...</td>\n",
              "      <td>...</td>\n",
              "      <td>...</td>\n",
              "      <td>...</td>\n",
              "    </tr>\n",
              "    <tr>\n",
              "      <th>3516</th>\n",
              "      <td>2021-03-16</td>\n",
              "      <td>แอพช้อปปี้ มีทุกอย่างเชื่อพี่</td>\n",
              "      <td>pos</td>\n",
              "      <td>System</td>\n",
              "    </tr>\n",
              "    <tr>\n",
              "      <th>3517</th>\n",
              "      <td>2021-03-17</td>\n",
              "      <td>ตอนแอพช้อปปี้3 3กูกดอะไรไปบ้างเนี่ย เสียเงินซื...</td>\n",
              "      <td>pos</td>\n",
              "      <td>System</td>\n",
              "    </tr>\n",
              "    <tr>\n",
              "      <th>3518</th>\n",
              "      <td>2021-03-18</td>\n",
              "      <td>แต่เฟยชอบเวลาแอพช้อปปี้แจ้งเตือนมาก เสียงน่ารัก</td>\n",
              "      <td>pos</td>\n",
              "      <td>System</td>\n",
              "    </tr>\n",
              "    <tr>\n",
              "      <th>3519</th>\n",
              "      <td>2021-03-28</td>\n",
              "      <td>ใช่ๆ ระบบช้อปปี้ดีกว่าเยอะมากเลย</td>\n",
              "      <td>pos</td>\n",
              "      <td>System</td>\n",
              "    </tr>\n",
              "    <tr>\n",
              "      <th>3520</th>\n",
              "      <td>2021-03-29</td>\n",
              "      <td>ไปค่ะพุ่งออกจากแอพช้อปปี้เข้ายูทูปต่อค่ะ</td>\n",
              "      <td>pos</td>\n",
              "      <td>System</td>\n",
              "    </tr>\n",
              "  </tbody>\n",
              "</table>\n",
              "<p>3521 rows × 4 columns</p>\n",
              "</div>"
            ],
            "text/plain": [
              "      Create_at  ...     Topics\n",
              "0    2021-03-14  ...      Store\n",
              "1    2021-03-14  ...      Store\n",
              "2    2021-01-11  ...  Logistics\n",
              "3    2021-01-11  ...  Logistics\n",
              "4    2021-04-04  ...      Store\n",
              "...         ...  ...        ...\n",
              "3516 2021-03-16  ...     System\n",
              "3517 2021-03-17  ...     System\n",
              "3518 2021-03-18  ...     System\n",
              "3519 2021-03-28  ...     System\n",
              "3520 2021-03-29  ...     System\n",
              "\n",
              "[3521 rows x 4 columns]"
            ]
          },
          "metadata": {
            "tags": []
          },
          "execution_count": 85
        }
      ]
    },
    {
      "cell_type": "code",
      "metadata": {
        "colab": {
          "base_uri": "https://localhost:8080/",
          "height": 142
        },
        "id": "N0o2xlmIDgVd",
        "outputId": "4f927752-05a8-4237-a2f0-6c5852f26ef4"
      },
      "source": [
        "sentiment_rate_sampling = df.groupby('Sentiment').agg({'clean_text': lambda x: len(x)}).reset_index()\n",
        "sentiment_rate_sampling.head()"
      ],
      "execution_count": 86,
      "outputs": [
        {
          "output_type": "execute_result",
          "data": {
            "text/html": [
              "<div>\n",
              "<style scoped>\n",
              "    .dataframe tbody tr th:only-of-type {\n",
              "        vertical-align: middle;\n",
              "    }\n",
              "\n",
              "    .dataframe tbody tr th {\n",
              "        vertical-align: top;\n",
              "    }\n",
              "\n",
              "    .dataframe thead th {\n",
              "        text-align: right;\n",
              "    }\n",
              "</style>\n",
              "<table border=\"1\" class=\"dataframe\">\n",
              "  <thead>\n",
              "    <tr style=\"text-align: right;\">\n",
              "      <th></th>\n",
              "      <th>Sentiment</th>\n",
              "      <th>clean_text</th>\n",
              "    </tr>\n",
              "  </thead>\n",
              "  <tbody>\n",
              "    <tr>\n",
              "      <th>0</th>\n",
              "      <td>neg</td>\n",
              "      <td>1176</td>\n",
              "    </tr>\n",
              "    <tr>\n",
              "      <th>1</th>\n",
              "      <td>neu</td>\n",
              "      <td>1172</td>\n",
              "    </tr>\n",
              "    <tr>\n",
              "      <th>2</th>\n",
              "      <td>pos</td>\n",
              "      <td>1173</td>\n",
              "    </tr>\n",
              "  </tbody>\n",
              "</table>\n",
              "</div>"
            ],
            "text/plain": [
              "  Sentiment  clean_text\n",
              "0       neg        1176\n",
              "1       neu        1172\n",
              "2       pos        1173"
            ]
          },
          "metadata": {
            "tags": []
          },
          "execution_count": 86
        }
      ]
    },
    {
      "cell_type": "code",
      "metadata": {
        "colab": {
          "base_uri": "https://localhost:8080/",
          "height": 350
        },
        "id": "bugR4DPkDkEA",
        "outputId": "a7a01d75-0e51-4c20-c4d6-dd309212f1e9"
      },
      "source": [
        "import matplotlib.pyplot as plt\n",
        "plt.figure(figsize=(5,5))\n",
        "x=range(3)\n",
        "plt.bar(x,sentiment_rate_sampling['clean_text'])\n",
        "plt.xticks(sentiment_rate_sampling.index)\n",
        "plt.title('Sentiment Distribution')\n",
        "plt.xlabel('Convert or Not')\n",
        "plt.ylabel('no. of users')\n",
        "plt.show()\n",
        "\n",
        "#Data is imbalanced"
      ],
      "execution_count": 87,
      "outputs": [
        {
          "output_type": "display_data",
          "data": {
            "image/png": "[encoded data removed]",
            "text/plain": [
              "<Figure size 360x360 with 1 Axes>"
            ]
          },
          "metadata": {
            "tags": [],
            "needs_background": "light"
          }
        }
      ]
    },
    {
      "cell_type": "markdown",
      "metadata": {
        "id": "LYEM-oLZJpni"
      },
      "source": [
        "### wangchanBERTa "
      ]
    },
    {
      "cell_type": "code",
      "metadata": {
        "id": "0lud4P040quT"
      },
      "source": [
        "#input data in model\n",
        "input_text = [text for text in data['clean_text']]\n",
        "\n",
        "preprocess_input_text = False #@param {type:\"boolean\"}\n",
        "if preprocess_input_text:\n",
        "    if model_name not in public_models:\n",
        "        input_text = process_transformers(input_text)\n",
        "\n",
        "#infer\n",
        "classify_text = classify_multiclass(input_text)"
      ],
      "execution_count": 88,
      "outputs": []
    },
    {
      "cell_type": "code",
      "metadata": {
        "id": "Xyywze9_06pW",
        "colab": {
          "base_uri": "https://localhost:8080/"
        },
        "outputId": "b63e8f6e-0d6d-4957-b9ae-c8b2b7bb254f"
      },
      "source": [
        "print(classify_text)"
      ],
      "execution_count": 89,
      "outputs": [
        {
          "output_type": "stream",
          "text": [
            "[{'label': 'neg', 'score': 0.9799124002456665}, {'label': 'neg', 'score': 0.5821601152420044}, {'label': 'pos', 'score': 0.9492441415786743}, {'label': 'neg', 'score': 0.990360677242279}, {'label': 'neg', 'score': 0.913079023361206}, {'label': 'neg', 'score': 0.7473710179328918}, {'label': 'neg', 'score': 0.9876369833946228}, {'label': 'pos', 'score': 0.9172630310058594}, {'label': 'neg', 'score': 0.859544038772583}, {'label': 'neg', 'score': 0.9929788112640381}, {'label': 'neg', 'score': 0.9791341423988342}, {'label': 'neu', 'score': 0.8450835943222046}, {'label': 'neg', 'score': 0.983352541923523}, {'label': 'neg', 'score': 0.9775782227516174}, {'label': 'pos', 'score': 0.5862798094749451}, {'label': 'neg', 'score': 0.9855992197990417}, {'label': 'neg', 'score': 0.9950881004333496}, {'label': 'neg', 'score': 0.9919668436050415}, {'label': 'neg', 'score': 0.9242462515830994}, {'label': 'neu', 'score': 0.886389970779419}, {'label': 'pos', 'score': 0.8596080541610718}, {'label': 'pos', 'score': 0.9739753603935242}, {'label': 'neu', 'score': 0.941332221031189}, {'label': 'neu', 'score': 0.9494661092758179}, {'label': 'neg', 'score': 0.994379460811615}, {'label': 'neg', 'score': 0.9610126614570618}, {'label': 'neg', 'score': 0.9640758037567139}, {'label': 'neg', 'score': 0.9507579207420349}, {'label': 'neg', 'score': 0.9848585724830627}, {'label': 'neu', 'score': 0.774982750415802}, {'label': 'pos', 'score': 0.46051260828971863}, {'label': 'neg', 'score': 0.943922758102417}, {'label': 'neu', 'score': 0.98133385181427}, {'label': 'pos', 'score': 0.7728051543235779}, {'label': 'neu', 'score': 0.9712042808532715}, {'label': 'neg', 'score': 0.9536094665527344}, {'label': 'neg', 'score': 0.9865910410881042}, {'label': 'neg', 'score': 0.9414685368537903}, {'label': 'neg', 'score': 0.9903080463409424}, {'label': 'neg', 'score': 0.9920797944068909}, {'label': 'neg', 'score': 0.990307629108429}, {'label': 'pos', 'score': 0.9280103445053101}, {'label': 'pos', 'score': 0.5384081602096558}, {'label': 'neu', 'score': 0.6139672994613647}, {'label': 'neg', 'score': 0.9891310334205627}, {'label': 'neg', 'score': 0.4531523585319519}, {'label': 'neg', 'score': 0.9835144877433777}, {'label': 'pos', 'score': 0.9448432922363281}, {'label': 'pos', 'score': 0.9423041939735413}, {'label': 'pos', 'score': 0.6920811533927917}, {'label': 'neu', 'score': 0.9712887406349182}, {'label': 'neu', 'score': 0.9356836080551147}, {'label': 'neg', 'score': 0.891785204410553}, {'label': 'neu', 'score': 0.8673467040061951}, {'label': 'neg', 'score': 0.879958987236023}, {'label': 'neg', 'score': 0.981570839881897}, {'label': 'neu', 'score': 0.7698537111282349}, {'label': 'neu', 'score': 0.831667959690094}, {'label': 'neu', 'score': 0.8467826843261719}, {'label': 'pos', 'score': 0.9032553434371948}, {'label': 'neg', 'score': 0.9742977619171143}, {'label': 'neg', 'score': 0.7865553498268127}, {'label': 'neg', 'score': 0.9705243110656738}, {'label': 'pos', 'score': 0.790242075920105}, {'label': 'neg', 'score': 0.9676567316055298}, {'label': 'neg', 'score': 0.9915257692337036}, {'label': 'neg', 'score': 0.9812729954719543}, {'label': 'neg', 'score': 0.9827994108200073}, {'label': 'neg', 'score': 0.8909210562705994}, {'label': 'neg', 'score': 0.9881686568260193}, {'label': 'neg', 'score': 0.7122446894645691}, {'label': 'neg', 'score': 0.9725810885429382}, {'label': 'neg', 'score': 0.9919885993003845}, {'label': 'neg', 'score': 0.9940009713172913}, {'label': 'neg', 'score': 0.9929051995277405}, {'label': 'neg', 'score': 0.9872071743011475}, {'label': 'pos', 'score': 0.9648287892341614}, {'label': 'pos', 'score': 0.9666635394096375}, {'label': 'neg', 'score': 0.9907336831092834}, {'label': 'pos', 'score': 0.8850447535514832}, {'label': 'neg', 'score': 0.9896093606948853}, {'label': 'neg', 'score': 0.9911554455757141}, {'label': 'neg', 'score': 0.9928142428398132}, {'label': 'neg', 'score': 0.66232830286026}, {'label': 'neg', 'score': 0.9933979511260986}, {'label': 'neu', 'score': 0.8198065161705017}, {'label': 'neu', 'score': 0.7902121543884277}, {'label': 'neg', 'score': 0.9462989568710327}, {'label': 'neu', 'score': 0.4738466739654541}, {'label': 'neu', 'score': 0.7622717618942261}, {'label': 'neg', 'score': 0.8384639024734497}, {'label': 'neg', 'score': 0.9905377626419067}, {'label': 'neg', 'score': 0.554682195186615}, {'label': 'neu', 'score': 0.625874400138855}, {'label': 'pos', 'score': 0.6313768625259399}, {'label': 'pos', 'score': 0.5208035111427307}, {'label': 'pos', 'score': 0.725431501865387}, {'label': 'neu', 'score': 0.6825836300849915}, {'label': 'pos', 'score': 0.9542599320411682}, {'label': 'neg', 'score': 0.5831238627433777}, {'label': 'pos', 'score': 0.7931948304176331}, {'label': 'neu', 'score': 0.7357665300369263}, {'label': 'neg', 'score': 0.9768397808074951}, {'label': 'neg', 'score': 0.8519799113273621}, {'label': 'neg', 'score': 0.5098042488098145}, {'label': 'neg', 'score': 0.9730158448219299}, {'label': 'pos', 'score': 0.9570297598838806}, {'label': 'pos', 'score': 0.9668935537338257}, {'label': 'pos', 'score': 0.9236668348312378}, {'label': 'pos', 'score': 0.737027108669281}, {'label': 'neg', 'score': 0.9928632378578186}, {'label': 'neg', 'score': 0.9945940971374512}, {'label': 'neu', 'score': 0.5401466488838196}, {'label': 'pos', 'score': 0.7366300821304321}, {'label': 'neg', 'score': 0.9492928385734558}, {'label': 'pos', 'score': 0.44292840361595154}, {'label': 'neg', 'score': 0.9939954876899719}, {'label': 'neu', 'score': 0.8796725273132324}, {'label': 'neg', 'score': 0.9902905821800232}, {'label': 'neu', 'score': 0.624021053314209}, {'label': 'neg', 'score': 0.6752036213874817}, {'label': 'neu', 'score': 0.9540818333625793}, {'label': 'neg', 'score': 0.9866109490394592}, {'label': 'pos', 'score': 0.8534902334213257}, {'label': 'neu', 'score': 0.5596804618835449}, {'label': 'neg', 'score': 0.9734350442886353}, {'label': 'neu', 'score': 0.9508928060531616}, {'label': 'neg', 'score': 0.9916854500770569}, {'label': 'neu', 'score': 0.9554714560508728}, {'label': 'neg', 'score': 0.9881053566932678}, {'label': 'neg', 'score': 0.8966684937477112}, {'label': 'pos', 'score': 0.7831688523292542}, {'label': 'neg', 'score': 0.6466107964515686}, {'label': 'pos', 'score': 0.5898337960243225}, {'label': 'neu', 'score': 0.9853125214576721}, {'label': 'q', 'score': 0.567359983921051}, {'label': 'pos', 'score': 0.9258647561073303}, {'label': 'pos', 'score': 0.5208052396774292}, {'label': 'neg', 'score': 0.9931307435035706}, {'label': 'pos', 'score': 0.9088409543037415}, {'label': 'neg', 'score': 0.9833890795707703}, {'label': 'neu', 'score': 0.9691423773765564}, {'label': 'neg', 'score': 0.9896702766418457}, {'label': 'neu', 'score': 0.585752010345459}, {'label': 'neu', 'score': 0.9724311232566833}, {'label': 'neg', 'score': 0.6531385779380798}, {'label': 'neg', 'score': 0.9678330421447754}, {'label': 'neu', 'score': 0.736769437789917}, {'label': 'pos', 'score': 0.9077157378196716}, {'label': 'neu', 'score': 0.8767545819282532}, {'label': 'neg', 'score': 0.9869776368141174}, {'label': 'neg', 'score': 0.9951358437538147}, {'label': 'neu', 'score': 0.8597897887229919}, {'label': 'neu', 'score': 0.9619083404541016}, {'label': 'neu', 'score': 0.9107062816619873}, {'label': 'neu', 'score': 0.5810528993606567}, {'label': 'neu', 'score': 0.9338434934616089}, {'label': 'neg', 'score': 0.9165903925895691}, {'label': 'neg', 'score': 0.8118894696235657}, {'label': 'neu', 'score': 0.916077733039856}, {'label': 'pos', 'score': 0.9629820585250854}, {'label': 'neg', 'score': 0.9918292164802551}, {'label': 'neu', 'score': 0.5590140223503113}, {'label': 'neg', 'score': 0.9707399010658264}, {'label': 'neu', 'score': 0.9833342432975769}, {'label': 'neg', 'score': 0.5685350894927979}, {'label': 'neu', 'score': 0.9550246596336365}, {'label': 'neu', 'score': 0.9774856567382812}, {'label': 'neu', 'score': 0.9644192457199097}, {'label': 'neu', 'score': 0.9228392839431763}, {'label': 'neg', 'score': 0.9585058093070984}, {'label': 'neg', 'score': 0.9880685210227966}, {'label': 'q', 'score': 0.8067857623100281}, {'label': 'pos', 'score': 0.9592432379722595}, {'label': 'neu', 'score': 0.9396284818649292}, {'label': 'neu', 'score': 0.9639301896095276}, {'label': 'q', 'score': 0.5814342498779297}, {'label': 'pos', 'score': 0.7381790280342102}, {'label': 'neg', 'score': 0.9931765794754028}, {'label': 'neg', 'score': 0.9882922768592834}, {'label': 'neu', 'score': 0.9213912487030029}, {'label': 'neu', 'score': 0.8915747404098511}, {'label': 'pos', 'score': 0.9053888916969299}, {'label': 'pos', 'score': 0.9314904808998108}, {'label': 'neg', 'score': 0.47950348258018494}, {'label': 'neu', 'score': 0.9543282389640808}, {'label': 'neu', 'score': 0.8249181509017944}, {'label': 'pos', 'score': 0.7565045952796936}, {'label': 'neg', 'score': 0.8403686881065369}, {'label': 'neu', 'score': 0.8649320006370544}, {'label': 'neu', 'score': 0.9685691595077515}, {'label': 'pos', 'score': 0.9378842711448669}, {'label': 'neg', 'score': 0.9664859175682068}, {'label': 'neg', 'score': 0.9926686882972717}, {'label': 'neg', 'score': 0.9816566705703735}, {'label': 'neu', 'score': 0.628631591796875}, {'label': 'pos', 'score': 0.9589163661003113}, {'label': 'neg', 'score': 0.9826199412345886}, {'label': 'neg', 'score': 0.928435206413269}, {'label': 'neu', 'score': 0.6792681217193604}, {'label': 'neu', 'score': 0.7503507733345032}, {'label': 'neg', 'score': 0.9657484889030457}, {'label': 'pos', 'score': 0.8621795773506165}, {'label': 'pos', 'score': 0.7852587103843689}, {'label': 'neg', 'score': 0.9790099859237671}, {'label': 'neu', 'score': 0.8766117095947266}, {'label': 'pos', 'score': 0.4933743476867676}, {'label': 'neg', 'score': 0.6643486022949219}, {'label': 'pos', 'score': 0.9291502237319946}, {'label': 'pos', 'score': 0.9398781061172485}, {'label': 'pos', 'score': 0.5826128125190735}, {'label': 'neu', 'score': 0.5168939232826233}, {'label': 'pos', 'score': 0.9128336906433105}, {'label': 'pos', 'score': 0.6330373883247375}, {'label': 'pos', 'score': 0.7972439527511597}, {'label': 'neg', 'score': 0.9875603914260864}, {'label': 'neg', 'score': 0.9943251609802246}, {'label': 'pos', 'score': 0.8064823746681213}, {'label': 'neu', 'score': 0.6728526949882507}, {'label': 'neu', 'score': 0.9329906105995178}, {'label': 'neg', 'score': 0.9902991056442261}, {'label': 'pos', 'score': 0.8162964582443237}, {'label': 'neg', 'score': 0.9940950274467468}, {'label': 'neu', 'score': 0.9554734230041504}, {'label': 'neg', 'score': 0.4788118302822113}, {'label': 'neg', 'score': 0.9895178079605103}, {'label': 'neg', 'score': 0.8591099381446838}, {'label': 'neg', 'score': 0.9886966347694397}, {'label': 'neg', 'score': 0.9720138907432556}, {'label': 'pos', 'score': 0.7554285526275635}, {'label': 'neu', 'score': 0.6768221259117126}, {'label': 'neg', 'score': 0.9891412258148193}, {'label': 'neg', 'score': 0.9744378924369812}, {'label': 'neg', 'score': 0.9886763095855713}, {'label': 'neg', 'score': 0.9858205318450928}, {'label': 'neu', 'score': 0.7695885896682739}, {'label': 'neu', 'score': 0.5751265287399292}, {'label': 'pos', 'score': 0.9510498046875}, {'label': 'pos', 'score': 0.7999101877212524}, {'label': 'neg', 'score': 0.9239954948425293}, {'label': 'neg', 'score': 0.7064267992973328}, {'label': 'neu', 'score': 0.5379958152770996}, {'label': 'pos', 'score': 0.9078280925750732}, {'label': 'neg', 'score': 0.9793647527694702}, {'label': 'neu', 'score': 0.8883955478668213}, {'label': 'pos', 'score': 0.7992451786994934}, {'label': 'pos', 'score': 0.7691655158996582}, {'label': 'neg', 'score': 0.8184525370597839}, {'label': 'neu', 'score': 0.6659100651741028}, {'label': 'neg', 'score': 0.9525817632675171}, {'label': 'neg', 'score': 0.9758503437042236}, {'label': 'neg', 'score': 0.9852073192596436}, {'label': 'neg', 'score': 0.9904602766036987}, {'label': 'neg', 'score': 0.9900766611099243}, {'label': 'neg', 'score': 0.9836488366127014}, {'label': 'neg', 'score': 0.9228929281234741}, {'label': 'neu', 'score': 0.372602641582489}, {'label': 'neg', 'score': 0.9927647709846497}, {'label': 'pos', 'score': 0.8510554432868958}, {'label': 'neg', 'score': 0.9762232899665833}, {'label': 'neg', 'score': 0.984076976776123}, {'label': 'pos', 'score': 0.7117065787315369}, {'label': 'neg', 'score': 0.9349928498268127}, {'label': 'neg', 'score': 0.7769405245780945}, {'label': 'neg', 'score': 0.9587679505348206}, {'label': 'neu', 'score': 0.4222317337989807}, {'label': 'neg', 'score': 0.8273407220840454}, {'label': 'neg', 'score': 0.97639399766922}, {'label': 'neg', 'score': 0.9672467112541199}, {'label': 'neg', 'score': 0.9910568594932556}, {'label': 'pos', 'score': 0.9052623510360718}, {'label': 'neg', 'score': 0.9907384514808655}, {'label': 'neg', 'score': 0.9946831464767456}, {'label': 'neg', 'score': 0.9503507018089294}, {'label': 'neg', 'score': 0.8320710062980652}, {'label': 'neg', 'score': 0.8223562240600586}, {'label': 'neg', 'score': 0.9731376767158508}, {'label': 'neg', 'score': 0.9879077076911926}, {'label': 'neg', 'score': 0.9703510999679565}, {'label': 'neg', 'score': 0.7630314826965332}, {'label': 'neg', 'score': 0.9864932894706726}, {'label': 'pos', 'score': 0.9754942059516907}, {'label': 'neg', 'score': 0.9162807464599609}, {'label': 'pos', 'score': 0.9612389206886292}, {'label': 'pos', 'score': 0.5939330458641052}, {'label': 'neg', 'score': 0.7887725234031677}, {'label': 'neg', 'score': 0.9643954634666443}, {'label': 'pos', 'score': 0.6246823668479919}, {'label': 'neg', 'score': 0.9927086234092712}, {'label': 'neg', 'score': 0.9843060970306396}, {'label': 'neg', 'score': 0.9432004690170288}, {'label': 'neg', 'score': 0.9249529242515564}, {'label': 'neg', 'score': 0.9870101809501648}, {'label': 'neu', 'score': 0.6318458318710327}, {'label': 'neg', 'score': 0.9547696113586426}, {'label': 'neu', 'score': 0.5590693354606628}, {'label': 'pos', 'score': 0.9186505675315857}, {'label': 'neu', 'score': 0.6520562767982483}, {'label': 'pos', 'score': 0.8215125203132629}, {'label': 'pos', 'score': 0.7111008763313293}, {'label': 'pos', 'score': 0.8847587704658508}, {'label': 'neu', 'score': 0.8318375945091248}, {'label': 'neg', 'score': 0.7992777824401855}, {'label': 'neg', 'score': 0.9895007610321045}, {'label': 'neu', 'score': 0.5857570767402649}, {'label': 'neu', 'score': 0.6535409688949585}, {'label': 'neu', 'score': 0.6052325963973999}, {'label': 'neg', 'score': 0.958771288394928}, {'label': 'neu', 'score': 0.5881425142288208}, {'label': 'neg', 'score': 0.9793647527694702}, {'label': 'neu', 'score': 0.9004130363464355}, {'label': 'neg', 'score': 0.8691962957382202}, {'label': 'neg', 'score': 0.9864070415496826}, {'label': 'pos', 'score': 0.9286633133888245}, {'label': 'neu', 'score': 0.6570330858230591}, {'label': 'neg', 'score': 0.9721580743789673}, {'label': 'q', 'score': 0.8787369728088379}, {'label': 'neg', 'score': 0.48000746965408325}, {'label': 'neu', 'score': 0.5693347454071045}, {'label': 'neu', 'score': 0.9405125975608826}, {'label': 'neg', 'score': 0.7963891625404358}, {'label': 'neg', 'score': 0.9767804741859436}, {'label': 'neg', 'score': 0.9504400491714478}, {'label': 'pos', 'score': 0.5053641200065613}, {'label': 'neu', 'score': 0.600272536277771}, {'label': 'neg', 'score': 0.9937174916267395}, {'label': 'neu', 'score': 0.7577635049819946}, {'label': 'neg', 'score': 0.9888436794281006}, {'label': 'neg', 'score': 0.9919513463973999}, {'label': 'pos', 'score': 0.9037613868713379}, {'label': 'q', 'score': 0.759194016456604}, {'label': 'neu', 'score': 0.8230063319206238}, {'label': 'neg', 'score': 0.5030586123466492}, {'label': 'neg', 'score': 0.938739538192749}, {'label': 'neg', 'score': 0.9720792770385742}, {'label': 'neg', 'score': 0.9548686146736145}, {'label': 'neg', 'score': 0.8264314532279968}, {'label': 'neu', 'score': 0.9304201602935791}, {'label': 'neg', 'score': 0.9402236938476562}, {'label': 'pos', 'score': 0.6930884718894958}, {'label': 'neg', 'score': 0.6623646020889282}, {'label': 'neu', 'score': 0.5080924034118652}, {'label': 'neg', 'score': 0.7404310703277588}, {'label': 'neu', 'score': 0.9203637838363647}, {'label': 'neu', 'score': 0.721576452255249}, {'label': 'neg', 'score': 0.9684227108955383}, {'label': 'neg', 'score': 0.9879443645477295}, {'label': 'neg', 'score': 0.987324059009552}, {'label': 'pos', 'score': 0.9527782797813416}, {'label': 'neu', 'score': 0.5817867517471313}, {'label': 'pos', 'score': 0.4577946066856384}, {'label': 'neu', 'score': 0.6192178130149841}, {'label': 'neg', 'score': 0.9513818025588989}, {'label': 'neg', 'score': 0.8241387605667114}, {'label': 'neg', 'score': 0.43227729201316833}, {'label': 'neg', 'score': 0.9888107180595398}, {'label': 'neg', 'score': 0.7746531367301941}, {'label': 'neg', 'score': 0.9203188419342041}, {'label': 'pos', 'score': 0.9155088067054749}, {'label': 'neg', 'score': 0.9754019379615784}, {'label': 'q', 'score': 0.5853623151779175}, {'label': 'neg', 'score': 0.4013558030128479}, {'label': 'neg', 'score': 0.987547755241394}, {'label': 'neu', 'score': 0.8245074152946472}, {'label': 'neg', 'score': 0.9636779427528381}, {'label': 'neg', 'score': 0.9369147419929504}, {'label': 'pos', 'score': 0.9275231957435608}, {'label': 'neg', 'score': 0.9874426126480103}, {'label': 'pos', 'score': 0.9710588455200195}, {'label': 'neu', 'score': 0.9802852869033813}, {'label': 'neu', 'score': 0.6462286114692688}, {'label': 'neu', 'score': 0.8481280207633972}, {'label': 'neu', 'score': 0.6754122376441956}, {'label': 'neu', 'score': 0.9292129278182983}, {'label': 'neu', 'score': 0.8192036747932434}, {'label': 'neu', 'score': 0.8287187218666077}, {'label': 'q', 'score': 0.5692446231842041}, {'label': 'neg', 'score': 0.6405271887779236}, {'label': 'neu', 'score': 0.771125316619873}, {'label': 'neg', 'score': 0.48654666543006897}, {'label': 'pos', 'score': 0.7614643573760986}, {'label': 'neu', 'score': 0.8859507441520691}, {'label': 'neu', 'score': 0.900905191898346}, {'label': 'pos', 'score': 0.8936715722084045}, {'label': 'neg', 'score': 0.858439564704895}, {'label': 'neu', 'score': 0.765171229839325}, {'label': 'neu', 'score': 0.585125207901001}, {'label': 'neg', 'score': 0.8393175005912781}, {'label': 'neg', 'score': 0.9582569599151611}, {'label': 'neg', 'score': 0.8981360793113708}, {'label': 'neu', 'score': 0.9603632688522339}, {'label': 'neg', 'score': 0.9948224425315857}, {'label': 'neu', 'score': 0.829254150390625}, {'label': 'pos', 'score': 0.8851963877677917}, {'label': 'neu', 'score': 0.9444775581359863}, {'label': 'neu', 'score': 0.5987740755081177}, {'label': 'neu', 'score': 0.8353942632675171}, {'label': 'neg', 'score': 0.9840962290763855}, {'label': 'pos', 'score': 0.900539219379425}, {'label': 'pos', 'score': 0.8452997803688049}, {'label': 'neu', 'score': 0.8959954977035522}, {'label': 'neu', 'score': 0.9685367941856384}, {'label': 'neu', 'score': 0.5948287844657898}, {'label': 'neu', 'score': 0.7868716716766357}, {'label': 'neu', 'score': 0.8518007397651672}, {'label': 'neu', 'score': 0.8504444360733032}, {'label': 'neu', 'score': 0.6208652853965759}, {'label': 'pos', 'score': 0.9083557724952698}, {'label': 'neu', 'score': 0.6455817818641663}, {'label': 'neg', 'score': 0.9883541464805603}, {'label': 'neu', 'score': 0.525433361530304}, {'label': 'pos', 'score': 0.84881591796875}, {'label': 'neg', 'score': 0.8953167796134949}, {'label': 'pos', 'score': 0.9411831498146057}, {'label': 'neu', 'score': 0.7789393067359924}, {'label': 'neg', 'score': 0.9865363240242004}, {'label': 'neg', 'score': 0.9873376488685608}, {'label': 'neu', 'score': 0.8616092205047607}, {'label': 'neu', 'score': 0.9144018888473511}, {'label': 'neu', 'score': 0.8244401216506958}, {'label': 'neg', 'score': 0.846081554889679}, {'label': 'neu', 'score': 0.7141410112380981}, {'label': 'neg', 'score': 0.47864383459091187}, {'label': 'pos', 'score': 0.9501687288284302}, {'label': 'neg', 'score': 0.7801548838615417}, {'label': 'neg', 'score': 0.9812131524085999}, {'label': 'neu', 'score': 0.9627944827079773}, {'label': 'pos', 'score': 0.6988200545310974}, {'label': 'pos', 'score': 0.7011565566062927}, {'label': 'pos', 'score': 0.6460205912590027}, {'label': 'neg', 'score': 0.803239643573761}, {'label': 'neu', 'score': 0.931243896484375}, {'label': 'neu', 'score': 0.5989208817481995}, {'label': 'neu', 'score': 0.45903992652893066}, {'label': 'neu', 'score': 0.854448676109314}, {'label': 'neu', 'score': 0.9702122807502747}, {'label': 'neg', 'score': 0.9897511601448059}, {'label': 'pos', 'score': 0.6529539823532104}, {'label': 'neu', 'score': 0.778376042842865}, {'label': 'neg', 'score': 0.5189172029495239}, {'label': 'neg', 'score': 0.9561452269554138}, {'label': 'neg', 'score': 0.9839658737182617}, {'label': 'neu', 'score': 0.6605817079544067}, {'label': 'neg', 'score': 0.9089290499687195}, {'label': 'neu', 'score': 0.7806416153907776}, {'label': 'neu', 'score': 0.7191099524497986}, {'label': 'neu', 'score': 0.5975249409675598}, {'label': 'neu', 'score': 0.9781399369239807}, {'label': 'neg', 'score': 0.9899021983146667}, {'label': 'q', 'score': 0.5159289240837097}, {'label': 'neu', 'score': 0.814959704875946}, {'label': 'neg', 'score': 0.8022012710571289}, {'label': 'neu', 'score': 0.6778481602668762}, {'label': 'neu', 'score': 0.8944949507713318}, {'label': 'neu', 'score': 0.732977032661438}, {'label': 'pos', 'score': 0.5743524432182312}, {'label': 'neg', 'score': 0.9659530520439148}, {'label': 'neg', 'score': 0.9935199022293091}, {'label': 'neg', 'score': 0.9754636883735657}, {'label': 'pos', 'score': 0.9554319977760315}, {'label': 'neg', 'score': 0.8974955081939697}, {'label': 'neg', 'score': 0.9895354509353638}, {'label': 'neg', 'score': 0.9816968441009521}, {'label': 'neu', 'score': 0.556098461151123}, {'label': 'neg', 'score': 0.5039957165718079}, {'label': 'neg', 'score': 0.993529736995697}, {'label': 'neu', 'score': 0.706142008304596}, {'label': 'neg', 'score': 0.9549555778503418}, {'label': 'neg', 'score': 0.9884686470031738}, {'label': 'neu', 'score': 0.741696834564209}, {'label': 'pos', 'score': 0.9641141295433044}, {'label': 'pos', 'score': 0.7202068567276001}, {'label': 'neu', 'score': 0.7079232335090637}, {'label': 'neu', 'score': 0.9508622884750366}, {'label': 'neu', 'score': 0.9013492465019226}, {'label': 'neg', 'score': 0.5729163885116577}, {'label': 'neu', 'score': 0.9486908316612244}, {'label': 'neu', 'score': 0.668211817741394}, {'label': 'neu', 'score': 0.8813485503196716}, {'label': 'neu', 'score': 0.9775354862213135}, {'label': 'neu', 'score': 0.9419158697128296}, {'label': 'pos', 'score': 0.6776758432388306}, {'label': 'neu', 'score': 0.8533302545547485}, {'label': 'neu', 'score': 0.8692925572395325}, {'label': 'neu', 'score': 0.8243945837020874}, {'label': 'neu', 'score': 0.5481594204902649}, {'label': 'neu', 'score': 0.5072060227394104}, {'label': 'pos', 'score': 0.6437990665435791}, {'label': 'neu', 'score': 0.6951711177825928}, {'label': 'neu', 'score': 0.9216217398643494}, {'label': 'neu', 'score': 0.7479538917541504}, {'label': 'neg', 'score': 0.9737632870674133}, {'label': 'neg', 'score': 0.9616647362709045}, {'label': 'neg', 'score': 0.8681618571281433}, {'label': 'neu', 'score': 0.8571765422821045}, {'label': 'neg', 'score': 0.8037352561950684}, {'label': 'neg', 'score': 0.9360600709915161}, {'label': 'neu', 'score': 0.8636983633041382}, {'label': 'neg', 'score': 0.6583188772201538}, {'label': 'neg', 'score': 0.958337664604187}, {'label': 'neg', 'score': 0.9897323846817017}, {'label': 'neg', 'score': 0.866933286190033}, {'label': 'neg', 'score': 0.9781665802001953}, {'label': 'neg', 'score': 0.9493882060050964}, {'label': 'pos', 'score': 0.5405950546264648}, {'label': 'pos', 'score': 0.5135523676872253}, {'label': 'q', 'score': 0.8113245368003845}, {'label': 'neu', 'score': 0.925868809223175}, {'label': 'neg', 'score': 0.9873895645141602}, {'label': 'neu', 'score': 0.8617191910743713}, {'label': 'neu', 'score': 0.6199275255203247}, {'label': 'neg', 'score': 0.9862452745437622}, {'label': 'neg', 'score': 0.940698504447937}, {'label': 'neg', 'score': 0.5402259826660156}, {'label': 'neu', 'score': 0.6572646498680115}, {'label': 'neg', 'score': 0.9832349419593811}, {'label': 'q', 'score': 0.7254934310913086}, {'label': 'neg', 'score': 0.9569008946418762}, {'label': 'neg', 'score': 0.9101516008377075}, {'label': 'neg', 'score': 0.9875271320343018}, {'label': 'neu', 'score': 0.5107160806655884}, {'label': 'neg', 'score': 0.8804376125335693}, {'label': 'neg', 'score': 0.9095600247383118}, {'label': 'neg', 'score': 0.9933257102966309}, {'label': 'neg', 'score': 0.97572922706604}, {'label': 'neg', 'score': 0.9079795479774475}, {'label': 'neg', 'score': 0.9685012102127075}, {'label': 'neg', 'score': 0.9716722369194031}, {'label': 'neu', 'score': 0.7260014414787292}, {'label': 'pos', 'score': 0.522504448890686}, {'label': 'neg', 'score': 0.9892995357513428}, {'label': 'neu', 'score': 0.4317336082458496}, {'label': 'neg', 'score': 0.8932163715362549}, {'label': 'q', 'score': 0.42434972524642944}, {'label': 'q', 'score': 0.4651390612125397}, {'label': 'neg', 'score': 0.9823606014251709}, {'label': 'neg', 'score': 0.9792607426643372}, {'label': 'neg', 'score': 0.9678939580917358}, {'label': 'neg', 'score': 0.9706997275352478}, {'label': 'neg', 'score': 0.9863375425338745}, {'label': 'neg', 'score': 0.9725651144981384}, {'label': 'neg', 'score': 0.9875141382217407}, {'label': 'neg', 'score': 0.5508833527565002}, {'label': 'neg', 'score': 0.9547408819198608}, {'label': 'neg', 'score': 0.9784290194511414}, {'label': 'neg', 'score': 0.9795942902565002}, {'label': 'neg', 'score': 0.9826369285583496}, {'label': 'neg', 'score': 0.9116705060005188}, {'label': 'neg', 'score': 0.9909347891807556}, {'label': 'neg', 'score': 0.9926633238792419}, {'label': 'neg', 'score': 0.9907235503196716}, {'label': 'neg', 'score': 0.9786012172698975}, {'label': 'neg', 'score': 0.9889817833900452}, {'label': 'neg', 'score': 0.9849247932434082}, {'label': 'neg', 'score': 0.9786409139633179}, {'label': 'neg', 'score': 0.9881873726844788}, {'label': 'neu', 'score': 0.8952007293701172}, {'label': 'neg', 'score': 0.9928862452507019}, {'label': 'neg', 'score': 0.993528425693512}, {'label': 'neg', 'score': 0.9897908568382263}, {'label': 'neg', 'score': 0.9147385358810425}, {'label': 'neg', 'score': 0.6687566041946411}, {'label': 'neg', 'score': 0.9933483600616455}, {'label': 'neg', 'score': 0.568416953086853}, {'label': 'neg', 'score': 0.9114605188369751}, {'label': 'neg', 'score': 0.993107259273529}, {'label': 'pos', 'score': 0.8403870463371277}, {'label': 'neg', 'score': 0.9758883118629456}, {'label': 'neg', 'score': 0.9841918349266052}, {'label': 'neg', 'score': 0.984930157661438}, {'label': 'neg', 'score': 0.9826198220252991}, {'label': 'neg', 'score': 0.9852318167686462}, {'label': 'neg', 'score': 0.9818733930587769}, {'label': 'neg', 'score': 0.9885115027427673}, {'label': 'neg', 'score': 0.946219801902771}, {'label': 'neg', 'score': 0.9932821393013}, {'label': 'neg', 'score': 0.9685952067375183}, {'label': 'neg', 'score': 0.9682446122169495}, {'label': 'neg', 'score': 0.9945805072784424}, {'label': 'neg', 'score': 0.9745656251907349}, {'label': 'neu', 'score': 0.5199213624000549}, {'label': 'neg', 'score': 0.9888330101966858}, {'label': 'neg', 'score': 0.9306685328483582}, {'label': 'neg', 'score': 0.9373633861541748}, {'label': 'neg', 'score': 0.9942899346351624}, {'label': 'neg', 'score': 0.8639079332351685}, {'label': 'neg', 'score': 0.9796521663665771}, {'label': 'neg', 'score': 0.9926843643188477}, {'label': 'pos', 'score': 0.9557985067367554}, {'label': 'neg', 'score': 0.910996675491333}, {'label': 'neg', 'score': 0.9879857897758484}, {'label': 'neg', 'score': 0.918279767036438}, {'label': 'neg', 'score': 0.9935481548309326}, {'label': 'neg', 'score': 0.9026884436607361}, {'label': 'neu', 'score': 0.6319926977157593}, {'label': 'neg', 'score': 0.99349045753479}, {'label': 'neg', 'score': 0.9897897243499756}, {'label': 'neg', 'score': 0.9939121603965759}, {'label': 'neg', 'score': 0.9804381132125854}, {'label': 'neg', 'score': 0.970990777015686}, {'label': 'neg', 'score': 0.8838815093040466}, {'label': 'neg', 'score': 0.9388567209243774}, {'label': 'neg', 'score': 0.9756213426589966}, {'label': 'neg', 'score': 0.9920369982719421}, {'label': 'neg', 'score': 0.9903975129127502}, {'label': 'neg', 'score': 0.9911450743675232}, {'label': 'neg', 'score': 0.9735062718391418}, {'label': 'neg', 'score': 0.9928795099258423}, {'label': 'neg', 'score': 0.9848623275756836}, {'label': 'neg', 'score': 0.9895797371864319}, {'label': 'neu', 'score': 0.9550052881240845}, {'label': 'neg', 'score': 0.9891824126243591}, {'label': 'neg', 'score': 0.9761149287223816}, {'label': 'pos', 'score': 0.9676026701927185}, {'label': 'neg', 'score': 0.9930260181427002}, {'label': 'neg', 'score': 0.9886196255683899}, {'label': 'neg', 'score': 0.9899923801422119}, {'label': 'neg', 'score': 0.9896591901779175}, {'label': 'neg', 'score': 0.9824638962745667}, {'label': 'neg', 'score': 0.9953813552856445}, {'label': 'neg', 'score': 0.9056272506713867}, {'label': 'neg', 'score': 0.9909234642982483}, {'label': 'neg', 'score': 0.9704594016075134}, {'label': 'neg', 'score': 0.9928309917449951}, {'label': 'neg', 'score': 0.9913069009780884}, {'label': 'neg', 'score': 0.9358764290809631}, {'label': 'neg', 'score': 0.986329972743988}, {'label': 'neg', 'score': 0.951176106929779}, {'label': 'neg', 'score': 0.990659773349762}, {'label': 'neg', 'score': 0.9879805445671082}, {'label': 'neg', 'score': 0.921567976474762}, {'label': 'neg', 'score': 0.9776285290718079}, {'label': 'neg', 'score': 0.976714015007019}, {'label': 'neg', 'score': 0.9901690483093262}, {'label': 'neg', 'score': 0.993628203868866}, {'label': 'neg', 'score': 0.9809693098068237}, {'label': 'neg', 'score': 0.9898474812507629}, {'label': 'neg', 'score': 0.9914905428886414}, {'label': 'neg', 'score': 0.9830374717712402}, {'label': 'neg', 'score': 0.9921311140060425}, {'label': 'pos', 'score': 0.6816880702972412}, {'label': 'neg', 'score': 0.9923155307769775}, {'label': 'neg', 'score': 0.9854392409324646}, {'label': 'neg', 'score': 0.987502932548523}, {'label': 'neg', 'score': 0.9849072098731995}, {'label': 'q', 'score': 0.5490772128105164}, {'label': 'neg', 'score': 0.9829996824264526}, {'label': 'neg', 'score': 0.9824879765510559}, {'label': 'neg', 'score': 0.9918385148048401}, {'label': 'neg', 'score': 0.9815050959587097}, {'label': 'neg', 'score': 0.9934303164482117}, {'label': 'neg', 'score': 0.9909051060676575}, {'label': 'neg', 'score': 0.968317985534668}, {'label': 'neg', 'score': 0.9946527481079102}, {'label': 'neg', 'score': 0.8747783303260803}, {'label': 'neg', 'score': 0.9700585007667542}, {'label': 'neg', 'score': 0.962714672088623}, {'label': 'neg', 'score': 0.9828381538391113}, {'label': 'neg', 'score': 0.9820792078971863}, {'label': 'neg', 'score': 0.9938539862632751}, {'label': 'neg', 'score': 0.9781752228736877}, {'label': 'neg', 'score': 0.9609888195991516}, {'label': 'neg', 'score': 0.9929860234260559}, {'label': 'neg', 'score': 0.978645384311676}, {'label': 'neg', 'score': 0.9827603697776794}, {'label': 'neg', 'score': 0.9877561926841736}, {'label': 'neg', 'score': 0.9939808249473572}, {'label': 'neg', 'score': 0.9517991542816162}, {'label': 'neg', 'score': 0.9901854991912842}, {'label': 'neg', 'score': 0.976636528968811}, {'label': 'neg', 'score': 0.9432870149612427}, {'label': 'neg', 'score': 0.9606053233146667}, {'label': 'neg', 'score': 0.9701235294342041}, {'label': 'neu', 'score': 0.5969544053077698}, {'label': 'neg', 'score': 0.9769035577774048}, {'label': 'neg', 'score': 0.8052695393562317}, {'label': 'neu', 'score': 0.9450064897537231}, {'label': 'neu', 'score': 0.8420418500900269}, {'label': 'neg', 'score': 0.9273355603218079}, {'label': 'neg', 'score': 0.9906559586524963}, {'label': 'neg', 'score': 0.9863998889923096}, {'label': 'neg', 'score': 0.9620333909988403}, {'label': 'neu', 'score': 0.8833737969398499}, {'label': 'neg', 'score': 0.9916372299194336}, {'label': 'neg', 'score': 0.9585018754005432}, {'label': 'neg', 'score': 0.965423583984375}, {'label': 'neg', 'score': 0.9803150296211243}, {'label': 'neg', 'score': 0.9934749603271484}, {'label': 'neg', 'score': 0.989633321762085}, {'label': 'neg', 'score': 0.9860187768936157}, {'label': 'neg', 'score': 0.9801831841468811}, {'label': 'neg', 'score': 0.9838988780975342}, {'label': 'neg', 'score': 0.961402952671051}, {'label': 'neg', 'score': 0.9935675859451294}, {'label': 'neg', 'score': 0.9899982810020447}, {'label': 'neg', 'score': 0.9841846227645874}, {'label': 'neg', 'score': 0.9923636317253113}, {'label': 'neu', 'score': 0.8272086381912231}, {'label': 'neg', 'score': 0.9910091161727905}, {'label': 'neg', 'score': 0.9925628900527954}, {'label': 'neg', 'score': 0.7669562697410583}, {'label': 'neg', 'score': 0.987233579158783}, {'label': 'neg', 'score': 0.9883398413658142}, {'label': 'neg', 'score': 0.9868966937065125}, {'label': 'neg', 'score': 0.9851440787315369}, {'label': 'neg', 'score': 0.9951945543289185}, {'label': 'neg', 'score': 0.9873673915863037}, {'label': 'neg', 'score': 0.9868634343147278}, {'label': 'neg', 'score': 0.9888890981674194}, {'label': 'neg', 'score': 0.979739248752594}, {'label': 'neg', 'score': 0.9846404790878296}, {'label': 'neg', 'score': 0.9828909039497375}, {'label': 'neg', 'score': 0.9928296804428101}, {'label': 'pos', 'score': 0.9254634380340576}, {'label': 'neg', 'score': 0.9925327897071838}, {'label': 'neg', 'score': 0.9926035404205322}, {'label': 'neg', 'score': 0.4885857403278351}, {'label': 'neg', 'score': 0.6762608885765076}, {'label': 'neg', 'score': 0.9793904423713684}, {'label': 'neg', 'score': 0.9870163798332214}, {'label': 'neg', 'score': 0.978039562702179}, {'label': 'neu', 'score': 0.5464475750923157}, {'label': 'neg', 'score': 0.9473612308502197}, {'label': 'neg', 'score': 0.9567419290542603}, {'label': 'neg', 'score': 0.9908085465431213}, {'label': 'neg', 'score': 0.8742125034332275}, {'label': 'neg', 'score': 0.9950156211853027}, {'label': 'neg', 'score': 0.9938196539878845}, {'label': 'neg', 'score': 0.9820315837860107}, {'label': 'neg', 'score': 0.9935990571975708}, {'label': 'neg', 'score': 0.9848926067352295}, {'label': 'neg', 'score': 0.9698705077171326}, {'label': 'pos', 'score': 0.710774838924408}, {'label': 'neg', 'score': 0.99083411693573}, {'label': 'neg', 'score': 0.9939308762550354}, {'label': 'neg', 'score': 0.9063720107078552}, {'label': 'neg', 'score': 0.9868952631950378}, {'label': 'neg', 'score': 0.9943015575408936}, {'label': 'neg', 'score': 0.9892394542694092}, {'label': 'neg', 'score': 0.7616586089134216}, {'label': 'neg', 'score': 0.9926721453666687}, {'label': 'neg', 'score': 0.993968665599823}, {'label': 'neg', 'score': 0.9929159879684448}, {'label': 'neg', 'score': 0.9920130372047424}, {'label': 'neu', 'score': 0.5191419124603271}, {'label': 'neg', 'score': 0.9892845153808594}, {'label': 'neg', 'score': 0.9922282695770264}, {'label': 'neg', 'score': 0.9867188334465027}, {'label': 'neg', 'score': 0.9791383743286133}, {'label': 'neg', 'score': 0.9852932691574097}, {'label': 'neg', 'score': 0.9199114441871643}, {'label': 'neg', 'score': 0.9892818927764893}, {'label': 'neg', 'score': 0.988132894039154}, {'label': 'neg', 'score': 0.9942625761032104}, {'label': 'neg', 'score': 0.994479238986969}, {'label': 'neg', 'score': 0.9904751181602478}, {'label': 'neg', 'score': 0.9942675232887268}, {'label': 'neg', 'score': 0.9918894171714783}, {'label': 'neg', 'score': 0.9899550676345825}, {'label': 'neg', 'score': 0.9806678891181946}, {'label': 'pos', 'score': 0.9614356160163879}, {'label': 'neg', 'score': 0.8274982571601868}, {'label': 'neg', 'score': 0.984819233417511}, {'label': 'neg', 'score': 0.9948843121528625}, {'label': 'neg', 'score': 0.9903652667999268}, {'label': 'neu', 'score': 0.7463824152946472}, {'label': 'neg', 'score': 0.9907000064849854}, {'label': 'neg', 'score': 0.9890801310539246}, {'label': 'neg', 'score': 0.8193364143371582}, {'label': 'neg', 'score': 0.9874135255813599}, {'label': 'neg', 'score': 0.9877411127090454}, {'label': 'neg', 'score': 0.9605620503425598}, {'label': 'neg', 'score': 0.9825453162193298}, {'label': 'neg', 'score': 0.9891677498817444}, {'label': 'neg', 'score': 0.9703353047370911}, {'label': 'neu', 'score': 0.4296152889728546}, {'label': 'neg', 'score': 0.9917482137680054}, {'label': 'neg', 'score': 0.9902409911155701}, {'label': 'neg', 'score': 0.9559959173202515}, {'label': 'neg', 'score': 0.9899662733078003}, {'label': 'pos', 'score': 0.9138097763061523}, {'label': 'neg', 'score': 0.9885544180870056}, {'label': 'neg', 'score': 0.9893757104873657}, {'label': 'neg', 'score': 0.9929096698760986}, {'label': 'neg', 'score': 0.9858929514884949}, {'label': 'neg', 'score': 0.8073254823684692}, {'label': 'neg', 'score': 0.9894510507583618}, {'label': 'neg', 'score': 0.9928410649299622}, {'label': 'pos', 'score': 0.955440104007721}, {'label': 'pos', 'score': 0.8092241883277893}, {'label': 'neg', 'score': 0.9270955324172974}, {'label': 'q', 'score': 0.7807809114456177}, {'label': 'neg', 'score': 0.9297358989715576}, {'label': 'neg', 'score': 0.9755433201789856}, {'label': 'neg', 'score': 0.8297054171562195}, {'label': 'neg', 'score': 0.992042601108551}, {'label': 'neg', 'score': 0.936946451663971}, {'label': 'neg', 'score': 0.9934325814247131}, {'label': 'neu', 'score': 0.8673267960548401}, {'label': 'neg', 'score': 0.9887388944625854}, {'label': 'q', 'score': 0.5941885113716125}, {'label': 'neg', 'score': 0.9910074472427368}, {'label': 'neg', 'score': 0.9909494519233704}, {'label': 'neg', 'score': 0.9716353416442871}, {'label': 'neg', 'score': 0.9945906400680542}, {'label': 'neg', 'score': 0.9887137413024902}, {'label': 'neu', 'score': 0.8824326992034912}, {'label': 'neg', 'score': 0.9881784319877625}, {'label': 'neg', 'score': 0.993099570274353}, {'label': 'neg', 'score': 0.994664192199707}, {'label': 'neg', 'score': 0.9915139675140381}, {'label': 'pos', 'score': 0.8080464601516724}, {'label': 'neg', 'score': 0.9867401123046875}, {'label': 'pos', 'score': 0.7086634039878845}, {'label': 'neg', 'score': 0.9890227913856506}, {'label': 'neg', 'score': 0.9937172532081604}, {'label': 'neg', 'score': 0.9824973344802856}, {'label': 'neg', 'score': 0.96510249376297}, {'label': 'neg', 'score': 0.9899145364761353}, {'label': 'neg', 'score': 0.9890557527542114}, {'label': 'neg', 'score': 0.9880959391593933}, {'label': 'neg', 'score': 0.9897267818450928}, {'label': 'neg', 'score': 0.9859949350357056}, {'label': 'neg', 'score': 0.9923312067985535}, {'label': 'neg', 'score': 0.9934260249137878}, {'label': 'neg', 'score': 0.9698306918144226}, {'label': 'neg', 'score': 0.9641960859298706}, {'label': 'neg', 'score': 0.9689632654190063}, {'label': 'neu', 'score': 0.5015478134155273}, {'label': 'neg', 'score': 0.96593177318573}, {'label': 'neg', 'score': 0.9946025013923645}, {'label': 'neg', 'score': 0.9774928092956543}, {'label': 'neg', 'score': 0.990565299987793}, {'label': 'neg', 'score': 0.9818780422210693}, {'label': 'q', 'score': 0.7149258852005005}, {'label': 'neg', 'score': 0.9954073429107666}, {'label': 'neg', 'score': 0.9864603877067566}, {'label': 'neg', 'score': 0.9931238293647766}, {'label': 'neg', 'score': 0.9822553396224976}, {'label': 'neg', 'score': 0.9432419538497925}, {'label': 'neg', 'score': 0.9864159822463989}, {'label': 'neg', 'score': 0.9935203194618225}, {'label': 'neg', 'score': 0.9924706220626831}, {'label': 'pos', 'score': 0.6424275636672974}, {'label': 'neg', 'score': 0.9735115170478821}, {'label': 'neg', 'score': 0.993353545665741}, {'label': 'neg', 'score': 0.5432546734809875}, {'label': 'neu', 'score': 0.8201663494110107}, {'label': 'pos', 'score': 0.7256988883018494}, {'label': 'neg', 'score': 0.9886159300804138}, {'label': 'neg', 'score': 0.5977028608322144}, {'label': 'neg', 'score': 0.986304521560669}, {'label': 'pos', 'score': 0.9593270421028137}, {'label': 'pos', 'score': 0.8764424920082092}, {'label': 'neg', 'score': 0.9898000955581665}, {'label': 'neg', 'score': 0.9918811917304993}, {'label': 'neg', 'score': 0.9887629151344299}, {'label': 'neg', 'score': 0.3818312883377075}, {'label': 'neg', 'score': 0.9886857271194458}, {'label': 'neg', 'score': 0.9922990202903748}, {'label': 'neg', 'score': 0.9903426766395569}, {'label': 'neg', 'score': 0.9895850419998169}, {'label': 'neg', 'score': 0.8189678192138672}, {'label': 'neu', 'score': 0.8785178065299988}, {'label': 'neg', 'score': 0.9947599172592163}, {'label': 'neg', 'score': 0.9777770638465881}, {'label': 'neg', 'score': 0.993819534778595}, {'label': 'neu', 'score': 0.7816348075866699}, {'label': 'pos', 'score': 0.9061149954795837}, {'label': 'neg', 'score': 0.9883747696876526}, {'label': 'neg', 'score': 0.8313681483268738}, {'label': 'neg', 'score': 0.9876417517662048}, {'label': 'neg', 'score': 0.9943616986274719}, {'label': 'neg', 'score': 0.9770091772079468}, {'label': 'pos', 'score': 0.7463151812553406}, {'label': 'neg', 'score': 0.9933034777641296}, {'label': 'q', 'score': 0.7223297357559204}, {'label': 'neg', 'score': 0.9904779195785522}, {'label': 'neg', 'score': 0.9594334363937378}, {'label': 'neg', 'score': 0.9920219779014587}, {'label': 'pos', 'score': 0.8038155436515808}, {'label': 'neg', 'score': 0.9870395064353943}, {'label': 'neg', 'score': 0.6201666593551636}, {'label': 'neg', 'score': 0.9810290336608887}, {'label': 'neu', 'score': 0.9069154858589172}, {'label': 'neu', 'score': 0.5643814206123352}, {'label': 'neg', 'score': 0.9850525856018066}, {'label': 'neu', 'score': 0.9336005449295044}, {'label': 'neg', 'score': 0.9923421740531921}, {'label': 'neg', 'score': 0.9940360188484192}, {'label': 'neu', 'score': 0.5956447720527649}, {'label': 'neg', 'score': 0.9755063056945801}, {'label': 'neu', 'score': 0.6632637977600098}, {'label': 'pos', 'score': 0.9213404059410095}, {'label': 'pos', 'score': 0.8321624994277954}, {'label': 'pos', 'score': 0.9562255144119263}, {'label': 'neu', 'score': 0.865199863910675}, {'label': 'neu', 'score': 0.8450583815574646}, {'label': 'neg', 'score': 0.9828289747238159}, {'label': 'neu', 'score': 0.9605153203010559}, {'label': 'neu', 'score': 0.8710362315177917}, {'label': 'neu', 'score': 0.6786803603172302}, {'label': 'neg', 'score': 0.899149477481842}, {'label': 'pos', 'score': 0.9547577500343323}, {'label': 'pos', 'score': 0.5695810317993164}, {'label': 'pos', 'score': 0.5017576813697815}, {'label': 'neg', 'score': 0.9839847683906555}, {'label': 'neg', 'score': 0.5215494632720947}, {'label': 'neu', 'score': 0.7390872836112976}, {'label': 'neu', 'score': 0.8631954193115234}, {'label': 'neg', 'score': 0.48924878239631653}, {'label': 'neg', 'score': 0.9872629642486572}, {'label': 'pos', 'score': 0.960015594959259}, {'label': 'neg', 'score': 0.9940909743309021}, {'label': 'neu', 'score': 0.5149222612380981}, {'label': 'neg', 'score': 0.7472106218338013}, {'label': 'neg', 'score': 0.9907375574111938}, {'label': 'pos', 'score': 0.7689992189407349}, {'label': 'pos', 'score': 0.8956029415130615}, {'label': 'pos', 'score': 0.834055483341217}, {'label': 'pos', 'score': 0.6121363639831543}, {'label': 'neg', 'score': 0.8084019422531128}, {'label': 'neu', 'score': 0.6869090795516968}, {'label': 'neu', 'score': 0.4212293326854706}, {'label': 'neg', 'score': 0.9838073253631592}, {'label': 'neg', 'score': 0.9287062883377075}, {'label': 'neg', 'score': 0.9001576900482178}, {'label': 'neg', 'score': 0.8655494451522827}, {'label': 'neg', 'score': 0.9917175769805908}, {'label': 'neg', 'score': 0.9904952645301819}, {'label': 'pos', 'score': 0.5341477394104004}, {'label': 'neg', 'score': 0.9817382097244263}, {'label': 'neg', 'score': 0.9907005429267883}, {'label': 'pos', 'score': 0.6777241826057434}, {'label': 'pos', 'score': 0.7983343601226807}, {'label': 'neg', 'score': 0.7273156046867371}, {'label': 'neg', 'score': 0.912753701210022}, {'label': 'neu', 'score': 0.6277186870574951}, {'label': 'pos', 'score': 0.5319772362709045}, {'label': 'pos', 'score': 0.6218932271003723}, {'label': 'pos', 'score': 0.9290180802345276}, {'label': 'pos', 'score': 0.5108644366264343}, {'label': 'pos', 'score': 0.827909529209137}, {'label': 'pos', 'score': 0.6242260932922363}, {'label': 'pos', 'score': 0.5516268610954285}, {'label': 'neu', 'score': 0.4795772433280945}, {'label': 'pos', 'score': 0.8035061359405518}, {'label': 'pos', 'score': 0.9225881695747375}, {'label': 'neg', 'score': 0.9772549867630005}, {'label': 'neg', 'score': 0.9921520948410034}, {'label': 'neu', 'score': 0.749076783657074}, {'label': 'pos', 'score': 0.5216866731643677}, {'label': 'neg', 'score': 0.8717839121818542}, {'label': 'neu', 'score': 0.6257690191268921}, {'label': 'neu', 'score': 0.9252070784568787}, {'label': 'neg', 'score': 0.48907509446144104}, {'label': 'pos', 'score': 0.5998185873031616}, {'label': 'neg', 'score': 0.9877178072929382}, {'label': 'neg', 'score': 0.9852900505065918}, {'label': 'neg', 'score': 0.9909088611602783}, {'label': 'pos', 'score': 0.7799641489982605}, {'label': 'neg', 'score': 0.806047260761261}, {'label': 'q', 'score': 0.5874499678611755}, {'label': 'pos', 'score': 0.7904484868049622}, {'label': 'pos', 'score': 0.6998665928840637}, {'label': 'pos', 'score': 0.5470790863037109}, {'label': 'neu', 'score': 0.516803503036499}, {'label': 'pos', 'score': 0.7089653015136719}, {'label': 'neg', 'score': 0.9858760833740234}, {'label': 'neg', 'score': 0.9782524108886719}, {'label': 'neg', 'score': 0.9720110893249512}, {'label': 'neg', 'score': 0.9941689968109131}, {'label': 'neg', 'score': 0.9941399693489075}, {'label': 'neg', 'score': 0.9833305478096008}, {'label': 'neg', 'score': 0.9943990707397461}, {'label': 'neg', 'score': 0.991039514541626}, {'label': 'neu', 'score': 0.7248730063438416}, {'label': 'neg', 'score': 0.9730813503265381}, {'label': 'neg', 'score': 0.9551839828491211}, {'label': 'neg', 'score': 0.37071195244789124}, {'label': 'pos', 'score': 0.9009274244308472}, {'label': 'neg', 'score': 0.8640104532241821}, {'label': 'neg', 'score': 0.9865050911903381}, {'label': 'neg', 'score': 0.9762081503868103}, {'label': 'neg', 'score': 0.7221710085868835}, {'label': 'neg', 'score': 0.8908350467681885}, {'label': 'neg', 'score': 0.9880421757698059}, {'label': 'pos', 'score': 0.8880996108055115}, {'label': 'neg', 'score': 0.5998580455780029}, {'label': 'pos', 'score': 0.8501886129379272}, {'label': 'neg', 'score': 0.9832206964492798}, {'label': 'neg', 'score': 0.970601499080658}, {'label': 'neg', 'score': 0.9876448512077332}, {'label': 'neg', 'score': 0.9922753572463989}, {'label': 'neg', 'score': 0.9917941689491272}, {'label': 'neu', 'score': 0.5432444214820862}, {'label': 'neg', 'score': 0.9901997447013855}, {'label': 'neg', 'score': 0.9343565702438354}, {'label': 'neg', 'score': 0.5389451384544373}, {'label': 'neg', 'score': 0.9726779460906982}, {'label': 'neg', 'score': 0.9748537540435791}, {'label': 'neg', 'score': 0.9135547876358032}, {'label': 'pos', 'score': 0.9751893281936646}, {'label': 'neg', 'score': 0.9867485761642456}, {'label': 'neu', 'score': 0.6847944259643555}, {'label': 'neg', 'score': 0.9365330338478088}, {'label': 'neg', 'score': 0.9145566821098328}, {'label': 'neg', 'score': 0.9859593510627747}, {'label': 'neg', 'score': 0.9825244545936584}, {'label': 'pos', 'score': 0.9195337891578674}, {'label': 'neg', 'score': 0.9779835343360901}, {'label': 'neg', 'score': 0.6029595732688904}, {'label': 'pos', 'score': 0.5716790556907654}, {'label': 'neg', 'score': 0.7556089758872986}, {'label': 'neg', 'score': 0.9943195581436157}, {'label': 'neg', 'score': 0.9834726452827454}, {'label': 'neg', 'score': 0.9573326706886292}, {'label': 'neg', 'score': 0.9862381219863892}, {'label': 'neg', 'score': 0.9912161827087402}, {'label': 'neg', 'score': 0.9707178473472595}, {'label': 'neg', 'score': 0.8885579109191895}, {'label': 'neu', 'score': 0.506794810295105}, {'label': 'neg', 'score': 0.7067075371742249}, {'label': 'neu', 'score': 0.6872172355651855}, {'label': 'neg', 'score': 0.962756335735321}, {'label': 'pos', 'score': 0.4725557267665863}, {'label': 'neg', 'score': 0.9313041567802429}, {'label': 'neg', 'score': 0.6996091604232788}, {'label': 'neg', 'score': 0.9462544322013855}, {'label': 'neg', 'score': 0.9403563737869263}, {'label': 'neg', 'score': 0.7070739269256592}, {'label': 'neg', 'score': 0.9791005849838257}, {'label': 'neg', 'score': 0.9839180111885071}, {'label': 'neg', 'score': 0.8945164084434509}, {'label': 'neg', 'score': 0.5519334077835083}, {'label': 'pos', 'score': 0.8997489213943481}, {'label': 'neg', 'score': 0.41906610131263733}, {'label': 'neu', 'score': 0.7653293013572693}, {'label': 'pos', 'score': 0.6413614153862}, {'label': 'neg', 'score': 0.9840342998504639}, {'label': 'neg', 'score': 0.9832891225814819}, {'label': 'neg', 'score': 0.9839625358581543}, {'label': 'neg', 'score': 0.9656398296356201}, {'label': 'neg', 'score': 0.4995035231113434}, {'label': 'neg', 'score': 0.5230445265769958}, {'label': 'neg', 'score': 0.9861074090003967}, {'label': 'neg', 'score': 0.8447908163070679}, {'label': 'neu', 'score': 0.617120087146759}, {'label': 'neu', 'score': 0.7678446173667908}, {'label': 'neg', 'score': 0.6576188802719116}, {'label': 'neu', 'score': 0.5076183080673218}, {'label': 'pos', 'score': 0.9611569046974182}, {'label': 'neg', 'score': 0.8216363191604614}, {'label': 'neg', 'score': 0.8002587556838989}, {'label': 'neg', 'score': 0.9873849749565125}, {'label': 'neg', 'score': 0.9547989964485168}, {'label': 'neg', 'score': 0.8614862561225891}, {'label': 'neg', 'score': 0.9882287979125977}, {'label': 'neu', 'score': 0.8035356998443604}, {'label': 'neg', 'score': 0.6349038481712341}, {'label': 'neu', 'score': 0.781401515007019}, {'label': 'neu', 'score': 0.6636950373649597}, {'label': 'neu', 'score': 0.7660520076751709}, {'label': 'neu', 'score': 0.9501086473464966}, {'label': 'neg', 'score': 0.991762101650238}, {'label': 'neu', 'score': 0.8434430360794067}, {'label': 'neg', 'score': 0.943982720375061}, {'label': 'neg', 'score': 0.7910621166229248}, {'label': 'pos', 'score': 0.9018140435218811}, {'label': 'neu', 'score': 0.5253603458404541}, {'label': 'neg', 'score': 0.7448449730873108}, {'label': 'neg', 'score': 0.9791651964187622}, {'label': 'neu', 'score': 0.7491036057472229}, {'label': 'neg', 'score': 0.968492865562439}, {'label': 'neg', 'score': 0.5067627429962158}, {'label': 'neg', 'score': 0.991723358631134}, {'label': 'neu', 'score': 0.5101330876350403}, {'label': 'pos', 'score': 0.9022216200828552}, {'label': 'neg', 'score': 0.9938731789588928}, {'label': 'neg', 'score': 0.9825465083122253}, {'label': 'neg', 'score': 0.9898226857185364}, {'label': 'neg', 'score': 0.9203044176101685}, {'label': 'pos', 'score': 0.9029741287231445}, {'label': 'neg', 'score': 0.659477949142456}, {'label': 'pos', 'score': 0.8428625464439392}, {'label': 'neg', 'score': 0.9945111870765686}, {'label': 'neg', 'score': 0.9923729300498962}, {'label': 'neg', 'score': 0.9939533472061157}, {'label': 'neu', 'score': 0.947476327419281}, {'label': 'neg', 'score': 0.9878587126731873}, {'label': 'neg', 'score': 0.9827725887298584}, {'label': 'neu', 'score': 0.8643186092376709}, {'label': 'neg', 'score': 0.9857046604156494}, {'label': 'neg', 'score': 0.9923573732376099}, {'label': 'neg', 'score': 0.7832821011543274}, {'label': 'neg', 'score': 0.959929347038269}, {'label': 'neg', 'score': 0.9489888548851013}, {'label': 'neg', 'score': 0.9904865622520447}, {'label': 'neu', 'score': 0.8990396857261658}, {'label': 'pos', 'score': 0.8395913243293762}, {'label': 'neg', 'score': 0.9861599206924438}, {'label': 'pos', 'score': 0.9378975033760071}, {'label': 'neg', 'score': 0.9869407415390015}, {'label': 'neg', 'score': 0.900264322757721}, {'label': 'neu', 'score': 0.48032793402671814}, {'label': 'pos', 'score': 0.613005518913269}, {'label': 'pos', 'score': 0.9089524149894714}, {'label': 'pos', 'score': 0.931920051574707}, {'label': 'pos', 'score': 0.5695846080780029}, {'label': 'neg', 'score': 0.8211000561714172}, {'label': 'neg', 'score': 0.9581924080848694}, {'label': 'neg', 'score': 0.9708836078643799}, {'label': 'neg', 'score': 0.9943565726280212}, {'label': 'neg', 'score': 0.9882290959358215}, {'label': 'neg', 'score': 0.943454384803772}, {'label': 'pos', 'score': 0.9101101756095886}, {'label': 'neg', 'score': 0.9887149930000305}, {'label': 'neg', 'score': 0.9935083389282227}, {'label': 'neu', 'score': 0.5352413654327393}, {'label': 'neg', 'score': 0.9559176564216614}, {'label': 'neg', 'score': 0.6921434998512268}, {'label': 'neu', 'score': 0.703140914440155}, {'label': 'neg', 'score': 0.9878430366516113}, {'label': 'pos', 'score': 0.6996536254882812}, {'label': 'q', 'score': 0.8138048052787781}, {'label': 'neg', 'score': 0.9888142347335815}, {'label': 'pos', 'score': 0.7825871109962463}, {'label': 'neg', 'score': 0.9927646517753601}, {'label': 'neg', 'score': 0.9930113554000854}, {'label': 'neg', 'score': 0.9782969355583191}, {'label': 'neg', 'score': 0.9529977440834045}, {'label': 'neg', 'score': 0.9859089255332947}, {'label': 'pos', 'score': 0.6280085444450378}, {'label': 'pos', 'score': 0.923408567905426}, {'label': 'neg', 'score': 0.9927344918251038}, {'label': 'neg', 'score': 0.905619204044342}, {'label': 'pos', 'score': 0.4414246082305908}, {'label': 'pos', 'score': 0.5813053250312805}, {'label': 'pos', 'score': 0.8778214454650879}, {'label': 'pos', 'score': 0.8061872720718384}, {'label': 'neg', 'score': 0.9941271543502808}, {'label': 'pos', 'score': 0.707526445388794}, {'label': 'neu', 'score': 0.3835359811782837}, {'label': 'pos', 'score': 0.9478917717933655}, {'label': 'pos', 'score': 0.6803788542747498}, {'label': 'neg', 'score': 0.9746274352073669}, {'label': 'neg', 'score': 0.9707551002502441}, {'label': 'neg', 'score': 0.9745965600013733}, {'label': 'neg', 'score': 0.9822078943252563}, {'label': 'neg', 'score': 0.571343183517456}, {'label': 'pos', 'score': 0.6176159977912903}, {'label': 'q', 'score': 0.5464238524436951}, {'label': 'neg', 'score': 0.9913234710693359}, {'label': 'neg', 'score': 0.9897297024726868}, {'label': 'neg', 'score': 0.9761149287223816}, {'label': 'neg', 'score': 0.9846007227897644}, {'label': 'neg', 'score': 0.575772225856781}, {'label': 'neg', 'score': 0.7221710085868835}, {'label': 'neu', 'score': 0.8942406177520752}, {'label': 'pos', 'score': 0.952495276927948}, {'label': 'pos', 'score': 0.8870953917503357}, {'label': 'pos', 'score': 0.7984870672225952}, {'label': 'pos', 'score': 0.7939028143882751}, {'label': 'pos', 'score': 0.879108726978302}, {'label': 'pos', 'score': 0.6629079580307007}, {'label': 'pos', 'score': 0.5378636121749878}, {'label': 'pos', 'score': 0.46208396553993225}, {'label': 'pos', 'score': 0.5342361927032471}, {'label': 'neg', 'score': 0.8200485110282898}, {'label': 'pos', 'score': 0.8682346940040588}, {'label': 'neg', 'score': 0.9021360278129578}, {'label': 'pos', 'score': 0.7965536117553711}, {'label': 'pos', 'score': 0.4979429244995117}, {'label': 'neg', 'score': 0.9632738828659058}, {'label': 'neg', 'score': 0.5939827561378479}, {'label': 'neg', 'score': 0.9896753430366516}, {'label': 'pos', 'score': 0.5937881469726562}, {'label': 'pos', 'score': 0.7987669706344604}, {'label': 'neg', 'score': 0.5001674890518188}, {'label': 'neg', 'score': 0.8759311437606812}, {'label': 'pos', 'score': 0.7194727659225464}, {'label': 'neg', 'score': 0.9877393841743469}, {'label': 'neg', 'score': 0.6600743532180786}, {'label': 'neg', 'score': 0.9913641810417175}, {'label': 'neu', 'score': 0.5880792737007141}, {'label': 'q', 'score': 0.702820897102356}, {'label': 'neg', 'score': 0.9891809225082397}, {'label': 'neg', 'score': 0.9466400146484375}, {'label': 'neg', 'score': 0.5548160076141357}, {'label': 'neg', 'score': 0.9095335602760315}, {'label': 'neg', 'score': 0.9454180598258972}, {'label': 'neg', 'score': 0.9939422607421875}, {'label': 'neg', 'score': 0.9784675240516663}, {'label': 'neg', 'score': 0.8865455389022827}, {'label': 'neg', 'score': 0.6935123205184937}, {'label': 'neg', 'score': 0.9079632759094238}, {'label': 'neg', 'score': 0.990590512752533}, {'label': 'neu', 'score': 0.9104495644569397}, {'label': 'neu', 'score': 0.8087341785430908}, {'label': 'neg', 'score': 0.9546028971672058}, {'label': 'pos', 'score': 0.8495739102363586}, {'label': 'pos', 'score': 0.675372302532196}, {'label': 'neg', 'score': 0.9751258492469788}, {'label': 'neg', 'score': 0.9801716208457947}, {'label': 'neg', 'score': 0.6306512951850891}, {'label': 'neg', 'score': 0.9150381088256836}, {'label': 'q', 'score': 0.6957261562347412}, {'label': 'neu', 'score': 0.8036447167396545}, {'label': 'neg', 'score': 0.9906767010688782}, {'label': 'neg', 'score': 0.9871102571487427}, {'label': 'neg', 'score': 0.9878237247467041}, {'label': 'neu', 'score': 0.6603824496269226}, {'label': 'neg', 'score': 0.9949934482574463}, {'label': 'pos', 'score': 0.8760887384414673}, {'label': 'neg', 'score': 0.9908356070518494}, {'label': 'neg', 'score': 0.9811652302742004}, {'label': 'neg', 'score': 0.6550471782684326}, {'label': 'neg', 'score': 0.9908984899520874}, {'label': 'neg', 'score': 0.9838009476661682}, {'label': 'neu', 'score': 0.8644013404846191}, {'label': 'neg', 'score': 0.9699676036834717}, {'label': 'neg', 'score': 0.9876206517219543}, {'label': 'neu', 'score': 0.9009954333305359}, {'label': 'neg', 'score': 0.967774510383606}, {'label': 'neu', 'score': 0.8493878245353699}, {'label': 'neg', 'score': 0.9072179794311523}, {'label': 'neu', 'score': 0.9055900573730469}, {'label': 'neg', 'score': 0.535523533821106}, {'label': 'neg', 'score': 0.9825069308280945}, {'label': 'neg', 'score': 0.9909342527389526}, {'label': 'neg', 'score': 0.9448898434638977}, {'label': 'neg', 'score': 0.9661737084388733}, {'label': 'neg', 'score': 0.9893139004707336}, {'label': 'neg', 'score': 0.941623866558075}, {'label': 'neu', 'score': 0.884573757648468}, {'label': 'neg', 'score': 0.9877247214317322}, {'label': 'neg', 'score': 0.7325537204742432}, {'label': 'neg', 'score': 0.9856327176094055}, {'label': 'neg', 'score': 0.9563332796096802}, {'label': 'neg', 'score': 0.97286456823349}, {'label': 'neg', 'score': 0.9850514531135559}, {'label': 'neg', 'score': 0.9792372584342957}, {'label': 'neg', 'score': 0.6787782311439514}, {'label': 'neg', 'score': 0.9571200013160706}, {'label': 'neg', 'score': 0.9813480377197266}, {'label': 'q', 'score': 0.49891331791877747}, {'label': 'neg', 'score': 0.9936563968658447}, {'label': 'neu', 'score': 0.9095020294189453}, {'label': 'neg', 'score': 0.9949026703834534}, {'label': 'neg', 'score': 0.9433130621910095}, {'label': 'neu', 'score': 0.5584229826927185}, {'label': 'neg', 'score': 0.9950302839279175}, {'label': 'neg', 'score': 0.9891809225082397}, {'label': 'neg', 'score': 0.9943416118621826}, {'label': 'neg', 'score': 0.9928871989250183}, {'label': 'neg', 'score': 0.9887956380844116}, {'label': 'neg', 'score': 0.9869958758354187}, {'label': 'pos', 'score': 0.8704965114593506}, {'label': 'pos', 'score': 0.9323872923851013}, {'label': 'neg', 'score': 0.9851988554000854}, {'label': 'neu', 'score': 0.4830779433250427}, {'label': 'pos', 'score': 0.6464572548866272}, {'label': 'neg', 'score': 0.987622082233429}, {'label': 'neg', 'score': 0.8461253643035889}, {'label': 'pos', 'score': 0.7653980255126953}, {'label': 'neg', 'score': 0.9858874082565308}, {'label': 'neg', 'score': 0.967097818851471}, {'label': 'neu', 'score': 0.6458730101585388}, {'label': 'neg', 'score': 0.9888234734535217}, {'label': 'neu', 'score': 0.6265448331832886}, {'label': 'neg', 'score': 0.9932056665420532}, {'label': 'neg', 'score': 0.9929940104484558}, {'label': 'neg', 'score': 0.9656232595443726}, {'label': 'neg', 'score': 0.9836031198501587}, {'label': 'q', 'score': 0.8231832981109619}, {'label': 'pos', 'score': 0.6141531467437744}, {'label': 'neg', 'score': 0.6678479313850403}, {'label': 'neg', 'score': 0.9067080616950989}, {'label': 'neg', 'score': 0.9920509457588196}, {'label': 'neg', 'score': 0.991772472858429}, {'label': 'neu', 'score': 0.837469220161438}, {'label': 'neg', 'score': 0.9926717877388}, {'label': 'neg', 'score': 0.992814302444458}, {'label': 'neg', 'score': 0.948411762714386}, {'label': 'neg', 'score': 0.976079523563385}, {'label': 'neg', 'score': 0.7333739399909973}, {'label': 'neu', 'score': 0.7626708149909973}, {'label': 'neg', 'score': 0.9726783037185669}, {'label': 'neg', 'score': 0.9505857229232788}, {'label': 'neg', 'score': 0.9827425479888916}, {'label': 'neg', 'score': 0.9815599322319031}, {'label': 'neg', 'score': 0.9827458262443542}, {'label': 'neg', 'score': 0.8238500952720642}, {'label': 'neu', 'score': 0.8745346665382385}, {'label': 'neg', 'score': 0.895301878452301}, {'label': 'neg', 'score': 0.9543715119361877}, {'label': 'neu', 'score': 0.48106348514556885}, {'label': 'neu', 'score': 0.8399815559387207}, {'label': 'pos', 'score': 0.9128231406211853}, {'label': 'neu', 'score': 0.8692905902862549}, {'label': 'neu', 'score': 0.49783170223236084}, {'label': 'neg', 'score': 0.7863509654998779}, {'label': 'neg', 'score': 0.9845108985900879}, {'label': 'neg', 'score': 0.992871880531311}, {'label': 'neg', 'score': 0.8949069380760193}, {'label': 'neg', 'score': 0.933782696723938}, {'label': 'neg', 'score': 0.9902659058570862}, {'label': 'neu', 'score': 0.6573971509933472}, {'label': 'neu', 'score': 0.7621999382972717}, {'label': 'neg', 'score': 0.983727216720581}, {'label': 'neg', 'score': 0.9879465699195862}, {'label': 'neg', 'score': 0.9881482720375061}, {'label': 'neg', 'score': 0.9475904107093811}, {'label': 'neg', 'score': 0.6799700260162354}, {'label': 'neg', 'score': 0.9796932935714722}, {'label': 'neg', 'score': 0.9879754781723022}, {'label': 'neg', 'score': 0.4789404273033142}, {'label': 'neg', 'score': 0.986693799495697}, {'label': 'neg', 'score': 0.9689484238624573}, {'label': 'neg', 'score': 0.9935171008110046}, {'label': 'neg', 'score': 0.960442066192627}, {'label': 'neu', 'score': 0.8455155491828918}, {'label': 'neg', 'score': 0.9919770359992981}, {'label': 'q', 'score': 0.7176833152770996}, {'label': 'neg', 'score': 0.9899994730949402}, {'label': 'neg', 'score': 0.8388435244560242}, {'label': 'pos', 'score': 0.4277040362358093}, {'label': 'neg', 'score': 0.9847078919410706}, {'label': 'neg', 'score': 0.9897580742835999}, {'label': 'pos', 'score': 0.5512369275093079}, {'label': 'neg', 'score': 0.5783801078796387}, {'label': 'pos', 'score': 0.9464321732521057}, {'label': 'neg', 'score': 0.9747861623764038}, {'label': 'neg', 'score': 0.9840543866157532}, {'label': 'neg', 'score': 0.9911516904830933}, {'label': 'neg', 'score': 0.9609643220901489}, {'label': 'neg', 'score': 0.9943628311157227}, {'label': 'neg', 'score': 0.9921355247497559}, {'label': 'neg', 'score': 0.9593948721885681}, {'label': 'neg', 'score': 0.9672107100486755}, {'label': 'neg', 'score': 0.98673015832901}, {'label': 'pos', 'score': 0.818366289138794}, {'label': 'neu', 'score': 0.5283965468406677}, {'label': 'neg', 'score': 0.9939916133880615}, {'label': 'neg', 'score': 0.9943891167640686}, {'label': 'neg', 'score': 0.9944113492965698}, {'label': 'neu', 'score': 0.7698183655738831}, {'label': 'neg', 'score': 0.995377779006958}, {'label': 'neg', 'score': 0.9901881814002991}, {'label': 'pos', 'score': 0.7542375326156616}, {'label': 'neu', 'score': 0.9881464838981628}, {'label': 'q', 'score': 0.6156365871429443}, {'label': 'neg', 'score': 0.9840556979179382}, {'label': 'neg', 'score': 0.9947391748428345}, {'label': 'pos', 'score': 0.8918057680130005}, {'label': 'neu', 'score': 0.8695166110992432}, {'label': 'neg', 'score': 0.9834108948707581}, {'label': 'pos', 'score': 0.5311001539230347}, {'label': 'neg', 'score': 0.9889009594917297}, {'label': 'neg', 'score': 0.7517120242118835}, {'label': 'neg', 'score': 0.9625080823898315}, {'label': 'neg', 'score': 0.9720106720924377}, {'label': 'neg', 'score': 0.9842885732650757}, {'label': 'neg', 'score': 0.9660289883613586}, {'label': 'neg', 'score': 0.9218850135803223}, {'label': 'q', 'score': 0.5774765610694885}, {'label': 'neg', 'score': 0.9801397323608398}, {'label': 'neg', 'score': 0.9637438058853149}, {'label': 'neg', 'score': 0.9942362904548645}, {'label': 'neg', 'score': 0.9892457127571106}, {'label': 'neg', 'score': 0.9644165635108948}, {'label': 'neg', 'score': 0.8241583704948425}, {'label': 'neg', 'score': 0.9861553907394409}, {'label': 'pos', 'score': 0.8673236966133118}, {'label': 'neg', 'score': 0.9931345582008362}, {'label': 'neu', 'score': 0.6216304898262024}, {'label': 'neg', 'score': 0.9866854548454285}, {'label': 'neu', 'score': 0.887535810470581}, {'label': 'neg', 'score': 0.985776960849762}, {'label': 'neg', 'score': 0.9939661622047424}, {'label': 'neg', 'score': 0.9929243326187134}, {'label': 'neg', 'score': 0.9937434196472168}, {'label': 'neg', 'score': 0.5339516401290894}, {'label': 'neu', 'score': 0.48211243748664856}, {'label': 'neu', 'score': 0.4922547936439514}, {'label': 'neg', 'score': 0.9933026432991028}, {'label': 'neg', 'score': 0.9888370037078857}, {'label': 'neg', 'score': 0.9930238127708435}, {'label': 'neg', 'score': 0.9586255550384521}, {'label': 'neg', 'score': 0.9851434826850891}, {'label': 'neg', 'score': 0.9872459769248962}, {'label': 'neg', 'score': 0.9897565245628357}, {'label': 'neg', 'score': 0.9918302297592163}, {'label': 'neg', 'score': 0.9899510145187378}, {'label': 'neg', 'score': 0.9598792791366577}, {'label': 'neg', 'score': 0.9920305609703064}, {'label': 'neu', 'score': 0.9385472536087036}, {'label': 'neg', 'score': 0.9926123023033142}, {'label': 'neg', 'score': 0.9674979448318481}, {'label': 'neg', 'score': 0.9934090375900269}, {'label': 'neg', 'score': 0.8879674077033997}, {'label': 'neg', 'score': 0.9921396970748901}, {'label': 'neg', 'score': 0.9948548674583435}, {'label': 'neg', 'score': 0.9938016533851624}, {'label': 'neg', 'score': 0.9657518863677979}, {'label': 'neg', 'score': 0.9588848352432251}, {'label': 'neu', 'score': 0.8903711438179016}, {'label': 'neg', 'score': 0.9879094958305359}, {'label': 'neg', 'score': 0.9831691980361938}, {'label': 'neu', 'score': 0.9545812010765076}, {'label': 'neu', 'score': 0.9710909128189087}, {'label': 'neu', 'score': 0.9815737009048462}, {'label': 'neg', 'score': 0.9109541773796082}, {'label': 'neu', 'score': 0.9907472133636475}, {'label': 'neg', 'score': 0.9904885292053223}, {'label': 'neu', 'score': 0.8684058785438538}, {'label': 'pos', 'score': 0.8460313677787781}, {'label': 'neu', 'score': 0.8952012658119202}, {'label': 'neg', 'score': 0.9536951780319214}, {'label': 'pos', 'score': 0.711164653301239}, {'label': 'neg', 'score': 0.9945608377456665}, {'label': 'neg', 'score': 0.9717274904251099}, {'label': 'neg', 'score': 0.9182039499282837}, {'label': 'pos', 'score': 0.6379305124282837}, {'label': 'neg', 'score': 0.9731956720352173}, {'label': 'neg', 'score': 0.9866379499435425}, {'label': 'neg', 'score': 0.994610071182251}, {'label': 'neg', 'score': 0.9654926657676697}, {'label': 'neg', 'score': 0.9945751428604126}, {'label': 'neg', 'score': 0.9402069449424744}, {'label': 'neg', 'score': 0.9442834258079529}, {'label': 'neg', 'score': 0.9654237031936646}, {'label': 'neg', 'score': 0.929429829120636}, {'label': 'neg', 'score': 0.9883501529693604}, {'label': 'pos', 'score': 0.7867273092269897}, {'label': 'neg', 'score': 0.989285409450531}, {'label': 'neg', 'score': 0.6741722226142883}, {'label': 'pos', 'score': 0.8459416031837463}, {'label': 'pos', 'score': 0.7117500901222229}, {'label': 'neg', 'score': 0.9920592308044434}, {'label': 'neu', 'score': 0.7853403687477112}, {'label': 'neg', 'score': 0.9943700432777405}, {'label': 'neg', 'score': 0.8807615637779236}, {'label': 'neg', 'score': 0.9658928513526917}, {'label': 'neg', 'score': 0.7958243489265442}, {'label': 'neg', 'score': 0.9896303415298462}, {'label': 'neg', 'score': 0.9922541379928589}, {'label': 'neg', 'score': 0.9937891960144043}, {'label': 'pos', 'score': 0.5137645602226257}, {'label': 'neg', 'score': 0.8865708112716675}, {'label': 'pos', 'score': 0.7879693508148193}, {'label': 'neg', 'score': 0.764197826385498}, {'label': 'neg', 'score': 0.9893843531608582}, {'label': 'neu', 'score': 0.8763372898101807}, {'label': 'neg', 'score': 0.9908224940299988}, {'label': 'neu', 'score': 0.8935937285423279}, {'label': 'pos', 'score': 0.8014970421791077}, {'label': 'neg', 'score': 0.9736252427101135}, {'label': 'neg', 'score': 0.9894633293151855}, {'label': 'neg', 'score': 0.8972664475440979}, {'label': 'neu', 'score': 0.5662135481834412}, {'label': 'neg', 'score': 0.9890384078025818}, {'label': 'pos', 'score': 0.7578874826431274}, {'label': 'neg', 'score': 0.979004442691803}, {'label': 'pos', 'score': 0.8688512444496155}, {'label': 'neg', 'score': 0.9831438660621643}, {'label': 'neu', 'score': 0.7097808718681335}, {'label': 'pos', 'score': 0.9332437515258789}, {'label': 'pos', 'score': 0.6386194229125977}, {'label': 'neu', 'score': 0.664641261100769}, {'label': 'neu', 'score': 0.5004217028617859}, {'label': 'pos', 'score': 0.8084356188774109}, {'label': 'neu', 'score': 0.6662805080413818}, {'label': 'neg', 'score': 0.9185562133789062}, {'label': 'neg', 'score': 0.9914590120315552}, {'label': 'neg', 'score': 0.9924099445343018}, {'label': 'neu', 'score': 0.7376805543899536}, {'label': 'neg', 'score': 0.6708027124404907}, {'label': 'neg', 'score': 0.9450404047966003}, {'label': 'neg', 'score': 0.9650393724441528}, {'label': 'neg', 'score': 0.9624107480049133}, {'label': 'neg', 'score': 0.9307437539100647}, {'label': 'neg', 'score': 0.7073836326599121}, {'label': 'neu', 'score': 0.9748969078063965}, {'label': 'neg', 'score': 0.8507290482521057}, {'label': 'neg', 'score': 0.9910725355148315}, {'label': 'neg', 'score': 0.8315989971160889}, {'label': 'neu', 'score': 0.8977497220039368}, {'label': 'neg', 'score': 0.98114013671875}, {'label': 'neg', 'score': 0.6275178790092468}, {'label': 'neg', 'score': 0.7183055877685547}, {'label': 'neg', 'score': 0.9659923315048218}, {'label': 'neg', 'score': 0.8799339532852173}, {'label': 'neg', 'score': 0.9844101667404175}, {'label': 'pos', 'score': 0.8403637409210205}, {'label': 'neu', 'score': 0.8799562454223633}, {'label': 'neg', 'score': 0.9931058287620544}, {'label': 'neu', 'score': 0.9738794565200806}, {'label': 'neg', 'score': 0.9941738843917847}, {'label': 'neg', 'score': 0.9361369013786316}, {'label': 'neg', 'score': 0.9872190356254578}, {'label': 'neg', 'score': 0.9858704805374146}, {'label': 'neu', 'score': 0.9005864858627319}, {'label': 'neg', 'score': 0.9947525262832642}, {'label': 'pos', 'score': 0.7249988913536072}, {'label': 'neg', 'score': 0.9917452335357666}, {'label': 'neu', 'score': 0.8190976977348328}, {'label': 'neg', 'score': 0.9896559119224548}, {'label': 'neg', 'score': 0.9382472038269043}, {'label': 'pos', 'score': 0.7048722505569458}, {'label': 'neg', 'score': 0.9935466647148132}, {'label': 'neg', 'score': 0.9597851037979126}, {'label': 'neg', 'score': 0.9876275062561035}, {'label': 'neg', 'score': 0.9922842383384705}, {'label': 'neg', 'score': 0.9649588465690613}, {'label': 'neg', 'score': 0.9664545059204102}, {'label': 'neg', 'score': 0.9770009517669678}, {'label': 'neg', 'score': 0.9895569086074829}, {'label': 'neg', 'score': 0.9674035906791687}, {'label': 'neg', 'score': 0.7341190576553345}, {'label': 'neg', 'score': 0.7230331897735596}, {'label': 'pos', 'score': 0.6464572548866272}, {'label': 'neu', 'score': 0.6185732483863831}, {'label': 'neg', 'score': 0.994815468788147}, {'label': 'neg', 'score': 0.9426474571228027}, {'label': 'neg', 'score': 0.9807287454605103}, {'label': 'neu', 'score': 0.7767422199249268}, {'label': 'pos', 'score': 0.928692102432251}, {'label': 'neg', 'score': 0.9946306943893433}, {'label': 'neg', 'score': 0.9872434139251709}, {'label': 'neu', 'score': 0.9415262341499329}, {'label': 'neu', 'score': 0.5062621235847473}, {'label': 'neg', 'score': 0.9856615662574768}, {'label': 'neg', 'score': 0.7156234979629517}, {'label': 'neg', 'score': 0.9926115870475769}, {'label': 'neg', 'score': 0.9917555451393127}, {'label': 'neg', 'score': 0.9862733483314514}, {'label': 'neg', 'score': 0.9775285720825195}, {'label': 'neg', 'score': 0.7791463732719421}, {'label': 'neg', 'score': 0.9918279647827148}, {'label': 'neu', 'score': 0.5904946327209473}, {'label': 'neg', 'score': 0.9875234365463257}, {'label': 'neu', 'score': 0.9658783674240112}, {'label': 'neu', 'score': 0.9190478920936584}, {'label': 'neg', 'score': 0.9748439192771912}, {'label': 'neu', 'score': 0.7898812890052795}, {'label': 'neu', 'score': 0.9393022656440735}, {'label': 'neg', 'score': 0.8383440375328064}, {'label': 'neg', 'score': 0.7754644751548767}, {'label': 'pos', 'score': 0.8588804006576538}, {'label': 'neu', 'score': 0.43502649664878845}, {'label': 'neg', 'score': 0.8590345978736877}, {'label': 'neu', 'score': 0.9827919006347656}, {'label': 'neu', 'score': 0.8702304363250732}, {'label': 'neg', 'score': 0.9713475704193115}, {'label': 'neg', 'score': 0.9807084798812866}, {'label': 'neg', 'score': 0.9700841307640076}, {'label': 'pos', 'score': 0.8737785816192627}, {'label': 'neu', 'score': 0.5951709151268005}, {'label': 'neu', 'score': 0.5710662007331848}, {'label': 'neu', 'score': 0.9018654227256775}, {'label': 'neu', 'score': 0.7318456172943115}, {'label': 'neg', 'score': 0.9923588633537292}, {'label': 'neu', 'score': 0.9389342665672302}, {'label': 'neg', 'score': 0.9910759329795837}, {'label': 'neu', 'score': 0.904379665851593}, {'label': 'neg', 'score': 0.7157719135284424}, {'label': 'pos', 'score': 0.5407339334487915}, {'label': 'neu', 'score': 0.6968092322349548}, {'label': 'neu', 'score': 0.6625363826751709}, {'label': 'neg', 'score': 0.9763753414154053}, {'label': 'neu', 'score': 0.8989481925964355}, {'label': 'neg', 'score': 0.9130592346191406}, {'label': 'neu', 'score': 0.5713087320327759}, {'label': 'neg', 'score': 0.7798740267753601}, {'label': 'neg', 'score': 0.7132269144058228}, {'label': 'neu', 'score': 0.9082059264183044}, {'label': 'neg', 'score': 0.9765152931213379}, {'label': 'neg', 'score': 0.9374043345451355}, {'label': 'neg', 'score': 0.9765616655349731}, {'label': 'neu', 'score': 0.8673183917999268}, {'label': 'neg', 'score': 0.7951812744140625}, {'label': 'pos', 'score': 0.7332085371017456}, {'label': 'neu', 'score': 0.7433486580848694}, {'label': 'neu', 'score': 0.97776198387146}, {'label': 'neg', 'score': 0.9907485842704773}, {'label': 'neg', 'score': 0.9410425424575806}, {'label': 'neg', 'score': 0.971575915813446}, {'label': 'neu', 'score': 0.6682069897651672}, {'label': 'neg', 'score': 0.4622511863708496}, {'label': 'neg', 'score': 0.9840314388275146}, {'label': 'neu', 'score': 0.8145133256912231}, {'label': 'neg', 'score': 0.9703558087348938}, {'label': 'neu', 'score': 0.5457134246826172}, {'label': 'neu', 'score': 0.9098052382469177}, {'label': 'neg', 'score': 0.9946473240852356}, {'label': 'neg', 'score': 0.991557240486145}, {'label': 'neg', 'score': 0.9853819608688354}, {'label': 'pos', 'score': 0.632052481174469}, {'label': 'neg', 'score': 0.9893023371696472}, {'label': 'neg', 'score': 0.9736573100090027}, {'label': 'neu', 'score': 0.644034743309021}, {'label': 'neu', 'score': 0.9072093963623047}, {'label': 'neu', 'score': 0.6275398135185242}, {'label': 'neu', 'score': 0.8294416666030884}, {'label': 'neg', 'score': 0.9930063486099243}, {'label': 'neg', 'score': 0.9948933720588684}, {'label': 'neg', 'score': 0.9894090294837952}, {'label': 'neg', 'score': 0.9917760491371155}, {'label': 'pos', 'score': 0.9168785214424133}, {'label': 'neg', 'score': 0.9894084334373474}, {'label': 'neu', 'score': 0.5272606015205383}, {'label': 'neg', 'score': 0.8263423442840576}, {'label': 'neg', 'score': 0.9925656318664551}, {'label': 'neg', 'score': 0.9811203479766846}, {'label': 'neg', 'score': 0.9823263883590698}, {'label': 'neg', 'score': 0.989797830581665}, {'label': 'neg', 'score': 0.9904062151908875}, {'label': 'neg', 'score': 0.9900939464569092}, {'label': 'neg', 'score': 0.9526020288467407}, {'label': 'pos', 'score': 0.5768365859985352}, {'label': 'neg', 'score': 0.989369809627533}, {'label': 'neg', 'score': 0.9886812567710876}, {'label': 'neu', 'score': 0.7714130282402039}, {'label': 'neg', 'score': 0.9897719025611877}, {'label': 'neg', 'score': 0.9936811923980713}, {'label': 'pos', 'score': 0.7963624596595764}, {'label': 'neg', 'score': 0.9935455322265625}, {'label': 'neu', 'score': 0.511146605014801}, {'label': 'neg', 'score': 0.8427498936653137}, {'label': 'pos', 'score': 0.9530327320098877}, {'label': 'neg', 'score': 0.7224547266960144}, {'label': 'neg', 'score': 0.9814292192459106}, {'label': 'neg', 'score': 0.9934694766998291}, {'label': 'neu', 'score': 0.910667896270752}, {'label': 'neg', 'score': 0.5289828181266785}, {'label': 'neu', 'score': 0.8536453247070312}, {'label': 'neg', 'score': 0.9290415048599243}, {'label': 'neg', 'score': 0.8732179999351501}, {'label': 'neg', 'score': 0.9911386370658875}, {'label': 'neu', 'score': 0.6667793393135071}, {'label': 'neg', 'score': 0.9939162731170654}, {'label': 'neu', 'score': 0.8897106647491455}, {'label': 'neg', 'score': 0.9708569645881653}, {'label': 'neu', 'score': 0.7391568422317505}, {'label': 'neu', 'score': 0.6616482734680176}, {'label': 'neu', 'score': 0.7210119962692261}, {'label': 'neg', 'score': 0.4913700819015503}, {'label': 'neg', 'score': 0.9749230146408081}, {'label': 'neg', 'score': 0.8683913946151733}, {'label': 'pos', 'score': 0.655754029750824}, {'label': 'neg', 'score': 0.9514935612678528}, {'label': 'neg', 'score': 0.9891214370727539}, {'label': 'pos', 'score': 0.6708081364631653}, {'label': 'neu', 'score': 0.6792706251144409}, {'label': 'pos', 'score': 0.8765297532081604}, {'label': 'neg', 'score': 0.9911065101623535}, {'label': 'neg', 'score': 0.9907983541488647}, {'label': 'neg', 'score': 0.9398945569992065}, {'label': 'neg', 'score': 0.9449761509895325}, {'label': 'neu', 'score': 0.9812295436859131}, {'label': 'neu', 'score': 0.5374004244804382}, {'label': 'pos', 'score': 0.7728867530822754}, {'label': 'neg', 'score': 0.9049453139305115}, {'label': 'neg', 'score': 0.9833491444587708}, {'label': 'neg', 'score': 0.9250836968421936}, {'label': 'neu', 'score': 0.6977689266204834}, {'label': 'neu', 'score': 0.793461799621582}, {'label': 'neu', 'score': 0.9027443528175354}, {'label': 'pos', 'score': 0.6274003386497498}, {'label': 'pos', 'score': 0.8417883515357971}, {'label': 'pos', 'score': 0.7925412058830261}, {'label': 'neu', 'score': 0.8526028990745544}, {'label': 'neu', 'score': 0.767036497592926}, {'label': 'pos', 'score': 0.8950969576835632}, {'label': 'pos', 'score': 0.5924678444862366}, {'label': 'neg', 'score': 0.8756548762321472}, {'label': 'neg', 'score': 0.9583086371421814}, {'label': 'pos', 'score': 0.9497578144073486}, {'label': 'neg', 'score': 0.9064279198646545}, {'label': 'neg', 'score': 0.8846114277839661}, {'label': 'pos', 'score': 0.8120088577270508}, {'label': 'neg', 'score': 0.9085816144943237}, {'label': 'neu', 'score': 0.9213346242904663}, {'label': 'neg', 'score': 0.8960065245628357}, {'label': 'neu', 'score': 0.9742371439933777}, {'label': 'neg', 'score': 0.9593150019645691}, {'label': 'neg', 'score': 0.8525260090827942}, {'label': 'neg', 'score': 0.9102122187614441}, {'label': 'neg', 'score': 0.9791651964187622}, {'label': 'neu', 'score': 0.8843654990196228}, {'label': 'neg', 'score': 0.9911419153213501}, {'label': 'neg', 'score': 0.9681293964385986}, {'label': 'neg', 'score': 0.9784363508224487}, {'label': 'neg', 'score': 0.9310068488121033}, {'label': 'neg', 'score': 0.9891638159751892}, {'label': 'neg', 'score': 0.9761056303977966}, {'label': 'neu', 'score': 0.9500342607498169}, {'label': 'neu', 'score': 0.6975879669189453}, {'label': 'neg', 'score': 0.99269038438797}, {'label': 'q', 'score': 0.4840715825557709}, {'label': 'neg', 'score': 0.9599775075912476}, {'label': 'neg', 'score': 0.9855338335037231}, {'label': 'neg', 'score': 0.9937297105789185}, {'label': 'neu', 'score': 0.890097975730896}, {'label': 'neu', 'score': 0.9634466767311096}, {'label': 'neg', 'score': 0.9867402911186218}, {'label': 'neu', 'score': 0.5151739120483398}, {'label': 'neu', 'score': 0.874359667301178}, {'label': 'neu', 'score': 0.9747942090034485}, {'label': 'neu', 'score': 0.8016390204429626}, {'label': 'neu', 'score': 0.7583571076393127}, {'label': 'neu', 'score': 0.9054341316223145}, {'label': 'pos', 'score': 0.779691755771637}, {'label': 'pos', 'score': 0.8316546082496643}, {'label': 'neg', 'score': 0.977262020111084}, {'label': 'neg', 'score': 0.8886687755584717}, {'label': 'neg', 'score': 0.9536588191986084}, {'label': 'neg', 'score': 0.963541567325592}, {'label': 'neg', 'score': 0.8121588826179504}, {'label': 'neg', 'score': 0.6540634036064148}, {'label': 'neg', 'score': 0.9636800289154053}, {'label': 'neg', 'score': 0.9912684559822083}, {'label': 'neg', 'score': 0.9774162769317627}, {'label': 'neg', 'score': 0.9861404299736023}, {'label': 'neg', 'score': 0.960001528263092}, {'label': 'neg', 'score': 0.9769977331161499}, {'label': 'neg', 'score': 0.49040210247039795}, {'label': 'neg', 'score': 0.884116530418396}, {'label': 'neu', 'score': 0.8888697624206543}, {'label': 'neu', 'score': 0.4136464297771454}, {'label': 'neu', 'score': 0.5994778871536255}, {'label': 'neg', 'score': 0.8554107546806335}, {'label': 'pos', 'score': 0.5200571417808533}, {'label': 'neu', 'score': 0.6953521370887756}, {'label': 'neu', 'score': 0.9814582467079163}, {'label': 'neu', 'score': 0.8733235001564026}, {'label': 'neu', 'score': 0.7409653067588806}, {'label': 'neg', 'score': 0.9747825264930725}, {'label': 'neg', 'score': 0.9898388981819153}, {'label': 'neg', 'score': 0.9944308400154114}, {'label': 'neu', 'score': 0.8969470858573914}, {'label': 'neu', 'score': 0.9161857962608337}, {'label': 'neu', 'score': 0.7157685160636902}, {'label': 'neu', 'score': 0.9566490054130554}, {'label': 'pos', 'score': 0.8979542255401611}, {'label': 'neu', 'score': 0.7268991470336914}, {'label': 'neu', 'score': 0.9435074925422668}, {'label': 'neu', 'score': 0.8829594254493713}, {'label': 'neg', 'score': 0.985126256942749}, {'label': 'neg', 'score': 0.9913418889045715}, {'label': 'pos', 'score': 0.6310521960258484}, {'label': 'neg', 'score': 0.973351001739502}, {'label': 'neg', 'score': 0.9370035529136658}, {'label': 'neu', 'score': 0.6530019640922546}, {'label': 'neu', 'score': 0.7518436908721924}, {'label': 'neu', 'score': 0.9469946622848511}, {'label': 'q', 'score': 0.8717074990272522}, {'label': 'neg', 'score': 0.8606400489807129}, {'label': 'neu', 'score': 0.872175931930542}, {'label': 'neu', 'score': 0.6863197088241577}, {'label': 'neu', 'score': 0.7356700897216797}, {'label': 'neu', 'score': 0.982090413570404}, {'label': 'neu', 'score': 0.9289207458496094}, {'label': 'neg', 'score': 0.9129980206489563}, {'label': 'neg', 'score': 0.9121523499488831}, {'label': 'neu', 'score': 0.5629934072494507}, {'label': 'neg', 'score': 0.9250004887580872}, {'label': 'neu', 'score': 0.9454478621482849}, {'label': 'neg', 'score': 0.9582228064537048}, {'label': 'neg', 'score': 0.982753336429596}, {'label': 'neu', 'score': 0.9455275535583496}, {'label': 'neg', 'score': 0.919086217880249}, {'label': 'neg', 'score': 0.9610623717308044}, {'label': 'q', 'score': 0.7719426155090332}, {'label': 'neu', 'score': 0.5737937688827515}, {'label': 'neg', 'score': 0.9894397854804993}, {'label': 'neu', 'score': 0.8489036560058594}, {'label': 'neg', 'score': 0.47756868600845337}, {'label': 'neu', 'score': 0.5993172526359558}, {'label': 'neg', 'score': 0.9927878975868225}, {'label': 'q', 'score': 0.49897634983062744}, {'label': 'neu', 'score': 0.9396659731864929}, {'label': 'neg', 'score': 0.9808750748634338}, {'label': 'neg', 'score': 0.9909629225730896}, {'label': 'neg', 'score': 0.9900152683258057}, {'label': 'pos', 'score': 0.5155289173126221}, {'label': 'neg', 'score': 0.9772433042526245}, {'label': 'pos', 'score': 0.9462341070175171}, {'label': 'pos', 'score': 0.7399523258209229}, {'label': 'neu', 'score': 0.8461242914199829}, {'label': 'neg', 'score': 0.9917048811912537}, {'label': 'neg', 'score': 0.9700430035591125}, {'label': 'neg', 'score': 0.9899760484695435}, {'label': 'neg', 'score': 0.9948220252990723}, {'label': 'neg', 'score': 0.5612032413482666}, {'label': 'neu', 'score': 0.9165741205215454}, {'label': 'neu', 'score': 0.978401780128479}, {'label': 'neg', 'score': 0.9446160197257996}, {'label': 'neu', 'score': 0.8858737349510193}, {'label': 'neu', 'score': 0.9215744137763977}, {'label': 'neg', 'score': 0.9884238243103027}, {'label': 'neg', 'score': 0.9644293785095215}, {'label': 'neg', 'score': 0.9892544150352478}, {'label': 'neu', 'score': 0.939477264881134}, {'label': 'neg', 'score': 0.8671044111251831}, {'label': 'neg', 'score': 0.96795654296875}, {'label': 'neg', 'score': 0.9503529071807861}, {'label': 'neg', 'score': 0.9845871925354004}, {'label': 'neu', 'score': 0.7856811881065369}, {'label': 'neg', 'score': 0.9885218143463135}, {'label': 'neu', 'score': 0.8708090782165527}, {'label': 'pos', 'score': 0.8567619919776917}, {'label': 'neu', 'score': 0.6547255516052246}, {'label': 'neg', 'score': 0.9805235862731934}, {'label': 'neu', 'score': 0.9739962220191956}, {'label': 'neg', 'score': 0.955150306224823}, {'label': 'pos', 'score': 0.5303556323051453}, {'label': 'neu', 'score': 0.9747899770736694}, {'label': 'neu', 'score': 0.570544958114624}, {'label': 'neg', 'score': 0.9946961402893066}, {'label': 'pos', 'score': 0.7369996905326843}, {'label': 'neu', 'score': 0.9771214723587036}, {'label': 'neu', 'score': 0.9781944155693054}, {'label': 'neu', 'score': 0.9829314351081848}, {'label': 'neu', 'score': 0.9377487897872925}, {'label': 'neu', 'score': 0.8365101218223572}, {'label': 'neu', 'score': 0.69706791639328}, {'label': 'neg', 'score': 0.9875509142875671}, {'label': 'neg', 'score': 0.9872607588768005}, {'label': 'neu', 'score': 0.7692095637321472}, {'label': 'pos', 'score': 0.9638118147850037}, {'label': 'neg', 'score': 0.9614813923835754}, {'label': 'neg', 'score': 0.8924762606620789}, {'label': 'neg', 'score': 0.9936089515686035}, {'label': 'neg', 'score': 0.9880410432815552}, {'label': 'neu', 'score': 0.7178072929382324}, {'label': 'neg', 'score': 0.9911386966705322}, {'label': 'neg', 'score': 0.35998979210853577}, {'label': 'neg', 'score': 0.9896916151046753}, {'label': 'neg', 'score': 0.8718631863594055}, {'label': 'neg', 'score': 0.9776126146316528}, {'label': 'pos', 'score': 0.7917428016662598}, {'label': 'neg', 'score': 0.9089091420173645}, {'label': 'neu', 'score': 0.9618263840675354}, {'label': 'neu', 'score': 0.701972484588623}, {'label': 'neu', 'score': 0.9572640061378479}, {'label': 'neg', 'score': 0.9030656218528748}, {'label': 'neg', 'score': 0.9955405592918396}, {'label': 'neu', 'score': 0.9255667924880981}, {'label': 'neg', 'score': 0.8498378992080688}, {'label': 'neg', 'score': 0.9601545333862305}, {'label': 'neg', 'score': 0.965107798576355}, {'label': 'neu', 'score': 0.8966221809387207}, {'label': 'neu', 'score': 0.9785034656524658}, {'label': 'neu', 'score': 0.9739101529121399}, {'label': 'pos', 'score': 0.8948351740837097}, {'label': 'neg', 'score': 0.9893710613250732}, {'label': 'neg', 'score': 0.6370466947555542}, {'label': 'neu', 'score': 0.9716986417770386}, {'label': 'q', 'score': 0.47866290807724}, {'label': 'q', 'score': 0.5439972877502441}, {'label': 'neu', 'score': 0.665657639503479}, {'label': 'neu', 'score': 0.8484640121459961}, {'label': 'neg', 'score': 0.9851810932159424}, {'label': 'neu', 'score': 0.9219648241996765}, {'label': 'pos', 'score': 0.5498618483543396}, {'label': 'pos', 'score': 0.4947505593299866}, {'label': 'q', 'score': 0.5448756814002991}, {'label': 'neu', 'score': 0.7588943243026733}, {'label': 'neg', 'score': 0.861101508140564}, {'label': 'neu', 'score': 0.5116456151008606}, {'label': 'neg', 'score': 0.9935430288314819}, {'label': 'neg', 'score': 0.8989009857177734}, {'label': 'neg', 'score': 0.9864770770072937}, {'label': 'neg', 'score': 0.9837809801101685}, {'label': 'q', 'score': 0.5373395681381226}, {'label': 'neu', 'score': 0.7054482102394104}, {'label': 'pos', 'score': 0.42095300555229187}, {'label': 'neg', 'score': 0.9946749806404114}, {'label': 'neu', 'score': 0.8122261166572571}, {'label': 'neu', 'score': 0.7326703071594238}, {'label': 'neg', 'score': 0.9768428206443787}, {'label': 'neu', 'score': 0.9157484769821167}, {'label': 'neu', 'score': 0.6089496612548828}, {'label': 'neu', 'score': 0.8820679783821106}, {'label': 'neu', 'score': 0.8865324258804321}, {'label': 'neg', 'score': 0.984079897403717}, {'label': 'neg', 'score': 0.9925219416618347}, {'label': 'neg', 'score': 0.9562336206436157}, {'label': 'neg', 'score': 0.9497366547584534}, {'label': 'neg', 'score': 0.7386175990104675}, {'label': 'neg', 'score': 0.9773511290550232}, {'label': 'neg', 'score': 0.7564094662666321}, {'label': 'q', 'score': 0.6153112649917603}, {'label': 'neg', 'score': 0.9937936067581177}, {'label': 'neg', 'score': 0.9837956428527832}, {'label': 'q', 'score': 0.46889227628707886}, {'label': 'neg', 'score': 0.9388896226882935}, {'label': 'neu', 'score': 0.858485996723175}, {'label': 'pos', 'score': 0.796339213848114}, {'label': 'pos', 'score': 0.6884090304374695}, {'label': 'pos', 'score': 0.7512388825416565}, {'label': 'pos', 'score': 0.6345517635345459}, {'label': 'pos', 'score': 0.5038720369338989}, {'label': 'neu', 'score': 0.9081664681434631}, {'label': 'neg', 'score': 0.6971991062164307}, {'label': 'neg', 'score': 0.948972761631012}, {'label': 'neg', 'score': 0.9609292149543762}, {'label': 'neu', 'score': 0.5571498274803162}, {'label': 'neg', 'score': 0.9788146018981934}, {'label': 'neg', 'score': 0.9248983263969421}, {'label': 'neg', 'score': 0.9199805855751038}, {'label': 'neg', 'score': 0.9343440532684326}, {'label': 'neg', 'score': 0.6818318367004395}, {'label': 'q', 'score': 0.7087132930755615}, {'label': 'q', 'score': 0.6705747246742249}, {'label': 'neg', 'score': 0.9811212420463562}, {'label': 'neg', 'score': 0.9072110652923584}, {'label': 'pos', 'score': 0.5827426910400391}, {'label': 'q', 'score': 0.5086537599563599}, {'label': 'pos', 'score': 0.5097226500511169}, {'label': 'neg', 'score': 0.9676610231399536}, {'label': 'neu', 'score': 0.5811644196510315}, {'label': 'pos', 'score': 0.5581871271133423}, {'label': 'neg', 'score': 0.9781560897827148}, {'label': 'neg', 'score': 0.8620209097862244}, {'label': 'neu', 'score': 0.7316990494728088}, {'label': 'neu', 'score': 0.6110008358955383}, {'label': 'neu', 'score': 0.8258217573165894}, {'label': 'neg', 'score': 0.6671191453933716}, {'label': 'neu', 'score': 0.8448815941810608}, {'label': 'neg', 'score': 0.9070402383804321}, {'label': 'neg', 'score': 0.991090714931488}, {'label': 'neg', 'score': 0.9465388059616089}, {'label': 'neg', 'score': 0.5888862013816833}, {'label': 'neg', 'score': 0.9865556955337524}, {'label': 'q', 'score': 0.5077365040779114}, {'label': 'neg', 'score': 0.9925277233123779}, {'label': 'neg', 'score': 0.9121626019477844}, {'label': 'neg', 'score': 0.9379702806472778}, {'label': 'neu', 'score': 0.5702447891235352}, {'label': 'neg', 'score': 0.9947400689125061}, {'label': 'neg', 'score': 0.7663995027542114}, {'label': 'q', 'score': 0.5616325736045837}, {'label': 'neg', 'score': 0.9166589975357056}, {'label': 'neu', 'score': 0.6457849144935608}, {'label': 'neg', 'score': 0.9895161986351013}, {'label': 'neg', 'score': 0.9819986820220947}, {'label': 'neg', 'score': 0.9921330809593201}, {'label': 'pos', 'score': 0.924473762512207}, {'label': 'neu', 'score': 0.8871039748191833}, {'label': 'neg', 'score': 0.9924536347389221}, {'label': 'neg', 'score': 0.9855559468269348}, {'label': 'neg', 'score': 0.9853633046150208}, {'label': 'pos', 'score': 0.92881840467453}, {'label': 'neu', 'score': 0.8856703639030457}, {'label': 'neg', 'score': 0.9947797060012817}, {'label': 'pos', 'score': 0.7030481696128845}, {'label': 'neu', 'score': 0.9184042811393738}, {'label': 'pos', 'score': 0.7904332876205444}, {'label': 'neu', 'score': 0.6721139550209045}, {'label': 'neg', 'score': 0.9926466941833496}, {'label': 'neg', 'score': 0.9790727496147156}, {'label': 'neg', 'score': 0.7920668125152588}, {'label': 'pos', 'score': 0.4246339201927185}, {'label': 'neu', 'score': 0.6398777961730957}, {'label': 'neg', 'score': 0.9731713533401489}, {'label': 'pos', 'score': 0.6025498509407043}, {'label': 'neg', 'score': 0.9896566867828369}, {'label': 'pos', 'score': 0.9122401475906372}, {'label': 'neg', 'score': 0.9895930886268616}, {'label': 'neg', 'score': 0.9699854850769043}, {'label': 'neu', 'score': 0.7151797413825989}, {'label': 'neg', 'score': 0.9894960522651672}, {'label': 'pos', 'score': 0.9284738898277283}, {'label': 'neg', 'score': 0.7857725024223328}, {'label': 'neu', 'score': 0.6044793725013733}, {'label': 'neu', 'score': 0.5272161364555359}, {'label': 'neg', 'score': 0.9907492995262146}, {'label': 'pos', 'score': 0.717261016368866}, {'label': 'neg', 'score': 0.5751208662986755}, {'label': 'neg', 'score': 0.9931604266166687}, {'label': 'neg', 'score': 0.9933770298957825}, {'label': 'neg', 'score': 0.9895674586296082}, {'label': 'neu', 'score': 0.9219342470169067}, {'label': 'neg', 'score': 0.9925305843353271}, {'label': 'neu', 'score': 0.78877854347229}, {'label': 'pos', 'score': 0.5804520845413208}, {'label': 'neg', 'score': 0.9241899847984314}, {'label': 'neg', 'score': 0.4535263180732727}, {'label': 'neg', 'score': 0.6728137135505676}, {'label': 'neg', 'score': 0.9705710411071777}, {'label': 'neu', 'score': 0.9494448304176331}, {'label': 'neu', 'score': 0.836017370223999}, {'label': 'neg', 'score': 0.95392245054245}, {'label': 'pos', 'score': 0.38306260108947754}, {'label': 'neu', 'score': 0.9162122011184692}, {'label': 'neu', 'score': 0.929739236831665}, {'label': 'neg', 'score': 0.9853249192237854}, {'label': 'neu', 'score': 0.886563777923584}, {'label': 'neu', 'score': 0.8018308877944946}, {'label': 'neg', 'score': 0.9822078943252563}, {'label': 'neg', 'score': 0.9657018184661865}, {'label': 'neg', 'score': 0.7420134544372559}, {'label': 'pos', 'score': 0.9539552927017212}, {'label': 'neg', 'score': 0.9541457891464233}, {'label': 'neg', 'score': 0.9844974875450134}, {'label': 'neg', 'score': 0.6676079034805298}, {'label': 'neg', 'score': 0.8595312237739563}, {'label': 'pos', 'score': 0.814648449420929}, {'label': 'pos', 'score': 0.9645448923110962}, {'label': 'neg', 'score': 0.5695412158966064}, {'label': 'q', 'score': 0.6274850964546204}, {'label': 'neg', 'score': 0.9880361557006836}, {'label': 'neu', 'score': 0.8448815941810608}, {'label': 'neg', 'score': 0.9902513027191162}, {'label': 'neu', 'score': 0.457705557346344}, {'label': 'neu', 'score': 0.9358137249946594}, {'label': 'neu', 'score': 0.9236177802085876}, {'label': 'neu', 'score': 0.8358510136604309}, {'label': 'neg', 'score': 0.9069921374320984}, {'label': 'neu', 'score': 0.5541654825210571}, {'label': 'neg', 'score': 0.5661545991897583}, {'label': 'neg', 'score': 0.9615725874900818}, {'label': 'neg', 'score': 0.9872188568115234}, {'label': 'neu', 'score': 0.9762735366821289}, {'label': 'neg', 'score': 0.9838798642158508}, {'label': 'neg', 'score': 0.9813539385795593}, {'label': 'neg', 'score': 0.9947332739830017}, {'label': 'neg', 'score': 0.9628394842147827}, {'label': 'pos', 'score': 0.853407621383667}, {'label': 'neg', 'score': 0.7946949601173401}, {'label': 'neu', 'score': 0.6863292455673218}, {'label': 'neu', 'score': 0.5496116876602173}, {'label': 'neg', 'score': 0.9606980681419373}, {'label': 'q', 'score': 0.5434713363647461}, {'label': 'q', 'score': 0.8083120584487915}, {'label': 'neu', 'score': 0.9453186392784119}, {'label': 'q', 'score': 0.598598062992096}, {'label': 'neg', 'score': 0.9902224540710449}, {'label': 'q', 'score': 0.4436999261379242}, {'label': 'pos', 'score': 0.5223938226699829}, {'label': 'neg', 'score': 0.9736512899398804}, {'label': 'neg', 'score': 0.8762198686599731}, {'label': 'neu', 'score': 0.49253836274147034}, {'label': 'neg', 'score': 0.7861015200614929}, {'label': 'q', 'score': 0.716452419757843}, {'label': 'neg', 'score': 0.974535346031189}, {'label': 'neg', 'score': 0.7352246046066284}, {'label': 'neg', 'score': 0.9919699430465698}, {'label': 'neu', 'score': 0.48407870531082153}, {'label': 'q', 'score': 0.3763720691204071}, {'label': 'neg', 'score': 0.9877645969390869}, {'label': 'neg', 'score': 0.7793243527412415}, {'label': 'neu', 'score': 0.9604372978210449}, {'label': 'pos', 'score': 0.8038070797920227}, {'label': 'neg', 'score': 0.9772304892539978}, {'label': 'neu', 'score': 0.9579383134841919}, {'label': 'neg', 'score': 0.902947723865509}, {'label': 'neu', 'score': 0.7130179405212402}, {'label': 'neu', 'score': 0.9504714012145996}, {'label': 'neu', 'score': 0.9553424119949341}, {'label': 'neu', 'score': 0.7236392498016357}, {'label': 'q', 'score': 0.8703840970993042}, {'label': 'pos', 'score': 0.5788074731826782}, {'label': 'neu', 'score': 0.753265917301178}, {'label': 'neu', 'score': 0.7100805044174194}, {'label': 'neg', 'score': 0.9799949526786804}, {'label': 'neu', 'score': 0.5692685842514038}, {'label': 'neu', 'score': 0.7161140441894531}, {'label': 'neu', 'score': 0.9089682102203369}, {'label': 'neu', 'score': 0.871199369430542}, {'label': 'neu', 'score': 0.9600143432617188}, {'label': 'neg', 'score': 0.9936354160308838}, {'label': 'neu', 'score': 0.8550999760627747}, {'label': 'neg', 'score': 0.9756104350090027}, {'label': 'neu', 'score': 0.9241124391555786}, {'label': 'pos', 'score': 0.923408567905426}, {'label': 'neg', 'score': 0.92133629322052}, {'label': 'neg', 'score': 0.9824118614196777}, {'label': 'pos', 'score': 0.5831443667411804}, {'label': 'neu', 'score': 0.8768847584724426}, {'label': 'pos', 'score': 0.9311030507087708}, {'label': 'neu', 'score': 0.8258299827575684}, {'label': 'neu', 'score': 0.5399513840675354}, {'label': 'neu', 'score': 0.4634840190410614}, {'label': 'neg', 'score': 0.7085433006286621}, {'label': 'neg', 'score': 0.9153572916984558}, {'label': 'neg', 'score': 0.989777147769928}, {'label': 'neg', 'score': 0.9805670380592346}, {'label': 'neu', 'score': 0.4169899821281433}, {'label': 'neg', 'score': 0.5164014101028442}, {'label': 'neg', 'score': 0.9843094348907471}, {'label': 'neg', 'score': 0.9677621722221375}, {'label': 'neu', 'score': 0.7578369975090027}, {'label': 'neg', 'score': 0.7242065668106079}, {'label': 'neg', 'score': 0.9873419404029846}, {'label': 'neg', 'score': 0.9699265360832214}, {'label': 'neg', 'score': 0.9728865027427673}, {'label': 'neg', 'score': 0.8306375741958618}, {'label': 'neu', 'score': 0.9073149561882019}, {'label': 'neg', 'score': 0.8900487422943115}, {'label': 'neg', 'score': 0.9858512282371521}, {'label': 'pos', 'score': 0.6512441039085388}, {'label': 'q', 'score': 0.6593492031097412}, {'label': 'neu', 'score': 0.3754664361476898}, {'label': 'neg', 'score': 0.7418051958084106}, {'label': 'neu', 'score': 0.8799244165420532}, {'label': 'pos', 'score': 0.650193452835083}, {'label': 'neg', 'score': 0.991356372833252}, {'label': 'pos', 'score': 0.6720079183578491}, {'label': 'neg', 'score': 0.9239351153373718}, {'label': 'neu', 'score': 0.8701114654541016}, {'label': 'pos', 'score': 0.6323111653327942}, {'label': 'neu', 'score': 0.8625904321670532}, {'label': 'neu', 'score': 0.5411378145217896}, {'label': 'neu', 'score': 0.7227681875228882}, {'label': 'neu', 'score': 0.8997132778167725}, {'label': 'neu', 'score': 0.9356815218925476}, {'label': 'neu', 'score': 0.9150328636169434}, {'label': 'pos', 'score': 0.8140109181404114}, {'label': 'neu', 'score': 0.868159830570221}, {'label': 'neg', 'score': 0.9915861487388611}, {'label': 'neg', 'score': 0.8730611801147461}, {'label': 'pos', 'score': 0.6210812926292419}, {'label': 'neg', 'score': 0.9889383912086487}, {'label': 'pos', 'score': 0.6044369339942932}, {'label': 'neu', 'score': 0.7840432524681091}, {'label': 'neu', 'score': 0.8657284379005432}, {'label': 'neu', 'score': 0.7400705814361572}, {'label': 'neu', 'score': 0.8753408193588257}, {'label': 'neu', 'score': 0.8029240369796753}, {'label': 'neu', 'score': 0.7631824612617493}, {'label': 'neg', 'score': 0.8143988251686096}, {'label': 'q', 'score': 0.658172607421875}, {'label': 'neu', 'score': 0.9510380625724792}, {'label': 'neg', 'score': 0.9875524044036865}, {'label': 'neu', 'score': 0.8746923208236694}, {'label': 'neg', 'score': 0.9622616171836853}, {'label': 'neu', 'score': 0.8246975541114807}, {'label': 'neu', 'score': 0.9171372652053833}, {'label': 'neu', 'score': 0.6958876252174377}, {'label': 'neg', 'score': 0.8814828991889954}, {'label': 'neu', 'score': 0.6080382466316223}, {'label': 'neg', 'score': 0.9583977460861206}, {'label': 'neu', 'score': 0.47230395674705505}, {'label': 'neg', 'score': 0.6387229561805725}, {'label': 'pos', 'score': 0.9494221210479736}, {'label': 'neg', 'score': 0.9440363645553589}, {'label': 'neg', 'score': 0.6978824734687805}, {'label': 'neg', 'score': 0.9647732973098755}, {'label': 'neu', 'score': 0.5573912858963013}, {'label': 'neu', 'score': 0.5361297726631165}, {'label': 'neg', 'score': 0.616389811038971}, {'label': 'pos', 'score': 0.6177998781204224}, {'label': 'neg', 'score': 0.9873083233833313}, {'label': 'neg', 'score': 0.8804565668106079}, {'label': 'neg', 'score': 0.48241519927978516}, {'label': 'neu', 'score': 0.5488660931587219}, {'label': 'neg', 'score': 0.8503902554512024}, {'label': 'neg', 'score': 0.9928876161575317}, {'label': 'pos', 'score': 0.6915057897567749}, {'label': 'neg', 'score': 0.9487568140029907}, {'label': 'neg', 'score': 0.9139183163642883}, {'label': 'neg', 'score': 0.9674624800682068}, {'label': 'neu', 'score': 0.8093026876449585}, {'label': 'neu', 'score': 0.7060264348983765}, {'label': 'neu', 'score': 0.8799244165420532}, {'label': 'neg', 'score': 0.8866931796073914}, {'label': 'neu', 'score': 0.8172515630722046}, {'label': 'neu', 'score': 0.7678636908531189}, {'label': 'neu', 'score': 0.5038658976554871}, {'label': 'neu', 'score': 0.7418855428695679}, {'label': 'neu', 'score': 0.934197723865509}, {'label': 'neg', 'score': 0.9853011965751648}, {'label': 'pos', 'score': 0.43173331022262573}, {'label': 'neg', 'score': 0.9685505032539368}, {'label': 'neu', 'score': 0.9728374481201172}, {'label': 'neu', 'score': 0.51219642162323}, {'label': 'neu', 'score': 0.9045564532279968}, {'label': 'neg', 'score': 0.99132239818573}, {'label': 'neu', 'score': 0.4645015597343445}, {'label': 'neu', 'score': 0.8913606405258179}, {'label': 'neg', 'score': 0.9562056660652161}, {'label': 'neg', 'score': 0.950101375579834}, {'label': 'neu', 'score': 0.8598142862319946}, {'label': 'pos', 'score': 0.5842797756195068}, {'label': 'neg', 'score': 0.9718922972679138}, {'label': 'pos', 'score': 0.6006885766983032}, {'label': 'neu', 'score': 0.4838644862174988}, {'label': 'neg', 'score': 0.9869929552078247}, {'label': 'neu', 'score': 0.7544275522232056}, {'label': 'neg', 'score': 0.9862241744995117}, {'label': 'neu', 'score': 0.8992218375205994}, {'label': 'neg', 'score': 0.9296196699142456}, {'label': 'neg', 'score': 0.9666386842727661}, {'label': 'neu', 'score': 0.6678956151008606}, {'label': 'neu', 'score': 0.4642147719860077}, {'label': 'neu', 'score': 0.94523024559021}, {'label': 'neg', 'score': 0.9917209148406982}, {'label': 'pos', 'score': 0.7589110136032104}, {'label': 'neu', 'score': 0.64517742395401}, {'label': 'neu', 'score': 0.9102088809013367}, {'label': 'neg', 'score': 0.9795458912849426}, {'label': 'neu', 'score': 0.8812848329544067}, {'label': 'neu', 'score': 0.808057963848114}, {'label': 'neu', 'score': 0.594611406326294}, {'label': 'neg', 'score': 0.7658993005752563}, {'label': 'neu', 'score': 0.45787283778190613}, {'label': 'neu', 'score': 0.8520705699920654}, {'label': 'pos', 'score': 0.7795180082321167}, {'label': 'neg', 'score': 0.9753602147102356}, {'label': 'pos', 'score': 0.8170397877693176}, {'label': 'neg', 'score': 0.8689108490943909}, {'label': 'neg', 'score': 0.9907587766647339}, {'label': 'neu', 'score': 0.7412064671516418}, {'label': 'neg', 'score': 0.9030901193618774}, {'label': 'neg', 'score': 0.9902898669242859}, {'label': 'neg', 'score': 0.9471986293792725}, {'label': 'neg', 'score': 0.962752103805542}, {'label': 'q', 'score': 0.6272850036621094}, {'label': 'neg', 'score': 0.946909487247467}, {'label': 'pos', 'score': 0.9263689517974854}, {'label': 'neu', 'score': 0.8496865034103394}, {'label': 'neg', 'score': 0.9329103231430054}, {'label': 'neu', 'score': 0.7202417254447937}, {'label': 'neg', 'score': 0.9863599538803101}, {'label': 'pos', 'score': 0.905552327632904}, {'label': 'neu', 'score': 0.5537704825401306}, {'label': 'pos', 'score': 0.5282588601112366}, {'label': 'neg', 'score': 0.9874679446220398}, {'label': 'neg', 'score': 0.9916403293609619}, {'label': 'neg', 'score': 0.992698073387146}, {'label': 'neg', 'score': 0.9705339074134827}, {'label': 'neg', 'score': 0.9886264204978943}, {'label': 'neg', 'score': 0.9943380951881409}, {'label': 'neg', 'score': 0.9923455119132996}, {'label': 'neg', 'score': 0.9869326949119568}, {'label': 'neg', 'score': 0.9946731925010681}, {'label': 'neg', 'score': 0.9942646026611328}, {'label': 'neu', 'score': 0.40087804198265076}, {'label': 'pos', 'score': 0.6018175482749939}, {'label': 'neg', 'score': 0.8246826529502869}, {'label': 'neg', 'score': 0.95377117395401}, {'label': 'neu', 'score': 0.6172556281089783}, {'label': 'neg', 'score': 0.9749347567558289}, {'label': 'pos', 'score': 0.9096857905387878}, {'label': 'pos', 'score': 0.7139490246772766}, {'label': 'neu', 'score': 0.5512664914131165}, {'label': 'neg', 'score': 0.9783443808555603}, {'label': 'neu', 'score': 0.7330756187438965}, {'label': 'pos', 'score': 0.9485825300216675}, {'label': 'neu', 'score': 0.4959774613380432}, {'label': 'neg', 'score': 0.9729008674621582}, {'label': 'pos', 'score': 0.8612682819366455}, {'label': 'pos', 'score': 0.5161455869674683}, {'label': 'neg', 'score': 0.9924430847167969}, {'label': 'pos', 'score': 0.8970418572425842}, {'label': 'q', 'score': 0.41076213121414185}, {'label': 'pos', 'score': 0.7978038787841797}, {'label': 'pos', 'score': 0.583962082862854}, {'label': 'pos', 'score': 0.6636890172958374}, {'label': 'pos', 'score': 0.9199364185333252}, {'label': 'pos', 'score': 0.9133966565132141}, {'label': 'pos', 'score': 0.860430121421814}, {'label': 'pos', 'score': 0.9419017434120178}, {'label': 'pos', 'score': 0.7604739665985107}, {'label': 'pos', 'score': 0.8103956580162048}, {'label': 'neg', 'score': 0.9514003396034241}, {'label': 'neu', 'score': 0.4999483823776245}, {'label': 'pos', 'score': 0.8659157752990723}, {'label': 'pos', 'score': 0.840907096862793}, {'label': 'pos', 'score': 0.7654832005500793}, {'label': 'pos', 'score': 0.596920907497406}, {'label': 'pos', 'score': 0.6329748630523682}, {'label': 'pos', 'score': 0.6013516783714294}, {'label': 'pos', 'score': 0.8304077386856079}, {'label': 'pos', 'score': 0.9390950202941895}, {'label': 'pos', 'score': 0.4310137927532196}, {'label': 'pos', 'score': 0.9557971954345703}, {'label': 'pos', 'score': 0.9603027105331421}, {'label': 'neu', 'score': 0.6537600159645081}, {'label': 'pos', 'score': 0.9355723261833191}, {'label': 'pos', 'score': 0.9326966404914856}, {'label': 'neg', 'score': 0.9667118191719055}, {'label': 'neg', 'score': 0.9049362540245056}, {'label': 'neg', 'score': 0.9906618595123291}, {'label': 'pos', 'score': 0.9036383628845215}, {'label': 'pos', 'score': 0.8981471061706543}, {'label': 'neu', 'score': 0.5284131169319153}, {'label': 'pos', 'score': 0.9191789031028748}, {'label': 'neg', 'score': 0.5347773432731628}, {'label': 'pos', 'score': 0.7624462246894836}, {'label': 'neu', 'score': 0.9445018172264099}, {'label': 'pos', 'score': 0.8209311366081238}, {'label': 'neu', 'score': 0.8526178598403931}, {'label': 'pos', 'score': 0.966952919960022}, {'label': 'pos', 'score': 0.818279504776001}, {'label': 'pos', 'score': 0.9497576951980591}, {'label': 'pos', 'score': 0.8957130908966064}, {'label': 'neu', 'score': 0.6841199398040771}, {'label': 'neg', 'score': 0.5185936689376831}, {'label': 'pos', 'score': 0.5661314129829407}, {'label': 'pos', 'score': 0.6535857319831848}, {'label': 'pos', 'score': 0.9354597330093384}, {'label': 'pos', 'score': 0.694699764251709}, {'label': 'pos', 'score': 0.679082989692688}, {'label': 'pos', 'score': 0.5795053243637085}, {'label': 'neu', 'score': 0.6584404110908508}, {'label': 'pos', 'score': 0.8502324819564819}, {'label': 'neg', 'score': 0.9899799227714539}, {'label': 'neg', 'score': 0.7087501287460327}, {'label': 'pos', 'score': 0.6990820169448853}, {'label': 'pos', 'score': 0.9097804427146912}, {'label': 'pos', 'score': 0.8769650459289551}, {'label': 'pos', 'score': 0.603611946105957}, {'label': 'pos', 'score': 0.7229487299919128}, {'label': 'neu', 'score': 0.7282218337059021}, {'label': 'pos', 'score': 0.8703758716583252}, {'label': 'neg', 'score': 0.947364330291748}, {'label': 'pos', 'score': 0.838026225566864}, {'label': 'pos', 'score': 0.5512349009513855}, {'label': 'pos', 'score': 0.8313657641410828}, {'label': 'neg', 'score': 0.9566550850868225}, {'label': 'pos', 'score': 0.7318181991577148}, {'label': 'pos', 'score': 0.921528160572052}, {'label': 'pos', 'score': 0.9189627170562744}, {'label': 'pos', 'score': 0.9565882086753845}, {'label': 'pos', 'score': 0.8814132213592529}, {'label': 'neu', 'score': 0.5366740822792053}, {'label': 'neu', 'score': 0.9132376313209534}, {'label': 'neg', 'score': 0.7753015160560608}, {'label': 'pos', 'score': 0.8246877789497375}, {'label': 'pos', 'score': 0.7942704558372498}, {'label': 'neg', 'score': 0.7394571304321289}, {'label': 'neg', 'score': 0.9016425609588623}, {'label': 'pos', 'score': 0.8599440455436707}, {'label': 'pos', 'score': 0.7731715440750122}, {'label': 'pos', 'score': 0.7073171138763428}, {'label': 'pos', 'score': 0.7030453085899353}, {'label': 'pos', 'score': 0.9002051949501038}, {'label': 'neu', 'score': 0.9324572682380676}, {'label': 'neu', 'score': 0.5439177751541138}, {'label': 'neg', 'score': 0.9616559743881226}, {'label': 'neg', 'score': 0.9727430939674377}, {'label': 'pos', 'score': 0.9550608992576599}, {'label': 'neu', 'score': 0.8978017568588257}, {'label': 'pos', 'score': 0.8186313509941101}, {'label': 'neu', 'score': 0.4820729196071625}, {'label': 'neu', 'score': 0.9806444644927979}, {'label': 'neg', 'score': 0.9130299687385559}, {'label': 'neg', 'score': 0.9861382842063904}, {'label': 'neu', 'score': 0.7091716527938843}, {'label': 'pos', 'score': 0.7809136509895325}, {'label': 'pos', 'score': 0.9665920734405518}, {'label': 'neg', 'score': 0.969575822353363}, {'label': 'neg', 'score': 0.9844089150428772}, {'label': 'pos', 'score': 0.9554151892662048}, {'label': 'pos', 'score': 0.9125590920448303}, {'label': 'neu', 'score': 0.5868455171585083}, {'label': 'pos', 'score': 0.9449054002761841}, {'label': 'pos', 'score': 0.9719910621643066}, {'label': 'pos', 'score': 0.767173707485199}, {'label': 'pos', 'score': 0.930810272693634}, {'label': 'neu', 'score': 0.5627260208129883}, {'label': 'pos', 'score': 0.8666500449180603}, {'label': 'pos', 'score': 0.8004786968231201}, {'label': 'neg', 'score': 0.9807928204536438}, {'label': 'neu', 'score': 0.7756632566452026}, {'label': 'pos', 'score': 0.9494104385375977}, {'label': 'pos', 'score': 0.6441996693611145}, {'label': 'neg', 'score': 0.9783764481544495}, {'label': 'neu', 'score': 0.7508842349052429}, {'label': 'pos', 'score': 0.8953247666358948}, {'label': 'neg', 'score': 0.9935881495475769}, {'label': 'neg', 'score': 0.961616575717926}, {'label': 'neu', 'score': 0.730243444442749}, {'label': 'neg', 'score': 0.9124990701675415}, {'label': 'pos', 'score': 0.9490517377853394}, {'label': 'neu', 'score': 0.6659091711044312}, {'label': 'neu', 'score': 0.510525107383728}, {'label': 'q', 'score': 0.6139045357704163}, {'label': 'pos', 'score': 0.8688154220581055}, {'label': 'pos', 'score': 0.9027169346809387}, {'label': 'pos', 'score': 0.9052613377571106}, {'label': 'neg', 'score': 0.9651235938072205}, {'label': 'neu', 'score': 0.5317047834396362}, {'label': 'neg', 'score': 0.991215169429779}, {'label': 'neu', 'score': 0.6841011047363281}, {'label': 'pos', 'score': 0.8774797320365906}, {'label': 'pos', 'score': 0.9689757227897644}, {'label': 'neu', 'score': 0.9288349151611328}, {'label': 'neu', 'score': 0.9206101298332214}, {'label': 'pos', 'score': 0.9569616317749023}, {'label': 'neu', 'score': 0.8617628812789917}, {'label': 'pos', 'score': 0.8505805134773254}, {'label': 'neg', 'score': 0.9705689549446106}, {'label': 'neg', 'score': 0.9816783666610718}, {'label': 'pos', 'score': 0.5112792253494263}, {'label': 'neg', 'score': 0.9886215329170227}, {'label': 'neu', 'score': 0.9628353714942932}, {'label': 'pos', 'score': 0.5734869837760925}, {'label': 'pos', 'score': 0.9422994256019592}, {'label': 'neu', 'score': 0.9253389835357666}, {'label': 'pos', 'score': 0.953265368938446}, {'label': 'neu', 'score': 0.6660546064376831}, {'label': 'pos', 'score': 0.9004871249198914}, {'label': 'pos', 'score': 0.7726816534996033}, {'label': 'pos', 'score': 0.8850412964820862}, {'label': 'pos', 'score': 0.9522610306739807}, {'label': 'neu', 'score': 0.7034122943878174}, {'label': 'neg', 'score': 0.9887205958366394}, {'label': 'neg', 'score': 0.9787271618843079}, {'label': 'neg', 'score': 0.946601390838623}, {'label': 'neg', 'score': 0.8591738939285278}, {'label': 'neg', 'score': 0.8815155029296875}, {'label': 'pos', 'score': 0.8682219386100769}, {'label': 'pos', 'score': 0.9459023475646973}, {'label': 'pos', 'score': 0.811029314994812}, {'label': 'neg', 'score': 0.4662761688232422}, {'label': 'pos', 'score': 0.6204906105995178}, {'label': 'neg', 'score': 0.9928394556045532}, {'label': 'neu', 'score': 0.5633378624916077}, {'label': 'neg', 'score': 0.8641608357429504}, {'label': 'neg', 'score': 0.988115131855011}, {'label': 'neg', 'score': 0.97579425573349}, {'label': 'pos', 'score': 0.875577986240387}, {'label': 'pos', 'score': 0.5113109350204468}, {'label': 'neg', 'score': 0.963976263999939}, {'label': 'neu', 'score': 0.8274444937705994}, {'label': 'neu', 'score': 0.9431015849113464}, {'label': 'neu', 'score': 0.8937337398529053}, {'label': 'neg', 'score': 0.49568212032318115}, {'label': 'neg', 'score': 0.8551717400550842}, {'label': 'neg', 'score': 0.9924275875091553}, {'label': 'neg', 'score': 0.9902678728103638}, {'label': 'pos', 'score': 0.9610618352890015}, {'label': 'pos', 'score': 0.6340960264205933}, {'label': 'neu', 'score': 0.9007012248039246}, {'label': 'pos', 'score': 0.7319514155387878}, {'label': 'pos', 'score': 0.9327802062034607}, {'label': 'neu', 'score': 0.9136732816696167}, {'label': 'pos', 'score': 0.5400217771530151}, {'label': 'pos', 'score': 0.8209236860275269}, {'label': 'neu', 'score': 0.7858158349990845}, {'label': 'pos', 'score': 0.4491969347000122}, {'label': 'neu', 'score': 0.765953540802002}, {'label': 'neg', 'score': 0.9846212267875671}, {'label': 'neg', 'score': 0.991249144077301}, {'label': 'neg', 'score': 0.9628063440322876}, {'label': 'neg', 'score': 0.9796401262283325}, {'label': 'neu', 'score': 0.5015478134155273}, {'label': 'neu', 'score': 0.8876214027404785}, {'label': 'neu', 'score': 0.9671924710273743}, {'label': 'neu', 'score': 0.44528570771217346}, {'label': 'pos', 'score': 0.6161036491394043}, {'label': 'neg', 'score': 0.9768251180648804}, {'label': 'neg', 'score': 0.680323600769043}, {'label': 'neg', 'score': 0.9884604811668396}, {'label': 'neu', 'score': 0.959833025932312}, {'label': 'neu', 'score': 0.9593374133110046}, {'label': 'neu', 'score': 0.5029109120368958}, {'label': 'neu', 'score': 0.7850985527038574}, {'label': 'pos', 'score': 0.7220956087112427}, {'label': 'neg', 'score': 0.9837762713432312}, {'label': 'neu', 'score': 0.9758158922195435}, {'label': 'neu', 'score': 0.969152569770813}, {'label': 'pos', 'score': 0.8054019808769226}, {'label': 'neg', 'score': 0.9575278162956238}, {'label': 'neg', 'score': 0.7816991806030273}, {'label': 'neu', 'score': 0.7830620408058167}, {'label': 'neu', 'score': 0.9559627771377563}, {'label': 'pos', 'score': 0.939020574092865}, {'label': 'q', 'score': 0.616422712802887}, {'label': 'neu', 'score': 0.8929030895233154}, {'label': 'neg', 'score': 0.9906113743782043}, {'label': 'neg', 'score': 0.5373636484146118}, {'label': 'neg', 'score': 0.9839058518409729}, {'label': 'neg', 'score': 0.990436315536499}, {'label': 'neg', 'score': 0.9940532445907593}, {'label': 'q', 'score': 0.6325755715370178}, {'label': 'neu', 'score': 0.5794001221656799}, {'label': 'neg', 'score': 0.9833747148513794}, {'label': 'neu', 'score': 0.6008970737457275}, {'label': 'neu', 'score': 0.8472560048103333}, {'label': 'neg', 'score': 0.9556282758712769}, {'label': 'neg', 'score': 0.8723869919776917}, {'label': 'neg', 'score': 0.9663417339324951}, {'label': 'neu', 'score': 0.9433577060699463}, {'label': 'neu', 'score': 0.860104501247406}, {'label': 'neg', 'score': 0.9783474802970886}, {'label': 'pos', 'score': 0.957601010799408}, {'label': 'pos', 'score': 0.8958482146263123}, {'label': 'neu', 'score': 0.9240773320198059}, {'label': 'pos', 'score': 0.8628790974617004}, {'label': 'neu', 'score': 0.9225033521652222}, {'label': 'pos', 'score': 0.8270516395568848}, {'label': 'neu', 'score': 0.4961875081062317}, {'label': 'pos', 'score': 0.9539604187011719}, {'label': 'pos', 'score': 0.7177314758300781}, {'label': 'neg', 'score': 0.9957505464553833}, {'label': 'neu', 'score': 0.7793605327606201}, {'label': 'pos', 'score': 0.9615687131881714}, {'label': 'pos', 'score': 0.9454048275947571}, {'label': 'neu', 'score': 0.5621772408485413}, {'label': 'pos', 'score': 0.8710091710090637}, {'label': 'neg', 'score': 0.9673637747764587}, {'label': 'neu', 'score': 0.6867985725402832}, {'label': 'neu', 'score': 0.9450145959854126}, {'label': 'neu', 'score': 0.927841067314148}, {'label': 'pos', 'score': 0.9084293246269226}, {'label': 'neg', 'score': 0.9927233457565308}, {'label': 'neg', 'score': 0.9881799817085266}, {'label': 'neu', 'score': 0.9474115967750549}, {'label': 'neg', 'score': 0.9912245273590088}, {'label': 'neu', 'score': 0.7826516032218933}, {'label': 'pos', 'score': 0.8007645606994629}, {'label': 'neu', 'score': 0.9234176874160767}, {'label': 'neu', 'score': 0.7516807913780212}, {'label': 'neu', 'score': 0.9139891862869263}, {'label': 'neu', 'score': 0.6976341009140015}, {'label': 'neg', 'score': 0.8774594664573669}, {'label': 'neg', 'score': 0.9884785413742065}, {'label': 'neg', 'score': 0.9051864743232727}, {'label': 'neg', 'score': 0.9791887998580933}, {'label': 'pos', 'score': 0.8963419198989868}, {'label': 'neu', 'score': 0.7871741056442261}, {'label': 'neu', 'score': 0.9276032447814941}, {'label': 'neu', 'score': 0.5871414542198181}, {'label': 'neg', 'score': 0.8303700089454651}, {'label': 'neu', 'score': 0.6518973708152771}, {'label': 'neu', 'score': 0.6969095468521118}, {'label': 'neu', 'score': 0.8497715592384338}, {'label': 'neu', 'score': 0.9796932339668274}, {'label': 'neg', 'score': 0.8249545097351074}, {'label': 'pos', 'score': 0.9597206711769104}, {'label': 'pos', 'score': 0.5701822638511658}, {'label': 'pos', 'score': 0.8963773846626282}, {'label': 'neu', 'score': 0.9038610458374023}, {'label': 'neu', 'score': 0.7667331099510193}, {'label': 'neg', 'score': 0.9798359870910645}, {'label': 'neg', 'score': 0.9641616344451904}, {'label': 'neg', 'score': 0.9822828769683838}, {'label': 'neg', 'score': 0.5951827764511108}, {'label': 'neu', 'score': 0.990588366985321}, {'label': 'neu', 'score': 0.9473199248313904}, {'label': 'neu', 'score': 0.5735295414924622}, {'label': 'pos', 'score': 0.611807644367218}, {'label': 'q', 'score': 0.866599977016449}, {'label': 'neg', 'score': 0.9937974214553833}, {'label': 'neu', 'score': 0.9349533319473267}, {'label': 'pos', 'score': 0.9487167596817017}, {'label': 'neu', 'score': 0.9875659346580505}, {'label': 'pos', 'score': 0.6824407577514648}, {'label': 'pos', 'score': 0.6083899736404419}, {'label': 'neg', 'score': 0.8049888014793396}, {'label': 'neg', 'score': 0.9546802043914795}, {'label': 'neg', 'score': 0.7491872310638428}, {'label': 'pos', 'score': 0.9074098467826843}, {'label': 'neu', 'score': 0.6324930191040039}, {'label': 'neu', 'score': 0.9336110353469849}, {'label': 'pos', 'score': 0.8796825408935547}, {'label': 'neg', 'score': 0.515798032283783}, {'label': 'neg', 'score': 0.6158555746078491}, {'label': 'neg', 'score': 0.9112362861633301}, {'label': 'neu', 'score': 0.9103186726570129}, {'label': 'neu', 'score': 0.9067941904067993}, {'label': 'neg', 'score': 0.7576879858970642}, {'label': 'neu', 'score': 0.9465513229370117}, {'label': 'neg', 'score': 0.9937768578529358}, {'label': 'pos', 'score': 0.5228053331375122}, {'label': 'pos', 'score': 0.6993903517723083}, {'label': 'neu', 'score': 0.9792233109474182}, {'label': 'neu', 'score': 0.9016234874725342}, {'label': 'pos', 'score': 0.4836803674697876}, {'label': 'neu', 'score': 0.9386347532272339}, {'label': 'neu', 'score': 0.9646124243736267}, {'label': 'pos', 'score': 0.6995623111724854}, {'label': 'neu', 'score': 0.9178381562232971}, {'label': 'pos', 'score': 0.8901869654655457}, {'label': 'neu', 'score': 0.8805044889450073}, {'label': 'neu', 'score': 0.7998005747795105}, {'label': 'pos', 'score': 0.4957365393638611}, {'label': 'q', 'score': 0.7423052787780762}, {'label': 'neu', 'score': 0.9704881906509399}, {'label': 'neg', 'score': 0.9653544425964355}, {'label': 'neu', 'score': 0.9681491255760193}, {'label': 'neg', 'score': 0.6346093416213989}, {'label': 'neg', 'score': 0.9907434582710266}, {'label': 'neu', 'score': 0.7892699837684631}, {'label': 'neu', 'score': 0.9189202189445496}, {'label': 'neu', 'score': 0.8275920748710632}, {'label': 'q', 'score': 0.8780694007873535}, {'label': 'neu', 'score': 0.6141465306282043}, {'label': 'neu', 'score': 0.7474704384803772}, {'label': 'neg', 'score': 0.8498268723487854}, {'label': 'pos', 'score': 0.8432513475418091}, {'label': 'pos', 'score': 0.7586029767990112}, {'label': 'neu', 'score': 0.952750027179718}, {'label': 'neu', 'score': 0.9788159132003784}, {'label': 'neg', 'score': 0.448404997587204}, {'label': 'neg', 'score': 0.534319281578064}, {'label': 'neg', 'score': 0.9766830205917358}, {'label': 'neg', 'score': 0.9847652912139893}, {'label': 'neg', 'score': 0.9929749965667725}, {'label': 'neg', 'score': 0.9431174397468567}, {'label': 'pos', 'score': 0.8409556150436401}, {'label': 'neg', 'score': 0.8631569147109985}, {'label': 'neg', 'score': 0.9760423302650452}, {'label': 'neg', 'score': 0.9907664060592651}, {'label': 'neg', 'score': 0.9450379014015198}, {'label': 'neg', 'score': 0.981378436088562}, {'label': 'neg', 'score': 0.9955565929412842}, {'label': 'neg', 'score': 0.9889734387397766}, {'label': 'neg', 'score': 0.9889592528343201}, {'label': 'neg', 'score': 0.9905743598937988}, {'label': 'neg', 'score': 0.9895424246788025}, {'label': 'neg', 'score': 0.9918690323829651}, {'label': 'neg', 'score': 0.9775141477584839}, {'label': 'neg', 'score': 0.9871813654899597}, {'label': 'neg', 'score': 0.9798075556755066}, {'label': 'neu', 'score': 0.9072859287261963}, {'label': 'neu', 'score': 0.8688657283782959}, {'label': 'neg', 'score': 0.9911374449729919}, {'label': 'neg', 'score': 0.7925621867179871}, {'label': 'neg', 'score': 0.9894049167633057}, {'label': 'neg', 'score': 0.9545664191246033}, {'label': 'neg', 'score': 0.5973944067955017}, {'label': 'neu', 'score': 0.9140561819076538}, {'label': 'pos', 'score': 0.807385265827179}, {'label': 'neg', 'score': 0.992218017578125}, {'label': 'neg', 'score': 0.9898093938827515}, {'label': 'neg', 'score': 0.9732307195663452}, {'label': 'neg', 'score': 0.9101749062538147}, {'label': 'pos', 'score': 0.49211233854293823}, {'label': 'neu', 'score': 0.9187241792678833}, {'label': 'neu', 'score': 0.9547212719917297}, {'label': 'neg', 'score': 0.9940200448036194}, {'label': 'neu', 'score': 0.5531272292137146}, {'label': 'neu', 'score': 0.7687112092971802}, {'label': 'neg', 'score': 0.8647332191467285}, {'label': 'neu', 'score': 0.9504821300506592}, {'label': 'neg', 'score': 0.5383781790733337}, {'label': 'neu', 'score': 0.7884079217910767}, {'label': 'neg', 'score': 0.6078127026557922}, {'label': 'neg', 'score': 0.9874428510665894}, {'label': 'neg', 'score': 0.9201475381851196}, {'label': 'neu', 'score': 0.7889933586120605}, {'label': 'neu', 'score': 0.5778120756149292}, {'label': 'neg', 'score': 0.9118773937225342}, {'label': 'neu', 'score': 0.8503239154815674}, {'label': 'neg', 'score': 0.9781734943389893}, {'label': 'neu', 'score': 0.735254168510437}, {'label': 'neg', 'score': 0.7483940124511719}, {'label': 'neg', 'score': 0.6493312120437622}, {'label': 'neu', 'score': 0.7185569405555725}, {'label': 'neu', 'score': 0.5149256587028503}, {'label': 'neu', 'score': 0.5559935569763184}, {'label': 'neu', 'score': 0.9557393193244934}, {'label': 'neu', 'score': 0.9220796227455139}, {'label': 'neu', 'score': 0.5422949194908142}, {'label': 'neu', 'score': 0.731336236000061}, {'label': 'neu', 'score': 0.5752123594284058}, {'label': 'pos', 'score': 0.7925121188163757}, {'label': 'neu', 'score': 0.8942469954490662}, {'label': 'neu', 'score': 0.6368751525878906}, {'label': 'neg', 'score': 0.58029705286026}, {'label': 'pos', 'score': 0.5585911870002747}, {'label': 'neg', 'score': 0.9844306707382202}, {'label': 'pos', 'score': 0.7598005533218384}, {'label': 'pos', 'score': 0.7135129570960999}, {'label': 'neg', 'score': 0.8066900968551636}, {'label': 'neu', 'score': 0.8852251172065735}, {'label': 'neg', 'score': 0.9877234697341919}, {'label': 'neg', 'score': 0.8656275272369385}, {'label': 'neg', 'score': 0.9951075315475464}, {'label': 'neu', 'score': 0.8813203573226929}, {'label': 'neg', 'score': 0.8924643397331238}, {'label': 'neu', 'score': 0.8100695013999939}, {'label': 'neu', 'score': 0.4712284505367279}, {'label': 'neu', 'score': 0.558722972869873}, {'label': 'neu', 'score': 0.5437085628509521}, {'label': 'neu', 'score': 0.4669785499572754}, {'label': 'neg', 'score': 0.8142086267471313}, {'label': 'neu', 'score': 0.6027103662490845}, {'label': 'neu', 'score': 0.6279678344726562}, {'label': 'neu', 'score': 0.9349210262298584}, {'label': 'neu', 'score': 0.8756321668624878}, {'label': 'neg', 'score': 0.9908831119537354}, {'label': 'neg', 'score': 0.8486095070838928}, {'label': 'q', 'score': 0.8788585066795349}, {'label': 'neu', 'score': 0.8816534280776978}, {'label': 'pos', 'score': 0.6612726449966431}, {'label': 'neg', 'score': 0.7257351279258728}, {'label': 'neu', 'score': 0.8895140290260315}, {'label': 'neu', 'score': 0.8009216785430908}, {'label': 'neg', 'score': 0.5777243971824646}, {'label': 'neu', 'score': 0.8231983780860901}, {'label': 'pos', 'score': 0.9032507538795471}, {'label': 'neu', 'score': 0.9170932173728943}, {'label': 'neg', 'score': 0.7478557229042053}, {'label': 'neu', 'score': 0.6269803643226624}, {'label': 'neg', 'score': 0.9512995481491089}, {'label': 'pos', 'score': 0.9130364060401917}, {'label': 'neu', 'score': 0.6772812008857727}, {'label': 'neg', 'score': 0.965238094329834}, {'label': 'neu', 'score': 0.8290061950683594}, {'label': 'pos', 'score': 0.6786401867866516}, {'label': 'pos', 'score': 0.957019567489624}, {'label': 'neg', 'score': 0.9931123852729797}, {'label': 'pos', 'score': 0.6160705089569092}, {'label': 'neu', 'score': 0.6586810946464539}, {'label': 'neu', 'score': 0.9337803721427917}, {'label': 'neg', 'score': 0.8775627017021179}, {'label': 'pos', 'score': 0.7873282432556152}, {'label': 'pos', 'score': 0.9266804456710815}, {'label': 'pos', 'score': 0.8772522807121277}, {'label': 'neu', 'score': 0.8310303092002869}, {'label': 'pos', 'score': 0.6751836538314819}, {'label': 'pos', 'score': 0.6141482591629028}, {'label': 'neu', 'score': 0.7749471664428711}, {'label': 'neg', 'score': 0.6591376662254333}, {'label': 'pos', 'score': 0.8755768537521362}, {'label': 'pos', 'score': 0.4909779131412506}, {'label': 'neu', 'score': 0.8996811509132385}, {'label': 'neg', 'score': 0.7731468081474304}, {'label': 'neg', 'score': 0.8687401413917542}, {'label': 'pos', 'score': 0.9613924622535706}, {'label': 'pos', 'score': 0.48896440863609314}, {'label': 'neg', 'score': 0.9848129153251648}, {'label': 'pos', 'score': 0.8645877838134766}, {'label': 'pos', 'score': 0.45587292313575745}, {'label': 'pos', 'score': 0.94847172498703}, {'label': 'pos', 'score': 0.9263165593147278}, {'label': 'pos', 'score': 0.9409124255180359}, {'label': 'neu', 'score': 0.586137592792511}, {'label': 'neg', 'score': 0.7900246381759644}, {'label': 'pos', 'score': 0.9743589162826538}, {'label': 'pos', 'score': 0.9555703997612}, {'label': 'pos', 'score': 0.8322867155075073}, {'label': 'neg', 'score': 0.9863966703414917}, {'label': 'pos', 'score': 0.5223056674003601}, {'label': 'neu', 'score': 0.8478189706802368}, {'label': 'neu', 'score': 0.8460792899131775}, {'label': 'neg', 'score': 0.9216718673706055}, {'label': 'neg', 'score': 0.9331668019294739}, {'label': 'neg', 'score': 0.9784529209136963}, {'label': 'neg', 'score': 0.9905226230621338}, {'label': 'neg', 'score': 0.9546733498573303}, {'label': 'neg', 'score': 0.9849265217781067}, {'label': 'neg', 'score': 0.9210384488105774}, {'label': 'neg', 'score': 0.9832268357276917}, {'label': 'neu', 'score': 0.9630805253982544}, {'label': 'neu', 'score': 0.9522313475608826}, {'label': 'neu', 'score': 0.5827836394309998}, {'label': 'neg', 'score': 0.9958789944648743}, {'label': 'neu', 'score': 0.9453065991401672}, {'label': 'neu', 'score': 0.6682954430580139}, {'label': 'q', 'score': 0.7316308617591858}, {'label': 'neg', 'score': 0.9828823804855347}, {'label': 'neg', 'score': 0.994509756565094}, {'label': 'neu', 'score': 0.714972198009491}, {'label': 'neg', 'score': 0.995444655418396}, {'label': 'neu', 'score': 0.7157732248306274}, {'label': 'neg', 'score': 0.8187094330787659}, {'label': 'neg', 'score': 0.9429627656936646}, {'label': 'neu', 'score': 0.49607518315315247}, {'label': 'neu', 'score': 0.729237973690033}, {'label': 'neg', 'score': 0.9803480505943298}, {'label': 'neu', 'score': 0.5222603678703308}, {'label': 'pos', 'score': 0.9266656041145325}, {'label': 'pos', 'score': 0.9451199173927307}, {'label': 'neu', 'score': 0.45311877131462097}, {'label': 'neg', 'score': 0.8139082789421082}, {'label': 'neu', 'score': 0.9099913835525513}, {'label': 'neu', 'score': 0.799514651298523}, {'label': 'neu', 'score': 0.8872045874595642}, {'label': 'neg', 'score': 0.9755599498748779}, {'label': 'neg', 'score': 0.9926528334617615}, {'label': 'neg', 'score': 0.9734610915184021}, {'label': 'neu', 'score': 0.7530975937843323}, {'label': 'neg', 'score': 0.6377449035644531}, {'label': 'neu', 'score': 0.7968711256980896}, {'label': 'neg', 'score': 0.8432002663612366}, {'label': 'neu', 'score': 0.9404447674751282}, {'label': 'neg', 'score': 0.9736895561218262}, {'label': 'neg', 'score': 0.9949710965156555}, {'label': 'pos', 'score': 0.4485894739627838}, {'label': 'neg', 'score': 0.9680505394935608}, {'label': 'neu', 'score': 0.9581596851348877}, {'label': 'pos', 'score': 0.9028633832931519}, {'label': 'neg', 'score': 0.9173927903175354}, {'label': 'neu', 'score': 0.7366573810577393}, {'label': 'pos', 'score': 0.862514078617096}, {'label': 'neu', 'score': 0.95526522397995}, {'label': 'neg', 'score': 0.8290469646453857}, {'label': 'pos', 'score': 0.8867989182472229}, {'label': 'neg', 'score': 0.9849050641059875}, {'label': 'neu', 'score': 0.9500136971473694}, {'label': 'pos', 'score': 0.9691824913024902}, {'label': 'neu', 'score': 0.6174054741859436}, {'label': 'neu', 'score': 0.5646415948867798}, {'label': 'neu', 'score': 0.9396885633468628}, {'label': 'neg', 'score': 0.9818640351295471}, {'label': 'neu', 'score': 0.949126124382019}, {'label': 'neg', 'score': 0.9834549427032471}, {'label': 'neu', 'score': 0.6486121416091919}, {'label': 'neu', 'score': 0.49908846616744995}, {'label': 'neg', 'score': 0.9894245266914368}, {'label': 'neu', 'score': 0.6425437927246094}, {'label': 'neg', 'score': 0.9602941870689392}, {'label': 'neu', 'score': 0.4848625063896179}, {'label': 'pos', 'score': 0.48230698704719543}, {'label': 'neg', 'score': 0.9945357441902161}, {'label': 'neu', 'score': 0.9505927562713623}, {'label': 'neu', 'score': 0.6454138159751892}, {'label': 'q', 'score': 0.453105092048645}, {'label': 'neg', 'score': 0.7166001200675964}, {'label': 'neu', 'score': 0.8643218278884888}, {'label': 'neg', 'score': 0.9925626516342163}, {'label': 'neg', 'score': 0.4072960615158081}, {'label': 'neg', 'score': 0.9002488851547241}, {'label': 'pos', 'score': 0.596024215221405}, {'label': 'neg', 'score': 0.8934395909309387}, {'label': 'q', 'score': 0.5124017000198364}, {'label': 'neu', 'score': 0.9556738138198853}, {'label': 'neu', 'score': 0.6514647603034973}, {'label': 'pos', 'score': 0.9243882894515991}, {'label': 'neu', 'score': 0.6805896759033203}, {'label': 'neg', 'score': 0.9895075559616089}, {'label': 'neg', 'score': 0.9863978624343872}, {'label': 'neu', 'score': 0.7272884249687195}, {'label': 'neu', 'score': 0.49175524711608887}, {'label': 'neu', 'score': 0.6357215046882629}, {'label': 'neu', 'score': 0.7536773085594177}, {'label': 'neg', 'score': 0.9386035799980164}, {'label': 'pos', 'score': 0.6136534214019775}, {'label': 'neg', 'score': 0.8834893107414246}, {'label': 'neu', 'score': 0.54248046875}, {'label': 'neg', 'score': 0.9843694567680359}, {'label': 'neg', 'score': 0.9910299181938171}, {'label': 'neu', 'score': 0.796234667301178}, {'label': 'neg', 'score': 0.9948413372039795}, {'label': 'neu', 'score': 0.881100594997406}, {'label': 'neu', 'score': 0.9672168493270874}, {'label': 'neu', 'score': 0.6258267164230347}, {'label': 'neu', 'score': 0.8602559566497803}, {'label': 'neu', 'score': 0.846420407295227}, {'label': 'neu', 'score': 0.5298302173614502}, {'label': 'neg', 'score': 0.9828788042068481}, {'label': 'neu', 'score': 0.96012282371521}, {'label': 'neu', 'score': 0.6065462827682495}, {'label': 'neu', 'score': 0.8994620442390442}, {'label': 'neg', 'score': 0.7459881901741028}, {'label': 'neu', 'score': 0.8452126979827881}, {'label': 'neg', 'score': 0.9878178834915161}, {'label': 'q', 'score': 0.556553304195404}, {'label': 'neg', 'score': 0.991473913192749}, {'label': 'neg', 'score': 0.9913531541824341}, {'label': 'pos', 'score': 0.6342118978500366}, {'label': 'neu', 'score': 0.9566731452941895}, {'label': 'neg', 'score': 0.7698442935943604}, {'label': 'neu', 'score': 0.5842133164405823}, {'label': 'neg', 'score': 0.9734509587287903}, {'label': 'pos', 'score': 0.9411351084709167}, {'label': 'neu', 'score': 0.7936822772026062}, {'label': 'neg', 'score': 0.9127472639083862}, {'label': 'neu', 'score': 0.8448614478111267}, {'label': 'neu', 'score': 0.643750786781311}, {'label': 'neg', 'score': 0.7785440683364868}, {'label': 'neu', 'score': 0.8534920811653137}, {'label': 'neu', 'score': 0.9219422936439514}, {'label': 'neg', 'score': 0.9376914501190186}, {'label': 'neu', 'score': 0.8173795342445374}, {'label': 'neg', 'score': 0.6721578240394592}, {'label': 'neg', 'score': 0.9641057252883911}, {'label': 'neg', 'score': 0.9641674757003784}, {'label': 'neu', 'score': 0.9562801718711853}, {'label': 'neu', 'score': 0.9453173875808716}, {'label': 'neu', 'score': 0.9321089386940002}, {'label': 'neg', 'score': 0.4738473892211914}, {'label': 'neu', 'score': 0.8813080191612244}, {'label': 'neg', 'score': 0.9697139859199524}, {'label': 'neg', 'score': 0.9484858512878418}, {'label': 'neu', 'score': 0.8101509213447571}, {'label': 'neu', 'score': 0.9712525010108948}, {'label': 'neg', 'score': 0.8831719756126404}, {'label': 'neg', 'score': 0.9555500745773315}, {'label': 'q', 'score': 0.6296042203903198}, {'label': 'neg', 'score': 0.9609251618385315}, {'label': 'neg', 'score': 0.975695788860321}, {'label': 'neg', 'score': 0.9919355511665344}, {'label': 'neg', 'score': 0.987552285194397}, {'label': 'neg', 'score': 0.9811277985572815}, {'label': 'neg', 'score': 0.991065263748169}, {'label': 'neu', 'score': 0.9327430129051208}, {'label': 'neu', 'score': 0.9092934131622314}, {'label': 'neu', 'score': 0.8328864574432373}, {'label': 'neu', 'score': 0.6046098470687866}, {'label': 'neg', 'score': 0.9861705899238586}, {'label': 'neg', 'score': 0.967568576335907}, {'label': 'pos', 'score': 0.7768214344978333}, {'label': 'neu', 'score': 0.8268688321113586}, {'label': 'neu', 'score': 0.9687467813491821}, {'label': 'neu', 'score': 0.7810452580451965}, {'label': 'neg', 'score': 0.9772696495056152}, {'label': 'neg', 'score': 0.9859612584114075}, {'label': 'neg', 'score': 0.9889079332351685}, {'label': 'neg', 'score': 0.5312653183937073}, {'label': 'q', 'score': 0.6955083608627319}, {'label': 'neu', 'score': 0.8646426796913147}, {'label': 'neu', 'score': 0.7153345942497253}, {'label': 'neg', 'score': 0.8329420685768127}, {'label': 'neu', 'score': 0.896828830242157}, {'label': 'pos', 'score': 0.6117159128189087}, {'label': 'neu', 'score': 0.9242477416992188}, {'label': 'neu', 'score': 0.9086238741874695}, {'label': 'neu', 'score': 0.8857640027999878}, {'label': 'neu', 'score': 0.5076197385787964}, {'label': 'pos', 'score': 0.6464282274246216}, {'label': 'neu', 'score': 0.78888338804245}, {'label': 'neg', 'score': 0.4946344792842865}, {'label': 'neu', 'score': 0.9695637226104736}, {'label': 'neu', 'score': 0.9225345849990845}, {'label': 'neu', 'score': 0.9366691708564758}, {'label': 'neg', 'score': 0.9483445882797241}, {'label': 'pos', 'score': 0.606044352054596}, {'label': 'neu', 'score': 0.760900616645813}, {'label': 'q', 'score': 0.6955271363258362}, {'label': 'neu', 'score': 0.9270172715187073}, {'label': 'neu', 'score': 0.6367677450180054}, {'label': 'neu', 'score': 0.8512153625488281}, {'label': 'neu', 'score': 0.5402356386184692}, {'label': 'neu', 'score': 0.4670419991016388}, {'label': 'neg', 'score': 0.9400316476821899}, {'label': 'neu', 'score': 0.8576695322990417}, {'label': 'neg', 'score': 0.851036548614502}, {'label': 'q', 'score': 0.7959912419319153}, {'label': 'neg', 'score': 0.9889431595802307}, {'label': 'neu', 'score': 0.8883370757102966}, {'label': 'neu', 'score': 0.5564279556274414}, {'label': 'neg', 'score': 0.9922486543655396}, {'label': 'neg', 'score': 0.9836701154708862}, {'label': 'neu', 'score': 0.734164297580719}, {'label': 'neg', 'score': 0.704281210899353}, {'label': 'pos', 'score': 0.9237349033355713}, {'label': 'neg', 'score': 0.9634236693382263}, {'label': 'neu', 'score': 0.4470393657684326}, {'label': 'neu', 'score': 0.6773508787155151}, {'label': 'neg', 'score': 0.5176123380661011}, {'label': 'neg', 'score': 0.8818142414093018}, {'label': 'neg', 'score': 0.9569081664085388}, {'label': 'neg', 'score': 0.896224319934845}, {'label': 'neg', 'score': 0.9859741926193237}, {'label': 'neu', 'score': 0.9506936073303223}, {'label': 'neg', 'score': 0.9917489886283875}, {'label': 'neg', 'score': 0.8104756474494934}, {'label': 'neu', 'score': 0.48622027039527893}, {'label': 'neg', 'score': 0.935000479221344}, {'label': 'neg', 'score': 0.9838154315948486}, {'label': 'neu', 'score': 0.8341719508171082}, {'label': 'neu', 'score': 0.9251889586448669}, {'label': 'neu', 'score': 0.513897180557251}, {'label': 'neu', 'score': 0.7632368206977844}, {'label': 'neg', 'score': 0.9152328968048096}, {'label': 'neg', 'score': 0.827641487121582}, {'label': 'neg', 'score': 0.9927772283554077}, {'label': 'neu', 'score': 0.9170793890953064}, {'label': 'neg', 'score': 0.9809971451759338}, {'label': 'neu', 'score': 0.9398871064186096}, {'label': 'neu', 'score': 0.5828176736831665}, {'label': 'neu', 'score': 0.4859439432621002}, {'label': 'neu', 'score': 0.9645099639892578}, {'label': 'neg', 'score': 0.9619273543357849}, {'label': 'neg', 'score': 0.5766415596008301}, {'label': 'neu', 'score': 0.6449326276779175}, {'label': 'neg', 'score': 0.9923264980316162}, {'label': 'neu', 'score': 0.9493157863616943}, {'label': 'neg', 'score': 0.8615660071372986}, {'label': 'neg', 'score': 0.9848641753196716}, {'label': 'neu', 'score': 0.9534405469894409}, {'label': 'neg', 'score': 0.9661411643028259}, {'label': 'neu', 'score': 0.46489351987838745}, {'label': 'q', 'score': 0.8308797478675842}, {'label': 'neu', 'score': 0.8992722034454346}, {'label': 'neu', 'score': 0.8264115452766418}, {'label': 'neg', 'score': 0.9791198968887329}, {'label': 'neu', 'score': 0.8437623977661133}, {'label': 'neg', 'score': 0.5122028589248657}, {'label': 'pos', 'score': 0.940047562122345}, {'label': 'neu', 'score': 0.7305634617805481}, {'label': 'neg', 'score': 0.9902610182762146}, {'label': 'neg', 'score': 0.9869873523712158}, {'label': 'neg', 'score': 0.9217711687088013}, {'label': 'neu', 'score': 0.8696267008781433}, {'label': 'neu', 'score': 0.8763036727905273}, {'label': 'neu', 'score': 0.9520390629768372}, {'label': 'pos', 'score': 0.88493812084198}, {'label': 'neu', 'score': 0.933445155620575}, {'label': 'neu', 'score': 0.8163965940475464}, {'label': 'neg', 'score': 0.5604094862937927}, {'label': 'neu', 'score': 0.9331613779067993}, {'label': 'neg', 'score': 0.9055100679397583}, {'label': 'neu', 'score': 0.8612834811210632}, {'label': 'neu', 'score': 0.9338914155960083}, {'label': 'neg', 'score': 0.9920042753219604}, {'label': 'neu', 'score': 0.7620581388473511}, {'label': 'neu', 'score': 0.728767454624176}, {'label': 'pos', 'score': 0.44133615493774414}, {'label': 'pos', 'score': 0.6323012113571167}, {'label': 'neu', 'score': 0.8769069910049438}, {'label': 'q', 'score': 0.7874351143836975}, {'label': 'pos', 'score': 0.8978286981582642}, {'label': 'pos', 'score': 0.9485229849815369}, {'label': 'neu', 'score': 0.9481936693191528}, {'label': 'neu', 'score': 0.46476060152053833}, {'label': 'neu', 'score': 0.9448682069778442}, {'label': 'neg', 'score': 0.9537081718444824}, {'label': 'pos', 'score': 0.6379798650741577}, {'label': 'neu', 'score': 0.6533666253089905}, {'label': 'neg', 'score': 0.9939584136009216}, {'label': 'neg', 'score': 0.3639722764492035}, {'label': 'neu', 'score': 0.9131195545196533}, {'label': 'neu', 'score': 0.779122531414032}, {'label': 'q', 'score': 0.38332685828208923}, {'label': 'neg', 'score': 0.9149082899093628}, {'label': 'neg', 'score': 0.9700483679771423}, {'label': 'neg', 'score': 0.9671425223350525}, {'label': 'neu', 'score': 0.9601731300354004}, {'label': 'neu', 'score': 0.8466030359268188}, {'label': 'neg', 'score': 0.9890414476394653}, {'label': 'q', 'score': 0.5639611482620239}, {'label': 'neu', 'score': 0.9165993332862854}, {'label': 'neg', 'score': 0.9911555647850037}, {'label': 'neg', 'score': 0.9934015274047852}, {'label': 'neu', 'score': 0.6865547895431519}, {'label': 'neg', 'score': 0.7396407723426819}, {'label': 'neg', 'score': 0.890447735786438}, {'label': 'neg', 'score': 0.6809914112091064}, {'label': 'neg', 'score': 0.9925108551979065}, {'label': 'neg', 'score': 0.9225043058395386}, {'label': 'neu', 'score': 0.9167317748069763}, {'label': 'neu', 'score': 0.9309028387069702}, {'label': 'q', 'score': 0.7303942441940308}, {'label': 'pos', 'score': 0.689380943775177}, {'label': 'neu', 'score': 0.8201273083686829}, {'label': 'neu', 'score': 0.9165877103805542}, {'label': 'neu', 'score': 0.8096721768379211}, {'label': 'neg', 'score': 0.5939585566520691}, {'label': 'pos', 'score': 0.8645451664924622}, {'label': 'neg', 'score': 0.9904849529266357}, {'label': 'pos', 'score': 0.9114460945129395}, {'label': 'neu', 'score': 0.8184969425201416}, {'label': 'neg', 'score': 0.9858003854751587}, {'label': 'pos', 'score': 0.7350297570228577}, {'label': 'neu', 'score': 0.5739585161209106}, {'label': 'neu', 'score': 0.762752890586853}, {'label': 'neu', 'score': 0.6195291876792908}, {'label': 'pos', 'score': 0.3713529706001282}, {'label': 'neg', 'score': 0.6739874482154846}, {'label': 'neu', 'score': 0.471834272146225}, {'label': 'neu', 'score': 0.5009351968765259}, {'label': 'neu', 'score': 0.5659705996513367}, {'label': 'q', 'score': 0.5121897459030151}, {'label': 'pos', 'score': 0.9275395274162292}, {'label': 'neu', 'score': 0.945412278175354}, {'label': 'neg', 'score': 0.786018431186676}, {'label': 'neu', 'score': 0.7338340282440186}, {'label': 'neu', 'score': 0.8618166446685791}, {'label': 'pos', 'score': 0.5508368015289307}, {'label': 'pos', 'score': 0.9218935370445251}, {'label': 'pos', 'score': 0.9235711097717285}, {'label': 'neg', 'score': 0.5074375867843628}, {'label': 'neg', 'score': 0.9897618889808655}, {'label': 'neg', 'score': 0.8065602779388428}, {'label': 'neu', 'score': 0.7968877553939819}, {'label': 'neg', 'score': 0.991570770740509}, {'label': 'neu', 'score': 0.8681302070617676}, {'label': 'neg', 'score': 0.986274003982544}, {'label': 'q', 'score': 0.8689365983009338}, {'label': 'neu', 'score': 0.8769398331642151}, {'label': 'neu', 'score': 0.9451382160186768}, {'label': 'neu', 'score': 0.938027560710907}, {'label': 'neg', 'score': 0.990716814994812}, {'label': 'neg', 'score': 0.4945586919784546}, {'label': 'neg', 'score': 0.7662242650985718}, {'label': 'neu', 'score': 0.607408881187439}, {'label': 'pos', 'score': 0.8883441090583801}, {'label': 'neu', 'score': 0.8941285610198975}, {'label': 'neu', 'score': 0.6434899568557739}, {'label': 'neg', 'score': 0.9274390935897827}, {'label': 'neg', 'score': 0.6352415084838867}, {'label': 'neu', 'score': 0.8816882371902466}, {'label': 'neg', 'score': 0.9533167481422424}, {'label': 'neg', 'score': 0.983984649181366}, {'label': 'neg', 'score': 0.5359740853309631}, {'label': 'neg', 'score': 0.9950832724571228}, {'label': 'neg', 'score': 0.7029615640640259}, {'label': 'neu', 'score': 0.53659588098526}, {'label': 'neu', 'score': 0.6803918480873108}, {'label': 'neu', 'score': 0.6095743775367737}, {'label': 'q', 'score': 0.8040835857391357}, {'label': 'neg', 'score': 0.9722234010696411}, {'label': 'neg', 'score': 0.9928184747695923}, {'label': 'neu', 'score': 0.8827832937240601}, {'label': 'neg', 'score': 0.9623980522155762}, {'label': 'neu', 'score': 0.5486083626747131}, {'label': 'neg', 'score': 0.9190050959587097}, {'label': 'neu', 'score': 0.779506266117096}, {'label': 'pos', 'score': 0.527152955532074}, {'label': 'neg', 'score': 0.9919317960739136}, {'label': 'neu', 'score': 0.9360441565513611}, {'label': 'neu', 'score': 0.9749195575714111}, {'label': 'neg', 'score': 0.9833081960678101}, {'label': 'neg', 'score': 0.5281627774238586}, {'label': 'neu', 'score': 0.8805680274963379}, {'label': 'q', 'score': 0.5943273305892944}, {'label': 'neu', 'score': 0.539382815361023}, {'label': 'neu', 'score': 0.8162825107574463}, {'label': 'neu', 'score': 0.9211385250091553}, {'label': 'neu', 'score': 0.6388416290283203}, {'label': 'neg', 'score': 0.987348198890686}, {'label': 'neg', 'score': 0.9141470193862915}, {'label': 'neg', 'score': 0.9872972369194031}, {'label': 'neg', 'score': 0.95102459192276}, {'label': 'neu', 'score': 0.939926266670227}, {'label': 'pos', 'score': 0.37323370575904846}, {'label': 'neg', 'score': 0.9953430891036987}, {'label': 'neu', 'score': 0.6209597587585449}, {'label': 'pos', 'score': 0.9615765810012817}, {'label': 'neg', 'score': 0.9194347262382507}, {'label': 'neg', 'score': 0.9733079671859741}, {'label': 'neg', 'score': 0.8837792873382568}, {'label': 'pos', 'score': 0.8522321581840515}, {'label': 'neg', 'score': 0.8193439841270447}, {'label': 'neg', 'score': 0.944597065448761}, {'label': 'neg', 'score': 0.9850878119468689}, {'label': 'pos', 'score': 0.4158361852169037}, {'label': 'neu', 'score': 0.7266765236854553}, {'label': 'neg', 'score': 0.9500282406806946}, {'label': 'neu', 'score': 0.8895964026451111}, {'label': 'pos', 'score': 0.5870116949081421}, {'label': 'neu', 'score': 0.7831289768218994}, {'label': 'neu', 'score': 0.6064769625663757}, {'label': 'neg', 'score': 0.8715631365776062}, {'label': 'neu', 'score': 0.6560609340667725}, {'label': 'neg', 'score': 0.9691526293754578}, {'label': 'neg', 'score': 0.9773404002189636}, {'label': 'neu', 'score': 0.9000028371810913}, {'label': 'neg', 'score': 0.8365181684494019}, {'label': 'pos', 'score': 0.9312233328819275}, {'label': 'neu', 'score': 0.8454908728599548}, {'label': 'neu', 'score': 0.7414793968200684}, {'label': 'neu', 'score': 0.8436431884765625}, {'label': 'neu', 'score': 0.5026313662528992}, {'label': 'neg', 'score': 0.983359158039093}, {'label': 'neg', 'score': 0.9296669960021973}, {'label': 'neg', 'score': 0.5871381759643555}, {'label': 'pos', 'score': 0.8364927172660828}, {'label': 'neg', 'score': 0.9948739409446716}, {'label': 'neu', 'score': 0.410029798746109}, {'label': 'neg', 'score': 0.976182222366333}, {'label': 'pos', 'score': 0.831630289554596}, {'label': 'neg', 'score': 0.9821435213088989}, {'label': 'neu', 'score': 0.799069881439209}, {'label': 'neg', 'score': 0.8436073064804077}, {'label': 'neu', 'score': 0.8654130101203918}, {'label': 'pos', 'score': 0.9346042275428772}, {'label': 'neg', 'score': 0.5944618582725525}, {'label': 'neu', 'score': 0.5175631046295166}, {'label': 'q', 'score': 0.9249634742736816}, {'label': 'neg', 'score': 0.9239205718040466}, {'label': 'neg', 'score': 0.9899483919143677}, {'label': 'pos', 'score': 0.9391651153564453}, {'label': 'neu', 'score': 0.9161259531974792}, {'label': 'neu', 'score': 0.7441039085388184}, {'label': 'neg', 'score': 0.8310282230377197}, {'label': 'neg', 'score': 0.596100926399231}, {'label': 'neg', 'score': 0.922940731048584}, {'label': 'neg', 'score': 0.943569004535675}, {'label': 'pos', 'score': 0.650039792060852}, {'label': 'neg', 'score': 0.9854907393455505}, {'label': 'neg', 'score': 0.988011360168457}, {'label': 'neu', 'score': 0.921229898929596}, {'label': 'neg', 'score': 0.9851301312446594}, {'label': 'neg', 'score': 0.9711059331893921}, {'label': 'neg', 'score': 0.9797555208206177}, {'label': 'neg', 'score': 0.8939403891563416}, {'label': 'neu', 'score': 0.9887751936912537}, {'label': 'pos', 'score': 0.5595053434371948}, {'label': 'neg', 'score': 0.8217242360115051}, {'label': 'neg', 'score': 0.8326660394668579}, {'label': 'neu', 'score': 0.9571421146392822}, {'label': 'neu', 'score': 0.8531908392906189}, {'label': 'neg', 'score': 0.9899584650993347}, {'label': 'neu', 'score': 0.8626631498336792}, {'label': 'neg', 'score': 0.9945322275161743}, {'label': 'neg', 'score': 0.8661647439002991}, {'label': 'neu', 'score': 0.9464705586433411}, {'label': 'pos', 'score': 0.7514263987541199}, {'label': 'pos', 'score': 0.8089804649353027}, {'label': 'neu', 'score': 0.6240862011909485}, {'label': 'neu', 'score': 0.6568441987037659}, {'label': 'neg', 'score': 0.948047935962677}, {'label': 'neg', 'score': 0.9627227187156677}, {'label': 'pos', 'score': 0.7793959379196167}, {'label': 'neu', 'score': 0.9338507056236267}, {'label': 'neu', 'score': 0.9221308827400208}, {'label': 'neg', 'score': 0.966216504573822}, {'label': 'pos', 'score': 0.9503118991851807}, {'label': 'neu', 'score': 0.7943550944328308}, {'label': 'neg', 'score': 0.9886473417282104}, {'label': 'neu', 'score': 0.9430960416793823}, {'label': 'neu', 'score': 0.7060990929603577}, {'label': 'neu', 'score': 0.9628298878669739}, {'label': 'neu', 'score': 0.9301140308380127}, {'label': 'neu', 'score': 0.6122618317604065}, {'label': 'neg', 'score': 0.9923689365386963}, {'label': 'neg', 'score': 0.9835423827171326}, {'label': 'neg', 'score': 0.9814367890357971}, {'label': 'neu', 'score': 0.9592587351799011}, {'label': 'neu', 'score': 0.8781616687774658}, {'label': 'pos', 'score': 0.9672074913978577}, {'label': 'neg', 'score': 0.8927327394485474}, {'label': 'neg', 'score': 0.9699972867965698}, {'label': 'neg', 'score': 0.5176796913146973}, {'label': 'neg', 'score': 0.9698850512504578}, {'label': 'neg', 'score': 0.9875490069389343}, {'label': 'neg', 'score': 0.9027528166770935}, {'label': 'neu', 'score': 0.835817277431488}, {'label': 'neg', 'score': 0.9737821817398071}, {'label': 'neg', 'score': 0.965247631072998}, {'label': 'neg', 'score': 0.507409393787384}, {'label': 'neg', 'score': 0.6917177438735962}, {'label': 'neu', 'score': 0.7153316140174866}, {'label': 'neg', 'score': 0.9583027362823486}, {'label': 'neu', 'score': 0.6656512022018433}, {'label': 'neu', 'score': 0.7702966928482056}, {'label': 'neg', 'score': 0.949221134185791}, {'label': 'neg', 'score': 0.9908367991447449}, {'label': 'neu', 'score': 0.7801434993743896}, {'label': 'neg', 'score': 0.9086442589759827}, {'label': 'neg', 'score': 0.9608829617500305}, {'label': 'neu', 'score': 0.9415004253387451}, {'label': 'neu', 'score': 0.7759220600128174}, {'label': 'neg', 'score': 0.9867305755615234}, {'label': 'neg', 'score': 0.9880660772323608}, {'label': 'neg', 'score': 0.9758094549179077}, {'label': 'neg', 'score': 0.9490078091621399}, {'label': 'neg', 'score': 0.9528961777687073}, {'label': 'neu', 'score': 0.7563421130180359}, {'label': 'neg', 'score': 0.9815701842308044}, {'label': 'neg', 'score': 0.9947929978370667}, {'label': 'neg', 'score': 0.992203950881958}, {'label': 'neu', 'score': 0.7541694641113281}, {'label': 'neu', 'score': 0.6570863723754883}, {'label': 'neg', 'score': 0.9555391073226929}, {'label': 'pos', 'score': 0.9703420400619507}, {'label': 'neg', 'score': 0.9917386174201965}, {'label': 'neg', 'score': 0.9746837615966797}, {'label': 'pos', 'score': 0.5824184417724609}, {'label': 'neu', 'score': 0.5440219640731812}, {'label': 'neu', 'score': 0.8792405724525452}, {'label': 'neg', 'score': 0.9876171350479126}, {'label': 'neu', 'score': 0.7181108593940735}, {'label': 'neg', 'score': 0.9813278913497925}, {'label': 'neu', 'score': 0.5008269548416138}, {'label': 'neg', 'score': 0.9901286363601685}, {'label': 'neu', 'score': 0.5487399101257324}, {'label': 'pos', 'score': 0.5322906374931335}, {'label': 'pos', 'score': 0.5309907793998718}, {'label': 'neg', 'score': 0.9827257990837097}, {'label': 'pos', 'score': 0.9299899339675903}, {'label': 'neu', 'score': 0.9366796016693115}, {'label': 'neu', 'score': 0.9711421132087708}, {'label': 'neu', 'score': 0.8122246861457825}, {'label': 'neu', 'score': 0.8714510202407837}, {'label': 'neu', 'score': 0.9381396770477295}, {'label': 'neu', 'score': 0.5980141758918762}, {'label': 'neg', 'score': 0.9347859025001526}, {'label': 'neg', 'score': 0.9736603498458862}, {'label': 'neu', 'score': 0.6289472579956055}, {'label': 'neg', 'score': 0.9641211628913879}, {'label': 'neu', 'score': 0.5346731543540955}, {'label': 'neg', 'score': 0.9695144891738892}, {'label': 'neg', 'score': 0.9827913641929626}, {'label': 'neg', 'score': 0.8392881751060486}, {'label': 'neg', 'score': 0.9746512174606323}, {'label': 'neg', 'score': 0.9518364667892456}, {'label': 'neg', 'score': 0.9415158033370972}, {'label': 'neg', 'score': 0.8043715953826904}, {'label': 'neg', 'score': 0.9651350378990173}, {'label': 'q', 'score': 0.5132941007614136}, {'label': 'neu', 'score': 0.8968074321746826}, {'label': 'neg', 'score': 0.9938501715660095}, {'label': 'pos', 'score': 0.6280085444450378}, {'label': 'neg', 'score': 0.5374984741210938}, {'label': 'neg', 'score': 0.9930877685546875}, {'label': 'neg', 'score': 0.992779552936554}, {'label': 'neg', 'score': 0.9744221568107605}, {'label': 'neg', 'score': 0.9934393763542175}, {'label': 'pos', 'score': 0.8475344181060791}, {'label': 'pos', 'score': 0.6940865516662598}, {'label': 'neg', 'score': 0.9943638443946838}, {'label': 'neg', 'score': 0.8300715684890747}, {'label': 'neg', 'score': 0.847741425037384}, {'label': 'neg', 'score': 0.9880738854408264}, {'label': 'neu', 'score': 0.8745530843734741}, {'label': 'neu', 'score': 0.889253556728363}, {'label': 'neg', 'score': 0.9892608523368835}, {'label': 'neu', 'score': 0.8777888417243958}, {'label': 'neu', 'score': 0.6878149509429932}, {'label': 'neu', 'score': 0.7820485234260559}, {'label': 'neu', 'score': 0.9396822452545166}, {'label': 'neg', 'score': 0.7200924158096313}, {'label': 'neu', 'score': 0.5821194648742676}, {'label': 'neg', 'score': 0.5061329007148743}, {'label': 'pos', 'score': 0.809855580329895}, {'label': 'neu', 'score': 0.8666093349456787}, {'label': 'neg', 'score': 0.9912574291229248}, {'label': 'neu', 'score': 0.8509232401847839}, {'label': 'neu', 'score': 0.9459850192070007}, {'label': 'neg', 'score': 0.9879153370857239}, {'label': 'neu', 'score': 0.8727117776870728}, {'label': 'neu', 'score': 0.4781968891620636}, {'label': 'neg', 'score': 0.9847906231880188}, {'label': 'neg', 'score': 0.9819785952568054}, {'label': 'neu', 'score': 0.7265810966491699}, {'label': 'neu', 'score': 0.9021391868591309}, {'label': 'neu', 'score': 0.6490492224693298}, {'label': 'neg', 'score': 0.9747129082679749}, {'label': 'neg', 'score': 0.9040004014968872}, {'label': 'neu', 'score': 0.7060650587081909}, {'label': 'neg', 'score': 0.9503936171531677}, {'label': 'neu', 'score': 0.942447304725647}, {'label': 'neg', 'score': 0.9923781752586365}, {'label': 'q', 'score': 0.4282364249229431}, {'label': 'pos', 'score': 0.6317507028579712}, {'label': 'neg', 'score': 0.9601924419403076}, {'label': 'neu', 'score': 0.5762872695922852}, {'label': 'neg', 'score': 0.9842557311058044}, {'label': 'neu', 'score': 0.6449829936027527}, {'label': 'neg', 'score': 0.9937401413917542}, {'label': 'neg', 'score': 0.9168588519096375}, {'label': 'q', 'score': 0.5275318026542664}, {'label': 'pos', 'score': 0.8406503200531006}, {'label': 'neu', 'score': 0.8580513596534729}, {'label': 'neg', 'score': 0.950705349445343}, {'label': 'neu', 'score': 0.7897834777832031}, {'label': 'neg', 'score': 0.7010631561279297}, {'label': 'neg', 'score': 0.9916009902954102}, {'label': 'neg', 'score': 0.978993833065033}, {'label': 'neg', 'score': 0.8933809995651245}, {'label': 'neu', 'score': 0.9390388131141663}, {'label': 'neg', 'score': 0.9908947348594666}, {'label': 'neu', 'score': 0.517327606678009}, {'label': 'pos', 'score': 0.5756642818450928}, {'label': 'pos', 'score': 0.4945266842842102}, {'label': 'neg', 'score': 0.9575865268707275}, {'label': 'neu', 'score': 0.8242509961128235}, {'label': 'neu', 'score': 0.9423915147781372}, {'label': 'neu', 'score': 0.7406336665153503}, {'label': 'pos', 'score': 0.4588211178779602}, {'label': 'neg', 'score': 0.9903987646102905}, {'label': 'neg', 'score': 0.8722122311592102}, {'label': 'pos', 'score': 0.7142304182052612}, {'label': 'pos', 'score': 0.8380374908447266}, {'label': 'neg', 'score': 0.9705707430839539}, {'label': 'neu', 'score': 0.9106191396713257}, {'label': 'neu', 'score': 0.8588868975639343}, {'label': 'neu', 'score': 0.4293031394481659}, {'label': 'neu', 'score': 0.68470698595047}, {'label': 'neu', 'score': 0.9432892203330994}, {'label': 'neg', 'score': 0.9106429815292358}, {'label': 'neg', 'score': 0.9934290647506714}, {'label': 'neu', 'score': 0.3912445604801178}, {'label': 'neg', 'score': 0.980434775352478}, {'label': 'neu', 'score': 0.4838249087333679}, {'label': 'pos', 'score': 0.7740708589553833}, {'label': 'neu', 'score': 0.8902390003204346}, {'label': 'neg', 'score': 0.9418718218803406}, {'label': 'neg', 'score': 0.7880407571792603}, {'label': 'q', 'score': 0.8808478713035583}, {'label': 'neu', 'score': 0.8941531181335449}, {'label': 'neu', 'score': 0.6759235858917236}, {'label': 'neu', 'score': 0.6568607091903687}, {'label': 'neg', 'score': 0.5328832864761353}, {'label': 'pos', 'score': 0.7368066906929016}, {'label': 'neg', 'score': 0.7737547755241394}, {'label': 'neu', 'score': 0.7648138999938965}, {'label': 'pos', 'score': 0.5656764507293701}, {'label': 'neu', 'score': 0.6174336075782776}, {'label': 'neg', 'score': 0.9938480854034424}, {'label': 'neu', 'score': 0.5950754880905151}, {'label': 'neg', 'score': 0.9889093637466431}, {'label': 'neg', 'score': 0.9471157789230347}, {'label': 'neu', 'score': 0.9676056504249573}, {'label': 'neu', 'score': 0.6842584609985352}, {'label': 'neg', 'score': 0.9847197532653809}, {'label': 'q', 'score': 0.8624992966651917}, {'label': 'neu', 'score': 0.8867231607437134}, {'label': 'neu', 'score': 0.8866038918495178}, {'label': 'neg', 'score': 0.9793553948402405}, {'label': 'neu', 'score': 0.937308132648468}, {'label': 'neu', 'score': 0.6925375461578369}, {'label': 'neu', 'score': 0.8834893703460693}, {'label': 'neg', 'score': 0.595707356929779}, {'label': 'neu', 'score': 0.956811249256134}, {'label': 'neu', 'score': 0.5216364860534668}, {'label': 'neu', 'score': 0.8915178775787354}, {'label': 'neu', 'score': 0.5874587893486023}, {'label': 'neu', 'score': 0.6559581160545349}, {'label': 'neg', 'score': 0.9040102958679199}, {'label': 'neu', 'score': 0.49704402685165405}, {'label': 'neu', 'score': 0.8916401863098145}, {'label': 'pos', 'score': 0.5644670724868774}, {'label': 'pos', 'score': 0.8005861043930054}, {'label': 'neg', 'score': 0.8457621335983276}, {'label': 'neu', 'score': 0.8203518390655518}, {'label': 'q', 'score': 0.49804481863975525}, {'label': 'neu', 'score': 0.7259013652801514}, {'label': 'neg', 'score': 0.9826059937477112}, {'label': 'neg', 'score': 0.9913439750671387}, {'label': 'neg', 'score': 0.9942557215690613}, {'label': 'neg', 'score': 0.6376674175262451}, {'label': 'pos', 'score': 0.8506535291671753}, {'label': 'neg', 'score': 0.9809646010398865}, {'label': 'neg', 'score': 0.9857506155967712}, {'label': 'neg', 'score': 0.3895178437232971}, {'label': 'neg', 'score': 0.885937511920929}, {'label': 'neg', 'score': 0.9628669619560242}, {'label': 'neg', 'score': 0.6604224443435669}, {'label': 'neu', 'score': 0.5338975787162781}, {'label': 'neg', 'score': 0.9912675619125366}, {'label': 'neg', 'score': 0.9943081140518188}, {'label': 'neg', 'score': 0.992195188999176}, {'label': 'neu', 'score': 0.8708056211471558}, {'label': 'neu', 'score': 0.8215287327766418}, {'label': 'neg', 'score': 0.9670116901397705}, {'label': 'neg', 'score': 0.908560574054718}, {'label': 'neg', 'score': 0.9823926687240601}, {'label': 'neg', 'score': 0.48857223987579346}, {'label': 'neg', 'score': 0.993182361125946}, {'label': 'q', 'score': 0.7037462592124939}, {'label': 'neg', 'score': 0.982642412185669}, {'label': 'pos', 'score': 0.8380239605903625}, {'label': 'pos', 'score': 0.8396569490432739}, {'label': 'neg', 'score': 0.6653053760528564}, {'label': 'neg', 'score': 0.992607057094574}, {'label': 'neu', 'score': 0.46319738030433655}, {'label': 'pos', 'score': 0.7819926738739014}, {'label': 'neg', 'score': 0.525830090045929}, {'label': 'neg', 'score': 0.9524233341217041}, {'label': 'neu', 'score': 0.5977663993835449}, {'label': 'neg', 'score': 0.9899885058403015}, {'label': 'neu', 'score': 0.6979795694351196}, {'label': 'neg', 'score': 0.5977690815925598}, {'label': 'neg', 'score': 0.9320223331451416}, {'label': 'neu', 'score': 0.8757543563842773}, {'label': 'neg', 'score': 0.9823798537254333}, {'label': 'neu', 'score': 0.5665280222892761}, {'label': 'neu', 'score': 0.9284607172012329}, {'label': 'neg', 'score': 0.6805853247642517}, {'label': 'neu', 'score': 0.9428524971008301}, {'label': 'neg', 'score': 0.993769109249115}, {'label': 'neu', 'score': 0.4610680043697357}, {'label': 'neg', 'score': 0.9869168996810913}, {'label': 'neg', 'score': 0.7738913297653198}, {'label': 'pos', 'score': 0.6784077286720276}, {'label': 'pos', 'score': 0.8822206854820251}, {'label': 'neg', 'score': 0.9054670929908752}, {'label': 'neg', 'score': 0.9923105239868164}, {'label': 'neu', 'score': 0.6017768383026123}, {'label': 'neg', 'score': 0.9825229644775391}, {'label': 'neu', 'score': 0.8994481563568115}, {'label': 'neu', 'score': 0.705350935459137}, {'label': 'neu', 'score': 0.6895387768745422}, {'label': 'neg', 'score': 0.8029962778091431}, {'label': 'neu', 'score': 0.842572808265686}, {'label': 'neu', 'score': 0.8478506803512573}, {'label': 'neu', 'score': 0.8691920638084412}, {'label': 'neg', 'score': 0.9687201976776123}, {'label': 'q', 'score': 0.4591454267501831}, {'label': 'neg', 'score': 0.8694251775741577}, {'label': 'neg', 'score': 0.9902892112731934}, {'label': 'neg', 'score': 0.9452736973762512}, {'label': 'neg', 'score': 0.6880037784576416}, {'label': 'neg', 'score': 0.9849268794059753}, {'label': 'neg', 'score': 0.8434526324272156}, {'label': 'neu', 'score': 0.4988550841808319}, {'label': 'neu', 'score': 0.809651255607605}, {'label': 'neg', 'score': 0.9629452228546143}, {'label': 'neu', 'score': 0.7960061430931091}, {'label': 'neg', 'score': 0.980319082736969}, {'label': 'neg', 'score': 0.9955059885978699}, {'label': 'q', 'score': 0.9041460752487183}, {'label': 'neu', 'score': 0.5911307334899902}, {'label': 'pos', 'score': 0.5152281522750854}, {'label': 'neg', 'score': 0.5532485246658325}, {'label': 'pos', 'score': 0.5640823841094971}, {'label': 'neu', 'score': 0.9328643083572388}, {'label': 'pos', 'score': 0.3838295042514801}, {'label': 'neg', 'score': 0.9913172125816345}, {'label': 'q', 'score': 0.5915852785110474}, {'label': 'neu', 'score': 0.8467745780944824}, {'label': 'neu', 'score': 0.9053202271461487}, {'label': 'neu', 'score': 0.6197641491889954}, {'label': 'q', 'score': 0.8116342425346375}, {'label': 'neu', 'score': 0.8125572800636292}, {'label': 'neu', 'score': 0.930466890335083}, {'label': 'neg', 'score': 0.9396556615829468}, {'label': 'neg', 'score': 0.5770018696784973}, {'label': 'neg', 'score': 0.9312942624092102}, {'label': 'neg', 'score': 0.943571150302887}, {'label': 'neg', 'score': 0.7907130122184753}, {'label': 'neg', 'score': 0.916557252407074}, {'label': 'neu', 'score': 0.8799046874046326}, {'label': 'neu', 'score': 0.9678308367729187}, {'label': 'neu', 'score': 0.8517488837242126}, {'label': 'neu', 'score': 0.8250547051429749}, {'label': 'neg', 'score': 0.7848370671272278}, {'label': 'neg', 'score': 0.8127086162567139}, {'label': 'neg', 'score': 0.7486368417739868}, {'label': 'neg', 'score': 0.5861749053001404}, {'label': 'neg', 'score': 0.8470306396484375}, {'label': 'neu', 'score': 0.8950448632240295}, {'label': 'neg', 'score': 0.7732875943183899}, {'label': 'neg', 'score': 0.9170166850090027}, {'label': 'neg', 'score': 0.9329062700271606}, {'label': 'neg', 'score': 0.8744053840637207}, {'label': 'q', 'score': 0.38056841492652893}, {'label': 'neu', 'score': 0.9111499190330505}, {'label': 'neg', 'score': 0.9633889198303223}, {'label': 'neg', 'score': 0.9951862096786499}, {'label': 'neg', 'score': 0.9709552526473999}, {'label': 'neu', 'score': 0.7429503202438354}, {'label': 'neg', 'score': 0.9909963011741638}, {'label': 'pos', 'score': 0.5755230188369751}, {'label': 'neg', 'score': 0.9897011518478394}, {'label': 'pos', 'score': 0.3810424208641052}, {'label': 'neg', 'score': 0.9158177375793457}, {'label': 'neg', 'score': 0.9939957857131958}, {'label': 'neg', 'score': 0.9657641053199768}, {'label': 'neu', 'score': 0.7748746871948242}, {'label': 'neg', 'score': 0.9835995435714722}, {'label': 'neg', 'score': 0.6918849945068359}, {'label': 'neg', 'score': 0.9318161010742188}, {'label': 'neg', 'score': 0.9386603832244873}, {'label': 'neu', 'score': 0.846609890460968}, {'label': 'pos', 'score': 0.6476797461509705}, {'label': 'neg', 'score': 0.7799737453460693}, {'label': 'neg', 'score': 0.7515549659729004}, {'label': 'neg', 'score': 0.9912055730819702}, {'label': 'neu', 'score': 0.9661774635314941}, {'label': 'neg', 'score': 0.7866105437278748}, {'label': 'neu', 'score': 0.9000287652015686}, {'label': 'neu', 'score': 0.7618836760520935}, {'label': 'neu', 'score': 0.6356843113899231}, {'label': 'neg', 'score': 0.9587436318397522}, {'label': 'pos', 'score': 0.6037726402282715}, {'label': 'neg', 'score': 0.9896381497383118}, {'label': 'neg', 'score': 0.9920488595962524}, {'label': 'neu', 'score': 0.9079218506813049}, {'label': 'neg', 'score': 0.9185710549354553}, {'label': 'neg', 'score': 0.9836181402206421}, {'label': 'neu', 'score': 0.9119241833686829}, {'label': 'neg', 'score': 0.9929030537605286}, {'label': 'pos', 'score': 0.6811552047729492}, {'label': 'neu', 'score': 0.6488370895385742}, {'label': 'neg', 'score': 0.7628331184387207}, {'label': 'neu', 'score': 0.5340193510055542}, {'label': 'neg', 'score': 0.9756787419319153}, {'label': 'q', 'score': 0.4244813621044159}, {'label': 'neu', 'score': 0.8865962624549866}, {'label': 'neg', 'score': 0.4311014711856842}, {'label': 'neu', 'score': 0.7467269897460938}, {'label': 'neu', 'score': 0.8977375030517578}, {'label': 'neu', 'score': 0.5828495621681213}, {'label': 'neg', 'score': 0.9868162870407104}, {'label': 'neg', 'score': 0.9872687458992004}, {'label': 'neu', 'score': 0.856265664100647}, {'label': 'neu', 'score': 0.8548387289047241}, {'label': 'neu', 'score': 0.5352294445037842}, {'label': 'pos', 'score': 0.9220130443572998}, {'label': 'neu', 'score': 0.6040664315223694}, {'label': 'neg', 'score': 0.9951948523521423}, {'label': 'neg', 'score': 0.9943464398384094}, {'label': 'neg', 'score': 0.9914149045944214}, {'label': 'neu', 'score': 0.9160667657852173}, {'label': 'neg', 'score': 0.981608510017395}, {'label': 'neg', 'score': 0.8653947710990906}, {'label': 'neu', 'score': 0.6561472415924072}, {'label': 'pos', 'score': 0.7998048067092896}, {'label': 'neg', 'score': 0.9877117276191711}, {'label': 'neg', 'score': 0.9912956357002258}, {'label': 'neg', 'score': 0.9873170852661133}, {'label': 'neu', 'score': 0.7751064896583557}, {'label': 'neg', 'score': 0.9935306310653687}, {'label': 'neg', 'score': 0.9794292449951172}, {'label': 'neg', 'score': 0.9399083852767944}, {'label': 'pos', 'score': 0.7158966064453125}, {'label': 'neg', 'score': 0.9902430772781372}, {'label': 'neu', 'score': 0.943503201007843}, {'label': 'neu', 'score': 0.9488856792449951}, {'label': 'neg', 'score': 0.9843801259994507}, {'label': 'neg', 'score': 0.9296374320983887}, {'label': 'neg', 'score': 0.99307781457901}, {'label': 'neg', 'score': 0.8994491100311279}, {'label': 'neu', 'score': 0.6337379813194275}, {'label': 'pos', 'score': 0.759459376335144}, {'label': 'neg', 'score': 0.5504973530769348}, {'label': 'neu', 'score': 0.5696393847465515}, {'label': 'neu', 'score': 0.8080552220344543}, {'label': 'q', 'score': 0.8073617815971375}, {'label': 'q', 'score': 0.7703960537910461}, {'label': 'neu', 'score': 0.7381248474121094}, {'label': 'neg', 'score': 0.9688348174095154}, {'label': 'neg', 'score': 0.9887254238128662}, {'label': 'neu', 'score': 0.7635681629180908}, {'label': 'neu', 'score': 0.6169702410697937}, {'label': 'neu', 'score': 0.4145568609237671}, {'label': 'neu', 'score': 0.9577979445457458}, {'label': 'neg', 'score': 0.7495020627975464}, {'label': 'neu', 'score': 0.9032180309295654}, {'label': 'neg', 'score': 0.8273220658302307}, {'label': 'pos', 'score': 0.9267182350158691}, {'label': 'pos', 'score': 0.8575226664543152}, {'label': 'pos', 'score': 0.6263539791107178}, {'label': 'neu', 'score': 0.9079594016075134}, {'label': 'neg', 'score': 0.9392440319061279}, {'label': 'neu', 'score': 0.7648664712905884}, {'label': 'neu', 'score': 0.890071451663971}, {'label': 'neu', 'score': 0.49719974398612976}, {'label': 'neu', 'score': 0.9295098185539246}, {'label': 'neg', 'score': 0.9710478782653809}, {'label': 'neu', 'score': 0.9445626139640808}, {'label': 'neg', 'score': 0.7800867557525635}, {'label': 'neu', 'score': 0.7419658303260803}, {'label': 'neg', 'score': 0.48775574564933777}, {'label': 'neu', 'score': 0.8195570111274719}, {'label': 'neu', 'score': 0.7543243765830994}, {'label': 'neu', 'score': 0.6712505221366882}, {'label': 'neu', 'score': 0.8656643033027649}, {'label': 'neg', 'score': 0.8922240138053894}, {'label': 'neu', 'score': 0.9219483733177185}, {'label': 'neg', 'score': 0.9592670798301697}, {'label': 'neu', 'score': 0.6455745100975037}, {'label': 'neu', 'score': 0.5616742372512817}, {'label': 'neg', 'score': 0.9862697720527649}, {'label': 'neg', 'score': 0.9854861497879028}, {'label': 'neg', 'score': 0.9940416216850281}, {'label': 'neg', 'score': 0.9769028425216675}, {'label': 'neu', 'score': 0.7858055830001831}, {'label': 'pos', 'score': 0.9680731892585754}, {'label': 'neg', 'score': 0.9925807118415833}, {'label': 'neu', 'score': 0.8564430475234985}, {'label': 'neg', 'score': 0.9236083030700684}, {'label': 'neg', 'score': 0.9055032730102539}, {'label': 'neg', 'score': 0.9454103708267212}, {'label': 'neu', 'score': 0.5433239340782166}, {'label': 'neu', 'score': 0.5886662602424622}, {'label': 'neg', 'score': 0.9909409880638123}, {'label': 'neg', 'score': 0.7838118076324463}, {'label': 'neg', 'score': 0.8701843619346619}, {'label': 'pos', 'score': 0.6209462881088257}, {'label': 'neu', 'score': 0.8078402280807495}, {'label': 'neu', 'score': 0.9375619888305664}, {'label': 'neg', 'score': 0.9906601905822754}, {'label': 'q', 'score': 0.5699605941772461}, {'label': 'neg', 'score': 0.9759926199913025}, {'label': 'neg', 'score': 0.9041123986244202}, {'label': 'neu', 'score': 0.6877944469451904}, {'label': 'pos', 'score': 0.5770860910415649}, {'label': 'neu', 'score': 0.6127360463142395}, {'label': 'neg', 'score': 0.9870136976242065}, {'label': 'neg', 'score': 0.9757900238037109}, {'label': 'neu', 'score': 0.7973650097846985}, {'label': 'pos', 'score': 0.8863473534584045}, {'label': 'neg', 'score': 0.7621667385101318}, {'label': 'neu', 'score': 0.5910622477531433}, {'label': 'neg', 'score': 0.8800548315048218}, {'label': 'neg', 'score': 0.9901405572891235}, {'label': 'neg', 'score': 0.8972552418708801}, {'label': 'neg', 'score': 0.9922098517417908}, {'label': 'neg', 'score': 0.4391964375972748}, {'label': 'neu', 'score': 0.5604006052017212}, {'label': 'neg', 'score': 0.983889639377594}, {'label': 'neu', 'score': 0.8509474992752075}, {'label': 'neg', 'score': 0.9951217770576477}, {'label': 'pos', 'score': 0.842985987663269}, {'label': 'neg', 'score': 0.9940886497497559}, {'label': 'neg', 'score': 0.9948569536209106}, {'label': 'neg', 'score': 0.7870019674301147}, {'label': 'neg', 'score': 0.8901535868644714}, {'label': 'neg', 'score': 0.9834434986114502}, {'label': 'neg', 'score': 0.9662290215492249}, {'label': 'neg', 'score': 0.9793800711631775}, {'label': 'neg', 'score': 0.8607493042945862}, {'label': 'pos', 'score': 0.9420232176780701}, {'label': 'neg', 'score': 0.6960585713386536}, {'label': 'pos', 'score': 0.9087741374969482}, {'label': 'neu', 'score': 0.9069266319274902}, {'label': 'neg', 'score': 0.4084031581878662}, {'label': 'neg', 'score': 0.9924339652061462}, {'label': 'neg', 'score': 0.367339164018631}, {'label': 'neg', 'score': 0.9676496982574463}, {'label': 'neg', 'score': 0.7928034663200378}, {'label': 'neg', 'score': 0.9924562573432922}, {'label': 'neu', 'score': 0.7941493391990662}, {'label': 'neg', 'score': 0.5978180170059204}, {'label': 'neu', 'score': 0.9201424717903137}, {'label': 'neg', 'score': 0.9954100251197815}, {'label': 'neg', 'score': 0.9874427318572998}, {'label': 'neu', 'score': 0.5003699064254761}, {'label': 'neg', 'score': 0.9773915410041809}, {'label': 'neg', 'score': 0.9810510873794556}, {'label': 'neg', 'score': 0.9925322532653809}, {'label': 'q', 'score': 0.6934378147125244}, {'label': 'neg', 'score': 0.8985658884048462}, {'label': 'neg', 'score': 0.7472845315933228}, {'label': 'neg', 'score': 0.9825997352600098}, {'label': 'pos', 'score': 0.9085096120834351}, {'label': 'pos', 'score': 0.8556931614875793}, {'label': 'neg', 'score': 0.8754762411117554}, {'label': 'neu', 'score': 0.6157597303390503}, {'label': 'pos', 'score': 0.6332566142082214}, {'label': 'pos', 'score': 0.8897148966789246}, {'label': 'neg', 'score': 0.8475958704948425}, {'label': 'pos', 'score': 0.6798670887947083}, {'label': 'pos', 'score': 0.45453575253486633}, {'label': 'pos', 'score': 0.7526918053627014}, {'label': 'pos', 'score': 0.7772393822669983}, {'label': 'neu', 'score': 0.7524716258049011}, {'label': 'neg', 'score': 0.4246983528137207}, {'label': 'neg', 'score': 0.9346374273300171}, {'label': 'neg', 'score': 0.7598116397857666}, {'label': 'neu', 'score': 0.6432355642318726}, {'label': 'neg', 'score': 0.837500274181366}, {'label': 'neu', 'score': 0.9600381255149841}, {'label': 'neg', 'score': 0.9708268046379089}, {'label': 'neg', 'score': 0.9898585081100464}, {'label': 'neg', 'score': 0.9101749062538147}, {'label': 'neg', 'score': 0.9856870770454407}, {'label': 'neu', 'score': 0.7920572757720947}, {'label': 'neu', 'score': 0.9671624302864075}, {'label': 'neg', 'score': 0.9869857430458069}, {'label': 'neg', 'score': 0.9878201484680176}, {'label': 'pos', 'score': 0.6172020435333252}, {'label': 'neg', 'score': 0.9775596857070923}, {'label': 'neg', 'score': 0.96841961145401}, {'label': 'neu', 'score': 0.8195440173149109}, {'label': 'neu', 'score': 0.9518126249313354}, {'label': 'neu', 'score': 0.5374794602394104}, {'label': 'neg', 'score': 0.9917057752609253}, {'label': 'neu', 'score': 0.9174680709838867}, {'label': 'neu', 'score': 0.793745219707489}, {'label': 'neu', 'score': 0.883931577205658}, {'label': 'neg', 'score': 0.45194247364997864}, {'label': 'neg', 'score': 0.4851020276546478}, {'label': 'neg', 'score': 0.4983942210674286}, {'label': 'neu', 'score': 0.9424945712089539}, {'label': 'neg', 'score': 0.9138286709785461}, {'label': 'neu', 'score': 0.9130192399024963}, {'label': 'neg', 'score': 0.9871433973312378}, {'label': 'pos', 'score': 0.8176215887069702}, {'label': 'neg', 'score': 0.9837514162063599}, {'label': 'neu', 'score': 0.8942647576332092}, {'label': 'neu', 'score': 0.637207567691803}, {'label': 'pos', 'score': 0.7339535355567932}, {'label': 'neu', 'score': 0.9751614928245544}, {'label': 'neg', 'score': 0.7895675897598267}, {'label': 'neu', 'score': 0.9162045121192932}, {'label': 'neg', 'score': 0.9914275407791138}, {'label': 'neg', 'score': 0.9941424131393433}, {'label': 'neg', 'score': 0.9203348755836487}, {'label': 'neg', 'score': 0.9611337780952454}, {'label': 'neg', 'score': 0.5486705303192139}, {'label': 'neu', 'score': 0.9323531985282898}, {'label': 'neg', 'score': 0.866255521774292}, {'label': 'neg', 'score': 0.9938382506370544}, {'label': 'neu', 'score': 0.9438135623931885}, {'label': 'neg', 'score': 0.9608833193778992}, {'label': 'neg', 'score': 0.5070526003837585}, {'label': 'neg', 'score': 0.9847419857978821}, {'label': 'neg', 'score': 0.9932901859283447}, {'label': 'neg', 'score': 0.9778657555580139}, {'label': 'neg', 'score': 0.97751784324646}, {'label': 'neu', 'score': 0.5309478044509888}, {'label': 'neg', 'score': 0.8343408703804016}, {'label': 'neu', 'score': 0.8074291348457336}, {'label': 'neg', 'score': 0.6514715552330017}, {'label': 'neg', 'score': 0.8955567479133606}, {'label': 'neu', 'score': 0.8853145241737366}, {'label': 'neu', 'score': 0.8874161243438721}, {'label': 'neu', 'score': 0.9286680817604065}, {'label': 'neu', 'score': 0.9396244883537292}, {'label': 'neg', 'score': 0.9906384348869324}, {'label': 'neg', 'score': 0.9748537540435791}, {'label': 'pos', 'score': 0.7548855543136597}, {'label': 'neg', 'score': 0.9526991844177246}, {'label': 'pos', 'score': 0.8307510018348694}, {'label': 'neg', 'score': 0.9666147828102112}, {'label': 'neg', 'score': 0.8594550490379333}, {'label': 'neu', 'score': 0.9681466817855835}, {'label': 'neg', 'score': 0.9935171008110046}, {'label': 'pos', 'score': 0.9118938446044922}, {'label': 'neg', 'score': 0.6108251214027405}, {'label': 'neg', 'score': 0.9946667551994324}, {'label': 'pos', 'score': 0.7524433732032776}, {'label': 'neg', 'score': 0.9250231385231018}, {'label': 'neu', 'score': 0.6142363548278809}, {'label': 'pos', 'score': 0.7387046813964844}, {'label': 'neu', 'score': 0.8969057202339172}, {'label': 'neu', 'score': 0.6513991951942444}, {'label': 'neu', 'score': 0.5457607507705688}, {'label': 'neg', 'score': 0.9430404901504517}, {'label': 'neg', 'score': 0.9825069308280945}, {'label': 'q', 'score': 0.8159309029579163}, {'label': 'neu', 'score': 0.666374146938324}, {'label': 'neu', 'score': 0.6988047361373901}, {'label': 'neg', 'score': 0.7998703718185425}, {'label': 'neg', 'score': 0.9679287672042847}, {'label': 'neg', 'score': 0.7963702082633972}, {'label': 'neu', 'score': 0.9259352684020996}, {'label': 'neg', 'score': 0.9783299565315247}, {'label': 'neu', 'score': 0.7437147498130798}, {'label': 'q', 'score': 0.6891246438026428}, {'label': 'pos', 'score': 0.968021810054779}, {'label': 'neg', 'score': 0.9484260082244873}, {'label': 'neg', 'score': 0.5110824108123779}, {'label': 'neu', 'score': 0.7962055206298828}, {'label': 'neg', 'score': 0.9881846904754639}, {'label': 'neg', 'score': 0.9724524617195129}, {'label': 'neg', 'score': 0.9810798168182373}, {'label': 'neg', 'score': 0.709815502166748}, {'label': 'neg', 'score': 0.9497849345207214}, {'label': 'neu', 'score': 0.6975299715995789}, {'label': 'neg', 'score': 0.8593050241470337}, {'label': 'neg', 'score': 0.9588990807533264}, {'label': 'neg', 'score': 0.47212547063827515}, {'label': 'neg', 'score': 0.9125627279281616}, {'label': 'neg', 'score': 0.9949020743370056}, {'label': 'neg', 'score': 0.9785997271537781}, {'label': 'neg', 'score': 0.5085867047309875}, {'label': 'neg', 'score': 0.9684866666793823}, {'label': 'pos', 'score': 0.9644618630409241}, {'label': 'neg', 'score': 0.9493319988250732}, {'label': 'neg', 'score': 0.9925150275230408}, {'label': 'neg', 'score': 0.5388603806495667}, {'label': 'neg', 'score': 0.8382489681243896}, {'label': 'neg', 'score': 0.961736798286438}, {'label': 'neg', 'score': 0.9750012159347534}, {'label': 'neg', 'score': 0.8929014205932617}, {'label': 'pos', 'score': 0.43139344453811646}, {'label': 'neg', 'score': 0.9928734302520752}, {'label': 'neg', 'score': 0.9915750622749329}, {'label': 'neg', 'score': 0.9932178258895874}, {'label': 'neg', 'score': 0.9773646593093872}, {'label': 'neg', 'score': 0.9898059964179993}, {'label': 'neg', 'score': 0.9935488700866699}, {'label': 'neg', 'score': 0.9896798729896545}, {'label': 'neg', 'score': 0.98929363489151}, {'label': 'neg', 'score': 0.9707930088043213}, {'label': 'neg', 'score': 0.984042227268219}, {'label': 'neu', 'score': 0.8723976016044617}, {'label': 'neu', 'score': 0.8920285105705261}, {'label': 'neg', 'score': 0.9524765610694885}, {'label': 'neg', 'score': 0.9842378497123718}, {'label': 'neg', 'score': 0.9902830719947815}, {'label': 'neg', 'score': 0.7194451689720154}, {'label': 'pos', 'score': 0.9420971870422363}, {'label': 'pos', 'score': 0.8282231092453003}, {'label': 'pos', 'score': 0.9704479575157166}, {'label': 'pos', 'score': 0.8220506310462952}, {'label': 'pos', 'score': 0.38753706216812134}, {'label': 'neg', 'score': 0.8947334885597229}, {'label': 'neg', 'score': 0.8919267058372498}, {'label': 'neg', 'score': 0.9582303166389465}, {'label': 'q', 'score': 0.6555165648460388}, {'label': 'neu', 'score': 0.639946460723877}, {'label': 'neg', 'score': 0.9937184453010559}, {'label': 'neu', 'score': 0.9689854979515076}, {'label': 'neu', 'score': 0.6052336692810059}, {'label': 'q', 'score': 0.5988970994949341}, {'label': 'pos', 'score': 0.6404623985290527}, {'label': 'neg', 'score': 0.9881007671356201}, {'label': 'neu', 'score': 0.8274393081665039}, {'label': 'pos', 'score': 0.7477008104324341}, {'label': 'neu', 'score': 0.7458884716033936}, {'label': 'q', 'score': 0.5245455503463745}, {'label': 'neg', 'score': 0.9917521476745605}, {'label': 'neg', 'score': 0.9644613265991211}, {'label': 'pos', 'score': 0.5460428595542908}, {'label': 'pos', 'score': 0.8162438273429871}, {'label': 'neg', 'score': 0.9363275170326233}, {'label': 'neg', 'score': 0.9525163769721985}, {'label': 'neg', 'score': 0.9358072280883789}, {'label': 'q', 'score': 0.6386559009552002}, {'label': 'neg', 'score': 0.4069892168045044}, {'label': 'neu', 'score': 0.9539883732795715}, {'label': 'neg', 'score': 0.9863805770874023}, {'label': 'neg', 'score': 0.51624995470047}, {'label': 'neg', 'score': 0.9930843710899353}, {'label': 'neg', 'score': 0.9215410351753235}, {'label': 'neg', 'score': 0.8842285871505737}, {'label': 'pos', 'score': 0.7138416767120361}, {'label': 'neg', 'score': 0.9138043522834778}, {'label': 'neu', 'score': 0.47030916810035706}, {'label': 'pos', 'score': 0.6557285785675049}, {'label': 'neg', 'score': 0.9881802797317505}, {'label': 'neg', 'score': 0.9566164016723633}, {'label': 'neu', 'score': 0.8938320875167847}, {'label': 'neu', 'score': 0.9441669583320618}, {'label': 'neg', 'score': 0.9814046025276184}, {'label': 'neu', 'score': 0.5618627071380615}, {'label': 'neg', 'score': 0.7056267857551575}, {'label': 'neg', 'score': 0.9765812754631042}, {'label': 'neg', 'score': 0.9935586452484131}, {'label': 'neg', 'score': 0.9917230010032654}, {'label': 'neg', 'score': 0.9935697913169861}, {'label': 'neg', 'score': 0.993442177772522}, {'label': 'neg', 'score': 0.9808922410011292}, {'label': 'neg', 'score': 0.9077316522598267}, {'label': 'neg', 'score': 0.8902502655982971}, {'label': 'neg', 'score': 0.9702109694480896}, {'label': 'neg', 'score': 0.9954988956451416}, {'label': 'neg', 'score': 0.9700763821601868}, {'label': 'neg', 'score': 0.9268983006477356}, {'label': 'neu', 'score': 0.8514441251754761}, {'label': 'neg', 'score': 0.9830082654953003}, {'label': 'neg', 'score': 0.9687179923057556}, {'label': 'neg', 'score': 0.992508590221405}, {'label': 'neg', 'score': 0.9876064658164978}, {'label': 'pos', 'score': 0.9197964668273926}, {'label': 'neu', 'score': 0.9099621772766113}, {'label': 'neg', 'score': 0.9882701635360718}, {'label': 'neu', 'score': 0.6158696413040161}, {'label': 'pos', 'score': 0.8164867758750916}, {'label': 'pos', 'score': 0.7543994188308716}, {'label': 'neu', 'score': 0.7765424251556396}, {'label': 'neg', 'score': 0.9916235208511353}, {'label': 'neg', 'score': 0.9914436936378479}, {'label': 'neg', 'score': 0.9026011228561401}, {'label': 'neg', 'score': 0.9722339510917664}, {'label': 'neg', 'score': 0.9909093976020813}, {'label': 'neg', 'score': 0.9827265739440918}, {'label': 'neg', 'score': 0.7982974648475647}, {'label': 'q', 'score': 0.7423841953277588}, {'label': 'neg', 'score': 0.5723241567611694}, {'label': 'neg', 'score': 0.9934262633323669}, {'label': 'neu', 'score': 0.8493274450302124}, {'label': 'neu', 'score': 0.9859157204627991}, {'label': 'neg', 'score': 0.993462085723877}, {'label': 'neg', 'score': 0.8887031078338623}, {'label': 'neg', 'score': 0.9888060688972473}, {'label': 'neu', 'score': 0.7171106934547424}, {'label': 'pos', 'score': 0.47811558842658997}, {'label': 'neg', 'score': 0.9877493381500244}, {'label': 'neg', 'score': 0.7253358960151672}, {'label': 'neg', 'score': 0.9653032422065735}, {'label': 'q', 'score': 0.5424473881721497}, {'label': 'neg', 'score': 0.9836111664772034}, {'label': 'neg', 'score': 0.9786850810050964}, {'label': 'neg', 'score': 0.9897828698158264}, {'label': 'neg', 'score': 0.9895045757293701}, {'label': 'neg', 'score': 0.9826624393463135}, {'label': 'neg', 'score': 0.9828962087631226}, {'label': 'neg', 'score': 0.8161604404449463}, {'label': 'neg', 'score': 0.6210788488388062}, {'label': 'neg', 'score': 0.985601544380188}, {'label': 'neg', 'score': 0.8847126364707947}, {'label': 'neg', 'score': 0.8733919262886047}, {'label': 'neg', 'score': 0.991561770439148}, {'label': 'neg', 'score': 0.9862001538276672}, {'label': 'neu', 'score': 0.6259636878967285}, {'label': 'neu', 'score': 0.5254237055778503}, {'label': 'neg', 'score': 0.8941828012466431}, {'label': 'neg', 'score': 0.9682382941246033}, {'label': 'neg', 'score': 0.9921479821205139}, {'label': 'neg', 'score': 0.957161009311676}, {'label': 'neg', 'score': 0.8803914189338684}, {'label': 'neg', 'score': 0.92796790599823}, {'label': 'neg', 'score': 0.9906982779502869}, {'label': 'neu', 'score': 0.7192081809043884}, {'label': 'neu', 'score': 0.5192246437072754}, {'label': 'neu', 'score': 0.4583158493041992}, {'label': 'neg', 'score': 0.528656005859375}, {'label': 'neu', 'score': 0.9467387795448303}, {'label': 'neu', 'score': 0.6346412301063538}, {'label': 'neu', 'score': 0.49880748987197876}, {'label': 'pos', 'score': 0.6777058839797974}, {'label': 'neg', 'score': 0.6160386800765991}, {'label': 'pos', 'score': 0.5322005748748779}, {'label': 'neg', 'score': 0.8519671559333801}, {'label': 'neu', 'score': 0.9025782346725464}, {'label': 'neg', 'score': 0.9861094951629639}, {'label': 'neu', 'score': 0.8930675983428955}, {'label': 'neg', 'score': 0.924349844455719}, {'label': 'neg', 'score': 0.7989800572395325}, {'label': 'pos', 'score': 0.877241313457489}, {'label': 'neg', 'score': 0.9872209429740906}, {'label': 'neg', 'score': 0.9370185732841492}, {'label': 'neg', 'score': 0.986325204372406}, {'label': 'q', 'score': 0.5387425422668457}, {'label': 'neg', 'score': 0.9940319657325745}, {'label': 'q', 'score': 0.8112294673919678}, {'label': 'neg', 'score': 0.9887007474899292}, {'label': 'neg', 'score': 0.994170606136322}, {'label': 'neu', 'score': 0.8595109581947327}, {'label': 'neg', 'score': 0.45075881481170654}, {'label': 'neu', 'score': 0.7191758751869202}, {'label': 'pos', 'score': 0.5112048387527466}, {'label': 'pos', 'score': 0.602602481842041}, {'label': 'pos', 'score': 0.8447791337966919}, {'label': 'neg', 'score': 0.6783596873283386}, {'label': 'pos', 'score': 0.9604066610336304}, {'label': 'neu', 'score': 0.9155300855636597}, {'label': 'neu', 'score': 0.8636021018028259}, {'label': 'neg', 'score': 0.9931045174598694}, {'label': 'neg', 'score': 0.9085389375686646}, {'label': 'q', 'score': 0.5217328667640686}, {'label': 'neg', 'score': 0.9883177280426025}, {'label': 'neg', 'score': 0.9872472882270813}, {'label': 'neg', 'score': 0.9935531616210938}, {'label': 'pos', 'score': 0.7691442966461182}, {'label': 'neg', 'score': 0.9196566343307495}, {'label': 'neu', 'score': 0.9323961138725281}, {'label': 'pos', 'score': 0.8907172679901123}, {'label': 'neu', 'score': 0.5794798731803894}, {'label': 'pos', 'score': 0.9531914591789246}, {'label': 'neg', 'score': 0.9919806718826294}, {'label': 'neu', 'score': 0.8865537643432617}, {'label': 'pos', 'score': 0.49327391386032104}, {'label': 'neg', 'score': 0.9843581914901733}, {'label': 'pos', 'score': 0.8073602318763733}, {'label': 'neg', 'score': 0.9770612716674805}, {'label': 'neu', 'score': 0.8909623622894287}, {'label': 'neg', 'score': 0.9920629262924194}, {'label': 'neu', 'score': 0.5146651864051819}, {'label': 'neg', 'score': 0.968561053276062}, {'label': 'neg', 'score': 0.9954211115837097}, {'label': 'neg', 'score': 0.9938988089561462}, {'label': 'neg', 'score': 0.9448202252388}, {'label': 'neg', 'score': 0.8176178932189941}, {'label': 'neg', 'score': 0.9765366911888123}, {'label': 'pos', 'score': 0.4569900631904602}, {'label': 'q', 'score': 0.7339852452278137}, {'label': 'neg', 'score': 0.9872816801071167}, {'label': 'neg', 'score': 0.9813128709793091}, {'label': 'neg', 'score': 0.9726983904838562}, {'label': 'q', 'score': 0.5905495285987854}, {'label': 'neg', 'score': 0.990300178527832}, {'label': 'neg', 'score': 0.9786126017570496}, {'label': 'pos', 'score': 0.37843039631843567}, {'label': 'neg', 'score': 0.9933350682258606}, {'label': 'neu', 'score': 0.8284018039703369}, {'label': 'pos', 'score': 0.7357608675956726}, {'label': 'neg', 'score': 0.9902216196060181}, {'label': 'neg', 'score': 0.9822528958320618}, {'label': 'neu', 'score': 0.599622368812561}, {'label': 'neg', 'score': 0.7390848994255066}, {'label': 'neu', 'score': 0.5635464191436768}, {'label': 'neg', 'score': 0.5154892206192017}, {'label': 'neg', 'score': 0.9655183553695679}, {'label': 'neu', 'score': 0.8284088373184204}, {'label': 'neg', 'score': 0.8759291172027588}, {'label': 'neu', 'score': 0.7196990847587585}, {'label': 'neg', 'score': 0.7859176397323608}, {'label': 'neu', 'score': 0.9295010566711426}, {'label': 'neg', 'score': 0.9871558547019958}, {'label': 'neg', 'score': 0.5665541291236877}, {'label': 'neg', 'score': 0.9755254983901978}, {'label': 'q', 'score': 0.500420868396759}, {'label': 'neg', 'score': 0.9724905490875244}, {'label': 'neg', 'score': 0.9837468862533569}, {'label': 'neg', 'score': 0.9919353723526001}, {'label': 'neg', 'score': 0.9931684136390686}, {'label': 'neg', 'score': 0.9928981065750122}, {'label': 'neu', 'score': 0.9659653306007385}, {'label': 'neg', 'score': 0.9891945719718933}, {'label': 'neg', 'score': 0.9877373576164246}, {'label': 'neg', 'score': 0.8917750120162964}, {'label': 'neg', 'score': 0.9587450623512268}, {'label': 'neu', 'score': 0.5000413656234741}, {'label': 'neg', 'score': 0.9842305779457092}, {'label': 'neu', 'score': 0.42722153663635254}, {'label': 'neg', 'score': 0.9844615459442139}, {'label': 'neu', 'score': 0.9516941905021667}, {'label': 'pos', 'score': 0.7996722459793091}, {'label': 'pos', 'score': 0.40904301404953003}, {'label': 'neg', 'score': 0.9703739285469055}, {'label': 'neg', 'score': 0.994306206703186}, {'label': 'neu', 'score': 0.9841237664222717}, {'label': 'neg', 'score': 0.9717832803726196}, {'label': 'q', 'score': 0.6987873315811157}, {'label': 'neg', 'score': 0.7729734778404236}, {'label': 'neg', 'score': 0.9753915071487427}, {'label': 'pos', 'score': 0.9679215550422668}, {'label': 'neu', 'score': 0.9074721932411194}, {'label': 'neg', 'score': 0.5767604112625122}, {'label': 'neu', 'score': 0.5293143391609192}, {'label': 'neg', 'score': 0.6097530126571655}, {'label': 'q', 'score': 0.5007239580154419}, {'label': 'pos', 'score': 0.49315932393074036}, {'label': 'neu', 'score': 0.880415141582489}, {'label': 'neg', 'score': 0.8438831567764282}, {'label': 'neg', 'score': 0.9683613777160645}, {'label': 'neg', 'score': 0.9853444695472717}, {'label': 'neg', 'score': 0.9919359683990479}, {'label': 'neg', 'score': 0.9685227274894714}, {'label': 'neu', 'score': 0.959407389163971}, {'label': 'neu', 'score': 0.5532393455505371}, {'label': 'neg', 'score': 0.9904162883758545}, {'label': 'neu', 'score': 0.9386224746704102}, {'label': 'neu', 'score': 0.915134072303772}, {'label': 'neg', 'score': 0.9920479655265808}, {'label': 'q', 'score': 0.5664786100387573}, {'label': 'neg', 'score': 0.7976743578910828}, {'label': 'neu', 'score': 0.9232041239738464}, {'label': 'neg', 'score': 0.7292708158493042}, {'label': 'neg', 'score': 0.9751503467559814}, {'label': 'pos', 'score': 0.9277850389480591}, {'label': 'neu', 'score': 0.8799194097518921}, {'label': 'neg', 'score': 0.8628724813461304}, {'label': 'neg', 'score': 0.850885808467865}, {'label': 'neg', 'score': 0.9842574596405029}, {'label': 'neg', 'score': 0.8396010994911194}, {'label': 'neg', 'score': 0.9678080677986145}, {'label': 'neg', 'score': 0.9781007766723633}, {'label': 'neg', 'score': 0.8166791200637817}, {'label': 'neg', 'score': 0.9853920936584473}, {'label': 'pos', 'score': 0.9110199809074402}, {'label': 'pos', 'score': 0.8862926363945007}, {'label': 'neu', 'score': 0.44901585578918457}, {'label': 'q', 'score': 0.6864811182022095}, {'label': 'neg', 'score': 0.5983249545097351}, {'label': 'q', 'score': 0.8090554475784302}, {'label': 'pos', 'score': 0.9261103868484497}, {'label': 'neu', 'score': 0.5958415865898132}, {'label': 'neu', 'score': 0.7103198170661926}, {'label': 'neg', 'score': 0.9203554391860962}, {'label': 'neg', 'score': 0.9867186546325684}, {'label': 'neu', 'score': 0.5734336376190186}, {'label': 'neg', 'score': 0.9748921990394592}, {'label': 'neu', 'score': 0.4400831460952759}, {'label': 'neg', 'score': 0.9001538157463074}, {'label': 'neu', 'score': 0.8881433606147766}, {'label': 'neg', 'score': 0.8955460786819458}, {'label': 'neu', 'score': 0.5659534931182861}, {'label': 'neu', 'score': 0.47427091002464294}, {'label': 'neg', 'score': 0.9844602942466736}, {'label': 'neg', 'score': 0.9877454042434692}, {'label': 'neg', 'score': 0.9689938426017761}, {'label': 'neg', 'score': 0.9908088445663452}, {'label': 'neg', 'score': 0.9790259003639221}, {'label': 'neg', 'score': 0.9757331609725952}, {'label': 'pos', 'score': 0.5392822623252869}, {'label': 'pos', 'score': 0.8255029916763306}, {'label': 'neu', 'score': 0.49669012427330017}, {'label': 'neu', 'score': 0.9004546403884888}, {'label': 'neg', 'score': 0.9167640805244446}, {'label': 'neg', 'score': 0.8365118503570557}, {'label': 'neg', 'score': 0.8041314482688904}, {'label': 'neg', 'score': 0.9861226081848145}, {'label': 'pos', 'score': 0.8170987367630005}, {'label': 'q', 'score': 0.627648115158081}, {'label': 'neg', 'score': 0.9885788559913635}, {'label': 'neg', 'score': 0.9864822626113892}, {'label': 'neu', 'score': 0.49211904406547546}, {'label': 'neg', 'score': 0.959296464920044}, {'label': 'neg', 'score': 0.9840652346611023}, {'label': 'neg', 'score': 0.9850116968154907}, {'label': 'neg', 'score': 0.9398636221885681}, {'label': 'neu', 'score': 0.9118166565895081}, {'label': 'pos', 'score': 0.9467012882232666}, {'label': 'pos', 'score': 0.5854828953742981}, {'label': 'pos', 'score': 0.7226592302322388}, {'label': 'pos', 'score': 0.8967368602752686}, {'label': 'neu', 'score': 0.6253264546394348}, {'label': 'neu', 'score': 0.5742251873016357}, {'label': 'neg', 'score': 0.9767911434173584}, {'label': 'neg', 'score': 0.9768778681755066}, {'label': 'q', 'score': 0.7700039148330688}, {'label': 'neg', 'score': 0.7240703105926514}, {'label': 'neu', 'score': 0.8261351585388184}, {'label': 'neg', 'score': 0.8520496487617493}, {'label': 'neg', 'score': 0.9800735712051392}, {'label': 'pos', 'score': 0.6408202648162842}, {'label': 'neu', 'score': 0.822981595993042}, {'label': 'neu', 'score': 0.7570144534111023}, {'label': 'neu', 'score': 0.8130326867103577}, {'label': 'neu', 'score': 0.8124682307243347}, {'label': 'pos', 'score': 0.9105165004730225}, {'label': 'neg', 'score': 0.9609336256980896}, {'label': 'neg', 'score': 0.9913930296897888}, {'label': 'neg', 'score': 0.98911452293396}, {'label': 'neg', 'score': 0.9879754781723022}, {'label': 'neg', 'score': 0.9934930801391602}, {'label': 'neg', 'score': 0.9851906895637512}, {'label': 'pos', 'score': 0.6550902724266052}, {'label': 'neu', 'score': 0.5699961185455322}, {'label': 'pos', 'score': 0.9483166337013245}, {'label': 'pos', 'score': 0.778791606426239}, {'label': 'neu', 'score': 0.7836892604827881}, {'label': 'pos', 'score': 0.5881243944168091}, {'label': 'pos', 'score': 0.6109830737113953}, {'label': 'pos', 'score': 0.6968237161636353}, {'label': 'neg', 'score': 0.9202737212181091}, {'label': 'neg', 'score': 0.40315118432044983}, {'label': 'neg', 'score': 0.9667956829071045}, {'label': 'neu', 'score': 0.9116978645324707}, {'label': 'pos', 'score': 0.8300064206123352}, {'label': 'neg', 'score': 0.9804513454437256}, {'label': 'neg', 'score': 0.9941267967224121}, {'label': 'neu', 'score': 0.638579785823822}, {'label': 'neu', 'score': 0.9576956033706665}, {'label': 'neg', 'score': 0.9865474700927734}, {'label': 'neg', 'score': 0.9940142035484314}, {'label': 'pos', 'score': 0.6845856308937073}, {'label': 'pos', 'score': 0.48465001583099365}, {'label': 'neg', 'score': 0.9771728515625}, {'label': 'neg', 'score': 0.9928981065750122}, {'label': 'neg', 'score': 0.541102945804596}, {'label': 'neu', 'score': 0.8323686718940735}, {'label': 'neg', 'score': 0.9038294553756714}, {'label': 'neg', 'score': 0.9932035207748413}, {'label': 'neg', 'score': 0.9918445944786072}, {'label': 'neu', 'score': 0.6922935843467712}, {'label': 'neu', 'score': 0.43664512038230896}, {'label': 'pos', 'score': 0.78141850233078}, {'label': 'neu', 'score': 0.5026677250862122}, {'label': 'q', 'score': 0.6769716739654541}, {'label': 'pos', 'score': 0.9359795451164246}, {'label': 'neg', 'score': 0.97910475730896}, {'label': 'pos', 'score': 0.7389755845069885}, {'label': 'neg', 'score': 0.9843619465827942}, {'label': 'neu', 'score': 0.6420350670814514}, {'label': 'neu', 'score': 0.7599631547927856}, {'label': 'neg', 'score': 0.8323888778686523}, {'label': 'neu', 'score': 0.7238624095916748}, {'label': 'neu', 'score': 0.650453507900238}, {'label': 'neg', 'score': 0.9927607774734497}, {'label': 'q', 'score': 0.7618744969367981}, {'label': 'neg', 'score': 0.8133447170257568}, {'label': 'q', 'score': 0.5053458213806152}, {'label': 'neg', 'score': 0.9341832995414734}, {'label': 'neg', 'score': 0.6003144383430481}, {'label': 'neg', 'score': 0.9494538903236389}, {'label': 'neu', 'score': 0.8388491272926331}, {'label': 'neg', 'score': 0.9882979393005371}, {'label': 'neg', 'score': 0.9802073240280151}, {'label': 'neg', 'score': 0.9936016798019409}, {'label': 'q', 'score': 0.5329918265342712}, {'label': 'neg', 'score': 0.4943847060203552}, {'label': 'neg', 'score': 0.46160823106765747}, {'label': 'neu', 'score': 0.5803290009498596}, {'label': 'neg', 'score': 0.9509406685829163}, {'label': 'neg', 'score': 0.9872220754623413}, {'label': 'pos', 'score': 0.747035562992096}, {'label': 'neg', 'score': 0.8036180734634399}, {'label': 'neg', 'score': 0.7372629046440125}, {'label': 'neg', 'score': 0.9654451012611389}, {'label': 'neg', 'score': 0.8266456127166748}, {'label': 'neg', 'score': 0.4614373743534088}, {'label': 'neu', 'score': 0.833437979221344}, {'label': 'pos', 'score': 0.6936067342758179}, {'label': 'pos', 'score': 0.8917706608772278}, {'label': 'neg', 'score': 0.9902922511100769}, {'label': 'neg', 'score': 0.9796369671821594}, {'label': 'neg', 'score': 0.9128953218460083}, {'label': 'neu', 'score': 0.8958285450935364}, {'label': 'neg', 'score': 0.9806304574012756}, {'label': 'neg', 'score': 0.5294037461280823}, {'label': 'neg', 'score': 0.9729050993919373}, {'label': 'pos', 'score': 0.7378968596458435}, {'label': 'neu', 'score': 0.6985880136489868}, {'label': 'neu', 'score': 0.8001706004142761}, {'label': 'neu', 'score': 0.8455670475959778}, {'label': 'neg', 'score': 0.9569036960601807}, {'label': 'neg', 'score': 0.9438435435295105}, {'label': 'neg', 'score': 0.9893249273300171}, {'label': 'neg', 'score': 0.639150857925415}, {'label': 'neg', 'score': 0.9783616065979004}, {'label': 'neg', 'score': 0.9931337237358093}, {'label': 'neg', 'score': 0.9880810379981995}, {'label': 'neg', 'score': 0.9364702105522156}, {'label': 'neu', 'score': 0.6924365162849426}, {'label': 'neu', 'score': 0.9199094176292419}, {'label': 'neg', 'score': 0.9136257171630859}, {'label': 'q', 'score': 0.585002064704895}, {'label': 'neg', 'score': 0.796604573726654}, {'label': 'neu', 'score': 0.6971826553344727}, {'label': 'neg', 'score': 0.9739717245101929}, {'label': 'neg', 'score': 0.9851380586624146}, {'label': 'neu', 'score': 0.7751171588897705}, {'label': 'neu', 'score': 0.8612373471260071}, {'label': 'neu', 'score': 0.5365018844604492}, {'label': 'neu', 'score': 0.7571143507957458}, {'label': 'neu', 'score': 0.8930469751358032}, {'label': 'neu', 'score': 0.9227117300033569}, {'label': 'neu', 'score': 0.938295304775238}, {'label': 'neu', 'score': 0.8482308387756348}, {'label': 'neg', 'score': 0.917967677116394}, {'label': 'neu', 'score': 0.9063367247581482}, {'label': 'pos', 'score': 0.8685932159423828}, {'label': 'neg', 'score': 0.9928416013717651}, {'label': 'pos', 'score': 0.5041735768318176}, {'label': 'neu', 'score': 0.5895926356315613}, {'label': 'neu', 'score': 0.9659337401390076}, {'label': 'neu', 'score': 0.589993417263031}, {'label': 'neg', 'score': 0.9909457564353943}, {'label': 'neg', 'score': 0.985649824142456}, {'label': 'neu', 'score': 0.5248993635177612}, {'label': 'pos', 'score': 0.7917337417602539}, {'label': 'neu', 'score': 0.7843133807182312}, {'label': 'neu', 'score': 0.7037625908851624}, {'label': 'neu', 'score': 0.8777379989624023}, {'label': 'neg', 'score': 0.9531237483024597}, {'label': 'neg', 'score': 0.6234524250030518}, {'label': 'neu', 'score': 0.9305342435836792}, {'label': 'neu', 'score': 0.9345747232437134}, {'label': 'neu', 'score': 0.5566324591636658}, {'label': 'neg', 'score': 0.45400527119636536}, {'label': 'neu', 'score': 0.9649885892868042}, {'label': 'pos', 'score': 0.818549394607544}, {'label': 'neu', 'score': 0.4858150780200958}, {'label': 'neg', 'score': 0.9817225337028503}, {'label': 'neu', 'score': 0.6547696590423584}, {'label': 'pos', 'score': 0.5688033103942871}, {'label': 'pos', 'score': 0.7930972576141357}, {'label': 'neg', 'score': 0.5650678277015686}, {'label': 'pos', 'score': 0.7170301675796509}, {'label': 'neu', 'score': 0.5492557883262634}, {'label': 'neu', 'score': 0.9636112451553345}, {'label': 'neg', 'score': 0.7482935786247253}, {'label': 'neu', 'score': 0.726731538772583}, {'label': 'neu', 'score': 0.5780858993530273}, {'label': 'neg', 'score': 0.8879265189170837}, {'label': 'neg', 'score': 0.7850518822669983}, {'label': 'neu', 'score': 0.5465494990348816}, {'label': 'neg', 'score': 0.8136500716209412}, {'label': 'neg', 'score': 0.6836315989494324}, {'label': 'neu', 'score': 0.8145237565040588}, {'label': 'neu', 'score': 0.871595025062561}, {'label': 'neg', 'score': 0.5561756491661072}, {'label': 'pos', 'score': 0.6620991230010986}, {'label': 'pos', 'score': 0.8900473117828369}, {'label': 'neu', 'score': 0.818373441696167}, {'label': 'neg', 'score': 0.906575083732605}, {'label': 'neg', 'score': 0.9945855140686035}, {'label': 'neg', 'score': 0.8174002766609192}, {'label': 'pos', 'score': 0.9150488972663879}, {'label': 'pos', 'score': 0.8441465497016907}, {'label': 'neu', 'score': 0.9249916076660156}, {'label': 'neg', 'score': 0.9731051921844482}, {'label': 'neu', 'score': 0.7936468124389648}, {'label': 'neu', 'score': 0.8969886898994446}, {'label': 'neg', 'score': 0.8592477440834045}, {'label': 'neg', 'score': 0.9920158386230469}, {'label': 'pos', 'score': 0.9534173011779785}, {'label': 'neu', 'score': 0.7821076512336731}, {'label': 'neg', 'score': 0.9666785597801208}, {'label': 'pos', 'score': 0.531062662601471}, {'label': 'neg', 'score': 0.9826545119285583}, {'label': 'neu', 'score': 0.9233726859092712}, {'label': 'neg', 'score': 0.9362273216247559}, {'label': 'pos', 'score': 0.8848797082901001}, {'label': 'neg', 'score': 0.9811872839927673}, {'label': 'pos', 'score': 0.9349789619445801}, {'label': 'neu', 'score': 0.8763306140899658}, {'label': 'neg', 'score': 0.9584184288978577}, {'label': 'pos', 'score': 0.7022714614868164}, {'label': 'pos', 'score': 0.8013224601745605}, {'label': 'neg', 'score': 0.9317800998687744}, {'label': 'neu', 'score': 0.8115673661231995}, {'label': 'neu', 'score': 0.7662135362625122}, {'label': 'neu', 'score': 0.577640175819397}, {'label': 'neu', 'score': 0.5737538933753967}, {'label': 'pos', 'score': 0.967799961566925}, {'label': 'neg', 'score': 0.8476593494415283}, {'label': 'pos', 'score': 0.6171706318855286}, {'label': 'neu', 'score': 0.7588768005371094}, {'label': 'neu', 'score': 0.8859468102455139}, {'label': 'neu', 'score': 0.744924783706665}, {'label': 'neu', 'score': 0.9799193143844604}, {'label': 'neu', 'score': 0.9731107950210571}, {'label': 'q', 'score': 0.774417519569397}, {'label': 'neu', 'score': 0.6902608275413513}, {'label': 'neg', 'score': 0.9934988617897034}, {'label': 'neg', 'score': 0.8237141370773315}, {'label': 'neu', 'score': 0.8839384317398071}, {'label': 'neg', 'score': 0.9944305419921875}, {'label': 'neg', 'score': 0.9874255657196045}, {'label': 'q', 'score': 0.666769802570343}, {'label': 'neg', 'score': 0.9538223743438721}, {'label': 'neu', 'score': 0.8318585753440857}, {'label': 'neu', 'score': 0.695594310760498}, {'label': 'neu', 'score': 0.8745120167732239}, {'label': 'neg', 'score': 0.7464121580123901}, {'label': 'neg', 'score': 0.9899854063987732}, {'label': 'neg', 'score': 0.9775073528289795}, {'label': 'neu', 'score': 0.92179936170578}, {'label': 'neg', 'score': 0.8479148745536804}, {'label': 'neg', 'score': 0.9913960695266724}, {'label': 'q', 'score': 0.5598556995391846}, {'label': 'pos', 'score': 0.7904043793678284}, {'label': 'neu', 'score': 0.8287568688392639}, {'label': 'neg', 'score': 0.8456366062164307}, {'label': 'neg', 'score': 0.5201343894004822}, {'label': 'neu', 'score': 0.622672975063324}, {'label': 'neu', 'score': 0.7586758732795715}, {'label': 'neu', 'score': 0.5578498244285583}, {'label': 'neu', 'score': 0.8928158283233643}, {'label': 'neg', 'score': 0.9558418989181519}, {'label': 'neu', 'score': 0.6138352155685425}, {'label': 'neg', 'score': 0.9868029356002808}, {'label': 'neg', 'score': 0.9305554628372192}, {'label': 'q', 'score': 0.6637198328971863}, {'label': 'neg', 'score': 0.9786801338195801}, {'label': 'neg', 'score': 0.9675415754318237}, {'label': 'neu', 'score': 0.720108687877655}, {'label': 'neu', 'score': 0.9268528819084167}, {'label': 'neg', 'score': 0.9901843667030334}, {'label': 'neu', 'score': 0.8920829892158508}, {'label': 'neu', 'score': 0.4657561182975769}, {'label': 'neu', 'score': 0.9550363421440125}, {'label': 'pos', 'score': 0.8447512984275818}, {'label': 'neg', 'score': 0.6510220170021057}, {'label': 'neu', 'score': 0.6769686937332153}, {'label': 'pos', 'score': 0.8531795740127563}, {'label': 'neg', 'score': 0.9848615527153015}, {'label': 'pos', 'score': 0.4940752685070038}, {'label': 'neg', 'score': 0.9920085072517395}, {'label': 'neg', 'score': 0.9764063954353333}, {'label': 'neu', 'score': 0.7366797924041748}, {'label': 'neu', 'score': 0.7016309499740601}, {'label': 'neu', 'score': 0.5046117901802063}, {'label': 'neg', 'score': 0.9423916935920715}, {'label': 'neu', 'score': 0.482270747423172}, {'label': 'neg', 'score': 0.992911159992218}, {'label': 'neu', 'score': 0.6908810138702393}, {'label': 'neg', 'score': 0.9516280889511108}, {'label': 'neg', 'score': 0.5898215770721436}, {'label': 'neu', 'score': 0.8572474122047424}, {'label': 'neg', 'score': 0.9852169156074524}, {'label': 'pos', 'score': 0.9485594034194946}, {'label': 'neg', 'score': 0.9879396557807922}, {'label': 'neg', 'score': 0.9830904603004456}, {'label': 'neg', 'score': 0.9935511946678162}, {'label': 'neg', 'score': 0.9913569688796997}, {'label': 'neg', 'score': 0.9940314888954163}, {'label': 'neg', 'score': 0.9776585102081299}, {'label': 'neg', 'score': 0.9932557344436646}, {'label': 'neu', 'score': 0.5441725254058838}, {'label': 'neg', 'score': 0.44428035616874695}, {'label': 'pos', 'score': 0.7528127431869507}, {'label': 'neg', 'score': 0.9933755993843079}]\n"
          ],
          "name": "stdout"
        }
      ]
    },
    {
      "cell_type": "code",
      "metadata": {
        "id": "LY7vNkuLJJ8U",
        "colab": {
          "base_uri": "https://localhost:8080/"
        },
        "outputId": "b724c84d-581c-400f-ec70-911b4a326d23"
      },
      "source": [
        "len(classify_text)"
      ],
      "execution_count": 90,
      "outputs": [
        {
          "output_type": "execute_result",
          "data": {
            "text/plain": [
              "4458"
            ]
          },
          "metadata": {
            "tags": []
          },
          "execution_count": 90
        }
      ]
    },
    {
      "cell_type": "code",
      "metadata": {
        "id": "Lvg5AMn7Kzfy",
        "colab": {
          "base_uri": "https://localhost:8080/",
          "height": 1000
        },
        "outputId": "8ff98506-37af-43d8-b222-e2bc67cea0c7"
      },
      "source": [
        "df_score = pd.DataFrame(classify_text, columns=['label', 'score'])\n",
        "df_score.head(60)"
      ],
      "execution_count": 91,
      "outputs": [
        {
          "output_type": "execute_result",
          "data": {
            "text/html": [
              "<div>\n",
              "<style scoped>\n",
              "    .dataframe tbody tr th:only-of-type {\n",
              "        vertical-align: middle;\n",
              "    }\n",
              "\n",
              "    .dataframe tbody tr th {\n",
              "        vertical-align: top;\n",
              "    }\n",
              "\n",
              "    .dataframe thead th {\n",
              "        text-align: right;\n",
              "    }\n",
              "</style>\n",
              "<table border=\"1\" class=\"dataframe\">\n",
              "  <thead>\n",
              "    <tr style=\"text-align: right;\">\n",
              "      <th></th>\n",
              "      <th>label</th>\n",
              "      <th>score</th>\n",
              "    </tr>\n",
              "  </thead>\n",
              "  <tbody>\n",
              "    <tr>\n",
              "      <th>0</th>\n",
              "      <td>neg</td>\n",
              "      <td>0.979912</td>\n",
              "    </tr>\n",
              "    <tr>\n",
              "      <th>1</th>\n",
              "      <td>neg</td>\n",
              "      <td>0.582160</td>\n",
              "    </tr>\n",
              "    <tr>\n",
              "      <th>2</th>\n",
              "      <td>pos</td>\n",
              "      <td>0.949244</td>\n",
              "    </tr>\n",
              "    <tr>\n",
              "      <th>3</th>\n",
              "      <td>neg</td>\n",
              "      <td>0.990361</td>\n",
              "    </tr>\n",
              "    <tr>\n",
              "      <th>4</th>\n",
              "      <td>neg</td>\n",
              "      <td>0.913079</td>\n",
              "    </tr>\n",
              "    <tr>\n",
              "      <th>5</th>\n",
              "      <td>neg</td>\n",
              "      <td>0.747371</td>\n",
              "    </tr>\n",
              "    <tr>\n",
              "      <th>6</th>\n",
              "      <td>neg</td>\n",
              "      <td>0.987637</td>\n",
              "    </tr>\n",
              "    <tr>\n",
              "      <th>7</th>\n",
              "      <td>pos</td>\n",
              "      <td>0.917263</td>\n",
              "    </tr>\n",
              "    <tr>\n",
              "      <th>8</th>\n",
              "      <td>neg</td>\n",
              "      <td>0.859544</td>\n",
              "    </tr>\n",
              "    <tr>\n",
              "      <th>9</th>\n",
              "      <td>neg</td>\n",
              "      <td>0.992979</td>\n",
              "    </tr>\n",
              "    <tr>\n",
              "      <th>10</th>\n",
              "      <td>neg</td>\n",
              "      <td>0.979134</td>\n",
              "    </tr>\n",
              "    <tr>\n",
              "      <th>11</th>\n",
              "      <td>neu</td>\n",
              "      <td>0.845084</td>\n",
              "    </tr>\n",
              "    <tr>\n",
              "      <th>12</th>\n",
              "      <td>neg</td>\n",
              "      <td>0.983353</td>\n",
              "    </tr>\n",
              "    <tr>\n",
              "      <th>13</th>\n",
              "      <td>neg</td>\n",
              "      <td>0.977578</td>\n",
              "    </tr>\n",
              "    <tr>\n",
              "      <th>14</th>\n",
              "      <td>pos</td>\n",
              "      <td>0.586280</td>\n",
              "    </tr>\n",
              "    <tr>\n",
              "      <th>15</th>\n",
              "      <td>neg</td>\n",
              "      <td>0.985599</td>\n",
              "    </tr>\n",
              "    <tr>\n",
              "      <th>16</th>\n",
              "      <td>neg</td>\n",
              "      <td>0.995088</td>\n",
              "    </tr>\n",
              "    <tr>\n",
              "      <th>17</th>\n",
              "      <td>neg</td>\n",
              "      <td>0.991967</td>\n",
              "    </tr>\n",
              "    <tr>\n",
              "      <th>18</th>\n",
              "      <td>neg</td>\n",
              "      <td>0.924246</td>\n",
              "    </tr>\n",
              "    <tr>\n",
              "      <th>19</th>\n",
              "      <td>neu</td>\n",
              "      <td>0.886390</td>\n",
              "    </tr>\n",
              "    <tr>\n",
              "      <th>20</th>\n",
              "      <td>pos</td>\n",
              "      <td>0.859608</td>\n",
              "    </tr>\n",
              "    <tr>\n",
              "      <th>21</th>\n",
              "      <td>pos</td>\n",
              "      <td>0.973975</td>\n",
              "    </tr>\n",
              "    <tr>\n",
              "      <th>22</th>\n",
              "      <td>neu</td>\n",
              "      <td>0.941332</td>\n",
              "    </tr>\n",
              "    <tr>\n",
              "      <th>23</th>\n",
              "      <td>neu</td>\n",
              "      <td>0.949466</td>\n",
              "    </tr>\n",
              "    <tr>\n",
              "      <th>24</th>\n",
              "      <td>neg</td>\n",
              "      <td>0.994379</td>\n",
              "    </tr>\n",
              "    <tr>\n",
              "      <th>25</th>\n",
              "      <td>neg</td>\n",
              "      <td>0.961013</td>\n",
              "    </tr>\n",
              "    <tr>\n",
              "      <th>26</th>\n",
              "      <td>neg</td>\n",
              "      <td>0.964076</td>\n",
              "    </tr>\n",
              "    <tr>\n",
              "      <th>27</th>\n",
              "      <td>neg</td>\n",
              "      <td>0.950758</td>\n",
              "    </tr>\n",
              "    <tr>\n",
              "      <th>28</th>\n",
              "      <td>neg</td>\n",
              "      <td>0.984859</td>\n",
              "    </tr>\n",
              "    <tr>\n",
              "      <th>29</th>\n",
              "      <td>neu</td>\n",
              "      <td>0.774983</td>\n",
              "    </tr>\n",
              "    <tr>\n",
              "      <th>30</th>\n",
              "      <td>pos</td>\n",
              "      <td>0.460513</td>\n",
              "    </tr>\n",
              "    <tr>\n",
              "      <th>31</th>\n",
              "      <td>neg</td>\n",
              "      <td>0.943923</td>\n",
              "    </tr>\n",
              "    <tr>\n",
              "      <th>32</th>\n",
              "      <td>neu</td>\n",
              "      <td>0.981334</td>\n",
              "    </tr>\n",
              "    <tr>\n",
              "      <th>33</th>\n",
              "      <td>pos</td>\n",
              "      <td>0.772805</td>\n",
              "    </tr>\n",
              "    <tr>\n",
              "      <th>34</th>\n",
              "      <td>neu</td>\n",
              "      <td>0.971204</td>\n",
              "    </tr>\n",
              "    <tr>\n",
              "      <th>35</th>\n",
              "      <td>neg</td>\n",
              "      <td>0.953609</td>\n",
              "    </tr>\n",
              "    <tr>\n",
              "      <th>36</th>\n",
              "      <td>neg</td>\n",
              "      <td>0.986591</td>\n",
              "    </tr>\n",
              "    <tr>\n",
              "      <th>37</th>\n",
              "      <td>neg</td>\n",
              "      <td>0.941469</td>\n",
              "    </tr>\n",
              "    <tr>\n",
              "      <th>38</th>\n",
              "      <td>neg</td>\n",
              "      <td>0.990308</td>\n",
              "    </tr>\n",
              "    <tr>\n",
              "      <th>39</th>\n",
              "      <td>neg</td>\n",
              "      <td>0.992080</td>\n",
              "    </tr>\n",
              "    <tr>\n",
              "      <th>40</th>\n",
              "      <td>neg</td>\n",
              "      <td>0.990308</td>\n",
              "    </tr>\n",
              "    <tr>\n",
              "      <th>41</th>\n",
              "      <td>pos</td>\n",
              "      <td>0.928010</td>\n",
              "    </tr>\n",
              "    <tr>\n",
              "      <th>42</th>\n",
              "      <td>pos</td>\n",
              "      <td>0.538408</td>\n",
              "    </tr>\n",
              "    <tr>\n",
              "      <th>43</th>\n",
              "      <td>neu</td>\n",
              "      <td>0.613967</td>\n",
              "    </tr>\n",
              "    <tr>\n",
              "      <th>44</th>\n",
              "      <td>neg</td>\n",
              "      <td>0.989131</td>\n",
              "    </tr>\n",
              "    <tr>\n",
              "      <th>45</th>\n",
              "      <td>neg</td>\n",
              "      <td>0.453152</td>\n",
              "    </tr>\n",
              "    <tr>\n",
              "      <th>46</th>\n",
              "      <td>neg</td>\n",
              "      <td>0.983514</td>\n",
              "    </tr>\n",
              "    <tr>\n",
              "      <th>47</th>\n",
              "      <td>pos</td>\n",
              "      <td>0.944843</td>\n",
              "    </tr>\n",
              "    <tr>\n",
              "      <th>48</th>\n",
              "      <td>pos</td>\n",
              "      <td>0.942304</td>\n",
              "    </tr>\n",
              "    <tr>\n",
              "      <th>49</th>\n",
              "      <td>pos</td>\n",
              "      <td>0.692081</td>\n",
              "    </tr>\n",
              "    <tr>\n",
              "      <th>50</th>\n",
              "      <td>neu</td>\n",
              "      <td>0.971289</td>\n",
              "    </tr>\n",
              "    <tr>\n",
              "      <th>51</th>\n",
              "      <td>neu</td>\n",
              "      <td>0.935684</td>\n",
              "    </tr>\n",
              "    <tr>\n",
              "      <th>52</th>\n",
              "      <td>neg</td>\n",
              "      <td>0.891785</td>\n",
              "    </tr>\n",
              "    <tr>\n",
              "      <th>53</th>\n",
              "      <td>neu</td>\n",
              "      <td>0.867347</td>\n",
              "    </tr>\n",
              "    <tr>\n",
              "      <th>54</th>\n",
              "      <td>neg</td>\n",
              "      <td>0.879959</td>\n",
              "    </tr>\n",
              "    <tr>\n",
              "      <th>55</th>\n",
              "      <td>neg</td>\n",
              "      <td>0.981571</td>\n",
              "    </tr>\n",
              "    <tr>\n",
              "      <th>56</th>\n",
              "      <td>neu</td>\n",
              "      <td>0.769854</td>\n",
              "    </tr>\n",
              "    <tr>\n",
              "      <th>57</th>\n",
              "      <td>neu</td>\n",
              "      <td>0.831668</td>\n",
              "    </tr>\n",
              "    <tr>\n",
              "      <th>58</th>\n",
              "      <td>neu</td>\n",
              "      <td>0.846783</td>\n",
              "    </tr>\n",
              "    <tr>\n",
              "      <th>59</th>\n",
              "      <td>pos</td>\n",
              "      <td>0.903255</td>\n",
              "    </tr>\n",
              "  </tbody>\n",
              "</table>\n",
              "</div>"
            ],
            "text/plain": [
              "   label     score\n",
              "0    neg  0.979912\n",
              "1    neg  0.582160\n",
              "2    pos  0.949244\n",
              "3    neg  0.990361\n",
              "4    neg  0.913079\n",
              "5    neg  0.747371\n",
              "6    neg  0.987637\n",
              "7    pos  0.917263\n",
              "8    neg  0.859544\n",
              "9    neg  0.992979\n",
              "10   neg  0.979134\n",
              "11   neu  0.845084\n",
              "12   neg  0.983353\n",
              "13   neg  0.977578\n",
              "14   pos  0.586280\n",
              "15   neg  0.985599\n",
              "16   neg  0.995088\n",
              "17   neg  0.991967\n",
              "18   neg  0.924246\n",
              "19   neu  0.886390\n",
              "20   pos  0.859608\n",
              "21   pos  0.973975\n",
              "22   neu  0.941332\n",
              "23   neu  0.949466\n",
              "24   neg  0.994379\n",
              "25   neg  0.961013\n",
              "26   neg  0.964076\n",
              "27   neg  0.950758\n",
              "28   neg  0.984859\n",
              "29   neu  0.774983\n",
              "30   pos  0.460513\n",
              "31   neg  0.943923\n",
              "32   neu  0.981334\n",
              "33   pos  0.772805\n",
              "34   neu  0.971204\n",
              "35   neg  0.953609\n",
              "36   neg  0.986591\n",
              "37   neg  0.941469\n",
              "38   neg  0.990308\n",
              "39   neg  0.992080\n",
              "40   neg  0.990308\n",
              "41   pos  0.928010\n",
              "42   pos  0.538408\n",
              "43   neu  0.613967\n",
              "44   neg  0.989131\n",
              "45   neg  0.453152\n",
              "46   neg  0.983514\n",
              "47   pos  0.944843\n",
              "48   pos  0.942304\n",
              "49   pos  0.692081\n",
              "50   neu  0.971289\n",
              "51   neu  0.935684\n",
              "52   neg  0.891785\n",
              "53   neu  0.867347\n",
              "54   neg  0.879959\n",
              "55   neg  0.981571\n",
              "56   neu  0.769854\n",
              "57   neu  0.831668\n",
              "58   neu  0.846783\n",
              "59   pos  0.903255"
            ]
          },
          "metadata": {
            "tags": []
          },
          "execution_count": 91
        }
      ]
    },
    {
      "cell_type": "code",
      "metadata": {
        "id": "K0dIJOIjRJGM"
      },
      "source": [
        "data.insert(loc=1,column='label',value=df_score.label)"
      ],
      "execution_count": 92,
      "outputs": []
    },
    {
      "cell_type": "code",
      "metadata": {
        "id": "-6VX_1KsR9Mc"
      },
      "source": [
        "data.insert(loc=2,column='score',value=df_score.score)"
      ],
      "execution_count": 93,
      "outputs": []
    },
    {
      "cell_type": "code",
      "metadata": {
        "id": "bndIUsnxSbDB",
        "colab": {
          "base_uri": "https://localhost:8080/",
          "height": 419
        },
        "outputId": "040e9e96-4fb8-4082-d4ec-c3e16d0a08ce"
      },
      "source": [
        "data"
      ],
      "execution_count": 94,
      "outputs": [
        {
          "output_type": "execute_result",
          "data": {
            "text/html": [
              "<div>\n",
              "<style scoped>\n",
              "    .dataframe tbody tr th:only-of-type {\n",
              "        vertical-align: middle;\n",
              "    }\n",
              "\n",
              "    .dataframe tbody tr th {\n",
              "        vertical-align: top;\n",
              "    }\n",
              "\n",
              "    .dataframe thead th {\n",
              "        text-align: right;\n",
              "    }\n",
              "</style>\n",
              "<table border=\"1\" class=\"dataframe\">\n",
              "  <thead>\n",
              "    <tr style=\"text-align: right;\">\n",
              "      <th></th>\n",
              "      <th>Create_at</th>\n",
              "      <th>label</th>\n",
              "      <th>score</th>\n",
              "      <th>clean_text</th>\n",
              "      <th>Sentiment</th>\n",
              "      <th>Topics</th>\n",
              "    </tr>\n",
              "  </thead>\n",
              "  <tbody>\n",
              "    <tr>\n",
              "      <th>0</th>\n",
              "      <td>2021-01-05</td>\n",
              "      <td>neg</td>\n",
              "      <td>0.979912</td>\n",
              "      <td>ใช่ค่ะ ตอนแรกบอกว่าให้กดรับของได้เลยแล้วจะส่งใ...</td>\n",
              "      <td>neg</td>\n",
              "      <td>Company</td>\n",
              "    </tr>\n",
              "    <tr>\n",
              "      <th>1</th>\n",
              "      <td>2021-01-05</td>\n",
              "      <td>neg</td>\n",
              "      <td>0.582160</td>\n",
              "      <td>อยากให้เรื่องนี้แมส เผื่อว่า จะออกมารับผิดชอบอ...</td>\n",
              "      <td>neg</td>\n",
              "      <td>Company</td>\n",
              "    </tr>\n",
              "    <tr>\n",
              "      <th>2</th>\n",
              "      <td>2021-02-06</td>\n",
              "      <td>pos</td>\n",
              "      <td>0.949244</td>\n",
              "      <td>ขอบคุณบริษัทช้อปปี้มากฮะที่แอดมินพาพี่มายกับอา...</td>\n",
              "      <td>pos</td>\n",
              "      <td>Company</td>\n",
              "    </tr>\n",
              "    <tr>\n",
              "      <th>3</th>\n",
              "      <td>2021-03-26</td>\n",
              "      <td>neg</td>\n",
              "      <td>0.990361</td>\n",
              "      <td>บอกลาบริษัทช้อปปี้ก่อนนะ แอดมินแบบนี้ ซื้อด้วย...</td>\n",
              "      <td>neg</td>\n",
              "      <td>Company</td>\n",
              "    </tr>\n",
              "    <tr>\n",
              "      <th>4</th>\n",
              "      <td>2021-02-01</td>\n",
              "      <td>neg</td>\n",
              "      <td>0.913079</td>\n",
              "      <td>เรากดสั่งของไปรอของมาจนวันนี้ ไม่ส่งซักที วันน...</td>\n",
              "      <td>neg</td>\n",
              "      <td>Company</td>\n",
              "    </tr>\n",
              "    <tr>\n",
              "      <th>...</th>\n",
              "      <td>...</td>\n",
              "      <td>...</td>\n",
              "      <td>...</td>\n",
              "      <td>...</td>\n",
              "      <td>...</td>\n",
              "      <td>...</td>\n",
              "    </tr>\n",
              "    <tr>\n",
              "      <th>4453</th>\n",
              "      <td>2021-03-26</td>\n",
              "      <td>neg</td>\n",
              "      <td>0.993256</td>\n",
              "      <td>แอพช้อปปี้ขนส่งห่วยจริงกูการันตี เปลี่ยนยังไงใ...</td>\n",
              "      <td>neg</td>\n",
              "      <td>System</td>\n",
              "    </tr>\n",
              "    <tr>\n",
              "      <th>4454</th>\n",
              "      <td>2021-03-27</td>\n",
              "      <td>neu</td>\n",
              "      <td>0.544173</td>\n",
              "      <td>เป็นแค่แอพขายของ ทำไมต้องเข้าถึงข้อมูลรูปภาพด้วย</td>\n",
              "      <td>neu</td>\n",
              "      <td>System</td>\n",
              "    </tr>\n",
              "    <tr>\n",
              "      <th>4455</th>\n",
              "      <td>2021-03-28</td>\n",
              "      <td>neg</td>\n",
              "      <td>0.444280</td>\n",
              "      <td>ใช่ๆ ระบบช้อปปี้ดีกว่าเยอะมากเลย</td>\n",
              "      <td>pos</td>\n",
              "      <td>System</td>\n",
              "    </tr>\n",
              "    <tr>\n",
              "      <th>4456</th>\n",
              "      <td>2021-03-29</td>\n",
              "      <td>pos</td>\n",
              "      <td>0.752813</td>\n",
              "      <td>ไปค่ะพุ่งออกจากแอพช้อปปี้เข้ายูทูปต่อค่ะ</td>\n",
              "      <td>pos</td>\n",
              "      <td>System</td>\n",
              "    </tr>\n",
              "    <tr>\n",
              "      <th>4457</th>\n",
              "      <td>2021-03-30</td>\n",
              "      <td>neg</td>\n",
              "      <td>0.993376</td>\n",
              "      <td>อีแอพช้อปปี้แม่งส่งฟรีไม่จริง</td>\n",
              "      <td>neg</td>\n",
              "      <td>System</td>\n",
              "    </tr>\n",
              "  </tbody>\n",
              "</table>\n",
              "<p>4458 rows × 6 columns</p>\n",
              "</div>"
            ],
            "text/plain": [
              "      Create_at label  ...  Sentiment   Topics\n",
              "0    2021-01-05   neg  ...        neg  Company\n",
              "1    2021-01-05   neg  ...        neg  Company\n",
              "2    2021-02-06   pos  ...        pos  Company\n",
              "3    2021-03-26   neg  ...        neg  Company\n",
              "4    2021-02-01   neg  ...        neg  Company\n",
              "...         ...   ...  ...        ...      ...\n",
              "4453 2021-03-26   neg  ...        neg   System\n",
              "4454 2021-03-27   neu  ...        neu   System\n",
              "4455 2021-03-28   neg  ...        pos   System\n",
              "4456 2021-03-29   pos  ...        pos   System\n",
              "4457 2021-03-30   neg  ...        neg   System\n",
              "\n",
              "[4458 rows x 6 columns]"
            ]
          },
          "metadata": {
            "tags": []
          },
          "execution_count": 94
        }
      ]
    },
    {
      "cell_type": "code",
      "metadata": {
        "colab": {
          "base_uri": "https://localhost:8080/"
        },
        "id": "YXGMIlmnFVaC",
        "outputId": "9ee9a6c1-c5b1-4b36-b157-4ff97047f45f"
      },
      "source": [
        "data['label'].unique()"
      ],
      "execution_count": 95,
      "outputs": [
        {
          "output_type": "execute_result",
          "data": {
            "text/plain": [
              "array(['neg', 'pos', 'neu', 'q'], dtype=object)"
            ]
          },
          "metadata": {
            "tags": []
          },
          "execution_count": 95
        }
      ]
    },
    {
      "cell_type": "code",
      "metadata": {
        "colab": {
          "base_uri": "https://localhost:8080/"
        },
        "id": "RrJ4bQcJRo7W",
        "outputId": "b398ae90-5fac-40db-f96e-4762b23b5c04"
      },
      "source": [
        "data['Sentiment'].unique()"
      ],
      "execution_count": 96,
      "outputs": [
        {
          "output_type": "execute_result",
          "data": {
            "text/plain": [
              "array(['neg', 'pos', 'neu'], dtype=object)"
            ]
          },
          "metadata": {
            "tags": []
          },
          "execution_count": 96
        }
      ]
    },
    {
      "cell_type": "code",
      "metadata": {
        "id": "ax3633FnpL5J",
        "colab": {
          "base_uri": "https://localhost:8080/"
        },
        "outputId": "fbc07eb0-e890-4ef7-e23c-7d93ed003b77"
      },
      "source": [
        "print(data.info())"
      ],
      "execution_count": 97,
      "outputs": [
        {
          "output_type": "stream",
          "text": [
            "<class 'pandas.core.frame.DataFrame'>\n",
            "RangeIndex: 4458 entries, 0 to 4457\n",
            "Data columns (total 6 columns):\n",
            " #   Column      Non-Null Count  Dtype         \n",
            "---  ------      --------------  -----         \n",
            " 0   Create_at   4458 non-null   datetime64[ns]\n",
            " 1   label       4458 non-null   object        \n",
            " 2   score       4458 non-null   float64       \n",
            " 3   clean_text  4458 non-null   object        \n",
            " 4   Sentiment   4458 non-null   object        \n",
            " 5   Topics      4458 non-null   object        \n",
            "dtypes: datetime64[ns](1), float64(1), object(4)\n",
            "memory usage: 209.1+ KB\n",
            "None\n"
          ],
          "name": "stdout"
        }
      ]
    },
    {
      "cell_type": "markdown",
      "metadata": {
        "id": "oOUgTbx-qjCM"
      },
      "source": [
        "### Evaluation model"
      ]
    },
    {
      "cell_type": "code",
      "metadata": {
        "id": "v16PaD7cxxME"
      },
      "source": [
        "data['Sentiment'] = data.Sentiment.map({'neg':0, 'pos':1, 'neu':2})\n",
        "data['label'] = data.label.map({'neg':0, 'pos':1, 'neu':2, 'q' : 2})"
      ],
      "execution_count": 98,
      "outputs": []
    },
    {
      "cell_type": "code",
      "metadata": {
        "id": "tyjspQd4tDSq"
      },
      "source": [
        "#data['label'] = data['label'].astype(str).replace('\\.0', '', regex=True)"
      ],
      "execution_count": 99,
      "outputs": []
    },
    {
      "cell_type": "code",
      "metadata": {
        "id": "p7eQIFxrx-nr",
        "colab": {
          "base_uri": "https://localhost:8080/",
          "height": 419
        },
        "outputId": "d7a59400-7847-4062-8778-d85216ec8299"
      },
      "source": [
        "data"
      ],
      "execution_count": 104,
      "outputs": [
        {
          "output_type": "execute_result",
          "data": {
            "text/html": [
              "<div>\n",
              "<style scoped>\n",
              "    .dataframe tbody tr th:only-of-type {\n",
              "        vertical-align: middle;\n",
              "    }\n",
              "\n",
              "    .dataframe tbody tr th {\n",
              "        vertical-align: top;\n",
              "    }\n",
              "\n",
              "    .dataframe thead th {\n",
              "        text-align: right;\n",
              "    }\n",
              "</style>\n",
              "<table border=\"1\" class=\"dataframe\">\n",
              "  <thead>\n",
              "    <tr style=\"text-align: right;\">\n",
              "      <th></th>\n",
              "      <th>Create_at</th>\n",
              "      <th>label</th>\n",
              "      <th>score</th>\n",
              "      <th>clean_text</th>\n",
              "      <th>Sentiment</th>\n",
              "      <th>Topics</th>\n",
              "    </tr>\n",
              "  </thead>\n",
              "  <tbody>\n",
              "    <tr>\n",
              "      <th>0</th>\n",
              "      <td>2021-01-05</td>\n",
              "      <td>0</td>\n",
              "      <td>0.979912</td>\n",
              "      <td>ใช่ค่ะ ตอนแรกบอกว่าให้กดรับของได้เลยแล้วจะส่งใ...</td>\n",
              "      <td>0</td>\n",
              "      <td>Company</td>\n",
              "    </tr>\n",
              "    <tr>\n",
              "      <th>1</th>\n",
              "      <td>2021-01-05</td>\n",
              "      <td>0</td>\n",
              "      <td>0.582160</td>\n",
              "      <td>อยากให้เรื่องนี้แมส เผื่อว่า จะออกมารับผิดชอบอ...</td>\n",
              "      <td>0</td>\n",
              "      <td>Company</td>\n",
              "    </tr>\n",
              "    <tr>\n",
              "      <th>2</th>\n",
              "      <td>2021-02-06</td>\n",
              "      <td>1</td>\n",
              "      <td>0.949244</td>\n",
              "      <td>ขอบคุณบริษัทช้อปปี้มากฮะที่แอดมินพาพี่มายกับอา...</td>\n",
              "      <td>1</td>\n",
              "      <td>Company</td>\n",
              "    </tr>\n",
              "    <tr>\n",
              "      <th>3</th>\n",
              "      <td>2021-03-26</td>\n",
              "      <td>0</td>\n",
              "      <td>0.990361</td>\n",
              "      <td>บอกลาบริษัทช้อปปี้ก่อนนะ แอดมินแบบนี้ ซื้อด้วย...</td>\n",
              "      <td>0</td>\n",
              "      <td>Company</td>\n",
              "    </tr>\n",
              "    <tr>\n",
              "      <th>4</th>\n",
              "      <td>2021-02-01</td>\n",
              "      <td>0</td>\n",
              "      <td>0.913079</td>\n",
              "      <td>เรากดสั่งของไปรอของมาจนวันนี้ ไม่ส่งซักที วันน...</td>\n",
              "      <td>0</td>\n",
              "      <td>Company</td>\n",
              "    </tr>\n",
              "    <tr>\n",
              "      <th>...</th>\n",
              "      <td>...</td>\n",
              "      <td>...</td>\n",
              "      <td>...</td>\n",
              "      <td>...</td>\n",
              "      <td>...</td>\n",
              "      <td>...</td>\n",
              "    </tr>\n",
              "    <tr>\n",
              "      <th>4453</th>\n",
              "      <td>2021-03-26</td>\n",
              "      <td>0</td>\n",
              "      <td>0.993256</td>\n",
              "      <td>แอพช้อปปี้ขนส่งห่วยจริงกูการันตี เปลี่ยนยังไงใ...</td>\n",
              "      <td>0</td>\n",
              "      <td>System</td>\n",
              "    </tr>\n",
              "    <tr>\n",
              "      <th>4454</th>\n",
              "      <td>2021-03-27</td>\n",
              "      <td>2</td>\n",
              "      <td>0.544173</td>\n",
              "      <td>เป็นแค่แอพขายของ ทำไมต้องเข้าถึงข้อมูลรูปภาพด้วย</td>\n",
              "      <td>2</td>\n",
              "      <td>System</td>\n",
              "    </tr>\n",
              "    <tr>\n",
              "      <th>4455</th>\n",
              "      <td>2021-03-28</td>\n",
              "      <td>0</td>\n",
              "      <td>0.444280</td>\n",
              "      <td>ใช่ๆ ระบบช้อปปี้ดีกว่าเยอะมากเลย</td>\n",
              "      <td>1</td>\n",
              "      <td>System</td>\n",
              "    </tr>\n",
              "    <tr>\n",
              "      <th>4456</th>\n",
              "      <td>2021-03-29</td>\n",
              "      <td>1</td>\n",
              "      <td>0.752813</td>\n",
              "      <td>ไปค่ะพุ่งออกจากแอพช้อปปี้เข้ายูทูปต่อค่ะ</td>\n",
              "      <td>1</td>\n",
              "      <td>System</td>\n",
              "    </tr>\n",
              "    <tr>\n",
              "      <th>4457</th>\n",
              "      <td>2021-03-30</td>\n",
              "      <td>0</td>\n",
              "      <td>0.993376</td>\n",
              "      <td>อีแอพช้อปปี้แม่งส่งฟรีไม่จริง</td>\n",
              "      <td>0</td>\n",
              "      <td>System</td>\n",
              "    </tr>\n",
              "  </tbody>\n",
              "</table>\n",
              "<p>4458 rows × 6 columns</p>\n",
              "</div>"
            ],
            "text/plain": [
              "      Create_at  label  ...  Sentiment   Topics\n",
              "0    2021-01-05      0  ...          0  Company\n",
              "1    2021-01-05      0  ...          0  Company\n",
              "2    2021-02-06      1  ...          1  Company\n",
              "3    2021-03-26      0  ...          0  Company\n",
              "4    2021-02-01      0  ...          0  Company\n",
              "...         ...    ...  ...        ...      ...\n",
              "4453 2021-03-26      0  ...          0   System\n",
              "4454 2021-03-27      2  ...          2   System\n",
              "4455 2021-03-28      0  ...          1   System\n",
              "4456 2021-03-29      1  ...          1   System\n",
              "4457 2021-03-30      0  ...          0   System\n",
              "\n",
              "[4458 rows x 6 columns]"
            ]
          },
          "metadata": {
            "tags": []
          },
          "execution_count": 104
        }
      ]
    },
    {
      "cell_type": "code",
      "metadata": {
        "id": "fFLanaWutMlY",
        "colab": {
          "base_uri": "https://localhost:8080/"
        },
        "outputId": "5e11debd-813f-49d6-e910-e8d830824199"
      },
      "source": [
        "print(data.info())"
      ],
      "execution_count": 101,
      "outputs": [
        {
          "output_type": "stream",
          "text": [
            "<class 'pandas.core.frame.DataFrame'>\n",
            "RangeIndex: 4458 entries, 0 to 4457\n",
            "Data columns (total 6 columns):\n",
            " #   Column      Non-Null Count  Dtype         \n",
            "---  ------      --------------  -----         \n",
            " 0   Create_at   4458 non-null   datetime64[ns]\n",
            " 1   label       4458 non-null   int64         \n",
            " 2   score       4458 non-null   float64       \n",
            " 3   clean_text  4458 non-null   object        \n",
            " 4   Sentiment   4458 non-null   int64         \n",
            " 5   Topics      4458 non-null   object        \n",
            "dtypes: datetime64[ns](1), float64(1), int64(2), object(2)\n",
            "memory usage: 209.1+ KB\n",
            "None\n"
          ],
          "name": "stdout"
        }
      ]
    },
    {
      "cell_type": "code",
      "metadata": {
        "id": "fDHSxzWtrf5U",
        "colab": {
          "base_uri": "https://localhost:8080/"
        },
        "outputId": "5b7a06c1-d878-4bf2-d48f-185a8708289c"
      },
      "source": [
        "from sklearn.metrics import classification_report, confusion_matrix\n",
        "  \n",
        "y_pred = data['label']\n",
        "y_true = data['Sentiment']\n",
        "\n",
        "print('System')\n",
        "print('test')\n",
        "target_names = ['Negative', 'Positive', 'Neutral']\n",
        "print(classification_report(y_true,y_pred,target_names=target_names))"
      ],
      "execution_count": 102,
      "outputs": [
        {
          "output_type": "stream",
          "text": [
            "System\n",
            "test\n",
            "              precision    recall  f1-score   support\n",
            "\n",
            "    Negative       0.77      0.98      0.87      1838\n",
            "    Positive       0.95      0.57      0.72      1173\n",
            "     Neutral       0.76      0.75      0.76      1447\n",
            "\n",
            "    accuracy                           0.80      4458\n",
            "   macro avg       0.83      0.77      0.78      4458\n",
            "weighted avg       0.82      0.80      0.79      4458\n",
            "\n"
          ],
          "name": "stdout"
        }
      ]
    },
    {
      "cell_type": "code",
      "metadata": {
        "id": "ugBqdgAWiER_"
      },
      "source": [
        "data.to_excel('data_wangchanBERTa.xlsx')"
      ],
      "execution_count": 106,
      "outputs": []
    },
    {
      "cell_type": "markdown",
      "metadata": {
        "id": "FoEiJSksTBuU"
      },
      "source": [
        "# Topic Modeling"
      ]
    },
    {
      "cell_type": "code",
      "metadata": {
        "id": "RT-YHZN2UXzx"
      },
      "source": [
        "#pipeline\n",
        "zero_classify = pipeline(task='zero-shot-classification',\n",
        "         tokenizer=tokenizer,\n",
        "         model=AutoModelForSequenceClassification.from_pretrained(\n",
        "             f'airesearch/{model_name}' if model_name not in public_models else f'airesearch/{model_name}-finetuned',\n",
        "             revision='finetuned@xnli_th')\n",
        "         )"
      ],
      "execution_count": null,
      "outputs": []
    },
    {
      "cell_type": "code",
      "metadata": {
        "colab": {
          "base_uri": "https://localhost:8080/"
        },
        "id": "Xsd5Rbxbd-43",
        "outputId": "0d09223a-9d8f-4791-c0ae-1cba55459165"
      },
      "source": [
        "input_text2 = 'อิควาย คือแต่ก่อนส่งฟรีแบบไม่แอร์เพย์ ละเปลี่ยนมาส่งฟรีแอร์เพย์ ละก็เปลี่ยนมาส่งฟรีแอร์เพย์ได้เดือนละ4ครั้ง ละก็เปลี่ยนมาส่งฟรีเดือนละ2ครั้ง ละก็เปลี่ยนอีกเป็นเดือนละ2ครั้งและร้านนั้นต้องเป็นfree shipping specialอะไรไม่รู้อีก เหี้ยอะไรของมึง'\n",
        "#input_text2 = [text2 for text2 in data['clean_text']]\n",
        "preprocess_input_text = True #@param {type:\"boolean\"}\n",
        "if preprocess_input_text:\n",
        "    if model_name not in public_models:\n",
        "        input_text = process_transformers(str(input_text2))\n",
        "\n",
        "#infer\n",
        "zero_classify(input_text, \n",
        "              candidate_labels=['ระบบ','ขนส่ง','บริษัท','โปรโมชั่น','ร้านค้า'],\n",
        "              hypothesis_template='ลูกค้าพูดเกี่ยวกับ{}')"
      ],
      "execution_count": null,
      "outputs": [
        {
          "output_type": "execute_result",
          "data": {
            "text/plain": [
              "{'labels': ['ขนส่ง', 'ร้านค้า', 'โปรโมชั่น', 'ระบบ', 'บริษัท'],\n",
              " 'scores': [0.28293004631996155,\n",
              "  0.25567400455474854,\n",
              "  0.24590718746185303,\n",
              "  0.13690268993377686,\n",
              "  0.07858608663082123],\n",
              " 'sequence': 'อิควาย<_>คือแต่ก่อนส่งฟรีแบบไม่แอร์เพย์<_>ละเปลี่ยนมาส่งฟรีแอร์เพย์<_>ละก็เปลี่ยนมาส่งฟรีแอร์เพย์ได้เดือนละ4ครั้ง<_>ละก็เปลี่ยนมาส่งฟรีเดือนละ2ครั้ง<_>ละก็เปลี่ยนอีกเป็นเดือนละ2ครั้งและร้านนั้นต้องเป็นfree<_>shipping<_>specialอะไรไม่รู้อีก<_>เหี้ยอะไรของมึง'}"
            ]
          },
          "metadata": {
            "tags": []
          },
          "execution_count": 23
        }
      ]
    },
    {
      "cell_type": "code",
      "metadata": {
        "id": "NJm2jmSuhxCs"
      },
      "source": [
        ""
      ],
      "execution_count": null,
      "outputs": []
    }
  ]
}