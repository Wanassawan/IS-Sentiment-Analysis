{
  "nbformat": 4,
  "nbformat_minor": 0,
  "metadata": {
    "colab": {
      "name": "Stackbar_WangchanBERTa.ipynb",
      "provenance": []
    },
    "kernelspec": {
      "name": "python3",
      "display_name": "Python 3"
    },
    "language_info": {
      "name": "python"
    }
  },
  "cells": [
    {
      "cell_type": "code",
      "metadata": {
        "id": "eGzDxLLuYhSF"
      },
      "source": [
        "import numpy as np\n",
        "import pandas as pd "
      ],
      "execution_count": 1,
      "outputs": []
    },
    {
      "cell_type": "code",
      "metadata": {
        "id": "_kq48Y4QYnyS"
      },
      "source": [
        "df = pd.read_excel(\"./data_wangchanBERTa.xlsx\")"
      ],
      "execution_count": 8,
      "outputs": []
    },
    {
      "cell_type": "code",
      "metadata": {
        "id": "oUW2a5Z3YrJW"
      },
      "source": [
        "df.drop(columns=[\"Create_at\"],inplace=True)"
      ],
      "execution_count": 9,
      "outputs": []
    },
    {
      "cell_type": "code",
      "metadata": {
        "colab": {
          "base_uri": "https://localhost:8080/"
        },
        "id": "VNa7l0dpYtIX",
        "outputId": "63068212-d4da-4a34-a539-bb6419df150a"
      },
      "source": [
        "df['label']"
      ],
      "execution_count": 11,
      "outputs": [
        {
          "output_type": "execute_result",
          "data": {
            "text/plain": [
              "0       0\n",
              "1       0\n",
              "2       1\n",
              "3       0\n",
              "4       0\n",
              "       ..\n",
              "4453    0\n",
              "4454    2\n",
              "4455    0\n",
              "4456    1\n",
              "4457    0\n",
              "Name: label, Length: 4458, dtype: int64"
            ]
          },
          "metadata": {
            "tags": []
          },
          "execution_count": 11
        }
      ]
    },
    {
      "cell_type": "code",
      "metadata": {
        "colab": {
          "base_uri": "https://localhost:8080/"
        },
        "id": "4XTGX7yWYxxw",
        "outputId": "f28ec1b7-f08d-49e8-fa5c-9621e1de00af"
      },
      "source": [
        "df.label.value_counts()"
      ],
      "execution_count": 12,
      "outputs": [
        {
          "output_type": "execute_result",
          "data": {
            "text/plain": [
              "0    2335\n",
              "2    1420\n",
              "1     703\n",
              "Name: label, dtype: int64"
            ]
          },
          "metadata": {
            "tags": []
          },
          "execution_count": 12
        }
      ]
    },
    {
      "cell_type": "code",
      "metadata": {
        "id": "y_yplmeRZh66"
      },
      "source": [
        "topics_counts = (df.groupby(['Topics'])['label']\n",
        "                     .value_counts(normalize=True)\n",
        "                     .rename('percentage')\n",
        "                     .mul(100)\n",
        "                     .reset_index()\n",
        "                     .sort_values('label'))"
      ],
      "execution_count": 15,
      "outputs": []
    },
    {
      "cell_type": "code",
      "metadata": {
        "colab": {
          "base_uri": "https://localhost:8080/",
          "height": 514
        },
        "id": "4T2AMOPlZlBn",
        "outputId": "ffc2a0ea-938a-4994-8e8f-00df1348cbcd"
      },
      "source": [
        "topics_counts"
      ],
      "execution_count": 16,
      "outputs": [
        {
          "output_type": "execute_result",
          "data": {
            "text/html": [
              "<div>\n",
              "<style scoped>\n",
              "    .dataframe tbody tr th:only-of-type {\n",
              "        vertical-align: middle;\n",
              "    }\n",
              "\n",
              "    .dataframe tbody tr th {\n",
              "        vertical-align: top;\n",
              "    }\n",
              "\n",
              "    .dataframe thead th {\n",
              "        text-align: right;\n",
              "    }\n",
              "</style>\n",
              "<table border=\"1\" class=\"dataframe\">\n",
              "  <thead>\n",
              "    <tr style=\"text-align: right;\">\n",
              "      <th></th>\n",
              "      <th>Topics</th>\n",
              "      <th>label</th>\n",
              "      <th>percentage</th>\n",
              "    </tr>\n",
              "  </thead>\n",
              "  <tbody>\n",
              "    <tr>\n",
              "      <th>0</th>\n",
              "      <td>Company</td>\n",
              "      <td>0</td>\n",
              "      <td>47.476636</td>\n",
              "    </tr>\n",
              "    <tr>\n",
              "      <th>3</th>\n",
              "      <td>Logistics</td>\n",
              "      <td>0</td>\n",
              "      <td>70.829616</td>\n",
              "    </tr>\n",
              "    <tr>\n",
              "      <th>6</th>\n",
              "      <td>Promotion</td>\n",
              "      <td>0</td>\n",
              "      <td>47.272727</td>\n",
              "    </tr>\n",
              "    <tr>\n",
              "      <th>9</th>\n",
              "      <td>Store</td>\n",
              "      <td>0</td>\n",
              "      <td>42.266073</td>\n",
              "    </tr>\n",
              "    <tr>\n",
              "      <th>12</th>\n",
              "      <td>System</td>\n",
              "      <td>0</td>\n",
              "      <td>53.833866</td>\n",
              "    </tr>\n",
              "    <tr>\n",
              "      <th>2</th>\n",
              "      <td>Company</td>\n",
              "      <td>1</td>\n",
              "      <td>19.065421</td>\n",
              "    </tr>\n",
              "    <tr>\n",
              "      <th>5</th>\n",
              "      <td>Logistics</td>\n",
              "      <td>1</td>\n",
              "      <td>12.934880</td>\n",
              "    </tr>\n",
              "    <tr>\n",
              "      <th>8</th>\n",
              "      <td>Promotion</td>\n",
              "      <td>1</td>\n",
              "      <td>13.388430</td>\n",
              "    </tr>\n",
              "    <tr>\n",
              "      <th>11</th>\n",
              "      <td>Store</td>\n",
              "      <td>1</td>\n",
              "      <td>18.141311</td>\n",
              "    </tr>\n",
              "    <tr>\n",
              "      <th>14</th>\n",
              "      <td>System</td>\n",
              "      <td>1</td>\n",
              "      <td>14.376997</td>\n",
              "    </tr>\n",
              "    <tr>\n",
              "      <th>1</th>\n",
              "      <td>Company</td>\n",
              "      <td>2</td>\n",
              "      <td>33.457944</td>\n",
              "    </tr>\n",
              "    <tr>\n",
              "      <th>4</th>\n",
              "      <td>Logistics</td>\n",
              "      <td>2</td>\n",
              "      <td>16.235504</td>\n",
              "    </tr>\n",
              "    <tr>\n",
              "      <th>7</th>\n",
              "      <td>Promotion</td>\n",
              "      <td>2</td>\n",
              "      <td>39.338843</td>\n",
              "    </tr>\n",
              "    <tr>\n",
              "      <th>10</th>\n",
              "      <td>Store</td>\n",
              "      <td>2</td>\n",
              "      <td>39.592616</td>\n",
              "    </tr>\n",
              "    <tr>\n",
              "      <th>13</th>\n",
              "      <td>System</td>\n",
              "      <td>2</td>\n",
              "      <td>31.789137</td>\n",
              "    </tr>\n",
              "  </tbody>\n",
              "</table>\n",
              "</div>"
            ],
            "text/plain": [
              "       Topics  label  percentage\n",
              "0     Company      0   47.476636\n",
              "3   Logistics      0   70.829616\n",
              "6   Promotion      0   47.272727\n",
              "9       Store      0   42.266073\n",
              "12     System      0   53.833866\n",
              "2     Company      1   19.065421\n",
              "5   Logistics      1   12.934880\n",
              "8   Promotion      1   13.388430\n",
              "11      Store      1   18.141311\n",
              "14     System      1   14.376997\n",
              "1     Company      2   33.457944\n",
              "4   Logistics      2   16.235504\n",
              "7   Promotion      2   39.338843\n",
              "10      Store      2   39.592616\n",
              "13     System      2   31.789137"
            ]
          },
          "metadata": {
            "tags": []
          },
          "execution_count": 16
        }
      ]
    },
    {
      "cell_type": "code",
      "metadata": {
        "colab": {
          "base_uri": "https://localhost:8080/",
          "height": 142
        },
        "id": "538hbv_yZnJd",
        "outputId": "b7674858-91d7-49e6-eb15-382dc2c088a6"
      },
      "source": [
        "plotdata = pd.DataFrame({\n",
        "    \"Company\":[47.5,19.1,33.4],\n",
        "    \"Logistics\":[70.8,12.9,16.2],\n",
        "    \"Promotion\":[47.3,18.1,39.3],\n",
        "    \"Store\":[42.3,18.1,39.6],\n",
        "    \"System\":[53.8,14.4,31.8]\n",
        "    }, index=[\"Negative\", \"Positive\", \"Neutral\"]\n",
        ")\n",
        "plotdata.head()"
      ],
      "execution_count": 17,
      "outputs": [
        {
          "output_type": "execute_result",
          "data": {
            "text/html": [
              "<div>\n",
              "<style scoped>\n",
              "    .dataframe tbody tr th:only-of-type {\n",
              "        vertical-align: middle;\n",
              "    }\n",
              "\n",
              "    .dataframe tbody tr th {\n",
              "        vertical-align: top;\n",
              "    }\n",
              "\n",
              "    .dataframe thead th {\n",
              "        text-align: right;\n",
              "    }\n",
              "</style>\n",
              "<table border=\"1\" class=\"dataframe\">\n",
              "  <thead>\n",
              "    <tr style=\"text-align: right;\">\n",
              "      <th></th>\n",
              "      <th>Company</th>\n",
              "      <th>Logistics</th>\n",
              "      <th>Promotion</th>\n",
              "      <th>Store</th>\n",
              "      <th>System</th>\n",
              "    </tr>\n",
              "  </thead>\n",
              "  <tbody>\n",
              "    <tr>\n",
              "      <th>Negative</th>\n",
              "      <td>47.5</td>\n",
              "      <td>70.8</td>\n",
              "      <td>47.3</td>\n",
              "      <td>42.3</td>\n",
              "      <td>53.8</td>\n",
              "    </tr>\n",
              "    <tr>\n",
              "      <th>Positive</th>\n",
              "      <td>19.1</td>\n",
              "      <td>12.9</td>\n",
              "      <td>18.1</td>\n",
              "      <td>18.1</td>\n",
              "      <td>14.4</td>\n",
              "    </tr>\n",
              "    <tr>\n",
              "      <th>Neutral</th>\n",
              "      <td>33.4</td>\n",
              "      <td>16.2</td>\n",
              "      <td>39.3</td>\n",
              "      <td>39.6</td>\n",
              "      <td>31.8</td>\n",
              "    </tr>\n",
              "  </tbody>\n",
              "</table>\n",
              "</div>"
            ],
            "text/plain": [
              "          Company  Logistics  Promotion  Store  System\n",
              "Negative     47.5       70.8       47.3   42.3    53.8\n",
              "Positive     19.1       12.9       18.1   18.1    14.4\n",
              "Neutral      33.4       16.2       39.3   39.6    31.8"
            ]
          },
          "metadata": {
            "tags": []
          },
          "execution_count": 17
        }
      ]
    },
    {
      "cell_type": "code",
      "metadata": {
        "id": "vZBBtm_savQI"
      },
      "source": [
        "topics_counts = plotdata.apply(lambda x: x*100/sum(x), axis=1)"
      ],
      "execution_count": 18,
      "outputs": []
    },
    {
      "cell_type": "code",
      "metadata": {
        "id": "Ghv81Q4raxqX"
      },
      "source": [
        "# Set the figure size - handy for larger output\n",
        "from matplotlib import pyplot as plt\n",
        "plt.rcParams[\"figure.figsize\"] = [10, 5]\n",
        "\n",
        "import matplotlib\n",
        "matplotlib.style.use('default')"
      ],
      "execution_count": 19,
      "outputs": []
    },
    {
      "cell_type": "code",
      "metadata": {
        "colab": {
          "base_uri": "https://localhost:8080/",
          "height": 489
        },
        "id": "EN_8St53azxI",
        "outputId": "495ce5a5-396e-4a24-8725-78053b969113"
      },
      "source": [
        "plotdata.transpose().apply(lambda x: x*100/sum(x), axis=1).plot(kind=\"barh\", stacked=True,legend=False,color =['#D32F2F','#8BC34A','#B3E5FC']\n",
        "    ).legend(loc='upper right', ncol=1, title=\"label\")\n",
        "plt.xticks(rotation=0, horizontalalignment=\"center\")\n",
        "plt.title(\"Topics based on Sentiment\")\n",
        "plt.xlabel(\"Topics\")\n",
        "plt.ylabel(\"\")"
      ],
      "execution_count": 21,
      "outputs": [
        {
          "output_type": "execute_result",
          "data": {
            "text/plain": [
              "Text(0, 0.5, '')"
            ]
          },
          "metadata": {
            "tags": []
          },
          "execution_count": 21
        },
        {
          "output_type": "display_data",
          "data": {
            "image/png": "[encoded data removed]",
            "text/plain": [
              "<Figure size 640x480 with 1 Axes>"
            ]
          },
          "metadata": {
            "tags": []
          }
        }
      ]
    },
    {
      "cell_type": "code",
      "metadata": {
        "id": "dKzntz4oa1lU"
      },
      "source": [
        ""
      ],
      "execution_count": null,
      "outputs": []
    }
  ]
}