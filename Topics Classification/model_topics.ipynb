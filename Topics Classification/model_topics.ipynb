{
 "cells": [
  {
   "cell_type": "markdown",
   "metadata": {},
   "source": [
    "## Import Library"
   ]
  },
  {
   "cell_type": "code",
   "execution_count": 24,
   "metadata": {},
   "outputs": [
    {
     "name": "stdout",
     "output_type": "stream",
     "text": [
      "Requirement already up-to-date: pythainlp in /Users/abcd/opt/anaconda3/lib/python3.7/site-packages (2.3.1)\n",
      "Requirement already satisfied, skipping upgrade: requests>=2.22.0 in /Users/abcd/opt/anaconda3/lib/python3.7/site-packages (from pythainlp) (2.22.0)\n",
      "Requirement already satisfied, skipping upgrade: python-crfsuite>=0.9.6 in /Users/abcd/opt/anaconda3/lib/python3.7/site-packages (from pythainlp) (0.9.7)\n",
      "Requirement already satisfied, skipping upgrade: tinydb>=3.0 in /Users/abcd/opt/anaconda3/lib/python3.7/site-packages (from pythainlp) (4.3.0)\n",
      "Requirement already satisfied, skipping upgrade: chardet<3.1.0,>=3.0.2 in /Users/abcd/opt/anaconda3/lib/python3.7/site-packages (from requests>=2.22.0->pythainlp) (3.0.4)\n",
      "Requirement already satisfied, skipping upgrade: certifi>=2017.4.17 in /Users/abcd/opt/anaconda3/lib/python3.7/site-packages (from requests>=2.22.0->pythainlp) (2019.11.28)\n",
      "Requirement already satisfied, skipping upgrade: idna<2.9,>=2.5 in /Users/abcd/opt/anaconda3/lib/python3.7/site-packages (from requests>=2.22.0->pythainlp) (2.8)\n",
      "Requirement already satisfied, skipping upgrade: urllib3!=1.25.0,!=1.25.1,<1.26,>=1.21.1 in /Users/abcd/opt/anaconda3/lib/python3.7/site-packages (from requests>=2.22.0->pythainlp) (1.25.8)\n",
      "Requirement already satisfied: pyLDAvis in /Users/abcd/opt/anaconda3/lib/python3.7/site-packages (2.1.2)\n",
      "Requirement already satisfied: joblib>=0.8.4 in /Users/abcd/opt/anaconda3/lib/python3.7/site-packages (from pyLDAvis) (0.14.1)\n",
      "Requirement already satisfied: wheel>=0.23.0 in /Users/abcd/opt/anaconda3/lib/python3.7/site-packages (from pyLDAvis) (0.36.2)\n",
      "Requirement already satisfied: pytest in /Users/abcd/opt/anaconda3/lib/python3.7/site-packages (from pyLDAvis) (5.3.5)\n",
      "Requirement already satisfied: jinja2>=2.7.2 in /Users/abcd/opt/anaconda3/lib/python3.7/site-packages (from pyLDAvis) (2.11.1)\n",
      "Requirement already satisfied: funcy in /Users/abcd/opt/anaconda3/lib/python3.7/site-packages (from pyLDAvis) (1.15)\n",
      "Requirement already satisfied: pandas>=0.17.0 in /Users/abcd/opt/anaconda3/lib/python3.7/site-packages (from pyLDAvis) (1.0.1)\n",
      "Requirement already satisfied: scipy>=0.18.0 in /Users/abcd/opt/anaconda3/lib/python3.7/site-packages (from pyLDAvis) (1.4.1)\n",
      "Requirement already satisfied: future in /Users/abcd/opt/anaconda3/lib/python3.7/site-packages (from pyLDAvis) (0.18.2)\n",
      "Requirement already satisfied: numexpr in /Users/abcd/opt/anaconda3/lib/python3.7/site-packages (from pyLDAvis) (2.7.1)\n",
      "Requirement already satisfied: numpy>=1.9.2 in /Users/abcd/opt/anaconda3/lib/python3.7/site-packages (from pyLDAvis) (1.18.1)\n",
      "Requirement already satisfied: py>=1.5.0 in /Users/abcd/opt/anaconda3/lib/python3.7/site-packages (from pytest->pyLDAvis) (1.8.1)\n",
      "Requirement already satisfied: packaging in /Users/abcd/opt/anaconda3/lib/python3.7/site-packages (from pytest->pyLDAvis) (20.1)\n",
      "Requirement already satisfied: attrs>=17.4.0 in /Users/abcd/opt/anaconda3/lib/python3.7/site-packages (from pytest->pyLDAvis) (19.3.0)\n",
      "Requirement already satisfied: more-itertools>=4.0.0 in /Users/abcd/opt/anaconda3/lib/python3.7/site-packages (from pytest->pyLDAvis) (8.2.0)\n",
      "Requirement already satisfied: pluggy<1.0,>=0.12 in /Users/abcd/opt/anaconda3/lib/python3.7/site-packages (from pytest->pyLDAvis) (0.13.1)\n",
      "Requirement already satisfied: wcwidth in /Users/abcd/opt/anaconda3/lib/python3.7/site-packages (from pytest->pyLDAvis) (0.1.8)\n",
      "Requirement already satisfied: importlib-metadata>=0.12 in /Users/abcd/opt/anaconda3/lib/python3.7/site-packages (from pytest->pyLDAvis) (1.5.0)\n",
      "Requirement already satisfied: MarkupSafe>=0.23 in /Users/abcd/opt/anaconda3/lib/python3.7/site-packages (from jinja2>=2.7.2->pyLDAvis) (1.1.1)\n",
      "Requirement already satisfied: python-dateutil>=2.6.1 in /Users/abcd/opt/anaconda3/lib/python3.7/site-packages (from pandas>=0.17.0->pyLDAvis) (2.8.1)\n",
      "Requirement already satisfied: pytz>=2017.2 in /Users/abcd/opt/anaconda3/lib/python3.7/site-packages (from pandas>=0.17.0->pyLDAvis) (2019.3)\n",
      "Requirement already satisfied: six in /Users/abcd/opt/anaconda3/lib/python3.7/site-packages (from packaging->pytest->pyLDAvis) (1.14.0)\n",
      "Requirement already satisfied: pyparsing>=2.0.2 in /Users/abcd/opt/anaconda3/lib/python3.7/site-packages (from packaging->pytest->pyLDAvis) (2.4.6)\n",
      "Requirement already satisfied: zipp>=0.5 in /Users/abcd/opt/anaconda3/lib/python3.7/site-packages (from importlib-metadata>=0.12->pytest->pyLDAvis) (2.2.0)\n",
      "Requirement already satisfied: emoji in /Users/abcd/opt/anaconda3/lib/python3.7/site-packages (0.6.0)\n",
      "Requirement already satisfied: wordcloud in /Users/abcd/opt/anaconda3/lib/python3.7/site-packages (1.8.1)\n",
      "Requirement already satisfied: pillow in /Users/abcd/opt/anaconda3/lib/python3.7/site-packages (from wordcloud) (7.0.0)\n",
      "Requirement already satisfied: matplotlib in /Users/abcd/opt/anaconda3/lib/python3.7/site-packages (from wordcloud) (3.4.2)\n",
      "Requirement already satisfied: numpy>=1.6.1 in /Users/abcd/opt/anaconda3/lib/python3.7/site-packages (from wordcloud) (1.18.1)\n",
      "Requirement already satisfied: kiwisolver>=1.0.1 in /Users/abcd/opt/anaconda3/lib/python3.7/site-packages (from matplotlib->wordcloud) (1.1.0)\n",
      "Requirement already satisfied: cycler>=0.10 in /Users/abcd/opt/anaconda3/lib/python3.7/site-packages (from matplotlib->wordcloud) (0.10.0)\n",
      "Requirement already satisfied: pyparsing>=2.2.1 in /Users/abcd/opt/anaconda3/lib/python3.7/site-packages (from matplotlib->wordcloud) (2.4.6)\n",
      "Requirement already satisfied: python-dateutil>=2.7 in /Users/abcd/opt/anaconda3/lib/python3.7/site-packages (from matplotlib->wordcloud) (2.8.1)\n",
      "Requirement already satisfied: setuptools in /Users/abcd/opt/anaconda3/lib/python3.7/site-packages (from kiwisolver>=1.0.1->matplotlib->wordcloud) (46.0.0.post20200309)\n",
      "Requirement already satisfied: six in /Users/abcd/opt/anaconda3/lib/python3.7/site-packages (from cycler>=0.10->matplotlib->wordcloud) (1.14.0)\n"
     ]
    }
   ],
   "source": [
    "!pip install --upgrade pythainlp\n",
    "!pip install pyLDAvis\n",
    "!pip install emoji\n",
    "!pip install wordcloud"
   ]
  },
  {
   "cell_type": "code",
   "execution_count": 25,
   "metadata": {},
   "outputs": [
    {
     "name": "stdout",
     "output_type": "stream",
     "text": [
      "\n",
      "Usage:   \n",
      "  pip uninstall [options] <package> ...\n",
      "  pip uninstall [options] -r <requirements file> ...\n",
      "\n",
      "no such option: -U\n"
     ]
    }
   ],
   "source": [
    "!pip uninstall -U scikit-learn"
   ]
  },
  {
   "cell_type": "code",
   "execution_count": 26,
   "metadata": {},
   "outputs": [
    {
     "name": "stdout",
     "output_type": "stream",
     "text": [
      "Requirement already up-to-date: scikit-learn in /Users/abcd/opt/anaconda3/lib/python3.7/site-packages (0.24.2)\n",
      "Requirement already satisfied, skipping upgrade: scipy>=0.19.1 in /Users/abcd/opt/anaconda3/lib/python3.7/site-packages (from scikit-learn) (1.4.1)\n",
      "Requirement already satisfied, skipping upgrade: threadpoolctl>=2.0.0 in /Users/abcd/opt/anaconda3/lib/python3.7/site-packages (from scikit-learn) (2.1.0)\n",
      "Requirement already satisfied, skipping upgrade: joblib>=0.11 in /Users/abcd/opt/anaconda3/lib/python3.7/site-packages (from scikit-learn) (0.14.1)\n",
      "Requirement already satisfied, skipping upgrade: numpy>=1.13.3 in /Users/abcd/opt/anaconda3/lib/python3.7/site-packages (from scikit-learn) (1.18.1)\n"
     ]
    }
   ],
   "source": [
    "!pip install -U scikit-learn"
   ]
  },
  {
   "cell_type": "code",
   "execution_count": 27,
   "metadata": {},
   "outputs": [
    {
     "name": "stdout",
     "output_type": "stream",
     "text": [
      "Requirement already satisfied: marisa-trie in /Users/abcd/opt/anaconda3/lib/python3.7/site-packages (0.7.5)\n",
      "Requirement already up-to-date: pythainlp in /Users/abcd/opt/anaconda3/lib/python3.7/site-packages (2.3.1)\n",
      "Requirement already satisfied, skipping upgrade: tinydb>=3.0 in /Users/abcd/opt/anaconda3/lib/python3.7/site-packages (from pythainlp) (4.3.0)\n",
      "Requirement already satisfied, skipping upgrade: python-crfsuite>=0.9.6 in /Users/abcd/opt/anaconda3/lib/python3.7/site-packages (from pythainlp) (0.9.7)\n",
      "Requirement already satisfied, skipping upgrade: requests>=2.22.0 in /Users/abcd/opt/anaconda3/lib/python3.7/site-packages (from pythainlp) (2.22.0)\n",
      "Requirement already satisfied, skipping upgrade: idna<2.9,>=2.5 in /Users/abcd/opt/anaconda3/lib/python3.7/site-packages (from requests>=2.22.0->pythainlp) (2.8)\n",
      "Requirement already satisfied, skipping upgrade: urllib3!=1.25.0,!=1.25.1,<1.26,>=1.21.1 in /Users/abcd/opt/anaconda3/lib/python3.7/site-packages (from requests>=2.22.0->pythainlp) (1.25.8)\n",
      "Requirement already satisfied, skipping upgrade: certifi>=2017.4.17 in /Users/abcd/opt/anaconda3/lib/python3.7/site-packages (from requests>=2.22.0->pythainlp) (2019.11.28)\n",
      "Requirement already satisfied, skipping upgrade: chardet<3.1.0,>=3.0.2 in /Users/abcd/opt/anaconda3/lib/python3.7/site-packages (from requests>=2.22.0->pythainlp) (3.0.4)\n"
     ]
    }
   ],
   "source": [
    "!pip install marisa-trie\n",
    "!pip install pythainlp -U"
   ]
  },
  {
   "cell_type": "code",
   "execution_count": 28,
   "metadata": {},
   "outputs": [],
   "source": [
    "#conda install -c conda-forge imbalanced-learn\n",
    "#!pip install -U scikit-learn\n",
    "#!pip install -U imbalanced-learn\n",
    "#!pip install --upgrade scikit-learn"
   ]
  },
  {
   "cell_type": "code",
   "execution_count": 29,
   "metadata": {},
   "outputs": [],
   "source": [
    "import numpy as np\n",
    "import pandas as pd \n",
    "import re\n",
    "import pythainlp\n",
    "from pythainlp.corpus.common import thai_words\n",
    "from pythainlp.tokenize import word_tokenize, Tokenizer\n",
    "import string\n",
    "from sklearn.model_selection import train_test_split\n",
    "from sklearn.metrics import classification_report, confusion_matrix\n",
    "from sklearn.feature_extraction.text import TfidfTransformer\n",
    "from sklearn.feature_extraction.text import CountVectorizer\n",
    "from sklearn.svm import LinearSVC\n",
    "from sklearn.svm import SVC\n",
    "from sklearn.pipeline import Pipeline\n",
    "#import glob\n",
    "import matplotlib.pyplot as plt\n",
    "import seaborn as sns\n",
    "import matplotlib.pyplot as plt\n",
    "%matplotlib inline"
   ]
  },
  {
   "cell_type": "code",
   "execution_count": 30,
   "metadata": {},
   "outputs": [],
   "source": [
    "from pythainlp.util.trie import Trie\n",
    "from pythainlp.util import normalize"
   ]
  },
  {
   "cell_type": "code",
   "execution_count": 31,
   "metadata": {},
   "outputs": [],
   "source": [
    "df = pd.read_excel(\"./Shopee_Tweet_NEW.xlsx\")"
   ]
  },
  {
   "cell_type": "code",
   "execution_count": 32,
   "metadata": {},
   "outputs": [
    {
     "data": {
      "text/html": [
       "<div>\n",
       "<style scoped>\n",
       "    .dataframe tbody tr th:only-of-type {\n",
       "        vertical-align: middle;\n",
       "    }\n",
       "\n",
       "    .dataframe tbody tr th {\n",
       "        vertical-align: top;\n",
       "    }\n",
       "\n",
       "    .dataframe thead th {\n",
       "        text-align: right;\n",
       "    }\n",
       "</style>\n",
       "<table border=\"1\" class=\"dataframe\">\n",
       "  <thead>\n",
       "    <tr style=\"text-align: right;\">\n",
       "      <th></th>\n",
       "      <th>Create_at</th>\n",
       "      <th>clean_text</th>\n",
       "      <th>Sentiment</th>\n",
       "      <th>Topics</th>\n",
       "    </tr>\n",
       "  </thead>\n",
       "  <tbody>\n",
       "    <tr>\n",
       "      <th>0</th>\n",
       "      <td>2021-01-05</td>\n",
       "      <td>ใช่ค่ะ ตอนแรกบอกว่าให้กดรับของได้เลยแล้วจะส่งใ...</td>\n",
       "      <td>neg</td>\n",
       "      <td>Company</td>\n",
       "    </tr>\n",
       "    <tr>\n",
       "      <th>1</th>\n",
       "      <td>2021-01-05</td>\n",
       "      <td>อยากให้เรื่องนี้แมส เผื่อว่า จะออกมารับผิดชอบอ...</td>\n",
       "      <td>neg</td>\n",
       "      <td>Company</td>\n",
       "    </tr>\n",
       "    <tr>\n",
       "      <th>2</th>\n",
       "      <td>2021-02-06</td>\n",
       "      <td>ขอบคุณบริษัทช้อปปี้มากฮะที่แอดมินพาพี่มายกับอา...</td>\n",
       "      <td>pos</td>\n",
       "      <td>Company</td>\n",
       "    </tr>\n",
       "    <tr>\n",
       "      <th>3</th>\n",
       "      <td>2021-03-26</td>\n",
       "      <td>บอกลาบริษัทช้อปปี้ก่อนนะ แอดมินแบบนี้ ซื้อด้วย...</td>\n",
       "      <td>neg</td>\n",
       "      <td>Company</td>\n",
       "    </tr>\n",
       "    <tr>\n",
       "      <th>4</th>\n",
       "      <td>2021-02-01</td>\n",
       "      <td>เรากดสั่งของไปรอของมาจนวันนี้ ไม่ส่งซักที วันน...</td>\n",
       "      <td>neg</td>\n",
       "      <td>Company</td>\n",
       "    </tr>\n",
       "  </tbody>\n",
       "</table>\n",
       "</div>"
      ],
      "text/plain": [
       "   Create_at                                         clean_text Sentiment  \\\n",
       "0 2021-01-05  ใช่ค่ะ ตอนแรกบอกว่าให้กดรับของได้เลยแล้วจะส่งใ...       neg   \n",
       "1 2021-01-05  อยากให้เรื่องนี้แมส เผื่อว่า จะออกมารับผิดชอบอ...       neg   \n",
       "2 2021-02-06  ขอบคุณบริษัทช้อปปี้มากฮะที่แอดมินพาพี่มายกับอา...       pos   \n",
       "3 2021-03-26  บอกลาบริษัทช้อปปี้ก่อนนะ แอดมินแบบนี้ ซื้อด้วย...       neg   \n",
       "4 2021-02-01  เรากดสั่งของไปรอของมาจนวันนี้ ไม่ส่งซักที วันน...       neg   \n",
       "\n",
       "    Topics  \n",
       "0  Company  \n",
       "1  Company  \n",
       "2  Company  \n",
       "3  Company  \n",
       "4  Company  "
      ]
     },
     "execution_count": 32,
     "metadata": {},
     "output_type": "execute_result"
    }
   ],
   "source": [
    "df.head()"
   ]
  },
  {
   "cell_type": "markdown",
   "metadata": {},
   "source": [
    "## EDA"
   ]
  },
  {
   "cell_type": "markdown",
   "metadata": {},
   "source": [
    "### Drop column"
   ]
  },
  {
   "cell_type": "code",
   "execution_count": 33,
   "metadata": {},
   "outputs": [],
   "source": [
    "df.drop(columns=[\"Create_at\"],inplace=True)"
   ]
  },
  {
   "cell_type": "markdown",
   "metadata": {},
   "source": [
    "### Check Missing Value"
   ]
  },
  {
   "cell_type": "code",
   "execution_count": 34,
   "metadata": {},
   "outputs": [
    {
     "data": {
      "text/plain": [
       "clean_text    0\n",
       "Sentiment     0\n",
       "Topics        0\n",
       "dtype: int64"
      ]
     },
     "execution_count": 34,
     "metadata": {},
     "output_type": "execute_result"
    }
   ],
   "source": [
    "np.sum(df.isnull())"
   ]
  },
  {
   "cell_type": "markdown",
   "metadata": {},
   "source": [
    "## Analytics"
   ]
  },
  {
   "cell_type": "code",
   "execution_count": 35,
   "metadata": {},
   "outputs": [],
   "source": [
    "aspect_counts = (df.groupby(['Topics'])['Sentiment']\n",
    "                     .value_counts(normalize=True)\n",
    "                     .rename('percentage')\n",
    "                     .mul(100)\n",
    "                     .reset_index()\n",
    "                     .sort_values('Sentiment'))"
   ]
  },
  {
   "cell_type": "code",
   "execution_count": 36,
   "metadata": {},
   "outputs": [
    {
     "data": {
      "image/png": "[encoded data removed]",
      "text/plain": [
       "<Figure size 419.5x360 with 1 Axes>"
      ]
     },
     "metadata": {
      "needs_background": "light"
     },
     "output_type": "display_data"
    }
   ],
   "source": [
    "g_1 = sns.catplot(x='Topics',y='percentage',hue='Sentiment',kind='bar',data=aspect_counts,\n",
    "                  hue_order=['neu', 'neg', 'pos'],\n",
    "                  col_order=['Company', 'Promotion', 'Store', 'System','Logistics'],palette=\"pastel\", edgecolor=\".1\")\n",
    "g_1.ax.set_ylim(0,100)\n",
    "for p in g_1.ax.patches:\n",
    "    txt = str(p.get_height().round(2)) + '%'\n",
    "    txt_x = p.get_x() \n",
    "    txt_y = p.get_height()\n",
    "    g_1.ax.text(txt_x,txt_y,txt)"
   ]
  },
  {
   "cell_type": "markdown",
   "metadata": {},
   "source": [
    "## Pre Processing"
   ]
  },
  {
   "cell_type": "markdown",
   "metadata": {},
   "source": [
    "### 1. Cleansing"
   ]
  },
  {
   "cell_type": "code",
   "execution_count": 37,
   "metadata": {},
   "outputs": [],
   "source": [
    "## Add word in dict\n",
    "custom_dict = set(thai_words())\n",
    "\n",
    "Company_ = 'บริษัทช้อปปี้ แอดมิน คอลเซ็นเตอร์ เจ้าหน้าที่ พนักงาน บริษัท ค่าบริการ รับผิดชอบ ติดต่อ โกงเงิน บัญชี ดำเนินการ แบ่งชนชั้น คุยกับพนักงาน ติดต่อ บริการ แจ้ง ระดับ พรีเมียม เมมเบอร์ แบน เลิกใช้ สื่อสาร ร้องเรียน เลิกช้อป เว็บไซต์ เบอร์ โทร เมล สนใจ เพิกเฉย รอสาย ตัดสาย ด่วน เมล โทร ศูนย์บริการ ปัญหา ชดเชย องค์กร เลิกสั่ง ประทับใจ แนะนำ ชี้แจง นโยบาย สมาชิก การตลาด โฆษณา ลูกค้า ผู้ใช้บริการ แพลตฟอร์ม โฆษณา'\n",
    "Company_Topics = Company_.split(' ')\n",
    "\n",
    "Logistics_ = 'ไม่ติดต่อ ยกเลิก รอ ช้า นาน ชั่วโมง ไม่ได้รับ ไม่ได้สินค้า ปัญหา ผู้ส่ง พนักงาน ขนส่ง รอนาน บริการ ไม่โทรมา ส่ง ไม่มาส่ง ไม่ส่ง สุภาพ บอกทาง เชค เช็ค ตรวจ ที่อยู่ ส่งช้า ส่งเร็ว ส่งไว โทรมา ไม่โทร ไม่รับ เลือกขนส่ง เลือกขนส่งไม่ได้ เลือกบริษัทขนส่ง ได้ของ ส่งของ กำหนด บริษัทขนส่ง ค่าส่ง เก็บเงินปลายทาง เก็บปลายทาง เลขพัสดุ ค่าส่ง จ่าหน้า'\n",
    "Logistics_Topics = Logistics_.split(' ')\n",
    "\n",
    "Promotion_ =  'โค้ด โค๊ด โค้ดลด โค้ดช้อปปี้ กดไม่ทัน ใช้ไม่ทัน ค่าส่ง ลดราคา ส่วนลด โปรโมชั่น คุ้มค่า ไม่คุ้ม ถูก โปร โปรช้อปปี้ บอกต่อ ใช้ไม่ได้ ใช้โค้ดไม่ได้ คุณภาพ ใช้ได้ ขั้นต่ำ โค้ดส่งฟรี ส่งฟรี แกง ลูกค้า ใหม่ ฟรี แถม เต็ม กด ทัน เที่ยงคืน แฟลชเซลล์ เมมเบอร์ สิทธิ์ คอย คอยส์ แคมเปญ เหรียญ จ่ายบิล ดีล รดน้ำต้นไม้ คูปอง กิจกรรม'\n",
    "Promotion_Topics = Promotion_.split(' ')\n",
    "\n",
    "Store_ =  'ช้อป ซื้อ ซื้อมาจาก ร้านในช้อปปี้ ไลฟ์ ไลฟ์สด ในช้อปปี้ จากช้อปปี้ สั่งช้อปปี้ เข้าช้อปปี้ ที่ช้อปปี้ ราคา คุ้ม คุ้มค่า ไม่คุ้ม แพง ถูก ลด บอกต่อ คุ้ม คุณภาพ ซื้อ ส่วนต่าง ควรค่า ควรซื้อ ไปตำ แนะนำ ร้าน ร้านค้า พิกัด ร้าน รีวิว สั่ง สอย ซื้อจาก รวมของที่ซื้อ สินค้า ของ ขาย ขายของ บาท ใน จาก พร้อมส่ง คำสั่งซื้อ รายงานผู้ใช้ แม่ค้า พ่อค้า โกง ผู้ขาย แกง ร้านเสื้อผ้า เสียเงิน ขายที่ ขายดี หมดไว ปลอม'\n",
    "Store_Topics = Store_.split(' ')\n",
    "\n",
    "System_ = 'แอพ แอพช้อปปี้ แอพลิเคชั่น หน้าจอ รวน สมัคร ไถ ไถช้อปปี้ ชั่วคราว ระบบ เงิน เว็บ หน้าเว็บ ตัด บัตร แคนเซิล ยกเลิก เป็นอะไร พัง ค้าง ล่ม เสีย ไม่ได้ เด้ง รอ พัฒนา หักตังค์ หักเงิน คืนเงิน ตัดเงิน ตัดบัตร บัตร หักเงิน ใช้ ยาก ง่าย พัฒนา ไม่ตรง โอน โอนเงิน เครดิต คืน แก้ ด่วน ขัดข้อง ฟื้น แก้ไข จ่ายเงิน ผ่อน ปัญหา โดนระงับ ตรวจสอบ ขั้นตอน เงินไม่เข้า เติมเงิน ไม่เข้า จ่ายไม่ได้ แบบใหม่ แบบเก่า บัตรเครดิต บอท อัพเดต เงินคืน บัญชี อนุมัติ กดเงิน ช้อปปี้เพย์ แอร์เพย์ จอ อัตโนมัติ ฟีด โหมดดาร์ก สถานะ แฮ็ค ตะกร้า แจ้งเตือน ระงับ ยกเลิก คำสั่งซื้อ ตรวจสอบ ลิ้งค์ สะดวก ระบบล่ม เติม โหลด ปัดจอ โหลด เสิร์ช หมวด ธรรมเนียม ธุรกรรม วงเงิน วอลเล็ต'\n",
    "System_Topics = System_.split(' ')\n",
    "\n",
    "reviews_dict = Company_Topics+Logistics_Topics+Promotion_Topics+Store_Topics+System_Topics\n",
    "\n",
    "for word in reviews_dict:\n",
    "    custom_dict.add(word)\n",
    "\n",
    "\n",
    "trie = Trie(custom_dict)"
   ]
  },
  {
   "cell_type": "code",
   "execution_count": 38,
   "metadata": {},
   "outputs": [],
   "source": [
    "def word_correction_dict(incorrect_word,corrected):\n",
    "    if type(incorrect_word)==str:\n",
    "        correction_dict[incorrect_word]=corrected\n",
    "    else:\n",
    "        if type(incorrect_word)==tuple:\n",
    "            for word in incorrect_word:\n",
    "                correction_dict[word]=corrected\n",
    "    return None"
   ]
  },
  {
   "cell_type": "code",
   "execution_count": 39,
   "metadata": {},
   "outputs": [],
   "source": [
    "correction_dict={}\n",
    "word_correction_dict(('บ','บอ','บ.'),'บริษัท')\n",
    "word_correction_dict(('call center','Call Center','คอลเซนเตอ','คอลเซนเตอร์'),'คอลเซ็นเตอร์')\n",
    "word_correction_dict(('พนง','Staff'),'พนักงาน')\n",
    "word_correction_dict(('Shoppee','ช็อปปี้','ชอปปี้','shopee','Shoppee','ชอบปี้','shoppee','ช้อปปิ้','platform'),'ช้อปปี้')\n",
    "word_correction_dict(('coin','คอยส์','coins','coincashback'),'คอยน์')\n",
    "word_correction_dict('จนท','เจ้าหน้าที่')\n",
    "word_correction_dict(('แอร์เพ','airpay','แอร์เพย์','Airpays','Airpay','Air pay','air pay','air pays','Airplay','airplay','แอเพลย์','แอร์เพลย์','AirPay'),'แอร์เพย์')\n",
    "word_correction_dict('ตำ','สั่ง')\n",
    "word_correction_dict('แกง','หลอก')\n",
    "word_correction_dict('ดือ','ดี')\n",
    "word_correction_dict('มปร','ไม่เป็นไร')\n",
    "word_correction_dict('ค้าส่ง','ค่าส่ง')\n",
    "word_correction_dict('พน','พรุ่งนี้')\n",
    "word_correction_dict('คสอ','เครื่องสำอางค์')\n",
    "word_correction_dict('ลค','ลูกค้า')\n",
    "word_correction_dict(('เคอรี่','kerry','Kerry'),'เคอร์รี่')\n",
    "word_correction_dict(('Ninjavan','นินจา แวน','ninja van', 'Ninja Van','นินจา','ninja','Ninja','ninjavan'),'นินจาแวน')\n",
    "word_correction_dict(('Shope Express','Shopee express','ShopeeExpress','ช้อปปี้ express','ช้อปปี้ Express','ช้อปปี้เอกเพลส','ช้อปปี้เอ็กเพลส'),'ช้อปปี้เอ็กซ์เพรส')\n",
    "word_correction_dict(('Best Express','Best express','BestExpress','bestexpress','BEST EXPRESS'),'เบสเอกเพลส')\n",
    "word_correction_dict(('flash','Falsh'),'แฟลช')\n",
    "word_correction_dict(('DHL','dhl'),'ดีเอชแอล')\n",
    "word_correction_dict(('ปณ', 'thaipost'),'ไปษณีย์')\n",
    "word_correction_dict(('app'),'แอพ')\n",
    "word_correction_dict(('ม๊วก','มั๊ก','มั่ก'),'มาก')\n",
    "word_correction_dict(('random','ramdom','แรนด้อม','แรด้อม'),'สุ่ม')\n",
    "word_correction_dict(('WTF','wtf','วดฟ'),'ห่วย')\n",
    "word_correction_dict(('มั่ยดั้ย'),'ไม่ได้')\n",
    "word_correction_dict(('free shipping'),'ส่งฟรี')\n",
    "word_correction_dict(('cashback','Cashback'),'แคชแบค')\n",
    "word_correction_dict(('ขอบคุ'),'ขอบคุณ')\n",
    "word_correction_dict(('กทม'),'กรุงเทพ')\n",
    "word_correction_dict(('Security'),'ความปลอดภัย')\n",
    "word_correction_dict(('Live','live','LIVE'),'ไลฟ์')\n",
    "word_correction_dict(('Preorder','Pre Order'),'พรีออเดอร์')\n",
    "word_correction_dict(('เสิร์จ','search','เสิช','เสิ้จ','เสิร์ท'),'ค้นหา') \n",
    "word_correction_dict(('delivery','shipping'),'ขนส่ง')\n",
    "word_correction_dict(('ปสด'),'ประสาทแดก')\n",
    "word_correction_dict(('เคียด'),'เครียด')\n",
    "word_correction_dict(('โค้ดลับ','Code','code','โค๊ด','โค้ต','โค้ลลด'),'โค้ด')\n",
    "word_correction_dict(('เวป','เว็บ','web','เว็ป'),'เว็บไซต์') \n",
    "word_correction_dict(('email','เมลล์','mail','อีเมล','เมล์'),'เมล')\n",
    "word_correction_dict(('love','Love','รั้ก'),'รัก')\n",
    "word_correction_dict(('happy','แฮปปี้','Happy'),'มีความสุข')\n",
    "word_correction_dict(('link','Link','ลิ้ง','ลิ้งปุ้'),'ลิ้งค์')\n",
    "word_correction_dict(('วอลเลท','wallet','วอเลต','wallet'),'วอลเล็ต')\n",
    "\n",
    "def preprocessor(sentence):\n",
    "    \n",
    "    #remove hashtag\n",
    "    hashtag_removed = re.sub(r\"#\\w+\",'', sentence) \n",
    "    \n",
    "    #remove url\n",
    "    url_removed = re.sub(r'http[s]?://(?:[a-zA-Z]|[0-9]|[$-_@.&+]|[!*\\(\\),]|(?:%[0-9a-fA-F][0-9a-fA-F]))+','', hashtag_removed)\n",
    "\n",
    "    stop_words = list(pythainlp.corpus.thai_stopwords())\n",
    "    remove_words = ['นะค่ะ','นะคะ','ๆๆ','ๆ','ๆๆๆ','หรอ','งะ','เตง','วะ','อ่ะ','เออ','อะ','อ่า',\n",
    "              'นั้นแหละ','เหรอ','กก','ตะ','กะ','อะ','เปน','ที้ศื้อ','ก้','เดี๋ยวนี้','5000','500','11','39',\n",
    "               'ว่ะ','TvT','นัง','เด้อ','ก้อ','กุ','ค้าบ','90','การ','แทบจะ','โดยที่','10','200','เอาละ','special','อิ',\n",
    "               'เดือน','350','ฟุต','รอบ','รีด','169','150', '175', 'vogue','งี้', 'จก', 'จิงๆ','3000', '40', '4900', '50', \n",
    "               'clarins', 'morebeauties','แทบ','100', '300', 'flower','ซ้ำ','มุง','cpjgirlxx', 'คุณหนู','ฟี', 'มู้ด',\n",
    "               'ออ','199', 'cicishop','เดอะ', 'เบส','เดอะ', 'เบส','ทุ','แล้วจะ','ง่ะ','หก','เค้า','แห','ตั่ง','มค', 'ยัน',\n",
    "               'คา', 'ตอนนี้', 'ตะหาก','อะนะ', 'เย', 'แบ่บ','30', 'lover','ไหนจะ', 'case', 'ex','ยัย','สะ',\n",
    "               'คัด', 'ชิค', 'ฝอ','ววว','โล่', '399', 'pnjzyn', 'shoes', 'ก๊อกแก๊ก', 'คู่', 'จา','สนีก','อร', 'เก','99',\n",
    "               'มั้ง', 'เนี้ย','76', 'cotton','นา', 'ปัก','12','120','รต','รี่','เค','เพล', 'เอก', 'แก้', 'โช', '900',\n",
    "               'ซิ','เด', '69', 'กระจูด','Lock', 'amp','89', 'lemon', 'vibes','นะค้า','Roushun', 'Some', 'by', 'mi',\n",
    "               '800', 'ชี', 'นึง','490', 'divoom','ป่านนี้','ลาซาด้า','60', 'เธรด', '498','thread','everyday', 'look', \n",
    "               'น๊า','299','180', '29','36', '53', 'cm','600', 'ml','จ่ะ','Xiaomi','ปะ','แอยย','15','539', 'Rose',\n",
    "               '41','air', 'deerma', 'humidifier', 'xiaomi','20','ดิ','1200', 'official','119','อีฉัน', '3700', 'about', \n",
    "               'airpods', 'vickyshop','553','แฮะ','655','159', '78','45', '24', 'Centellian','on', 'sale', 'top',\n",
    "               '250', 'bentoy','vibe','Lazada','อี','booster', 'clear', 'nct', 'sm', 'sp','149', 'Plantnery', 'tea', \n",
    "               'tree', 'ๆๆ','CHEF', 'DREAM','grafen', 'yvescosmetic','503', '650', 'Klinn', 'Oxygen', 'diffuser', 'room',\n",
    "               'ฮะ','CJ', 'HYA', 'Vit', 'supermarket','dashing', 'diva', 'fit', 'slim', 'super','ทันใด','แหม', 'โห้ๆๆ', 'โอ',\n",
    "               'ๆผ', 'partner','พรีออเดอร์', '01', '08', '09', '22', '588', '699','gt','000', 'unpack',\n",
    "               'wfh','david', 'flash', 'jones','koreatownofficial','earbud', 'soundpeats', 'trueair','งับ','ค่าเธรด',\n",
    "               '573', '95', 'HJV','ง่า','25', 'Bears', 'Care','25', 'ขายของ', 'Bears', 'Care','ศศ','ลซด','Davidjones', \n",
    "               'แน่ๆ','294', '49', 'หมอน', 'bulky','ล่ะ', 'อ๊าว','tokpokki','449','46', 'start','Allie', 'Official', 'lt',\n",
    "               '990', 'Bud', 'Pro', 'Samsung', 'Store', 'Website','27','ยยยย','beauty', 'multy', '167', '23',\n",
    "               'Facebook', 'Morglorythailand', 'ORI', 'Page','2500','Mobile', 'WPN', 'mbk','55555', '2700', '880',\n",
    "               'Argan', 'Elegance', 'Hair', 'Oil', 'เอย', 'Select', 'Shop', 'Bulky','APEX', 'KOREA', 'konvy',\n",
    "               'account', 'sappun', 'cj', 'logistics', 'เอิ่ม', 'เอ่ย', '101', 'Cezanne', 'best', 'the', '34',\n",
    "               'Normal', 'Standard', '26','หรอก', '55', '74', 'qqaukbj','mini', 'projector','BULKY','172'\n",
    "               '400', 'FBSH','เอ้ย', 'เด่', 'เรย', 'POS','อีฟ', 'Bra', 'Jutui', '197', 'NATPATTY', '674','dm',\n",
    "               '15000', '318', 'Li', 'Net', 'Power', 'RPP', 'Remax', 'Type', 'Weight', 'bank', 'battery', \n",
    "               'iPhone', 'mAh', 'polymer', '850', '160', 'jt','555555555', '827','569', '70', '770', '790', 'Border',\n",
    "               'Day', 'Dm', 'One', 'POSTER', 'DM', 'Pt','5555555', 'คิคิ', '02', '21', 'nacific', 'out', 'sold',\n",
    "               '290', '320', 'Jackson', 'โอ้โห', '195', '390', 'CK', '35', '450', 'City', 'Marvelous', 'Size', 'fanmade',\n",
    "               'ๆๆไๆไ', 'วววว', 'ไต', '165', 'ๆๆๆๆๆ', '1700', 'hitachi', 'sharp', '00', '04', 'fee', 'ลทฟอม', 'buy', 'power',\n",
    "               'Hive', 'Rhythm', '630','77', '79', '394', 'KUNYA', '14', '18', 'Best', 'อุ', 'อ๋อ', '37', 'Stock', 'bio'\n",
    "               ,' ', 'TT', '4000', '196','ก', '140', '189', 'Later', 'Next', 'DairyHome', 'Inter', '925', '2020', '380', 'FIGARO', \n",
    "               'Japan', 'Madame', 'Nendoroid', 'วาก', 'BSWBD', 'readlenlen','Etude', '690', '188', 'flip', 'วอ', 'หว่า',\n",
    "               'ฮ', '214', 'daily', 'prize', '4.4','0.1', '0.2', '0.5','1300', '555555', 'pro', 'ultra', '1450', '55555555', 'chanel',\n",
    "               '7732', '135','netflix','ไอจี','ig','นี้แหละ','แล้วจะ','ที่จะ','วว', 'หวีด','Market', 'place','ไหม',\n",
    "               'เลย','สักวัน','พับจี','เล๊ย', 'พุ่ง','โด้', 'ดึง','ๆๆๆๆ','platinum','joox', 'rov', 'spotify','109','เซฟอล่า','325',\n",
    "               'cargo', 'tag', 'taobao', 'ป่ะ', 'อีกแล้ว','เนเจอร์','แมสก์','อยู่แล้ว', 'อิอิ','เตง','แล้วด้วย','TH','อม','22','โคตร',\n",
    "                'วว', 'อาโป','ตปท','แพลตินัม','ค่าบริการ','พับจี','เล๊ย','อีกครั้ง','sms','มามามู','อันนี้', 'เมื่อกี้','หน็อย','ไลน์', '17', 'กี', 'ค้า', 'ทท', \n",
    "                'นนน','หละ','อิ','งั้น','งั้น', 'สัก','แหม่','สส','แพทตินั่ม','Delivery', 'Same','พี่เฟย์', 'ปป', 'drop', 'mic','Link','ดดดด',\n",
    "                'โลด','order','แล้วก็','IG', 'save', 'อีกที','เอะอะ','lazada', 'closed','2021','บบ', 'CP','โก', 'ก้า', 'มูส','ถามติง','จิง',\n",
    "                'เห้ย', 'redeem','เดย์', 'ชม.', 'แป๊ปๆ','อยู่เลย', 'Apple','อิน', 'เจ้','นัท', '5555','ฮาวทู','นน', 'อืม', 'ว่าซั่น', 'เนี่ยะ','แล้วไป',\n",
    "                'มัวแต่', 'เซน', 'เต้อ', 'เวน', 'ดัน','สิ','สู', 'ซิลเวอร์', 'นัม','แพลตินัม','โถ่','ว่าแต่','เนอะ','อืน', 'อ่อ','ก๊อ','ยยย', 'professional',\n",
    "                'whoami', 'กุแหละ', '555','เหอะ', 'Platinum', 'Ac', 'Nattamon', 'natt','SKYWORTH', 'skyworth', 'คลิ้ก','gold', 'member','ฮู้', \n",
    "                '30000', 'Gold','ร๊ยย', 'วน', 'availability','1100', '1900','อิเกีย','48', 'รป', 'เห้อ', 'หึ','day', 'off','อีกด้วย','ไบร์ทมิวซ์','ยย',\n",
    "                'ดรีม','เวย์วี','เดะ', 'เด่ะ','โอ้ย', '11000','ติ้กตอก', 'ต่ะ','ป๋ม','โว้ย', 'wdm','52', '54','อยุ่ต้ะ','พก', 'ฟิวส์', 'ก้าด', 'พาหุรัด', 'สยาม', 'เฟรม', \n",
    "                'เวิร์ล', 'ไชน่า', 'said', 'เซ้น','ซัพน้องอี้ป๋อ','มุ้ยคั้บ', 'pika', 'มาร์ค','มั่ง','warota', 'ฟตซ','ว้ะ', 'เต๊าะ','candylab',\n",
    "                'มมม','น้ออ','dhl','เฮ้ย','ดด', 'มะ', 'วาน', '65','อาทิต','ป้ะ','มึ้งง', 'ย่ะ', '64', 'เอ่อ', '127', '205', 'อิบอพ','104', 'Card', 'Cashbee', \n",
    "                'น๊อ','อี๊', 'ems','EMS','SuperM','dvd', '115', 'เงี้ย','ลทบ', 'ฟตบ', 'วุย', 'เอ้อ', '19', 'ได่','no' ,'เอ๊ย','เอ้า','expless', 'นนนน',\n",
    "                '28', 'อ้าว', 'เซิร์ช', 'กค', 'คร๊', 'ร๊', 'ากกกกก', '', '80', 'ป๊ะ', 'ถถถ','หว่ส' ,'gif', 'jd','ฯ','ไม๊', 'Act', 'Again', 'Album', 'Dance', \n",
    "                'Gonna', 'Never', 'TAEMIN', 'The', 'rd', 'พิน', '탬니', 'studio', 'คั้บ', 'เน่อ', 'เบย', 'อ้ย', 'โป้', 'โฮป', 'chapter', 'mbookstoreshop', 'one'\n",
    "                , '42', 'io', 'แหะ', '88', 'นว', 'เน้าะ', 'ซอก', 'อู',' 85.', 'wabelle', '13','chocolate', 'ice', 'pack', '75', 'เนี่น','votive',\n",
    "                '59','JT','makeup', 'please', '750', 'มมมม', '47', 'adidas', 'kratop', 'Drop', 'Off','ก้', 'แน้ว', 'PVC', 'ล้ะ', '385', 'STD', '16',\n",
    "                 'Answer', 'is', 'unacceptable','WFH','1414', '1500', '1530', '170', '72','225', 'return', '130', 'มั๋ย', '2564', '110', '190', 'นนนนนน'\n",
    "                 , 'Xpres', 'shein', 'Gateway', 'ยยยยย', 'update', 'Only', 'at', 'ARM', 'FRP', 'FSTRMAR', 'Discount', 'Max', 'Min', 'WCSPORT',\n",
    "                  'Jamclub', 'Jamshop', 'Sale','มังงะ', 'มังฮวา', 'ว้อย', 'qr', 'ยยยยยย', 'Fabricposter', 'timeline', 'ช้อง', 'ยยยยยยยยย' , 'diy', 'house',\n",
    "                 'อ้ะ', 'Application','จวพ','56', 'ว้อททท', 'พค', 'ง.','.', 'เอ๊ะ', 'pt', '950', 'mandalaki', '1600', '1651', '400', '51', 'Classic', 'Silver',\n",
    "                  'กะรัต', '270', 'sliver', 'LAGOM','spay','อฟซ','me', 'remind','เนาะ','700','กก','SMASOCIAL', 'mall', 'ญญ', 'ฟพด', 'มุ', 'แมน', '31', 'ด์', \n",
    "                  'innisfree', 'ฟฟ','07','179', 'FASH', 'Season', 'TR', 'sweater', 'Rewards', 'น้องเบ', 'Ig', 'doubletttt', '️️', 'RE', 'Freesize', 'Tiny',\n",
    "                  '155','฿','FASH2TR','199', 'ANGELS', 'FENNEC', 'STRETCH', 'follow', 'บัก', 'อักษร', 'downy', 'tinytan', 'man', 'peter', 'unleashia', 'ทิ้นท์',\n",
    "                  'finnomena','จจจ', 'shopaholic', 'จว.', '405', '499', 'Wetv', 'expo', 'gadget', 'smartphone', 'งม', '224', 'ABIDE', '277', 'NADIA',\n",
    "                  'name','cf', 'Value', 'Dtac', 'Clarins', 'Galaxy', 'Smart', 'TV', 'sephora', 'เล', '', 'ecommerce','NCT', 'งื้ออ', 'mizumi',\n",
    "                   'ดดดดด','ลาซาด้า','น้องดรีม','อซท','applesheep', 'ยยยย้', 'ขข', 'เหม่', '590', '495', 'Watsons','550', '106', 'zoflora', 'Shopback',\n",
    "                  'ห้ะ','Brand','AirPods','2000','minimall','usb','xGOT', 'โบ๊ะบ๊ะ', '172','butterscotch', 'mart','เปน', 'ak', 'annywawony', 'line', 'outlet', 'th'\n",
    "                  'youus', '2790','Nintendo', 'Switch','44','BNK', 'Photoset', 'Up', 'scale','เห้ยย', '304', '419', 'CC', 'PA', 'SPF', 'Sunscreen', 'Tinted', 'Zunshield',\n",
    "                  'AA', 'Line', 'website', 'LZD', 'ssktmmee', 'sticker', 'tiny', '˃̵͈̑ᴗ˂̵͈̑', 'Airpods', '29','295', 'Ems', 'แจบ', 'acc', 'schwnn','Oppo', 'Reno', '1000', '85'\n",
    "                  , 'FB','1340', 'FOUNDATION', 'LONG', 'SKIN', 'WEAR', 'WEIGHTLESS', 'bobbi', 'brown', '2022', '202', 'Heroine', 'make', 'mascara', 'speedy',\n",
    "                  '279','ALBUM', 'ATEEZ', 'FEVER', 'MINI', 'ORDER', 'PRE', 'Part', 'ZERO', 'ver', 'boxbox', 'Oxe', 'acne', 'cure', 'lotion', 'powder',\n",
    "                  'Balm', 'HOrME', 'Relaxing', 'aroma','china', 'in', 'made', 'lilybyredthailand', 'blu', 'ray','Two', 'two','Bio','Momsta', 'dicon','beyondsoho',\n",
    "                  '126', '2017', 'riverside','38', 'manyo', 'low', 'stock', '230', '345','นิ้เบย','134', '206', 'Post', 'it', 'toxic', 'Marhen', 'เบยยย',\n",
    "                  'index', '1490', 'remax', 'apple', 'music', 'MBK', 'sony', 'Dairy', 'Home','insalon','naimx','Marimekko','ipad','178','91','silver',\n",
    "                  'everY', 'eloop','Lyrics', 'BB', 'MT', 'YG', '1690', 'hi', 'jet', 'melon', 'given', 'electrolux', 'kg', 'BOL', 'synnara','loft','face',\n",
    "                  '730', 'Arrival','โยชิ','811','lomo', 'หว่ะ', '108', 'viu', 'wetv','1360','xxx', 'Sulwhasoo','sos', 'isse', 'miyake','นน','facebook', 'twitter',\n",
    "                  'บร่ะ','ยยยยยย','ยยยย', 'kookshop', 'kr','nd', 'nude', 'rom', 'shell', '176', 'size','129', 'Shein', 'US', 'beautysite', 'international', 'norino', 'XL',\n",
    "                  '58','CE', '5555555555555', 'ads','ทะ', '1150', '3800','น', '217','207', 'roomieshobby','Fatal', 'Monsta','Holika', 'holika','qc',\n",
    "                  'Uki', 'stationery', 'rm', 'อุ๊ย', '43','ลาซาด้า', 'xl','ออฟฟิเชี่ยล','Member','ๆๆๆๆๆๆ','ok', '510', 'Midnight', 'AtrPay','ap',\n",
    "                  'refund','UX','762', 'if', 'then', 'banking','mamonde', 'Agoda', 'scb','220', '1042','222', '446', 'ก้บั่บ', 'Iam','BTS', 'google', 'แง่ง', 'โด้ย',\n",
    "                  'งื้อ','Scb','Update', 'later', 'electronics','2800','พิ้หมิวๆๆ','ป้ะ?', 'list', 'wish', 'BCURU', 'LVBUE', 'adapter', 'lightning', 'padair', 'type',\n",
    "                  'week','ยูทูป','แอนด์','จ๋วย']\n",
    "    for w in remove_words:\n",
    "        stop_words.append(w)\n",
    "\n",
    "    \n",
    "    screening_words = stop_words + remove_words\n",
    "    \n",
    "    merged = ''\n",
    "    #words = pythainlp.word_tokenize(str(sentence), engine='newmm')\n",
    "    # sentence = sentence.replace(':','')\n",
    "    words = set(thai_words()) # thai_words() returns frozenset คำที่ีใช้\n",
    "    tweet_words = ['ช้อปปี้','ช็อปปี้','แอร์เพ','ชอปปี้','แรนดอม','ทวิต','วอเลต','โดน','แอร์เพย์','เยอะ','คอยส์','คอยน์','ใช้','ไม่ได้',\n",
    "                  'ไอจี','สักที','เยอะ','แพนิค','Call Center','เอิร์ธโทน','ประทับใจ','แม่ค้า',\n",
    "                   'ยอดลดลง','เกาหลี','ส้นหนา','ยาวดี','จ้อจี้','บลูธูท','แพสชั่น','ติ๊กต๊อก','มินิมอล','สำอางค์','อัลบั้ม','ตีมือ'\n",
    "                   ,'ทิชชู่','เซรั่ม','ไฮยาลูรอน','ฟิน','มูฟออน','หนึบหนับ','คุมะมง','ออฟฟิเชียว', 'โจมาโลน', 'อิดอก', 'เอ็กเพลส',\n",
    "                   'อัลมอน', 'ปุ๊ปปั๊บ', 'แล้วจะ','โควท','หม้อทอดไร้น้ำมัน','อัติโนมัติ','เซนต์เปอร์','ประจำ','พนักงาน','แอดมิน','ติดต่อ','ธนาคาร',\n",
    "                   'ลาซาด้า','ผู้ถือหุ้น','สูญเสีย','ตกต่ำ','ค่าธรรมเนียม','รีทวิต','ติดต่อ','สิงคโปร์','ไทยแลนด์','เลื่อมล้ำ','โฟโต้การ์ด',\n",
    "                   'หาไม่เจอ','เจ้าหน้าที่','ช้อปปี้', 'แอดมิน', 'คอลเซ็นเตอร์','บริษัท', 'ค่าบริการ' ,'รับผิดชอบ', 'ติดต่อ' ,'โกงเงิน', 'บัญชี', 'ดำเนินการ', 'แบ่งชนชั้น', \n",
    "                   'คุยกับพนักงาน', 'ติดต่อ', 'บริการ', 'แจ้ง', 'ระดับ', 'พรีเมียม', 'เมมเบอร์', 'แบน', 'เลิกใช้', 'สื่อสาร', 'ร้องเรียน', 'เลิกช้อป', 'เว็บไซต์', 'เบอร์', 'โทร', \n",
    "                   'เมล', 'สนใจ', 'เพิกเฉย', 'รอสาย', 'ตัดสาย', 'ด่วน', 'เมล', 'โทร', 'ศูนย์บริการ', 'ปัญหา', 'ชดเชย', 'องค์กร', 'เลิกสั่ง' \n",
    "                   'ประทับใจ', 'แนะนำ', 'ชี้แจง', 'นโยบาย', 'สมาชิก', 'การตลาด', 'โฆษณา', 'ลูกค้า', 'ผู้ใช้บริการ', 'แพลตฟอร์ม', 'โฆษณา',\n",
    "                   'ไม่ติดต่อ', 'ยกเลิก', 'รอ', 'ช้า', 'นาน', 'ชั่วโมง', 'ไม่ได้รับ', 'ไม่ได้สินค้า', 'ปัญหา', 'ผู้ส่ง', 'พนักงาน', 'ขนส่ง', 'รอนาน', \n",
    "                   'บริการ', 'ไม่โทรมา','ส่ง','ไม่มาส่ง','ไม่ส่ง', 'สุภาพ', 'บอกทาง', 'เชค','เช็ค','ตรวจ','ที่อยู่', 'ส่งช้า', 'ส่งเร็ว', 'ส่งไว', \n",
    "                   'โทรมา', 'ไม่โทร', 'ไม่รับ', 'เลือกขนส่ง', 'เลือกขนส่งไม่ได้', 'เลือกบริษัทขนส่ง', 'ได้ของ', 'ส่งของ', 'กำหนด', 'บริษัทขนส่ง', 'ค่าส่ง', \n",
    "                   'เก็บเงินปลายทาง', 'เก็บปลายทาง', 'เลขพัสดุ', 'ค่าส่ง', 'จ่าหน้า','โค้ด', 'โค๊ด', 'โค้ดลด', 'โค้ดช้อปปี้', 'กดไม่ทัน', \n",
    "                   'ใช้ไม่ทัน', 'ค่าส่ง', 'ลดราคา', 'ส่วนลด', 'โปรโมชั่น', 'คุ้มค่า' ,'ไม่คุ้ม', 'ถูก','โปร', 'โปรช้อปปี้', 'บอกต่อ', 'ใช้ไม่ได้', 'ใช้โค้ดไม่ได้', 'คุณภาพ', 'ใช้ได้', \n",
    "                   'ขั้นต่ำ', 'โค้ดส่งฟรี', 'ส่งฟรี', 'แกง', 'ลูกค้า', 'ใหม่', 'ฟรี', 'แถม', 'เต็ม', 'กด', 'ทัน', 'เที่ยงคืน', 'แฟลชเซลล์', 'เมมเบอร์', 'สิทธิ์', \n",
    "                   'คอยส์', 'แคมเปญ', 'เหรียญ', 'จ่ายบิล', 'ดีล', 'รดน้ำต้นไม้', 'คูปอง', 'กิจกรรม','ช้อป', 'ซื้อ', 'ซื้อมาจาก', 'ร้านในช้อปปี้', 'ไลฟ์', 'ไลฟ์สด', 'ในช้อปปี้', \n",
    "                   'จากช้อปปี้','สั่งช้อปปี้', 'เข้าช้อปปี้', 'ที่ช้อปปี้', 'ราคา', 'คุ้ม', 'คุ้มค่า', 'ไม่คุ้ม', 'แพง', 'ถูก', 'ลด', 'บอกต่อ', 'คุ้ม', 'คุณภาพ', \n",
    "                   'ซื้อ', 'ส่วนต่าง', 'ควรค่า','ควรซื้อ', 'ไปตำ', 'แนะนำ', 'ร้าน', 'ร้านค้า', 'พิกัด', 'ร้าน', 'รีวิว', 'สั่ง', 'สอย', 'ซื้อจาก', 'รวมของที่ซื้อ', 'สินค้า', \n",
    "                   'ของ', 'ขาย', 'ขายของ', 'บาท', 'ใน', 'จาก', 'พร้อมส่ง', 'คำสั่งซื้อ', 'รายงานผู้ใช้', 'แม่ค้า', 'พ่อค้า', 'โกง', 'ผู้ขาย', 'แกง', 'ร้านเสื้อผ้า', \n",
    "                   'เสียเงิน', 'ขายที่', 'ขายดี', 'หมดไว', 'ปลอม','แอพ', 'แอพช้อปปี้','แอพลิเคชั่น', 'หน้าจอ', 'รวน', 'สมัคร', 'ไถ', 'ไถช้อปปี้', 'ชั่วคราว', 'ระบบ', \n",
    "                   'เงิน', 'เว็บ', 'หน้าเว็บ', 'ตัด', 'บัตร','แคนเซิล', 'ยกเลิก', 'เป็นอะไร','พัง', 'ค้าง', 'ล่ม', 'เสีย', 'ไม่ได้', 'เด้ง', 'รอ', 'พัฒนา', \n",
    "                   'หักตังค์', 'หักเงิน', 'คืนเงิน', 'ตัดเงิน', 'ตัดบัตร', 'บัตร', 'หักเงิน', 'ยาก', 'ง่าย', 'พัฒนา', 'ไม่ตรง', 'โอน', 'โอนเงิน', 'เครดิต', \n",
    "                   'คืน', 'แก้', 'ด่วน', 'ขัดข้อง', 'ฟื้น', 'แก้ไข', 'จ่ายเงิน', 'ผ่อน', 'ปัญหา', 'โดนระงับ', 'ตรวจสอบ', 'ขั้นตอน', 'เงินไม่เข้า', 'เติมเงิน', 'ไม่เข้า', \n",
    "                   'จ่ายไม่ได้', 'แบบใหม่', 'แบบเก่า', 'บัตรเครดิต', 'บอท', 'อัพเดต', 'เงินคืน', 'บัญชี', 'อนุมัติ', 'กดเงิน', 'ช้อปปี้เพย์', 'แอร์เพย์', 'จอ', 'อัตโนมัติ', \n",
    "                   'ฟีด', 'โหมดดาร์ก', 'สถานะ', 'แฮ็ค', 'ตะกร้า', 'แจ้งเตือน', 'ระงับ', 'ยกเลิก', 'คำสั่งซื้อ', 'ตรวจสอบ', 'ลิ้งค์', 'สะดวก', 'ระบบล่ม', 'เติม', \n",
    "                   'โหลด', 'ปัดจอ', 'โหลด', 'เสิร์ช' ,'หมวด', 'ธุรกรรม', 'วงเงิน', 'วอลเล็ต','รีฟันด์','ท่องโลก','หลงไหล','เปอร์เซ็น','คนละครึ่ง','วอชเชอร์','บราวนี่',\n",
    "                   'กาแฟ่','เม้าส์','ออฟฟิต','เมนชั่น','โฟโต้ช้อป', 'เฟอร์นิเจอ','จิตใจ','ป้ายยา', 'ปุ๊กปิ๊ก','อินฟลูเซอร์','ระบุ','ขี้งก','ศีลเสมอกัน','เมมเบอร์','คลีนิก','ตาแตก'\n",
    "                    ,'เปียกน้ำ','โลภ','ดีเอชแอล','แฟลช','นินจาแวน','ช้อปปี้เอ็กซ์เพรส','เบสเอกเพลส','เคอร์รี่','ชำระ','ล่ำลือ','สีกรม','ไหนคะ','อิควัย','บัดซบ','แบนอยู่',\n",
    "                   'เปย์','แดรี่โฮม','หมั่นโหนก','กี๊ด','อัดเทป','ฉัน','เธอ','คุณ','เบื่อ', 'ตรุษจีน','เร็ว','ชิบหาย','ชิปหาย','มัดย้อม','โคย', 'แม็กเน็ต', 'อนิเมะ','มังงะ', \n",
    "                   'มังฮวา','สลีปปิ้งมาส์ก','ช้อปลาเนจ','มิสเพริกริน','ไดโซะ','เลิศ', 'ครัวซองค์','ออเดอร์','เดียว','ขนส่ง','แอค','สติ้กเกอร์','กลิ้ตเตอร์','รอยอลคันนิง',\n",
    "                   'เจลว่านหาง','เดรบิต','เหลือ','ช็อปแบค','จน','ราคา','กาตูน','อิโมจิ','บิสกิต','ทิ้ง','เสือก','มิว','ฮีล','อัลมอนต์','ซอส','ป้อบคอร์น','ออฟฟิเชี่ยล',\n",
    "                   'เซิ่นเจิ่น','วอลเลท','กรอง','ห่วยแตก','ห่วย','การันตี','สาระแน','' ]\n",
    "    for w in tweet_words:\n",
    "        words.add(w)\n",
    "    \n",
    "    #word tokenize\n",
    "    custom_tokenizer = Tokenizer(words)\n",
    "    custom_dictionary_trie = Trie(words)\n",
    "    words = pythainlp.word_tokenize(str(sentence), \n",
    "                                  custom_dict=custom_dictionary_trie, \n",
    "                                  engine='newmm')\n",
    "\n",
    "    for word in custom_tokenizer.word_tokenize(sentence):\n",
    "        word_norm = normalize(word)\n",
    "        if word_norm in correction_dict:\n",
    "            word_norm = correction_dict[word_norm]\n",
    "        if word_norm not in screening_words and word_norm!='' and len(word_norm)>1:\n",
    "            merged = merged + ',' + word_norm\n",
    "    return merged[1:]\n",
    "    #print('ชอปปี้' in words)"
   ]
  },
  {
   "cell_type": "code",
   "execution_count": 40,
   "metadata": {},
   "outputs": [],
   "source": [
    "#print(preprocessor('มันแอบเป็นข้อดีเพราะมันระบายอากาศ ไม่อัดอัด ใส่สบายมาก สีสวย ปักเย็บดี ราคา76บาท ไม่จ้อจี้ค่ะแอนนา เดี๋ยวแปะร้านไว้ข้างล่าง ไปเจอแผ่นลองนั่งใน shopee มาคือดีมากปกตินี่ไม่ชอบเข้าห้องน้ำสาธารณะเพราะที่นั่งชักโครกแฉะบ้าง'))"
   ]
  },
  {
   "cell_type": "code",
   "execution_count": 41,
   "metadata": {
    "scrolled": true
   },
   "outputs": [],
   "source": [
    "#print (df.loc[:, 'clean_text'].tolist())"
   ]
  },
  {
   "cell_type": "markdown",
   "metadata": {},
   "source": [
    "## Create Bag of Word"
   ]
  },
  {
   "cell_type": "markdown",
   "metadata": {},
   "source": [
    "### Bag of word"
   ]
  },
  {
   "cell_type": "code",
   "execution_count": 42,
   "metadata": {},
   "outputs": [
    {
     "data": {
      "text/plain": [
       "(4458, 111)"
      ]
     },
     "execution_count": 42,
     "metadata": {},
     "output_type": "execute_result"
    }
   ],
   "source": [
    "from sklearn.feature_extraction.text import CountVectorizer\n",
    "vectorizer = CountVectorizer(analyzer=preprocessor)\n",
    "X_train_counts = vectorizer.fit_transform(df.clean_text)\n",
    "X_train_counts.shape"
   ]
  },
  {
   "cell_type": "code",
   "execution_count": 43,
   "metadata": {},
   "outputs": [
    {
     "name": "stdout",
     "output_type": "stream",
     "text": [
      "[[ 0 14  0 ...  0  0  0]\n",
      " [ 0 20  0 ...  0  0  0]\n",
      " [ 0 10  0 ...  0  1  0]\n",
      " ...\n",
      " [ 0  2  0 ...  0  0  0]\n",
      " [ 0  3  0 ...  0  0  0]\n",
      " [ 0  2  0 ...  0  0  0]]\n"
     ]
    }
   ],
   "source": [
    "print(X_train_counts.toarray())"
   ]
  },
  {
   "cell_type": "markdown",
   "metadata": {},
   "source": [
    "## TF-IDF"
   ]
  },
  {
   "cell_type": "code",
   "execution_count": 44,
   "metadata": {},
   "outputs": [
    {
     "data": {
      "text/plain": [
       "(4458, 111)"
      ]
     },
     "execution_count": 44,
     "metadata": {},
     "output_type": "execute_result"
    }
   ],
   "source": [
    "from sklearn.feature_extraction.text import TfidfVectorizer\n",
    "tfidf_transformer = TfidfTransformer()\n",
    "X_train_tfidf = tfidf_transformer.fit_transform(X_train_counts)\n",
    "X_train_tfidf.shape"
   ]
  },
  {
   "cell_type": "code",
   "execution_count": 45,
   "metadata": {},
   "outputs": [
    {
     "name": "stdout",
     "output_type": "stream",
     "text": [
      "[[0.         0.49308956 0.         ... 0.         0.         0.        ]\n",
      " [0.         0.5016155  0.         ... 0.         0.         0.        ]\n",
      " [0.         0.5253072  0.         ... 0.         0.13642652 0.        ]\n",
      " ...\n",
      " [0.         0.28654732 0.         ... 0.         0.         0.        ]\n",
      " [0.         0.31711576 0.         ... 0.         0.         0.        ]\n",
      " [0.         0.25462548 0.         ... 0.         0.         0.        ]]\n"
     ]
    }
   ],
   "source": [
    "print(X_train_tfidf.toarray())"
   ]
  },
  {
   "cell_type": "markdown",
   "metadata": {},
   "source": [
    "## Fixed imbalanced data"
   ]
  },
  {
   "cell_type": "code",
   "execution_count": 46,
   "metadata": {},
   "outputs": [],
   "source": [
    "import numpy as np\n",
    "import pandas as pd\n",
    "import datetime as dt\n",
    "import matplotlib.pyplot as plt\n",
    "#import xgboost as xgb\n",
    "import seaborn as sns\n",
    "from sklearn.model_selection import train_test_split\n",
    "from sklearn.metrics import precision_score, recall_score, f1_score, roc_auc_score, accuracy_score, classification_report, roc_curve, auc\n",
    "from imblearn.under_sampling import RandomUnderSampler\n",
    "from imblearn.over_sampling import RandomOverSampler\n",
    "from imblearn.over_sampling import SMOTE\n",
    "#from xgboost import plot_importance\n",
    "from sklearn.linear_model import LogisticRegression\n",
    "from sklearn.metrics import confusion_matrix\n",
    "from sklearn.tree import DecisionTreeClassifier\n",
    "from sklearn import tree"
   ]
  },
  {
   "cell_type": "code",
   "execution_count": 47,
   "metadata": {},
   "outputs": [
    {
     "data": {
      "text/html": [
       "<div>\n",
       "<style scoped>\n",
       "    .dataframe tbody tr th:only-of-type {\n",
       "        vertical-align: middle;\n",
       "    }\n",
       "\n",
       "    .dataframe tbody tr th {\n",
       "        vertical-align: top;\n",
       "    }\n",
       "\n",
       "    .dataframe thead th {\n",
       "        text-align: right;\n",
       "    }\n",
       "</style>\n",
       "<table border=\"1\" class=\"dataframe\">\n",
       "  <thead>\n",
       "    <tr style=\"text-align: right;\">\n",
       "      <th></th>\n",
       "      <th>Sentiment</th>\n",
       "      <th>clean_text</th>\n",
       "    </tr>\n",
       "  </thead>\n",
       "  <tbody>\n",
       "    <tr>\n",
       "      <th>0</th>\n",
       "      <td>neg</td>\n",
       "      <td>1838</td>\n",
       "    </tr>\n",
       "    <tr>\n",
       "      <th>1</th>\n",
       "      <td>neu</td>\n",
       "      <td>1447</td>\n",
       "    </tr>\n",
       "    <tr>\n",
       "      <th>2</th>\n",
       "      <td>pos</td>\n",
       "      <td>1173</td>\n",
       "    </tr>\n",
       "  </tbody>\n",
       "</table>\n",
       "</div>"
      ],
      "text/plain": [
       "  Sentiment  clean_text\n",
       "0       neg        1838\n",
       "1       neu        1447\n",
       "2       pos        1173"
      ]
     },
     "execution_count": 47,
     "metadata": {},
     "output_type": "execute_result"
    }
   ],
   "source": [
    "sentiment_rate = df.groupby('Sentiment').agg({'clean_text': lambda x: len(x)}).reset_index()\n",
    "sentiment_rate.head()"
   ]
  },
  {
   "cell_type": "code",
   "execution_count": 48,
   "metadata": {},
   "outputs": [
    {
     "data": {
      "image/png": "[encoded data removed]",
      "text/plain": [
       "<Figure size 360x360 with 1 Axes>"
      ]
     },
     "metadata": {
      "needs_background": "light"
     },
     "output_type": "display_data"
    }
   ],
   "source": [
    "plt.figure(figsize=(5,5))\n",
    "x=range(3)\n",
    "plt.bar(x,sentiment_rate['clean_text'])\n",
    "plt.xticks(sentiment_rate.index)\n",
    "plt.title('Sentiment Distribution')\n",
    "plt.xlabel('Convert or Not')\n",
    "plt.ylabel('no. of users')\n",
    "plt.show()\n",
    "\n",
    "#Data is imbalanced"
   ]
  },
  {
   "cell_type": "markdown",
   "metadata": {},
   "source": [
    "### map text in data to class"
   ]
  },
  {
   "cell_type": "code",
   "execution_count": 49,
   "metadata": {},
   "outputs": [],
   "source": [
    "topics_map = {'Store': 0, 'Logistics': 1, 'Promotion': 2, 'Company': 3, 'System': 4}\n",
    "df['Topics'] = df.Topics.map(topics_map)"
   ]
  },
  {
   "cell_type": "code",
   "execution_count": 50,
   "metadata": {},
   "outputs": [
    {
     "data": {
      "text/plain": [
       "0       3\n",
       "1       3\n",
       "2       3\n",
       "3       3\n",
       "4       3\n",
       "       ..\n",
       "4453    4\n",
       "4454    4\n",
       "4455    4\n",
       "4456    4\n",
       "4457    4\n",
       "Name: Topics, Length: 4458, dtype: int64"
      ]
     },
     "execution_count": 50,
     "metadata": {},
     "output_type": "execute_result"
    }
   ],
   "source": [
    "df['Topics']"
   ]
  },
  {
   "cell_type": "code",
   "execution_count": 51,
   "metadata": {},
   "outputs": [
    {
     "name": "stdout",
     "output_type": "stream",
     "text": [
      "0    1571\n",
      "1    1121\n",
      "4     626\n",
      "2     605\n",
      "3     535\n",
      "Name: Topics, dtype: int64\n"
     ]
    }
   ],
   "source": [
    "print(df.Topics.value_counts())"
   ]
  },
  {
   "cell_type": "markdown",
   "metadata": {},
   "source": [
    "## Fixing imbalanced with Undersampling"
   ]
  },
  {
   "cell_type": "code",
   "execution_count": 180,
   "metadata": {},
   "outputs": [],
   "source": [
    "from sklearn.model_selection import train_test_split\n",
    "\n",
    "X = X_train_tfidf\n",
    "y = df['Topics']\n",
    "\n",
    "X_train, X_test, y_train, y_test = train_test_split(X, y, test_size=0.2, random_state=0)"
   ]
  },
  {
   "cell_type": "code",
   "execution_count": 183,
   "metadata": {},
   "outputs": [],
   "source": [
    "from imblearn.under_sampling import RandomUnderSampler\n",
    "sampling_strategy = {0: 427, 1:427, 2:427, 3:427, 4:427}\n",
    "rus = RandomUnderSampler(sampling_strategy = sampling_strategy).fit(X_train, y_train)\n",
    "\n",
    "X_resampled, y_resampled = rus.fit_resample(X_train, y_train)\n",
    "df_undersampled = pd.concat([pd.DataFrame(data=X_resampled),pd.DataFrame(data=y_resampled)], axis=1, sort=False)\n",
    "df_undersampled.columns= ['Topics','clean_text']"
   ]
  },
  {
   "cell_type": "code",
   "execution_count": 184,
   "metadata": {},
   "outputs": [
    {
     "name": "stdout",
     "output_type": "stream",
     "text": [
      "Before Value Counts:\n",
      "Counter({0: 1260, 1: 890, 4: 502, 2: 487, 3: 427})\n",
      "\n",
      "df shape     :(4458, 3)\n",
      "X_train shape before:(3566, 111)\n",
      "y_train shape before:(3566,)\n",
      "X_test shape before :(892, 111)\n",
      "y_test shape before :(892,)\n",
      "\n",
      "X_train shape after :(2135, 111)\n",
      "y_train shape after :(2135,)\n",
      "\n",
      "Target Value Counts:\n",
      "Counter({0: 427, 1: 427, 2: 427, 3: 427, 4: 427})\n",
      "\n"
     ]
    }
   ],
   "source": [
    "from collections import Counter\n",
    "print('Before Value Counts:\\n{}\\n'.format(Counter(y_train)))\n",
    "print('df shape     :{}'.format(df.shape))\n",
    "print('X_train shape before:{}'.format(X_train.shape))\n",
    "print('y_train shape before:{}'.format(y_train.shape))\n",
    "print('X_test shape before :{}'.format(X_test.shape))\n",
    "print('y_test shape before :{}\\n'.format(y_test.shape))\n",
    "print('X_train shape after :{}'.format(X_resampled.shape))\n",
    "print('y_train shape after :{}\\n'.format(y_resampled.shape))\n",
    "print('Target Value Counts:\\n{}\\n'.format(Counter(y_resampled)))"
   ]
  },
  {
   "cell_type": "markdown",
   "metadata": {},
   "source": [
    "## SVM"
   ]
  },
  {
   "cell_type": "code",
   "execution_count": 185,
   "metadata": {},
   "outputs": [],
   "source": [
    "svm_clf_model = LinearSVC().fit(X_resampled, y_resampled)\n",
    "y_predict_svm = svm_clf_model.predict(X_test)"
   ]
  },
  {
   "cell_type": "code",
   "execution_count": 186,
   "metadata": {},
   "outputs": [
    {
     "name": "stdout",
     "output_type": "stream",
     "text": [
      "test\n",
      "              precision    recall  f1-score   support\n",
      "\n",
      "           0       0.79      0.60      0.68       311\n",
      "           1       0.66      0.62      0.64       231\n",
      "           2       0.55      0.75      0.64       118\n",
      "           3       0.76      0.92      0.83       108\n",
      "           4       0.71      0.85      0.77       124\n",
      "\n",
      "    accuracy                           0.70       892\n",
      "   macro avg       0.70      0.75      0.71       892\n",
      "weighted avg       0.71      0.70      0.70       892\n",
      "\n",
      "[[187  49  41  10  24]\n",
      " [ 35 144  22  17  13]\n",
      " [ 13  12  88   3   2]\n",
      " [  1   3   2  99   3]\n",
      " [  2  10   6   1 105]]\n"
     ]
    }
   ],
   "source": [
    "print('test')\n",
    "print(classification_report(y_test,y_predict_svm))\n",
    "print(confusion_matrix(y_test,y_predict_svm))"
   ]
  },
  {
   "cell_type": "markdown",
   "metadata": {},
   "source": [
    "## Cross Validation"
   ]
  },
  {
   "cell_type": "code",
   "execution_count": 187,
   "metadata": {},
   "outputs": [],
   "source": [
    "from sklearn.model_selection import cross_val_score\n",
    "from sklearn.model_selection import cross_val_predict"
   ]
  },
  {
   "cell_type": "code",
   "execution_count": 188,
   "metadata": {},
   "outputs": [
    {
     "name": "stdout",
     "output_type": "stream",
     "text": [
      "train\n",
      "              precision    recall  f1-score   support\n",
      "\n",
      "       Store       0.63      0.61      0.62       427\n",
      "   Logistics       0.67      0.63      0.65       427\n",
      "   Promotion       0.74      0.70      0.72       427\n",
      "     Company       0.86      0.90      0.88       427\n",
      "      System       0.75      0.80      0.78       427\n",
      "\n",
      "    accuracy                           0.73      2135\n",
      "   macro avg       0.73      0.73      0.73      2135\n",
      "weighted avg       0.73      0.73      0.73      2135\n",
      "\n"
     ]
    }
   ],
   "source": [
    "y_train_pred_svm = cross_val_predict(svm_clf_model, X_resampled, y_resampled, cv=5, n_jobs=-1)\n",
    "#print(y_train_pred_svm)\n",
    "name = ['Store', 'Logistics', 'Promotion', 'Company', 'System']\n",
    "print('train')\n",
    "print(classification_report(y_resampled, y_train_pred_svm,target_names = name ))"
   ]
  },
  {
   "cell_type": "markdown",
   "metadata": {},
   "source": [
    "## Grid Search"
   ]
  },
  {
   "cell_type": "code",
   "execution_count": 206,
   "metadata": {},
   "outputs": [
    {
     "name": "stdout",
     "output_type": "stream",
     "text": [
      "Fitting 20 folds for each of 4 candidates, totalling 80 fits\n",
      "[[203  54  31   8  15]\n",
      " [ 38 155  16  12  10]\n",
      " [ 17  15  81   2   3]\n",
      " [  2   3   2  96   5]\n",
      " [  3   8   5   1 107]]\n",
      "              precision    recall  f1-score   support\n",
      "\n",
      "           0       0.77      0.65      0.71       311\n",
      "           1       0.66      0.67      0.67       231\n",
      "           2       0.60      0.69      0.64       118\n",
      "           3       0.81      0.89      0.85       108\n",
      "           4       0.76      0.86      0.81       124\n",
      "\n",
      "    accuracy                           0.72       892\n",
      "   macro avg       0.72      0.75      0.73       892\n",
      "weighted avg       0.72      0.72      0.72       892\n",
      "\n"
     ]
    }
   ],
   "source": [
    "from sklearn.model_selection import GridSearchCV \n",
    "from sklearn import svm\n",
    "# grid_params_svm = {\n",
    "#     'classifier__C': [0.01,0.5,1,1.5],\n",
    "#     'classifier__penalty' :['l1', 'l2']\n",
    "#     }\n",
    "parameters = {'kernel':('linear', 'rbf'), 'C':[1, 10]}\n",
    "svc = svm.SVC()\n",
    "gs_svm = GridSearchCV(svc,parameters,verbose=1,cv=20,n_jobs=-1)\n",
    "gs_results_svm = gs_svm.fit(X_resampled, y_resampled)\n",
    "gs_results_svm.best_score_\n",
    "gs_results_svm.best_estimator_\n",
    "gs_results_svm.best_params_\n",
    "best_svm = gs_results_svm.best_estimator_\n",
    "\n",
    "y_pred_svm = best_svm.predict(X_test)\n",
    "print(confusion_matrix(y_test, y_pred_svm))\n",
    "print(classification_report(y_test, y_pred_svm))"
   ]
  },
  {
   "cell_type": "markdown",
   "metadata": {},
   "source": [
    "## RandomForest"
   ]
  },
  {
   "cell_type": "code",
   "execution_count": 190,
   "metadata": {},
   "outputs": [],
   "source": [
    "from sklearn.ensemble import RandomForestClassifier\n",
    "rf_clf = RandomForestClassifier().fit(X_resampled, y_resampled)\n",
    "rf_pred = rf_clf.predict(X_test)"
   ]
  },
  {
   "cell_type": "code",
   "execution_count": 191,
   "metadata": {},
   "outputs": [
    {
     "name": "stdout",
     "output_type": "stream",
     "text": [
      "test\n",
      "              precision    recall  f1-score   support\n",
      "\n",
      "       Store       0.76      0.63      0.69       311\n",
      "   Logistics       0.65      0.65      0.65       231\n",
      "   Promotion       0.55      0.68      0.61       118\n",
      "     Company       0.83      0.90      0.86       108\n",
      "      System       0.75      0.85      0.80       124\n",
      "\n",
      "    accuracy                           0.71       892\n",
      "   macro avg       0.71      0.74      0.72       892\n",
      "weighted avg       0.71      0.71      0.70       892\n",
      "\n",
      "[[196  55  36   7  17]\n",
      " [ 38 151  22  10  10]\n",
      " [ 17  15  80   2   4]\n",
      " [  1   2   4  97   4]\n",
      " [  5  10   3   1 105]]\n"
     ]
    }
   ],
   "source": [
    "print('test')\n",
    "name = ['Store', 'Logistics', 'Promotion', 'Company', 'System']\n",
    "print(classification_report(y_test,rf_pred,target_names = name))\n",
    "print(confusion_matrix(y_test,rf_pred ))"
   ]
  },
  {
   "cell_type": "code",
   "execution_count": 192,
   "metadata": {},
   "outputs": [],
   "source": [
    "# # Grid Search fine tune model Random forest\n",
    "# from sklearn.model_selection import train_test_split, cross_val_score, TimeSeriesSplit, GridSearchCV, RandomizedSearchCV\n",
    "\n",
    "# rf_params = {\"n_estimators\":[100,300,500],\n",
    "#                   \"max_depth\":[7,10,15],\n",
    "#                   \"max_features\": [8,10,15],\n",
    "#                   \"min_samples_split\": [4,6,8]}\n",
    "\n",
    "\n",
    "# rf_grid= RandomizedSearchCV(rf_clf, rf_params, cv = 5, n_iter=10,\n",
    "#                                  n_jobs = -1, verbose = 2,scoring='f1').fit(X1, y1)\n",
    "\n",
    "# rf_grid.best_params_\n",
    "\n",
    "# n_estimators = ,min_samples_split = 8,max_features = 15,max_depth = 15"
   ]
  },
  {
   "cell_type": "markdown",
   "metadata": {},
   "source": [
    "## Cross Validation"
   ]
  },
  {
   "cell_type": "code",
   "execution_count": 193,
   "metadata": {},
   "outputs": [
    {
     "name": "stdout",
     "output_type": "stream",
     "text": [
      "              precision    recall  f1-score   support\n",
      "\n",
      "       Store       0.61      0.64      0.62       427\n",
      "   Logistics       0.63      0.69      0.66       427\n",
      "   Promotion       0.78      0.67      0.73       427\n",
      "     Company       0.89      0.90      0.90       427\n",
      "      System       0.83      0.81      0.82       427\n",
      "\n",
      "    accuracy                           0.74      2135\n",
      "   macro avg       0.75      0.74      0.74      2135\n",
      "weighted avg       0.75      0.74      0.74      2135\n",
      "\n"
     ]
    }
   ],
   "source": [
    "y_train_pred_rf = cross_val_predict(rf_clf, X_resampled, y_resampled, cv=5, n_jobs=-1)\n",
    "#print(y_train_pred_svm)\n",
    "name = ['Store', 'Logistics', 'Promotion', 'Company', 'System']\n",
    "print(classification_report(y_resampled, y_train_pred_rf, target_names = name ))"
   ]
  },
  {
   "cell_type": "markdown",
   "metadata": {},
   "source": [
    "## Grid Search"
   ]
  },
  {
   "cell_type": "code",
   "execution_count": 210,
   "metadata": {},
   "outputs": [
    {
     "name": "stdout",
     "output_type": "stream",
     "text": [
      "Fitting 10 folds for each of 1 candidates, totalling 10 fits\n",
      "[[212  54  26   8  11]\n",
      " [ 45 148  20   9   9]\n",
      " [ 17  15  81   2   3]\n",
      " [  2   1   4  99   2]\n",
      " [  3   7   3   1 110]]\n",
      "              precision    recall  f1-score   support\n",
      "\n",
      "           0       0.76      0.68      0.72       311\n",
      "           1       0.66      0.64      0.65       231\n",
      "           2       0.60      0.69      0.64       118\n",
      "           3       0.83      0.92      0.87       108\n",
      "           4       0.81      0.89      0.85       124\n",
      "\n",
      "    accuracy                           0.73       892\n",
      "   macro avg       0.73      0.76      0.75       892\n",
      "weighted avg       0.73      0.73      0.73       892\n",
      "\n"
     ]
    }
   ],
   "source": [
    "from sklearn.model_selection import GridSearchCV \n",
    "from sklearn import svm\n",
    "# grid_params_svm = {\n",
    "#     'classifier__C': [0.01,0.5,1,1.5],\n",
    "#     'classifier__penalty' :['l1', 'l2']\n",
    "#     }\n",
    "rf_params = {\"n_estimators\":[1000],\n",
    "                   \"max_depth\":[15],\n",
    "                   \"max_features\": [15],\n",
    "                   \"min_samples_split\": [4]}\n",
    "\n",
    "#svc = svm.SVC()\n",
    "gs_svm = GridSearchCV(rf_clf,rf_params,verbose=1,cv=10,n_jobs=-1)\n",
    "gs_results_svm = gs_svm.fit(X_resampled, y_resampled)\n",
    "gs_results_svm.best_score_\n",
    "gs_results_svm.best_estimator_\n",
    "gs_results_svm.best_params_\n",
    "best_svm = gs_results_svm.best_estimator_\n",
    "\n",
    "y_pred_svm = best_svm.predict(X_test)\n",
    "print(confusion_matrix(y_test, y_pred_svm))\n",
    "print(classification_report(y_test, y_pred_svm))"
   ]
  },
  {
   "cell_type": "markdown",
   "metadata": {},
   "source": [
    "## Logistics Regression"
   ]
  },
  {
   "cell_type": "code",
   "execution_count": 195,
   "metadata": {},
   "outputs": [],
   "source": [
    "from sklearn.linear_model import LogisticRegression\n",
    "lr_clf_lg = LogisticRegression(random_state=0).fit(X_resampled, y_resampled)\n",
    "lr_pred_lg = lr_clf_lg.predict(X_test)"
   ]
  },
  {
   "cell_type": "code",
   "execution_count": 196,
   "metadata": {},
   "outputs": [
    {
     "name": "stdout",
     "output_type": "stream",
     "text": [
      "test\n",
      "              precision    recall  f1-score   support\n",
      "\n",
      "       Store       0.77      0.59      0.67       311\n",
      "   Logistics       0.66      0.65      0.65       231\n",
      "   Promotion       0.55      0.72      0.62       118\n",
      "     Company       0.78      0.91      0.84       108\n",
      "      System       0.71      0.82      0.76       124\n",
      "\n",
      "    accuracy                           0.70       892\n",
      "   macro avg       0.69      0.74      0.71       892\n",
      "weighted avg       0.71      0.70      0.69       892\n",
      "\n",
      "[[185  52  41  10  23]\n",
      " [ 34 150  21  14  12]\n",
      " [ 15  14  85   2   2]\n",
      " [  1   2   3  98   4]\n",
      " [  5  10   5   2 102]]\n"
     ]
    }
   ],
   "source": [
    "print('test')\n",
    "name = ['Store', 'Logistics', 'Promotion', 'Company', 'System']\n",
    "print(classification_report(y_test,lr_pred_lg,target_names = name))\n",
    "print(confusion_matrix(y_test,lr_pred_lg))"
   ]
  },
  {
   "cell_type": "markdown",
   "metadata": {},
   "source": [
    "## Cross Validation"
   ]
  },
  {
   "cell_type": "code",
   "execution_count": 197,
   "metadata": {},
   "outputs": [
    {
     "name": "stdout",
     "output_type": "stream",
     "text": [
      "              precision    recall  f1-score   support\n",
      "\n",
      "       Store       0.63      0.62      0.63       427\n",
      "   Logistics       0.65      0.67      0.66       427\n",
      "   Promotion       0.75      0.71      0.73       427\n",
      "     Company       0.87      0.88      0.88       427\n",
      "      System       0.77      0.80      0.78       427\n",
      "\n",
      "    accuracy                           0.73      2135\n",
      "   macro avg       0.73      0.73      0.73      2135\n",
      "weighted avg       0.73      0.73      0.73      2135\n",
      "\n"
     ]
    }
   ],
   "source": [
    "y_train_pred_lg = cross_val_predict(lr_clf_lg, X_resampled, y_resampled, cv=5, n_jobs=-1)\n",
    "#print(y_train_pred_svm)\n",
    "name = ['Store', 'Logistics', 'Promotion', 'Company', 'System']\n",
    "print(classification_report(y_resampled, y_train_pred_lg, target_names=name ))"
   ]
  },
  {
   "cell_type": "code",
   "execution_count": 198,
   "metadata": {},
   "outputs": [
    {
     "name": "stdout",
     "output_type": "stream",
     "text": [
      "Fitting 5 folds for each of 40 candidates, totalling 200 fits\n",
      "[[191  50  37  10  23]\n",
      " [ 35 151  20  14  11]\n",
      " [ 15  14  84   3   2]\n",
      " [  1   2   3  98   4]\n",
      " [  5  10   4   3 102]]\n",
      "              precision    recall  f1-score   support\n",
      "\n",
      "           0       0.77      0.61      0.68       311\n",
      "           1       0.67      0.65      0.66       231\n",
      "           2       0.57      0.71      0.63       118\n",
      "           3       0.77      0.91      0.83       108\n",
      "           4       0.72      0.82      0.77       124\n",
      "\n",
      "    accuracy                           0.70       892\n",
      "   macro avg       0.70      0.74      0.71       892\n",
      "weighted avg       0.71      0.70      0.70       892\n",
      "\n"
     ]
    },
    {
     "name": "stderr",
     "output_type": "stream",
     "text": [
      "/Users/abcd/opt/anaconda3/lib/python3.7/site-packages/sklearn/model_selection/_search.py:925: UserWarning: One or more of the test scores are non-finite: [       nan 0.53208431        nan 0.63559719        nan 0.67447307\n",
      "        nan 0.68665105        nan 0.69133489        nan 0.69929742\n",
      "        nan 0.70913349        nan 0.72177986        nan 0.72318501\n",
      "        nan 0.73302108        nan 0.73255269        nan 0.72786885\n",
      "        nan 0.72224824        nan 0.7175644         nan 0.71522248\n",
      "        nan 0.71662763        nan 0.71428571        nan 0.71522248\n",
      "        nan 0.71615925        nan 0.71428571]\n",
      "  category=UserWarning\n"
     ]
    }
   ],
   "source": [
    "from sklearn.model_selection import GridSearchCV \n",
    "# from sklearn import svm\n",
    "# grid_params_svm = {\n",
    "#     'classifier__C': [0.01,0.5,1,1.5],\n",
    "#     'classifier__penalty' :['l1', 'l2']\n",
    "#     }\n",
    "\n",
    "penalty = ['l1', 'l2']\n",
    "C = np.logspace(-4,4,20)\n",
    "hyperparameters = dict(penalty=penalty, C=C)\n",
    "\n",
    "#svc = svm.SVC()\n",
    "gs_lr = GridSearchCV(lr_clf_lg,hyperparameters,verbose=1,cv=5,n_jobs=-1)\n",
    "gs_results_lr = gs_lr.fit(X_resampled, y_resampled)\n",
    "gs_results_lr.best_score_\n",
    "gs_results_lr.best_estimator_\n",
    "gs_results_lr.best_params_\n",
    "best_lr = gs_results_lr.best_estimator_\n",
    "\n",
    "y_pred_lr = best_lr.predict(X_test)\n",
    "print(confusion_matrix(y_test, y_pred_lr))\n",
    "print(classification_report(y_test, y_pred_lr))"
   ]
  },
  {
   "cell_type": "markdown",
   "metadata": {},
   "source": [
    "## Naive Bayes"
   ]
  },
  {
   "cell_type": "code",
   "execution_count": 199,
   "metadata": {},
   "outputs": [],
   "source": [
    "from sklearn.naive_bayes import MultinomialNB\n",
    "lr_clf_NB = MultinomialNB().fit(X_resampled, y_resampled)\n",
    "lr_pred_NB = lr_clf_NB.predict(X_test)"
   ]
  },
  {
   "cell_type": "code",
   "execution_count": 200,
   "metadata": {},
   "outputs": [
    {
     "name": "stdout",
     "output_type": "stream",
     "text": [
      "test\n",
      "              precision    recall  f1-score   support\n",
      "\n",
      "       Store       0.69      0.64      0.67       311\n",
      "   Logistics       0.68      0.56      0.61       231\n",
      "   Promotion       0.56      0.70      0.62       118\n",
      "     Company       0.78      0.91      0.84       108\n",
      "      System       0.68      0.76      0.71       124\n",
      "\n",
      "    accuracy                           0.68       892\n",
      "   macro avg       0.68      0.71      0.69       892\n",
      "weighted avg       0.68      0.68      0.67       892\n",
      "\n",
      "[[200  38  35  13  25]\n",
      " [ 56 129  23   9  14]\n",
      " [ 17  12  83   2   4]\n",
      " [  2   3   3  98   2]\n",
      " [ 13   9   5   3  94]]\n"
     ]
    }
   ],
   "source": [
    "print('test')\n",
    "name = ['Store', 'Logistics', 'Promotion', 'Company', 'System']\n",
    "print(classification_report(y_test,lr_pred_NB,target_names = name))\n",
    "print(confusion_matrix(y_test,lr_pred_NB))"
   ]
  },
  {
   "cell_type": "markdown",
   "metadata": {},
   "source": [
    "## Cross Validation"
   ]
  },
  {
   "cell_type": "code",
   "execution_count": 111,
   "metadata": {},
   "outputs": [
    {
     "name": "stdout",
     "output_type": "stream",
     "text": [
      "              precision    recall  f1-score   support\n",
      "\n",
      "       Store       0.56      0.66      0.60       427\n",
      "   Logistics       0.61      0.58      0.59       427\n",
      "   Promotion       0.71      0.66      0.69       427\n",
      "     Company       0.87      0.87      0.87       427\n",
      "      System       0.78      0.73      0.76       427\n",
      "\n",
      "    accuracy                           0.70      2135\n",
      "   macro avg       0.70      0.70      0.70      2135\n",
      "weighted avg       0.70      0.70      0.70      2135\n",
      "\n"
     ]
    }
   ],
   "source": [
    "y_train_pred_NB = cross_val_predict(lr_clf_NB, X_resampled, y_resampled, cv=5, n_jobs=-1)\n",
    "#print(y_train_pred_svm)\n",
    "name = ['Store', 'Logistics', 'Promotion', 'Company', 'System']\n",
    "print(classification_report(y_resampled, y_train_pred_NB,target_names = name ))"
   ]
  },
  {
   "cell_type": "code",
   "execution_count": null,
   "metadata": {},
   "outputs": [],
   "source": []
  },
  {
   "cell_type": "code",
   "execution_count": null,
   "metadata": {},
   "outputs": [],
   "source": []
  }
 ],
 "metadata": {
  "kernelspec": {
   "display_name": "Python 3",
   "language": "python",
   "name": "python3"
  },
  "language_info": {
   "codemirror_mode": {
    "name": "ipython",
    "version": 3
   },
   "file_extension": ".py",
   "mimetype": "text/x-python",
   "name": "python",
   "nbconvert_exporter": "python",
   "pygments_lexer": "ipython3",
   "version": "3.7.6"
  }
 },
 "nbformat": 4,
 "nbformat_minor": 4
}
