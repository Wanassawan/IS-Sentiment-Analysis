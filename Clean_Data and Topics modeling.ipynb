{
  "nbformat": 4,
  "nbformat_minor": 0,
  "metadata": {
    "colab": {
      "name": "Clean_Data.ipynb",
      "provenance": [],
      "machine_shape": "hm"
    },
    "kernelspec": {
      "display_name": "Python 3",
      "name": "python3"
    },
    "language_info": {
      "name": "python"
    }
  },
  "cells": [
    {
      "cell_type": "code",
      "metadata": {
        "id": "DBd5-d2NN5aU"
      },
      "source": [
        "!pip install --upgrade pythainlp\n",
        "!pip install pyLDAvis\n",
        "!pip install wordcloud"
      ],
      "execution_count": null,
      "outputs": []
    },
    {
      "cell_type": "code",
      "metadata": {
        "colab": {
          "base_uri": "https://localhost:8080/"
        },
        "id": "DHU4uRaqP17M",
        "outputId": "4d282c9d-410a-477d-f6f1-bdea29a0a17b"
      },
      "source": [
        "!pip install --upgrade openpyxl"
      ],
      "execution_count": null,
      "outputs": [
        {
          "output_type": "stream",
          "text": [
            "Collecting openpyxl\n",
            "\u001b[?25l  Downloading https://files.pythonhosted.org/packages/39/08/595298c9b7ced75e7d23be3e7596459980d63bc35112ca765ceccafbe9a4/openpyxl-3.0.7-py2.py3-none-any.whl (243kB)\n",
            "\r\u001b[K     |█▍                              | 10kB 19.3MB/s eta 0:00:01\r\u001b[K     |██▊                             | 20kB 12.8MB/s eta 0:00:01\r\u001b[K     |████                            | 30kB 9.5MB/s eta 0:00:01\r\u001b[K     |█████▍                          | 40kB 8.2MB/s eta 0:00:01\r\u001b[K     |██████▊                         | 51kB 4.3MB/s eta 0:00:01\r\u001b[K     |████████                        | 61kB 4.8MB/s eta 0:00:01\r\u001b[K     |█████████▍                      | 71kB 5.3MB/s eta 0:00:01\r\u001b[K     |██████████▊                     | 81kB 5.4MB/s eta 0:00:01\r\u001b[K     |████████████▏                   | 92kB 5.5MB/s eta 0:00:01\r\u001b[K     |█████████████▌                  | 102kB 4.1MB/s eta 0:00:01\r\u001b[K     |██████████████▉                 | 112kB 4.1MB/s eta 0:00:01\r\u001b[K     |████████████████▏               | 122kB 4.1MB/s eta 0:00:01\r\u001b[K     |█████████████████▌              | 133kB 4.1MB/s eta 0:00:01\r\u001b[K     |██████████████████▉             | 143kB 4.1MB/s eta 0:00:01\r\u001b[K     |████████████████████▏           | 153kB 4.1MB/s eta 0:00:01\r\u001b[K     |█████████████████████▌          | 163kB 4.1MB/s eta 0:00:01\r\u001b[K     |███████████████████████         | 174kB 4.1MB/s eta 0:00:01\r\u001b[K     |████████████████████████▎       | 184kB 4.1MB/s eta 0:00:01\r\u001b[K     |█████████████████████████▋      | 194kB 4.1MB/s eta 0:00:01\r\u001b[K     |███████████████████████████     | 204kB 4.1MB/s eta 0:00:01\r\u001b[K     |████████████████████████████▎   | 215kB 4.1MB/s eta 0:00:01\r\u001b[K     |█████████████████████████████▋  | 225kB 4.1MB/s eta 0:00:01\r\u001b[K     |███████████████████████████████ | 235kB 4.1MB/s eta 0:00:01\r\u001b[K     |████████████████████████████████| 245kB 4.1MB/s \n",
            "\u001b[?25hRequirement already satisfied, skipping upgrade: et-xmlfile in /usr/local/lib/python3.7/dist-packages (from openpyxl) (1.1.0)\n",
            "Installing collected packages: openpyxl\n",
            "  Found existing installation: openpyxl 2.5.9\n",
            "    Uninstalling openpyxl-2.5.9:\n",
            "      Successfully uninstalled openpyxl-2.5.9\n",
            "Successfully installed openpyxl-3.0.7\n"
          ],
          "name": "stdout"
        }
      ]
    },
    {
      "cell_type": "code",
      "metadata": {
        "colab": {
          "base_uri": "https://localhost:8080/"
        },
        "id": "dtiV3SzgNRBV",
        "outputId": "9f446491-1592-4bc4-9f37-e5ecbd2d85dd"
      },
      "source": [
        "import numpy as np\n",
        "import pandas as pd \n",
        "import re\n",
        "import pythainlp\n",
        "from pythainlp.corpus.common import thai_words\n",
        "from pythainlp.util.trie import Trie\n",
        "from pythainlp.tokenize import word_tokenize\n",
        "import string\n",
        "from gensim.test.utils import common_texts\n",
        "from gensim.corpora.dictionary import Dictionary\n",
        "from gensim.models.ldamodel import LdaModel\n",
        "from gensim.models import CoherenceModel\n",
        "from gensim.models import Word2Vec\n",
        "from sklearn.model_selection import train_test_split\n",
        "from sklearn.metrics import classification_report, confusion_matrix\n",
        "import pyLDAvis\n",
        "import pyLDAvis.gensim_models as gensimvis\n",
        "pyLDAvis.enable_notebook()\n",
        "import matplotlib.pyplot as plt\n",
        "\n",
        "from pythainlp.corpus.common import thai_words\n",
        "from pythainlp import word_tokenize,Tokenizer\n",
        "from pythainlp.util import normalize\n",
        "%matplotlib inline"
      ],
      "execution_count": null,
      "outputs": [
        {
          "output_type": "stream",
          "text": [
            "/usr/local/lib/python3.7/dist-packages/past/types/oldstr.py:5: DeprecationWarning: Using or importing the ABCs from 'collections' instead of from 'collections.abc' is deprecated since Python 3.3,and in 3.9 it will stop working\n",
            "  from collections import Iterable\n"
          ],
          "name": "stderr"
        }
      ]
    },
    {
      "cell_type": "code",
      "metadata": {
        "colab": {
          "base_uri": "https://localhost:8080/"
        },
        "id": "iZLpRIbDNyu5",
        "outputId": "1b3cec0a-0a32-4a02-ed96-6cc1fadd88da"
      },
      "source": [
        "df = pd.read_excel('/content/drive/MyDrive/IS/Shopee_Tweet_NEW.xlsx')\n",
        "df.shape"
      ],
      "execution_count": null,
      "outputs": [
        {
          "output_type": "execute_result",
          "data": {
            "text/plain": [
              "(4458, 3)"
            ]
          },
          "metadata": {
            "tags": []
          },
          "execution_count": 4
        }
      ]
    },
    {
      "cell_type": "markdown",
      "metadata": {
        "id": "QwO1AyATQFWE"
      },
      "source": [
        "## EDA"
      ]
    },
    {
      "cell_type": "code",
      "metadata": {
        "id": "P4TOk2gbQHcj"
      },
      "source": [
        "# drop unnamed column\n",
        "# df1 = df.loc[:, ~df.columns.str.contains('^Unnamed')]"
      ],
      "execution_count": null,
      "outputs": []
    },
    {
      "cell_type": "code",
      "metadata": {
        "colab": {
          "base_uri": "https://localhost:8080/"
        },
        "id": "1MxHQ8W1QQTa",
        "outputId": "2ca2694b-b8bf-4671-ed54-79b8948b61c5"
      },
      "source": [
        "#Checl missing value\n",
        "np.sum(df.isnull())"
      ],
      "execution_count": null,
      "outputs": [
        {
          "output_type": "execute_result",
          "data": {
            "text/plain": [
              "clean_text    0\n",
              "Sentiment     0\n",
              "Topics        0\n",
              "dtype: int64"
            ]
          },
          "metadata": {
            "tags": []
          },
          "execution_count": 5
        }
      ]
    },
    {
      "cell_type": "markdown",
      "metadata": {
        "id": "6ucCXBBmOalt"
      },
      "source": [
        "## Drop column"
      ]
    },
    {
      "cell_type": "code",
      "metadata": {
        "id": "AUSRNEoOOaFO"
      },
      "source": [
        "#df.drop(columns=[\"create_at\"],inplace=True)"
      ],
      "execution_count": null,
      "outputs": []
    },
    {
      "cell_type": "code",
      "metadata": {
        "colab": {
          "base_uri": "https://localhost:8080/"
        },
        "id": "9AnSz09cOj1X",
        "outputId": "e829959e-2d77-4699-b55a-34ad8debc9e2"
      },
      "source": [
        "print(df)"
      ],
      "execution_count": null,
      "outputs": [
        {
          "output_type": "stream",
          "text": [
            "                                             clean_text Sentiment   Topics\n",
            "0     ใช่ค่ะ เงินก็ไม่ได้ของก็ไม่ได้ ตอนแรกบอกว่าให้...       neg  Company\n",
            "1     อยากให้เรื่องนี้เแมส เผื่อว่า จะออกมารับผิดชอบ...       neg  Company\n",
            "2     ขอบคุณช้อปปี้มากฮะที่แอดมินพาพี่มายกับอาโปมาไล...       pos  Company\n",
            "3      บอกลาช้อปปี้ก่อนนะ ซื้อด้วยไม่ไหวแล้ว อิสัส โมโห       neg  Company\n",
            "4     เรากดสั่งของไป11 11 รอของมาจนวันนี้ ไม่ส่งซักท...       neg  Company\n",
            "...                                                 ...       ...      ...\n",
            "4453  แอพช้อปปี้ขนส่งห่วยจริงกูการันตี เปลี่ยนยังไงใ...       neg   System\n",
            "4454   เป็นแค่แอพขายของ ทำไมต้องเข้าถึงข้อมูลรูปภาพด้วย       neu   System\n",
            "4455                   ใช่ๆ ระบบช้อปปี้ดีกว่าเยอะมากเลย       pos   System\n",
            "4456           ไปค่ะพุ่งออกจากแอพช้อปปี้เข้ายูทูปต่อค่ะ       pos   System\n",
            "4457                      อีแอพช้อปปี้แม่งส่งฟรีไม่จริง       neg   System\n",
            "\n",
            "[4458 rows x 3 columns]\n"
          ],
          "name": "stdout"
        }
      ]
    },
    {
      "cell_type": "code",
      "metadata": {
        "id": "FduMaMPrQSay"
      },
      "source": [
        "def word_correction_dict(incorrect_word,corrected):\n",
        "  if type(incorrect_word)==str:\n",
        "    correction_dict[incorrect_word]=corrected\n",
        "  else:\n",
        "    if type(incorrect_word)==tuple:\n",
        "     for word in incorrect_word:\n",
        "       correction_dict[word]=corrected\n",
        "  return None\n"
      ],
      "execution_count": null,
      "outputs": []
    },
    {
      "cell_type": "code",
      "metadata": {
        "id": "VF3-5Rr1Qe58"
      },
      "source": [
        "correction_dict={}\n",
        "word_correction_dict(('บ','บอ','บ.'),'บริษัท')\n",
        "word_correction_dict(('call center','Call Center','คอลเซนเตอ','คอลเซนเตอร์'),'คอลเซ็นเตอร์')\n",
        "word_correction_dict(('พนง','Staff'),'พนักงาน')\n",
        "word_correction_dict(('Shoppee','ช็อปปี้','ชอปปี้','shopee','Shoppee','ชอบปี้','shoppee','ช้อปปิ้','platform'),'ช้อปปี้')\n",
        "word_correction_dict(('coin','คอยส์','coins','coincashback'),'คอยน์')\n",
        "word_correction_dict('จนท','เจ้าหน้าที่')\n",
        "word_correction_dict(('แอร์เพ','airpay','แอร์เพย์','Airpays','Airpay','Air pay','air pay','air pays','Airplay','airplay','แอเพลย์','แอร์เพลย์','AirPay'),'แอร์เพย์')\n",
        "word_correction_dict('ตำ','สั่ง')\n",
        "word_correction_dict('แกง','หลอก')\n",
        "word_correction_dict('ดือ','ดี')\n",
        "word_correction_dict('มปร','ไม่เป็นไร')\n",
        "word_correction_dict('ค้าส่ง','ค่าส่ง')\n",
        "word_correction_dict('พน','พรุ่งนี้')\n",
        "word_correction_dict('คสอ','เครื่องสำอางค์')\n",
        "word_correction_dict('ลค','ลูกค้า')\n",
        "word_correction_dict(('เคอรี่','kerry','Kerry'),'เคอร์รี่')\n",
        "word_correction_dict(('Ninjavan','นินจา แวน','ninja van', 'Ninja Van','นินจา','ninja','Ninja','ninjavan'),'นินจาแวน')\n",
        "word_correction_dict(('Shope Express','Shopee express','ShopeeExpress','ช้อปปี้ express','ช้อปปี้ Express','ช้อปปี้เอกเพลส','ช้อปปี้เอ็กเพลส'),'ช้อปปี้เอ็กซ์เพรส')\n",
        "word_correction_dict(('Best Express','Best express','BestExpress','bestexpress','BEST EXPRESS'),'เบสเอกเพลส')\n",
        "word_correction_dict(('flash','Falsh'),'แฟลช')\n",
        "word_correction_dict(('DHL','dhl'),'ดีเอชแอล')\n",
        "word_correction_dict(('ปณ', 'thaipost'),'ไปษณีย์')\n",
        "word_correction_dict(('app'),'แอพ')\n",
        "word_correction_dict(('ม๊วก','มั๊ก','มั่ก'),'มาก')\n",
        "word_correction_dict(('random','ramdom','แรนด้อม','แรด้อม'),'สุ่ม')\n",
        "word_correction_dict(('WTF','wtf','วดฟ'),'ห่วย')\n",
        "word_correction_dict(('มั่ยดั้ย'),'ไม่ได้')\n",
        "word_correction_dict(('free shipping'),'ส่งฟรี')\n",
        "word_correction_dict(('cashback','Cashback'),'แคชแบค')\n",
        "word_correction_dict(('ขอบคุ'),'ขอบคุณ')\n",
        "word_correction_dict(('กทม'),'กรุงเทพ')\n",
        "word_correction_dict(('Security'),'ความปลอดภัย')\n",
        "word_correction_dict(('Live','live','LIVE'),'ไลฟ์')\n",
        "word_correction_dict(('Preorder','Pre Order'),'พรีออเดอร์')\n",
        "word_correction_dict(('เสิร์จ','search','เสิช','เสิ้จ','เสิร์ท'),'ค้นหา') \n",
        "word_correction_dict(('delivery','shipping'),'ขนส่ง')\n",
        "word_correction_dict(('ปสด'),'ประสาทแดก')\n",
        "word_correction_dict(('เคียด'),'เครียด')\n",
        "word_correction_dict(('โค้ดลับ','Code','code','โค๊ด','โค้ต','โค้ลลด'),'โค้ด')\n",
        "word_correction_dict(('เวป','เว็บ','web','เว็ป'),'เว็บไซต์') \n",
        "word_correction_dict(('email','เมลล์','mail','อีเมล','เมล์'),'เมล')\n",
        "word_correction_dict(('love','Love','รั้ก'),'รัก')\n",
        "word_correction_dict(('happy','แฮปปี้','Happy'),'มีความสุข')\n",
        "word_correction_dict(('link','Link','ลิ้ง','ลิ้งปุ้'),'ลิ้งค์')\n",
        "word_correction_dict(('วอลเลท','wallet','วอเลต','wallet'),'วอลเล็ต')\n",
        "\n",
        "def preprocessor(sentence):\n",
        "    \n",
        "    #remove hashtag\n",
        "    hashtag_removed = re.sub(r\"#\\w+\",'', sentence) \n",
        "    \n",
        "    #remove url\n",
        "    url_removed = re.sub(r'http[s]?://(?:[a-zA-Z]|[0-9]|[$-_@.&+]|[!*\\(\\),]|(?:%[0-9a-fA-F][0-9a-fA-F]))+','', hashtag_removed)\n",
        "\n",
        "    stop_words = list(pythainlp.corpus.thai_stopwords())\n",
        "    remove_words = ['นะค่ะ','นะคะ','ๆๆ','ๆ','ๆๆๆ','หรอ','งะ','เตง','วะ','อ่ะ','เออ','อะ','อ่า',\n",
        "              'นั้นแหละ','เหรอ','กก','ตะ','กะ','อะ','เปน','ที้ศื้อ','ก้','เดี๋ยวนี้','5000','500','11','39',\n",
        "               'ว่ะ','TvT','นัง','เด้อ','ก้อ','กุ','ค้าบ','90','การ','แทบจะ','โดยที่','10','200','เอาละ','special','อิ',\n",
        "               'เดือน','350','ฟุต','รอบ','รีด','169','150', '175', 'vogue','งี้', 'จก', 'จิงๆ','3000', '40', '4900', '50', \n",
        "               'clarins', 'morebeauties','แทบ','100', '300', 'flower','ซ้ำ','มุง','cpjgirlxx', 'คุณหนู','ฟี', 'มู้ด',\n",
        "               'ออ','199', 'cicishop','เดอะ', 'เบส','เดอะ', 'เบส','ทุ','แล้วจะ','ง่ะ','หก','เค้า','แห','ตั่ง','มค', 'ยัน',\n",
        "               'คา', 'ตอนนี้', 'ตะหาก','อะนะ', 'เย', 'แบ่บ','30', 'lover','ไหนจะ', 'case', 'ex','ยัย','สะ',\n",
        "               'คัด', 'ชิค', 'ฝอ','ววว','โล่', '399', 'pnjzyn', 'shoes', 'ก๊อกแก๊ก', 'คู่', 'จา','สนีก','อร', 'เก','99',\n",
        "               'มั้ง', 'เนี้ย','76', 'cotton','นา', 'ปัก','12','120','รต','รี่','เค','เพล', 'เอก', 'แก้', 'โช', '900',\n",
        "               'ซิ','เด', '69', 'กระจูด','Lock', 'amp','89', 'lemon', 'vibes','นะค้า','Roushun', 'Some', 'by', 'mi',\n",
        "               '800', 'ชี', 'นึง','490', 'divoom','ป่านนี้','ลาซาด้า','60', 'เธรด', '498','thread','everyday', 'look', \n",
        "               'น๊า','299','180', '29','36', '53', 'cm','600', 'ml','จ่ะ','Xiaomi','ปะ','แอยย','15','539', 'Rose',\n",
        "               '41','air', 'deerma', 'humidifier', 'xiaomi','20','ดิ','1200', 'official','119','อีฉัน', '3700', 'about', \n",
        "               'airpods', 'vickyshop','553','แฮะ','655','159', '78','45', '24', 'Centellian','on', 'sale', 'top',\n",
        "               '250', 'bentoy','vibe','Lazada','อี','booster', 'clear', 'nct', 'sm', 'sp','149', 'Plantnery', 'tea', \n",
        "               'tree', 'ๆๆ','CHEF', 'DREAM','grafen', 'yvescosmetic','503', '650', 'Klinn', 'Oxygen', 'diffuser', 'room',\n",
        "               'ฮะ','CJ', 'HYA', 'Vit', 'supermarket','dashing', 'diva', 'fit', 'slim', 'super','ทันใด','แหม', 'โห้ๆๆ', 'โอ',\n",
        "               'ๆผ', 'partner','พรีออเดอร์', '01', '08', '09', '22', '588', '699','gt','000', 'unpack',\n",
        "               'wfh','david', 'flash', 'jones','koreatownofficial','earbud', 'soundpeats', 'trueair','งับ','ค่าเธรด',\n",
        "               '573', '95', 'HJV','ง่า','25', 'Bears', 'Care','25', 'ขายของ', 'Bears', 'Care','ศศ','ลซด','Davidjones', \n",
        "               'แน่ๆ','294', '49', 'หมอน', 'bulky','ล่ะ', 'อ๊าว','tokpokki','449','46', 'start','Allie', 'Official', 'lt',\n",
        "               '990', 'Bud', 'Pro', 'Samsung', 'Store', 'Website','27','ยยยย','beauty', 'multy', '167', '23',\n",
        "               'Facebook', 'Morglorythailand', 'ORI', 'Page','2500','Mobile', 'WPN', 'mbk','55555', '2700', '880',\n",
        "               'Argan', 'Elegance', 'Hair', 'Oil', 'เอย', 'Select', 'Shop', 'Bulky','APEX', 'KOREA', 'konvy',\n",
        "               'account', 'sappun', 'cj', 'logistics', 'เอิ่ม', 'เอ่ย', '101', 'Cezanne', 'best', 'the', '34',\n",
        "               'Normal', 'Standard', '26','หรอก', '55', '74', 'qqaukbj','mini', 'projector','BULKY','172'\n",
        "               '400', 'FBSH','เอ้ย', 'เด่', 'เรย', 'POS','อีฟ', 'Bra', 'Jutui', '197', 'NATPATTY', '674','dm',\n",
        "               '15000', '318', 'Li', 'Net', 'Power', 'RPP', 'Remax', 'Type', 'Weight', 'bank', 'battery', \n",
        "               'iPhone', 'mAh', 'polymer', '850', '160', 'jt','555555555', '827','569', '70', '770', '790', 'Border',\n",
        "               'Day', 'Dm', 'One', 'POSTER', 'DM', 'Pt','5555555', 'คิคิ', '02', '21', 'nacific', 'out', 'sold',\n",
        "               '290', '320', 'Jackson', 'โอ้โห', '195', '390', 'CK', '35', '450', 'City', 'Marvelous', 'Size', 'fanmade',\n",
        "               'ๆๆไๆไ', 'วววว', 'ไต', '165', 'ๆๆๆๆๆ', '1700', 'hitachi', 'sharp', '00', '04', 'fee', 'ลทฟอม', 'buy', 'power',\n",
        "               'Hive', 'Rhythm', '630','77', '79', '394', 'KUNYA', '14', '18', 'Best', 'อุ', 'อ๋อ', '37', 'Stock', 'bio'\n",
        "               ,' ', 'TT', '4000', '196','ก', '140', '189', 'Later', 'Next', 'DairyHome', 'Inter', '925', '2020', '380', 'FIGARO', \n",
        "               'Japan', 'Madame', 'Nendoroid', 'วาก', 'BSWBD', 'readlenlen','Etude', '690', '188', 'flip', 'วอ', 'หว่า',\n",
        "               'ฮ', '214', 'daily', 'prize', '4.4','0.1', '0.2', '0.5','1300', '555555', 'pro', 'ultra', '1450', '55555555', 'chanel',\n",
        "               '7732', '135','netflix','ไอจี','ig','นี้แหละ','แล้วจะ','ที่จะ','วว', 'หวีด','Market', 'place','ไหม',\n",
        "               'เลย','สักวัน','พับจี','เล๊ย', 'พุ่ง','โด้', 'ดึง','ๆๆๆๆ','platinum','joox', 'rov', 'spotify','109','เซฟอล่า','325',\n",
        "               'cargo', 'tag', 'taobao', 'ป่ะ', 'อีกแล้ว','เนเจอร์','แมสก์','อยู่แล้ว', 'อิอิ','เตง','แล้วด้วย','TH','อม','22','โคตร',\n",
        "                'วว', 'อาโป','ตปท','แพลตินัม','ค่าบริการ','พับจี','เล๊ย','อีกครั้ง','sms','มามามู','อันนี้', 'เมื่อกี้','หน็อย','ไลน์', '17', 'กี', 'ค้า', 'ทท', \n",
        "                'นนน','หละ','อิ','งั้น','งั้น', 'สัก','แหม่','สส','แพทตินั่ม','Delivery', 'Same','พี่เฟย์', 'ปป', 'drop', 'mic','Link','ดดดด',\n",
        "                'โลด','order','แล้วก็','IG', 'save', 'อีกที','เอะอะ','lazada', 'closed','2021','บบ', 'CP','โก', 'ก้า', 'มูส','ถามติง','จิง',\n",
        "                'เห้ย', 'redeem','เดย์', 'ชม.', 'แป๊ปๆ','อยู่เลย', 'Apple','อิน', 'เจ้','นัท', '5555','ฮาวทู','นน', 'อืม', 'ว่าซั่น', 'เนี่ยะ','แล้วไป',\n",
        "                'มัวแต่', 'เซน', 'เต้อ', 'เวน', 'ดัน','สิ','สู', 'ซิลเวอร์', 'นัม','แพลตินัม','โถ่','ว่าแต่','เนอะ','อืน', 'อ่อ','ก๊อ','ยยย', 'professional',\n",
        "                'whoami', 'กุแหละ', '555','เหอะ', 'Platinum', 'Ac', 'Nattamon', 'natt','SKYWORTH', 'skyworth', 'คลิ้ก','gold', 'member','ฮู้', \n",
        "                '30000', 'Gold','ร๊ยย', 'วน', 'availability','1100', '1900','อิเกีย','48', 'รป', 'เห้อ', 'หึ','day', 'off','อีกด้วย','ไบร์ทมิวซ์','ยย',\n",
        "                'ดรีม','เวย์วี','เดะ', 'เด่ะ','โอ้ย', '11000','ติ้กตอก', 'ต่ะ','ป๋ม','โว้ย', 'wdm','52', '54','อยุ่ต้ะ','พก', 'ฟิวส์', 'ก้าด', 'พาหุรัด', 'สยาม', 'เฟรม', \n",
        "                'เวิร์ล', 'ไชน่า', 'said', 'เซ้น','ซัพน้องอี้ป๋อ','มุ้ยคั้บ', 'pika', 'มาร์ค','มั่ง','warota', 'ฟตซ','ว้ะ', 'เต๊าะ','candylab',\n",
        "                'มมม','น้ออ','dhl','เฮ้ย','ดด', 'มะ', 'วาน', '65','อาทิต','ป้ะ','มึ้งง', 'ย่ะ', '64', 'เอ่อ', '127', '205', 'อิบอพ','104', 'Card', 'Cashbee', \n",
        "                'น๊อ','อี๊', 'ems','EMS','SuperM','dvd', '115', 'เงี้ย','ลทบ', 'ฟตบ', 'วุย', 'เอ้อ', '19', 'ได่','no' ,'เอ๊ย','เอ้า','expless', 'นนนน',\n",
        "                '28', 'อ้าว', 'เซิร์ช', 'กค', 'คร๊', 'ร๊', 'ากกกกก', '', '80', 'ป๊ะ', 'ถถถ','หว่ส' ,'gif', 'jd','ฯ','ไม๊', 'Act', 'Again', 'Album', 'Dance', \n",
        "                'Gonna', 'Never', 'TAEMIN', 'The', 'rd', 'พิน', '탬니', 'studio', 'คั้บ', 'เน่อ', 'เบย', 'อ้ย', 'โป้', 'โฮป',, 'chapter', 'mbookstoreshop', 'one',\n",
        "                , '42', 'io', 'แหะ', '88', 'นว', 'เน้าะ', 'ซอก', 'อู',' 85.', 'wabelle', '13','chocolate', 'ice', 'pack', '75', 'เนี่น', 'votive',\n",
        "                '59','JT','makeup', 'please', '750', 'มมมม', '47', 'adidas', 'kratop', 'Drop', 'Off','ก้', 'แน้ว', 'PVC', 'ล้ะ', '385', 'STD', '16',\n",
        "                 'Answer', 'is', 'unacceptable','WFH','1414', '1500', '1530', '170', '72','225', 'return', '130', 'มั๋ย', '2564', '110', '190', 'นนนนนน'\n",
        "                 , 'Xpres', 'shein', 'Gateway', 'ยยยยย', 'update', 'Only', 'at', 'ARM', 'FRP', 'FSTRMAR', 'Discount', 'Max', 'Min', 'WCSPORT',\n",
        "                  'Jamclub', 'Jamshop', 'Sale','มังงะ', 'มังฮวา', 'ว้อย', 'qr', 'ยยยยยย', 'Fabricposter', 'timeline', 'ช้อง', 'ยยยยยยยยย' , 'diy', 'house',\n",
        "                 'อ้ะ', 'Application','จวพ','56', 'ว้อททท', 'พค', 'ง.','.', 'เอ๊ะ', 'pt', '950', 'mandalaki', '1600', '1651', '400', '51', 'Classic', 'Silver',\n",
        "                  'กะรัต', '270', 'sliver', 'LAGOM','spay','อฟซ','me', 'remind','เนาะ','700','กก','SMASOCIAL', 'mall', 'ญญ', 'ฟพด', 'มุ', 'แมน', '31', 'ด์', \n",
        "                  'innisfree', 'ฟฟ','07','179', 'FASH', 'Season', 'TR', 'sweater', 'Rewards', 'น้องเบ', 'Ig', 'doubletttt', '️️', 'RE', 'Freesize', 'Tiny',\n",
        "                  '155','฿','FASH2TR','199', 'ANGELS', 'FENNEC', 'STRETCH', 'follow', 'บัก', 'อักษร', 'downy', 'tinytan', 'man', 'peter', 'unleashia', 'ทิ้นท์',\n",
        "                  , 'finnomena','จจจ', 'shopaholic', 'จว.', '405', '499',, 'Wetv', 'expo', 'gadget', 'smartphone',, 'งม', '224', 'ABIDE', '277', 'NADIA',\n",
        "                  'name','cf', 'Value', 'Dtac', 'Clarins', 'Galaxy', 'Smart', 'TV', 'sephora', 'เล', '', 'ecommerce','NCT', 'งื้ออ', 'mizumi',\n",
        "                   'ดดดดด','ลาซาด้า','น้องดรีม','อซท','applesheep', 'ยยยย้', 'ขข', 'เหม่', '590', '495', 'Watsons','550', '106', 'zoflora', 'Shopback',\n",
        "                  'ห้ะ','Brand','AirPods','2000','minimall','usb','xGOT', 'โบ๊ะบ๊ะ', '172','butterscotch', 'mart','เปน', 'ak', 'annywawony', 'line', 'outlet', 'th'\n",
        "                  'youus', '2790','Nintendo', 'Switch','44','BNK', 'Photoset', 'Up', 'scale','เห้ยย', '304', '419', 'CC', 'PA', 'SPF', 'Sunscreen', 'Tinted', 'Zunshield',\n",
        "                  'AA', 'Line', 'website', 'LZD', 'ssktmmee', 'sticker', 'tiny', '˃̵͈̑ᴗ˂̵͈̑', 'Airpods', '29','295', 'Ems', 'แจบ', 'acc', 'schwnn','Oppo', 'Reno', '1000', '85'\n",
        "                  , 'FB','1340', 'FOUNDATION', 'LONG', 'SKIN', 'WEAR', 'WEIGHTLESS', 'bobbi', 'brown', '2022', '202', 'Heroine', 'make', 'mascara', 'speedy',\n",
        "                  ,'279','ALBUM', 'ATEEZ', 'FEVER', 'MINI', 'ORDER', 'PRE', 'Part', 'ZERO', 'ver', 'boxbox', 'Oxe', 'acne', 'cure', 'lotion', 'powder',\n",
        "                  'Balm', 'HOrME', 'Relaxing', 'aroma','china', 'in', 'made', 'lilybyredthailand', 'blu', 'ray','Two', 'two','Bio','Momsta', 'dicon','beyondsoho',\n",
        "                  '126', '2017', 'riverside','38', 'manyo', 'low', 'stock', '230', '345','นิ้เบย','134', '206', 'Post', 'it', 'toxic', 'Marhen', 'เบยยย',\n",
        "                  , 'index', '1490', 'remax', 'apple', 'music', 'MBK', 'sony', 'Dairy', 'Home','insalon','naimx','Marimekko','ipad','178','91','silver',\n",
        "                  'everY', 'eloop','Lyrics', 'BB', 'MT', 'YG', '1690', 'hi', 'jet', 'melon', 'given', 'electrolux', 'kg', 'BOL', 'synnara','loft','face',\n",
        "                  , '730', 'Arrival','โยชิ','811','lomo', 'หว่ะ', '108', 'viu', 'wetv','1360','xxx', 'Sulwhasoo','sos', 'isse', 'miyake','นน','facebook', 'twitter',\n",
        "                  'บร่ะ','ยยยยยย','ยยยย', 'kookshop', 'kr','nd', 'nude', 'rom', 'shell', '176', 'size','129', 'Shein', 'US', 'beautysite', 'international', 'norino', 'XL',\n",
        "                  '58','CE', '5555555555555', 'ads','ทะ', '1150', '3800','น', '217','207', 'roomieshobby','Fatal', 'Monsta','Holika', 'holika','qc',\n",
        "                  , 'Uki', 'stationery', 'rm', 'อุ๊ย', '43','ลาซาด้า', 'xl','ออฟฟิเชี่ยล','Member','ๆๆๆๆๆๆ','ok', '510', 'Midnight', 'AtrPay','ap',\n",
        "                  'refund','UX','762', 'if', 'then', 'banking','mamonde', 'Agoda', 'scb','220', '1042','222', '446', 'ก้บั่บ', 'Iam','BTS', 'google', 'แง่ง', 'โด้ย',\n",
        "                  'งื้อ','Scb','Update', 'later', 'electronics','2800','พิ้หมิวๆๆ','ป้ะ?', 'list', 'wish', 'BCURU', 'LVBUE', 'adapter', 'lightning', 'padair', 'type',\n",
        "                  'week','ยูทูป','แอนด์','จ๋วย']\n",
        "    for w in remove_words:\n",
        "        stop_words.append(w)\n",
        "\n",
        "    \n",
        "    screening_words = stop_words + remove_words\n",
        "    \n",
        "    merged = ''\n",
        "    #words = pythainlp.word_tokenize(str(sentence), engine='newmm')\n",
        "    # sentence = sentence.replace(':','')\n",
        "    words = set(thai_words()) # thai_words() returns frozenset คำที่ีใช้\n",
        "    tweet_words = ['ช้อปปี้','ช็อปปี้','แอร์เพ','ชอปปี้','แรนดอม','ทวิต','วอเลต','โดน','แอร์เพย์','เยอะ','คอยส์','คอยน์','ใช้','ไม่ได้',\n",
        "                  'ไอจี','สักที','เยอะ','แพนิค','Call Center','เอิร์ธโทน','ประทับใจ','แม่ค้า',\n",
        "                   'ยอดลดลง','เกาหลี','ส้นหนา','ยาวดี','จ้อจี้','บลูธูท','แพสชั่น','ติ๊กต๊อก','มินิมอล','สำอางค์','อัลบั้ม','ตีมือ'\n",
        "                   ,'ทิชชู่','เซรั่ม','ไฮยาลูรอน','ฟิน','มูฟออน','หนึบหนับ','คุมะมง','ออฟฟิเชียว', 'โจมาโลน', 'อิดอก', 'เอ็กเพลส',\n",
        "                   'อัลมอน', 'ปุ๊ปปั๊บ', 'แล้วจะ','โควท','หม้อทอดไร้น้ำมัน','อัติโนมัติ','เซนต์เปอร์','ประจำ','พนักงาน','แอดมิน','ติดต่อ','ธนาคาร',\n",
        "                   'ลาซาด้า','ผู้ถือหุ้น','สูญเสีย','ตกต่ำ','ค่าธรรมเนียม','รีทวิต','ติดต่อ','สิงคโปร์','ไทยแลนด์','เลื่อมล้ำ','โฟโต้การ์ด',\n",
        "                   'หาไม่เจอ','เจ้าหน้าที่','ช้อปปี้', 'แอดมิน', 'คอลเซ็นเตอร์','บริษัท', 'ค่าบริการ' ,'รับผิดชอบ', 'ติดต่อ' ,'โกงเงิน', 'บัญชี', 'ดำเนินการ', 'แบ่งชนชั้น', \n",
        "                   'คุยกับพนักงาน', 'ติดต่อ', 'บริการ', 'แจ้ง', 'ระดับ', 'พรีเมียม', 'เมมเบอร์', 'แบน', 'เลิกใช้', 'สื่อสาร', 'ร้องเรียน', 'เลิกช้อป', 'เว็บไซต์', 'เบอร์', 'โทร', \n",
        "                   ,'เมล', 'สนใจ', 'เพิกเฉย', 'รอสาย', 'ตัดสาย', 'ด่วน', 'เมล', 'โทร', 'ศูนย์บริการ', 'ปัญหา', 'ชดเชย', 'องค์กร', 'เลิกสั่ง' \n",
        "                   'ประทับใจ', 'แนะนำ', 'ชี้แจง', 'นโยบาย', 'สมาชิก', 'การตลาด', 'โฆษณา', 'ลูกค้า', 'ผู้ใช้บริการ', 'แพลตฟอร์ม', 'โฆษณา',\n",
        "                   'ไม่ติดต่อ', 'ยกเลิก', 'รอ', 'ช้า', 'นาน', 'ชั่วโมง', 'ไม่ได้รับ', 'ไม่ได้สินค้า', 'ปัญหา', 'ผู้ส่ง', 'พนักงาน', 'ขนส่ง', 'รอนาน', \n",
        "                   'บริการ', 'ไม่โทรมา','ส่ง','ไม่มาส่ง','ไม่ส่ง', 'สุภาพ', 'บอกทาง', 'เชค','เช็ค','ตรวจ','ที่อยู่', 'ส่งช้า', 'ส่งเร็ว', 'ส่งไว', \n",
        "                   'โทรมา', 'ไม่โทร', 'ไม่รับ', 'เลือกขนส่ง', 'เลือกขนส่งไม่ได้', 'เลือกบริษัทขนส่ง', 'ได้ของ', 'ส่งของ', 'กำหนด', 'บริษัทขนส่ง', 'ค่าส่ง', \n",
        "                   'เก็บเงินปลายทาง', 'เก็บปลายทาง', 'เลขพัสดุ', 'ค่าส่ง', 'จ่าหน้า','โค้ด', 'โค๊ด', 'โค้ดลด', 'โค้ดช้อปปี้', 'กดไม่ทัน', \n",
        "                   'ใช้ไม่ทัน', 'ค่าส่ง', 'ลดราคา', 'ส่วนลด', 'โปรโมชั่น', 'คุ้มค่า' ,'ไม่คุ้ม', 'ถูก','โปร', 'โปรช้อปปี้', 'บอกต่อ', 'ใช้ไม่ได้', 'ใช้โค้ดไม่ได้', 'คุณภาพ', 'ใช้ได้', \n",
        "                   'ขั้นต่ำ', 'โค้ดส่งฟรี', 'ส่งฟรี', 'แกง', 'ลูกค้า', 'ใหม่', 'ฟรี', 'แถม', 'เต็ม', 'กด', 'ทัน', 'เที่ยงคืน', 'แฟลชเซลล์', 'เมมเบอร์', 'สิทธิ์', \n",
        "                   'คอยส์', 'แคมเปญ', 'เหรียญ', 'จ่ายบิล', 'ดีล', 'รดน้ำต้นไม้', 'คูปอง', 'กิจกรรม','ช้อป', 'ซื้อ', 'ซื้อมาจาก', 'ร้านในช้อปปี้', 'ไลฟ์', 'ไลฟ์สด', 'ในช้อปปี้', \n",
        "                   'จากช้อปปี้','สั่งช้อปปี้', 'เข้าช้อปปี้', 'ที่ช้อปปี้', 'ราคา', 'คุ้ม', 'คุ้มค่า', 'ไม่คุ้ม', 'แพง', 'ถูก', 'ลด', 'บอกต่อ', 'คุ้ม', 'คุณภาพ', \n",
        "                   'ซื้อ', 'ส่วนต่าง', 'ควรค่า','ควรซื้อ', 'ไปตำ', 'แนะนำ', 'ร้าน', 'ร้านค้า', 'พิกัด', 'ร้าน', 'รีวิว', 'สั่ง', 'สอย', 'ซื้อจาก', 'รวมของที่ซื้อ', 'สินค้า', \n",
        "                   'ของ', 'ขาย', 'ขายของ', 'บาท', 'ใน', 'จาก', 'พร้อมส่ง', 'คำสั่งซื้อ', 'รายงานผู้ใช้', 'แม่ค้า', 'พ่อค้า', 'โกง', 'ผู้ขาย', 'แกง', 'ร้านเสื้อผ้า', \n",
        "                   'เสียเงิน', 'ขายที่', 'ขายดี', 'หมดไว', 'ปลอม','แอพ', 'แอพช้อปปี้','แอพลิเคชั่น', 'หน้าจอ', 'รวน', 'สมัคร', 'ไถ', 'ไถช้อปปี้', 'ชั่วคราว', 'ระบบ', \n",
        "                   'เงิน', 'เว็บ', 'หน้าเว็บ', 'ตัด', 'บัตร','แคนเซิล', 'ยกเลิก', 'เป็นอะไร','พัง', 'ค้าง', 'ล่ม', 'เสีย', 'ไม่ได้', 'เด้ง', 'รอ', 'พัฒนา', \n",
        "                   'หักตังค์', 'หักเงิน', 'คืนเงิน', 'ตัดเงิน', 'ตัดบัตร', 'บัตร', 'หักเงิน', 'ยาก', 'ง่าย', 'พัฒนา', 'ไม่ตรง', 'โอน', 'โอนเงิน', 'เครดิต', \n",
        "                   'คืน', 'แก้', 'ด่วน', 'ขัดข้อง', 'ฟื้น', 'แก้ไข', 'จ่ายเงิน', 'ผ่อน', 'ปัญหา', 'โดนระงับ', 'ตรวจสอบ', 'ขั้นตอน', 'เงินไม่เข้า', 'เติมเงิน', 'ไม่เข้า', \n",
        "                   'จ่ายไม่ได้', 'แบบใหม่', 'แบบเก่า', 'บัตรเครดิต', 'บอท', 'อัพเดต', 'เงินคืน', 'บัญชี', 'อนุมัติ', 'กดเงิน', 'ช้อปปี้เพย์', 'แอร์เพย์', 'จอ', 'อัตโนมัติ', \n",
        "                   'ฟีด', 'โหมดดาร์ก', 'สถานะ', 'แฮ็ค', 'ตะกร้า', 'แจ้งเตือน', 'ระงับ', 'ยกเลิก', 'คำสั่งซื้อ', 'ตรวจสอบ', 'ลิ้งค์', 'สะดวก', 'ระบบล่ม', 'เติม', \n",
        "                   'โหลด', 'ปัดจอ', 'โหลด', 'เสิร์ช' ,'หมวด', 'ธุรกรรม', 'วงเงิน', 'วอลเล็ต','รีฟันด์','ท่องโลก','หลงไหล','เปอร์เซ็น','คนละครึ่ง','วอชเชอร์','บราวนี่',\n",
        "                   'กาแฟ่','เม้าส์','ออฟฟิต','เมนชั่น','โฟโต้ช้อป', 'เฟอร์นิเจอ','จิตใจ','ป้ายยา', 'ปุ๊กปิ๊ก','อินฟลูเซอร์','ระบุ','ขี้งก','ศีลเสมอกัน','เมมเบอร์','คลีนิก','ตาแตก'\n",
        "                    ,'เปียกน้ำ','โลภ','ดีเอชแอล','แฟลช','นินจาแวน','ช้อปปี้เอ็กซ์เพรส','เบสเอกเพลส','เคอร์รี่','ชำระ','ล่ำลือ','สีกรม','ไหนคะ','อิควัย','บัดซบ','แบนอยู่',\n",
        "                   'เปย์','แดรี่โฮม','หมั่นโหนก','กี๊ด','อัดเทป','ฉัน','เธอ','คุณ','เบื่อ', 'ตรุษจีน','เร็ว','ชิบหาย','ชิปหาย','มัดย้อม','โคย', 'แม็กเน็ต', 'อนิเมะ','มังงะ', \n",
        "                   'มังฮวา','สลีปปิ้งมาส์ก','ช้อปลาเนจ','มิสเพริกริน','ไดโซะ','เลิศ', 'ครัวซองค์','ออเดอร์','เดียว','ขนส่ง','แอค','สติ้กเกอร์','กลิ้ตเตอร์','รอยอลคันนิง',\n",
        "                   'เจลว่านหาง','เดรบิต','เหลือ','ช็อปแบค','จน','ราคา','กาตูน','อิโมจิ','บิสกิต','ทิ้ง','เสือก','มิว','ฮีล','อัลมอนต์','ซอส','ป้อบคอร์น','ออฟฟิเชี่ยล',\n",
        "                   'เซิ่นเจิ่น','วอลเลท','กรอง','ห่วยแตก','ห่วย','การันตี','สาระแน','' ]\n",
        "    for w in tweet_words:\n",
        "        words.add(w)\n",
        "    \n",
        "    #word tokenize\n",
        "    custom_tokenizer = Tokenizer(words)\n",
        "    custom_dictionary_trie = Trie(words)\n",
        "    words = pythainlp.word_tokenize(str(sentence), \n",
        "                                  custom_dict=custom_dictionary_trie, \n",
        "                                  engine='newmm')\n",
        "\n",
        "    for word in custom_tokenizer.word_tokenize(sentence):\n",
        "        word_norm = normalize(word)\n",
        "        if word_norm in correction_dict:\n",
        "            word_norm = correction_dict[word_norm]\n",
        "        if word_norm not in screening_words and word_norm!='' and len(word_norm)>1:\n",
        "            merged = merged + ',' + word_norm\n",
        "    return merged[1:]\n",
        "    #print('ชอปปี้' in words)"
      ],
      "execution_count": null,
      "outputs": []
    },
    {
      "cell_type": "code",
      "metadata": {
        "id": "AQWmJZIkQiPv"
      },
      "source": [
        "df['text_tokenized'] = df['clean_text'].apply(lambda x: preprocessor(x))"
      ],
      "execution_count": null,
      "outputs": []
    },
    {
      "cell_type": "markdown",
      "metadata": {
        "id": "seU5DYY5m-yQ"
      },
      "source": [
        "## Create Dict"
      ]
    },
    {
      "cell_type": "markdown",
      "metadata": {
        "id": "Yk4_xdSmnAZD"
      },
      "source": [
        "### Overall"
      ]
    },
    {
      "cell_type": "code",
      "metadata": {
        "id": "Er2Oerqrvooq"
      },
      "source": [
        "import gensim\n",
        "import pyLDAvis\n",
        "import pyLDAvis.gensim_models as gensimvis\n",
        "pyLDAvis.enable_notebook()"
      ],
      "execution_count": null,
      "outputs": []
    },
    {
      "cell_type": "code",
      "metadata": {
        "id": "lQaVyJcBQtu3"
      },
      "source": [
        "documents = df['text_tokenized'].to_list()\n",
        "texts = [[text for text in doc.split(',')] for doc in documents]\n",
        "dictionary = gensim.corpora.Dictionary(texts)"
      ],
      "execution_count": null,
      "outputs": []
    },
    {
      "cell_type": "code",
      "metadata": {
        "colab": {
          "base_uri": "https://localhost:8080/"
        },
        "id": "PcUoF7Z-nKQG",
        "outputId": "f2cbe840-fc75-4ba4-db9e-14f7b3fa1b08"
      },
      "source": [
        "print(dictionary.token2id.keys())"
      ],
      "execution_count": null,
      "outputs": [
        {
          "output_type": "stream",
          "text": [
            "dict_keys(['กด', 'ช้อปปี้', 'ตอนที่', 'ตอนแรก', 'ทัก', 'ทีหลัง', 'นี้แหละ', 'น้อง', 'บริษัท', 'พนักงาน', 'มีปัญหา', 'วจะ', 'สั่ง', 'เงิน', 'เฟล', 'แล้', 'แอบ', 'ไม่ได้', 'ข้อมูล', 'ความรับผิดชอบ', 'คำตอบ', 'คุย', 'ตอบ', 'ทวิต', 'ที่จะ', 'ปล่อย', 'รับผิดชอบ', 'รี', 'ร้าน', 'ลูกค้า', 'วท', 'สุ่ม', 'ออกมา', 'เบลอ', 'เรื่อง', 'แจก', 'แบบนี้', 'แมส', 'โค', 'ขอบคุณ', 'คนเดียว', 'น่ารัก', 'พี่', 'มาย', 'วว', 'หวีด', 'อาโป', 'เสียง', 'แห้ง', 'แอดมิน', 'ไลฟ์', 'ซื้อ', 'บอกลา', 'อิสัส', 'โมโห', 'ไหว', 'การควบคุม', 'คืนเงิน', 'ซัก', 'ตกลง', 'ติด', 'ติดต่อ', 'ต่อไป', 'ทำ', 'รอ', 'สรุป', 'เหนือ', 'แบรนด์', 'กลัว', 'ขาย', 'จ่าย', 'ทอด', 'น้ำมัน', 'บาท', 'ปลายทาง', 'พัน', 'มีประสบการณ์', 'ราคา', 'รู้', 'หม้อ', 'หลอก', 'เช็ค', 'เซลส์', 'เบอร์', 'แม่', 'โดน', 'โทร', 'ไร้', 'คืน', 'ช้อป', 'ตปท', 'ตัด', 'ทุเรศ', 'ธนาคาร', 'บัญชี', 'ปี', 'ยกเลิก', 'สั่งซื้อ', 'สำเร็จ', 'สิง', 'สิงคโปร์', 'สุดท้าย', 'เมล', 'โอน', 'ได้เงิน', 'ไทย', 'ไทยแลนด์', 'ไปหา', 'แว่นตา', 'สนใจ', 'อัพเดท', 'อิดอก', 'การคุย', 'สัส', 'สิทธิ', 'เข้าถึง', 'เฉพาะคน', 'แพลตินัม', 'หวย', 'เศร้า', 'โกง', 'Market', 'place', 'ปกติ', 'ล้ำ', 'สังคม', 'ออนไลน์', 'เลื่อม', 'coincashback', 'กรอก', 'กำไร', 'ค่า', 'ค่าบริการ', 'ตอน', 'ถาม', 'ธุรกรรม', 'บังคับ', 'ฟรี', 'มัติ', 'สมัคร', 'อัติ', 'เข้าร่วม', 'เวลา', 'แบบฟอร์ม', 'โน', 'โปรแกรม', 'ไหม', 'ส่วนลด', 'หัก', 'เข้าเนื้อ', 'เซนต์', 'เปอร์', 'เอาเปรียบ', 'แบน', 'แพลตฟอร์ม', 'แม่ค้า', 'จำเลย', 'ดวงใจ', 'ประ', 'รัก', 'กฎ', 'สอบ', 'สาระแน', 'เก่ง', 'เว็บไซต์', 'ควย', 'คว่ำบาตร', 'สักวัน', 'อารมณ์เสีย', 'งานติดต่อ', 'ที่อยู่', 'พนัก', 'เสียใจ', 'จีน', 'ซา', 'ด้า', 'ผู้ถือหุ้น', 'รายใหญ่', 'ลา', 'เจ็บใจ', 'เท', 'ไม่เชิง', 'joox', 'rov', 'spotify', 'จี', 'ชีวิตประจำวัน', 'ติ่ง', 'พับ', 'มาจาก', 'แอ', 'คน', 'จิ้ม', 'ดีกว่า', 'ดู', 'ลิ้งค์', 'หล่อ', 'เท่ห์', 'เล๊ย', 'พุ่ง', 'สวย', 'เต้น', 'แสน', 'ไปดู', 'ไลค์', 'ข้างใน', 'ลูกบอล', 'ขนาด', 'เพลง', 'โด้', 'ดำเนินการ', 'ดึง', 'ติดต่อกัน', 'นโยบาย', 'มัดมือชก', 'สัสๆๆๆๆ', 'สูญ', 'เสียเงิน', 'แพง', 'แยกย้าย', 'โดยตรง', 'โอกาส', 'โอเค', 'ได้คิด', 'คนซื้อ', 'ตบ', 'เวร', 'โง่', 'บ้า', 'platinum', 'ฟอ', 'ล่า', 'หา', 'อภิสิทธิ์', 'เซ', 'เล่น', 'แบ่งระดับ', 'ไอเดีย', '109', 'คอลเซ็นเตอร์', 'นาที', 'ประสานงาน', 'พัสดุ', 'วันพรุ่งนี้', 'สาย', 'อีกครั้ง', 'เจ้าหน้าที่', 'แจ้ง', 'คิดไม่ออก', 'พรุ่งนี้', 'cargo', 'tag', 'taobao', 'ความจริง', 'จริงใจ', 'ชอบ', 'ตอบคำถาม', 'ตอแหล', 'ที่มา', 'บ่น', 'ป่ะ', 'ผลประโยชน์', 'เคลียร์', 'เหมือนกัน', 'อีกแล้ว', 'ดี', 'บับเบิ้ล', 'สะดวก', 'หนา', 'หายใจ', 'หู', 'ออเดอร์', 'เครื่องสำอางค์', 'เจ', 'เจ็บ', 'เน', 'เลอะ', 'แถม', 'แมสก์', 'ธรรมดา', 'อยู่แล้ว', 'อิอิ', 'คัย', 'คิว', 'ปัญหา', 'สิ้นสุด', 'หนี', 'เต', 'แล้วด้วย', 'ระวัง', 'TH', 'ข้ออ้าง', 'ซ้ำๆ', 'ตกต่ำ', 'ตามเรื่อง', 'ต่ำ', 'นาม', 'บริการ', 'ยื่น', 'ระดับ', 'ระยำ', 'วางแผน', 'อม', 'เลว', 'เศรษฐกิจ', 'ไม่ต้อง', 'ช่วยเหลือ', 'ลอง', 'ได้ดี', 'ดีงาม', 'แฟน', 'ไหว้พระ', '325', 'หุ้น', 'ก่อ', 'คงเหลือ', 'ชิ้น', 'ธร', 'บช', 'บีบ', 'ปลาทอง', 'ปุ๊บ', 'มาหา', 'มีนา', 'ยอด', 'ลบ', 'ลัง', 'วันที่', 'สินค้า', 'ส้ม', 'อย่า', 'เนียม', 'เลือก', 'เหมือน', 'รับโทรศัพท์', 'closed', 'ต้น', 'ปัด', 'แล้ง', 'ทรยศ', 'สิ่', 'เต็มตัว', 'sms', 'คนโปรด', 'ดีขึ้น', 'ที่ทาง', 'ที่แจ้ง', 'ปรับปรุง', 'มิจฉาชีพ', 'มีส่วน', 'ลืม', 'สอบถาม', 'หาไม่', 'เจอ', 'เจ้าหน้า', 'แคป', 'แชท', 'กรอบ', 'ดีแทค', 'รู้สึก', 'หน้าด้าน', 'โกงเงิน', 'ใช้งาน', 'ไว้ใจ', 'ท่อง', 'โลก', 'ชุด', 'มู', 'ราชอาณาจักร', 'ตัวเอง', 'ฟันด์', 'รูป', 'ร้านค้า', 'หลักฐาน', 'หาทาง', 'อันนี้', 'เมื่อกี้', 'แย่มาก', 'คลั่ง', 'ชั้น', 'บ้าน', 'สาขา', 'หน็อย', 'เซเว่น', 'แข่ง', 'แถว', 'ลาก่อน', 'สวัสดี', 'จดบันทึก', 'สมุด', 'กาก', 'ขนส่ง', 'ค่าโทรศัพท์', 'บ๊ายบาย', 'ลำบากยากเย็น', 'ว่าไม่ได้', 'สน', 'เข้ามา', 'เห็นได้ชัด', 'ใส่ใจ', 'ชนชั้น', 'แบ่ง', 'กี่', 'คิดดู', 'ไลน์', '17', 'กี', 'ค้า', 'ทท', 'นนน', 'รวย', 'หน้า', 'หละ', 'อิสิ', 'เดิม', 'เมิง', 'เอ', 'แปลกใจ', 'twiter', 'ถึงกับ', 'สร้าง', 'โดยเฉพาะ', 'แย่', 'คล้ายๆ', 'งั้น', 'ชิบหาย', 'สัก', 'ห่า', 'เข้าไป', 'เซ็น', 'แหม่', 'กลับมา', 'งง', 'จัดส่ง', 'ตรงนี้', 'สถานะ', 'สอง', 'ห่วยแตก', 'แนะนำ', 'โคตร', 'รักษาระดับ', 'แข่งขัน', 'ข้อ', 'ความใน', 'หลง', 'เฟส', 'ไหล', 'ทับซ้อน', 'ร์', 'ลด', 'เกม', 'เชอ', 'แผ่น', 'คับ', 'ปัง', 'ขโมย', 'สัสสส', 'ติ', 'นั่ม', 'เม', 'แพท', 'เลิกใช้', 'Delivery', 'Same', 'ชี้แจง', 'ประเดิม', 'สาม', 'หมื่น', 'แรงค์', 'แรงค์ตก', 'เข้ากับ', 'ตรวจสอบ', 'คนละ', 'ครึ่ง', 'สุก', 'โหลด', 'ทั้งวัน', 'มีความสุข', 'คีย์บอร์ด', 'ดีใจ', 'ผม', 'อีกต่อไป', 'ที่รัก', 'app', 'ขี้เกียจ', 'คนอื่น', 'ดา', 'ท์', 'บรา', 'พัก', 'เคา', 'เริ่มต้น', 'เหนื่อย', 'แฟ', 'โปร', 'โพส', 'ปป', 'เฟย์', 'การลดราคา', 'เครื่อง', 'เทศกาล', 'กล่อง', 'จ่าหน้า', 'เสร่อ', 'drop', 'mic', 'จบ', 'พร้อมใจกัน', 'สักที', 'เดี๋ยว', 'ห่าง', 'แทน', 'ร้องเรียน', 'เลิศ', 'แน่นอน', 'ได้คืน', 'ดีมาก', 'ส์', 'เด็ก', 'เม้า', 'Link', 'กิน', 'ดดดด', 'ต้องการ', 'น้า', 'ผิว', 'พิกัด', 'วิธี', 'ส่วนประกอบ', 'ส่วนผสม', 'หรือว่า', 'โลด', 'ไมค์', 'ไว', 'order', 'กรรม', 'ขาดทุน', 'ปห', 'ยังมี', 'เพิ่มค่า', 'แล้วก็', 'ทวิตเตอร์', 'มีผล', 'IG', 'save', 'ถูกใจ', 'บันทึก', 'รายการ', 'ความคิดเห็น', 'ประหยัด', 'ฟัง', 'ไม่เห็นจะ', 'ข้อความ', 'ทราบ', 'พนักงานบริการ', 'อีกที', 'ขออภัย', 'ทวง', 'นั่ง', 'พลาด', 'ลุ้น', 'เครียด', 'เอะอะ', 'แพ็ค', 'คนใช้', 'คอม', 'ทำงาน', 'บางคน', 'ฟิต', 'ออฟ', 'ตื่น', 'นอน', 'นึกออก', 'เกลียด', 'เสียสติ', 'lazada', 'ตอนนั้น', 'รู้จัก', 'เงินเก็บ', 'เพียบ', 'ทุกครั้งที่', 'Cashback', 'free shipping', 'กัดค่า', 'จำนวน', 'ด้านบน', 'บริเวณ', 'รีบ', 'แต่ละวัน', 'แบนเนอร์', 'ตอนดึก', 'ตัว', 'เกาหลี', 'เสื้อ', 'ปณ', 'ชั่น', 'เมน', 'เลื่อน', 'การตลาด', 'ทาส', 'เป้าหมาย', 'เลิก', 'ต้นปี', '2021', 'คาดการณ์', 'ตลาด', 'ประเทศ', 'เทรนด์', 'เผย', 'เมิร์ซ', 'กราบ', 'กูรู', 'การ์ด', 'หนัก', 'หลุดมือ', 'ด่า', 'ไอ้', 'ตีมือ', 'หยุด', 'บบ', 'CP', 'ขน', 'คนไทย', 'ตี', 'ทั้งคู่', 'ทางเลือก', 'ผู้ค้า', 'รายย่อย', 'ทุบ', 'นุ่น', 'กล้อง', 'ถ่าย', 'สด', 'เพจ', 'กลับบ้าน', 'ปลูก', 'เที่ยง', 'ไม้ต้น', 'ทะเล', 'สมาชิก', 'หงุดหงิด', 'อีดอก', 'เพดาน', 'เสือก', 'โก', 'ก้า', 'มูส', 'รา', 'ไม่น่าเลย', 'ประทับใจ', 'วันก่อน', 'แร้ว', 'เข้าหา', 'จิง', 'ถามติง', 'เช้ค', 'หมกมุ่น', 'เสื้อผ้า', 'พิพาท', 'ใช้เวลานาน', 'รบ', 'รร', 'ริ', 'ษัท', 'เกลือ', 'เห้ย', 'ขอโทษ', 'คำขอโทษ', 'จะแจ้ง', 'ทำผิด', 'เอาแต่', 'ชห', 'น่ากลัว', 'รีวิว', 'รดน้ำต้นไม้', 'เดย์', 'ชม.', 'สี่', 'ได้ผล', 'ลองดู', 'redeem', 'เลข', 'ตาย', 'แป๊ปๆ', 'โทด', 'ความช่วยเหลือ', 'หลุด', 'อยู่เลย', 'เทียน', 'Apple', 'ครื่อง', 'สงสัย', 'หิ้ว', 'ห้าม', 'ไอโฟน', 'มารยาท', 'โต้', 'โฟ', 'ช้อปป', 'นิ', 'อิน', 'เจ้', 'เฟอร์', 'ตัวดี', 'อ้อน', 'เปย์', 'บางอย่าง', 'ฟิ', 'เครื่องสำอาง', 'เชีย', 'โดยรวม', 'ชุดนอน', 'จิ', 'เยียวยา', 'ใจ', 'สุดยอด', 'แจ๋ว', 'มือ', 'สั่น', 'อยากได้', 'ของแจก', 'เจ้าของร้าน', 'ของดี', 'ขับรถ', 'นอกบ้าน', 'นัท', 'รถติด', 'ว้าว', '5555', 'ตัง', 'ที่หนึ่ง', 'คุ้ม', 'ก็อป', 'ทู', 'ฮา', 'พังพินาศ', 'นน', 'หมายถึง', 'อืม', 'ซั่น', 'ความผิด', 'ดุ', 'วีน', 'เนี่ยะ', 'เหมือนเดิม', 'โร', 'ทอง', 'เดือดร้อน', 'โกรธ', 'ขอให้', 'จริง ๆ', 'ผู้บริหาร', 'ฝาก', 'สะใจ', 'อ่าน', 'เบิก', 'เป็นไง', 'แหก', 'ประจำ', 'ทับ', 'ร้อย', 'ป้าย', 'ยา', 'ผู้ใช้บริการ', 'รับฟัง', 'พัฒนา', 'เม้น', 'แล้วไป', 'จ้าง', 'มันดี', 'มัวแต่', 'เซน', 'เต้อ', 'เวน', 'แอด', 'ดัน', 'นิยม', 'ผิดหวัง', 'หักหลัง', 'สิ', 'ให้บริการ', 'มั่น', 'ชั่วคราว', 'เบื่อ', 'สัปดาห์', 'ชาวเมือง', 'ตา', 'เนื้อเพลง', 'เลี่ยน', 'เหม็นหน้า', 'ช็อป', 'ร๊าก', 'หนู', 'กปิ๊ก', 'ปุ๊', 'วต', 'อบ', 'งาน', 'อายุ', 'กลา', 'ย้าย', 'สนับสนุน', 'สลับ', 'หมั่นไส้', 'สู', 'ซิลเวอร์', 'นัม', 'มีระดับ', 'ลต', 'แพ', 'แท็ก', 'โถ่', 'อคติ', 'เจ้า', 'ผักปอด', 'ว่าแต่', 'สัสๆๆ', 'สู้', 'แดก', 'ลังเล', 'ชิป', 'หาย', 'กล้า', 'ดารา', 'ผู้บริโภค', 'ฟลู', 'หลอกลวง', 'เงา', 'เซอร์', 'เนอะ', 'เอ็น', 'แค้น', 'โกหก', 'โค้ด', 'ขึ้นหน้า', 'กลั้น', 'พรีเซนเตอร์', 'สลิ่ม', 'เส้น', 'โปรโมท', 'นิยาย', 'อืน', 'อ่อ', 'เปนคน', 'ดรีม', 'ทิ้ง', 'บุ', 'อุดหนุน', 'แระ', 'แวว', 'ประชุม', 'ขี้', 'พิจารณา', 'คนพูด', 'รถเข็น', 'เต็ม', 'บาย', 'ทัวร์', 'ศึกษา', 'สมควร', 'มีสิทธิ์', 'ก๊อ', 'ศีล', 'เคลม', 'เสมอกัน', 'กรี๊ด', 'ยยย', 'กระแส', 'การเกาะ', 'มองข้าม', 'เอาเรื่อง', 'จุด', 'เปิดตัว', 'ของกิน', 'ตุน', 'หิว', 'ช้อปปิ้ง', 'บอกต่อ', 'คำถาม', 'ตะกร้า', 'สิทธิ์', 'ชื่อ', 'ตังค์', 'ปี้', 'รายงาน', 'แอบอ้าง', 'ในกรณีนี้', 'วุฒิภาวะ', 'whoami', 'กุแหละ', 'ทำพิษ', '555', 'ง๊าย', 'เกินไป', 'หมดอายุ', 'มือถือ', 'ลงทะเบียน', 'เสิร์ช', 'ครั้งแรก', 'แอร์', 'พลาสติก', 'สมอง', 'แกง', 'เจ๋ง', 'ใช่ปะ', 'กลางปี', 'จำได้', 'ปลายปี', 'ระบบ', 'ห่วย', 'เหว', 'ทำลายล้าง', 'พลัง', 'หมดตัว', 'ขอบ', 'คุ', 'ชื่นชม', 'ทำหน้าที่', 'บุคคล', 'เพื่อน', 'เสิร์จ', 'ผู้รู้', 'รบกวน', 'รส', 'แปะ', 'ขี้หน้า', 'ยอน', 'หะ', 'เลิกงาน', 'แจ', 'ที่สอง', 'ปช้อป', 'ป่าว', 'ราษฎร', 'หมุด', 'เจริญ', 'เบา', 'เหอะ', 'เอาจริง', 'แพลตทินัม', 'โจทย์', 'ไอ', 'เตรียม', 'พัด', 'สื้อ', 'เย้', 'ยู', 'แพลตตินั่ม', 'วิธีการ', 'ออโต้', 'ยอดเงิน', 'แนะ', 'เอว', 'ตอบแทน', 'ตัวยง', 'อัพ', 'เวล', 'ปลอดภัย', 'อวย', 'ๆๆๆๆ', 'ความมั่นใจ', 'นอนไม่หลับ', 'แก้ว', 'ของรางวัล', 'เป็นเวลา', 'professional', 'ชม', 'ทำดี', 'อร์', 'จ้ง', 'ตอบกลับ', 'เลิฟ', 'ฝั่ง', 'รู้เรื่อง', 'โยน', 'ตามลำดับ', 'ลำดับ', 'ดิฉัน', 'Platinum', 'กร้าน', 'ซ่อน', 'ปุ่ม', 'รายวัน', 'ให้หา', 'Ac', 'Nattamon', 'natt', 'ต้าวคน', 'ฟิน', 'ยิ้ม', 'ตกหล่น', 'สัพเพเหระ', 'อะไรก็ตาม', 'อาถรรพ์', 'ไปรษณีย์', 'ส่วนตัว', 'Flash', 'Live', 'SKYWORTH', 'skyworth', 'คลิ้ก', 'จุก', 'บริษัทฯ', 'เงื่อนไข', 'เป็นไป', 'gold', 'member', 'ย่อ', 'ไหว้', 'พรีเมียม', 'มีผลต่อ', 'Order', 'Pre', 'กำมะหยี่', 'คอน', 'ซับ', 'ซ้อม', 'นุ่ม', 'ปีใหม่', 'ห้อง', 'อุ่นๆ', 'ฮู้', 'ใส่', 'แลน', 'โควิด', 'ชนะเลิศ', 'ชั้นเลิศ', 'ดีเด่น', 'ดีเลิศ', 'บริสุทธิ์', 'พิเศษ', 'มหัศจรรย์', 'ยอดเยี่ยม', 'ล้ำเลิศ', 'วิเศษ', 'ศักดิ์สิทธิ์', 'สุดเหวี่ยง', 'หนึ่งเดียว', 'อันดับ', 'ฮีโร่', 'เด็ด', 'เด็ดขาด', 'เยี่ยม', 'เยี่ยมยอด', 'เลิศเลอ', 'บ้าคลั่ง', '30000', 'มีเงิน', 'วงเงิน', 'Gold', 'พ่อแม่', 'ภูมิใจ', 'คลิป', 'คิดถึง', 'ตามหา', 'ร๊ยย', 'วน', 'สัมภาษณ์', 'availability', 'กรอง', 'ลดราคา', 'หมวด', 'Air', 'pay', 'ฮุบ', 'เปลี่ยนเป็น', 'ต้นเดือน', 'ที่นี่', 'จีง', 'ปลิว', 'มั่ยดั้ย', 'เรียบร้อย', 'ไปมา', 'จังหวะ', 'ชอปปิ้ง', 'ตลก', 'ตอนจบ', 'วิ', 'สู๊ง', 'เย็น', 'เวอร์', 'โฆษณา', 'สาว', 'เจ้าแม่', 'รัย', '1100', '1900', 'ความลึก', 'งอ', 'ภาพ', 'ลิ้ง', 'อย', 'เกีย', 'แคบ', 'ขอนแก่น', 'ขาไก่', 'มิ้ก', 'เซ่', 'แท้ๆ', 'คอ', 'ชายหาด', 'ดิน', 'ตัก', 'บท', 'เก้าอี้', 'เครื่องเล่น', 'โรแมนติก', 'ไซน์', '48', 'ชาติ', 'รป', 'เห้อ', 'แฟนคลับ', 'ร้า', 'เติม', 'ติดตาม', 'ม้า', 'ไต้หวัน', 'อุบาท', 'ขาว', 'เกลี้ย', 'เครื่องดูดฝุ่น', 'ปั๊บ', 'หวัง', 'หึ', 'โผล่', 'เว้ย', 'ขนม', 'ทิชชู่', 'ห่อ', 'ห้า', 'ของแถม', 'ทด', 'ทา', 'ทาว', 'ม่า', 'มเบอ', 'อัพเกรด', 'ฮือ', 'พอกับ', 'หี', 'แตด', 'day', 'off', 'เมื้อ', 'ครีม', 'อีกด้วย', 'ให้ได้', 'รู้ตัว', 'ฝัน', 'ฟิล์ม', 'สาน', 'เพลิน', 'ข้างนอก', 'คอยน์', 'ถุง', 'ยย', 'ดูไบ', 'รน', 'ร์ท', 'วซ์', 'ศา', 'เล่ม', 'ชั้นสูง', 'ชวน', 'เที่ยงคืน', 'วี', 'เวย์', 'ล้มละลาย', 'เตือน', 'น่ารำคาญ', 'กราฟ', 'โม', 'ดีก่า', 'เอาล่ะ', 'เดะ', 'มาตี', 'เด่ะ', 'ซัพพอร์ต', 'เห', 'โอ้ย', '11000', 'ระเบิด', 'หน้าที่', 'เงินผ่อน', 'ขายหน้า', 'คนดู', 'ซึม', 'พิมพ์', 'พูดจา', 'แปด', 'วีดีโอ', 'แกะ', 'เค้ก', 'ตอก', 'ติ้ก', 'มีสมาธิ', 'สมาธิ', 'ถอย', 'พส', 'ขึ้นไป', 'ต่ะ', 'ถุก', 'สำเพ็ง', 'ชั่วโมง', 'เอฟ', 'ป๋ม', 'ดีเดย์', 'หยิบ', 'โว้ย', 'wdm', 'พี่สาว', 'ลิมิเต็ด', 'ลี', 'วอน', 'ส่อง', 'เกา', 'เสนอ', 'ต้องหา', 'ผัว', '52', '54', 'กลิ่น', 'ฐาน', 'ต่อหน้า', 'ถุงยาง', 'ท้อง', 'ป้องกัน', 'ผู้หญิง', 'พก', 'มาร', 'แซ่บ', 'โรค', 'อยุ่ต้ะ', 'ฟิวส์', 'ม้วน', 'ยอมให้', 'ก้าด', 'ชีวิต', 'พาหุรัด', 'วงการ', 'สยาม', 'เดิน', 'เฟรม', 'เวิร์ล', 'ไชน่า', 'said', 'เซ้น', 'เช้า', 'เจ็ค', 'พักงาน', 'ยาด', 'นม', 'ปีก', 'หมดเกลี้ยง', 'ตจ', 'แง', 'ออโรร่า', 'อุปกรณ์', 'เป็นบ้า', 'เล็บ', 'ควาย', 'นิ้ว', 'เบียด', 'ดอกไม้', 'ตุ๊กตา', 'หอ', 'เสิช', 'ซัพ', 'ทีม', 'ป๋อ', 'ผัน', 'อี้', 'ขา', 'มุ้ยคั้บ', 'pika', 'ดิส', 'มาร์ค', 'อันนั้น', 'ล่ม', 'เนต', 'เหรียญ', 'เท่าเดิม', 'กุลา', 'ออกจาก', 'การลา', 'วง', 'มั่ง', 'ค้าง', 'แตก', 'warota', 'ฟตซ', 'เหมือนปกติ', 'งด', 'คลี', 'อก', 'เฟบ', 'ตั้งนาฬิกาปลุก', 'นินจา', 'ปุก', 'อุตส่าห์', 'โท', 'ปลอม', 'มาตรา', 'หยัง', 'ฉิ่น', 'ว้ะ', 'เต๊าะ', 'ที่นั่ง', 'ปัจฉิม', 'หัว', 'ออกแบบ', 'โปส', 'Call Center', 'express', 'การสั่งซื้อ', 'ตรึม', 'ล่าช้า', 'ค่าขนส่ง', 'วุ่นวาย', 'แปลก', 'ค่าส่ง', 'เร่ง', 'กำหนดการ', 'แฮปปี้', 'เลือกไม่ได้', 'เหมาะสม', 'EMS', 'delivery', 'standard', 'ดราม่า', 'เงียบ', 'เป็นส่วนใหญ่', 'สมุทรสาคร', 'อีกไม่นาน', 'เกณฑ์', 'เคอร์รี่', 'กลยุทธ์', 'ชอป', 'ชัด', 'ตัวเลือก', 'บวก', 'แทนที่จะ', 'ไล่', 'ไล่ออก', 'WTF', 'กม', 'ผลลัพธ์', 'ผู้ประกอบการ', 'ลำบาก', 'ส่วนหนึ่ง', 'การค้า', 'ผิดกฎหมาย', 'ร้อน ๆ หนาว ๆ', 'ชัดเจน', 'ระบุ', 'รูปแบบ', 'เรียกเก็บเงิน', 'โจร', 'โชคดี', 'candylab', 'กระดาษ', 'ซีล', 'ตุ้ม', 'นินจาแวน', 'นึก', 'น้ำ', 'บุบ', 'พัง', 'ม่วง', 'อาย', 'เปียก', 'เปียกชุ่ม', 'เป๊ะ', 'เลท', 'เละ', 'แช', 'แพคเกจ', 'โด', 'shipping', 'นัด', 'ล้าน', 'เกิดขึ้น', 'เวท', 'โด่', 'ข่ม', 'คอย', 'คำพูดคำจา', 'พน', 'พิษณุโลก', 'ยอกย้อน', 'อัดเสียง', 'เปลี่ยนคน', 'ผู้รับ', 'คืนให้', 'ดูแล', 'มมม', 'มหา', 'เนียน', 'แวน', 'ตัวเรา', 'ผูกขาด', 'พี', 'มีประสิทธิภาพ', 'รำคาญ', 'เลี่ยง', 'ในเครือ', 'ๆคน', 'ซื่อ', 'ผู้สั่ง', 'ร้อง', 'ขนส่งสินค้า', 'จับตา', 'ทางการค้า', 'สำนักงาน', 'กระเป๋า', 'มาถึง', 'ร้องไห้', 'สภาพ', 'เสียความรู้สึก', 'เสียเวลา', 'เชี้ย', 'เสียเปรียบ', 'น้ออ', 'ความไม่สะดวก', 'จันทร์', 'ตรุษจีน', 'ที่ประกาศ', 'ประกาศ', 'มกราคม', 'เด้ง', 'ได้เรื่อง', 'dhl', 'กระทบ', 'ที่ทำงาน', 'เครือ', 'ช่วยดูแล', 'ทยอย', 'ผู้ขาย', 'Express', 'ข้ามวันข้ามคืน', 'ดอง', 'ประเด็น', 'ร้อยละ', 'เซ็ง', 'เอ็กซ์เพรส', 'แช่', 'เสียหาย', 'ต่างจังหวัด', 'อ่วม', 'ดีจริง', 'ย้ำ', 'หนูทดลอง', 'กทม', 'ขับ', 'อ้อม', 'เชียงใหม่', 'สนุก', 'ประจาน', 'ควรจะ', 'ตีกลับ', 'เผลอ', 'วาง', 'บัค', 'ภคะ', 'โล', 'ค้าขาย', 'รายละเอียด', 'เป็นปัญหา', 'ช่อง', 'ทางการ', 'ผู้ซื้อ', 'สขค', 'เลิ่กลั่ก', 'DHL', 'การระงับ', 'ก่อนที่จะ', 'ดังที่', 'ตกค้าง', 'สืบ', 'เก่า', 'สิบ', 'เหมาะกับ', 'เหนื่อยใจ', 'เฮ้ย', 'อด', 'ได้ขนาด', 'ขอร้อง', 'ตัดสินใจ', 'ขึ้นราคา', 'ดด', 'ดอก', 'เดิมที', 'แต่แรก', 'ในที่สุด', 'ประหลาด', 'โทรศัพท์', 'กระดิก', 'เอ็กเพลส', 'ค่าธรรมเนียม', 'พื้นที่', 'ลำพูน', 'สต๊อก', 'คนรับ', 'คร้ง', 'หาว่า', 'อยุ่', 'เพลส', 'เอส', 'ขาใหญ่', 'ตอนเช้า', 'มะ', 'วาน', 'สา', 'เบอคน', 'โบ้ย', 'กิโล', 'นครปฐม', 'นับว่า', 'ประสาท', 'ปริมณฑล', 'โตมา', 'บังคับใช้', 'ใช้ได้', 'bestexpress', 'บรรลัย', 'สะเออะ', '65', 'กล้วย', 'ชะงัก', 'กวน', 'ชื่อว่า', 'ตีน', 'เซนเตอร์', 'กร่าง', 'กิริยา', 'บ่นว่า', 'ยับ', 'หยาบคาย', 'ออฟฟิศ', 'ทำตัว', 'อยากรู้', 'เท่าตัว', 'เป็นมิตร', 'BEST', 'EXPRESS', 'คัดแยก', 'แก้ไขปัญหา', 'แยก', 'ชุ่ย', 'ร่าง', 'หน้าเลือด', 'เรียงความ', 'ฐานะ', 'ทุน', 'ยิบ', 'ขยับ', 'ตะหงิด', 'แทรค', 'ในประเทศ', 'อัพเดต', 'แอพ', 'ศุกร์', 'แต่วัน', 'คาที่', 'ปอบ', 'แรง', 'ทิต', 'อัตโนมัติ', 'อัปเดต', 'อา', 'กรณี', 'ความเป็นจริง', 'ส่อ', 'เข้าข่าย', 'ตะโกน', 'วดี', 'สมา', 'เอ็กซ์', 'แลนด์', 'ส่วนแบ่ง', 'ส้นตีน', 'ขั้นต่ำ', 'ดูๆ', 'ลงทุน', 'ได้เวลา', 'นักหนา', 'พ่อ', 'ความลำบาก', 'ตั้งค่า', 'ทำใจ', 'ปวดหัว', 'ป้ะ', 'พยาม', 'มึ้งง', 'แน่', 'ชำ', 'ระมา', 'ช่ง', 'ต้าน', 'ทราย', 'ย่ะ', 'รับได้', 'ลิตร', 'ล่อ', 'หลัก', 'เจ้าเดิม', 'เช้านี้', 'แมว', 'โทษ', 'เพรส', 'เลอ', 'มีหน้า', 'รู้ดี', 'ดิชั้น', 'ละแวกบ้าน', 'คณะ', 'จุกจิก', 'ดิ๊', 'ตรรกะ', 'น่าเบื่อ', 'ปวด', 'ผด', 'มะม่วง', 'ยืม', 'รัฐบาล', 'ราก', 'สิว', 'ง่วง', 'ดึก', 'ถ่างตา', 'ทุ่ม', '64', 'ขอลา', 'รุนแรง', 'สั่งสินค้า', 'เป็นทางการ', 'ฟ้า', 'แหกตา', 'เอ่อ', 'ดีแต่', 'นง', 'นพ', 'น่าฟัง', 'ปล', '127', 'Ninja', 'Van', 'กรุณา', 'ด้วยตัวเอง', 'ตามเดิม', 'หนักหนา', 'ปสด', 'สวด', 'โรคจิต', 'แรนดอม', 'นิ่งนอนใจ', '205', 'ตามจริง', 'สงสาร', 'Airplay', 'อิบอพ', 'ตรงไหน', 'น๊อ', 'ใช้ไม่ได้', 'ส่งต่อ', 'อี๊', 'น้ำตา', 'การบีบบังคับ', 'ของใช้', 'นอกเวลา', 'มีนัด', 'รถ', 'ล๊อต', 'อาทิตย์', 'เสาร์', 'โมง', 'shoppee', 'ห้', 'กระแดะ', 'คุณยาย', 'เวลานัด', 'ต่างประเทศ', 'สแตนด์', 'ลือ', 'ล่ำ', 'สม', 'การจัดส่ง', 'ยอ', '104', 'สแกน', 'เปล่า', 'แอร์เพย์', 'ฝืน', 'ไม่เป็นอัน', 'ดร', 'บู่', 'ลาดพร้าว', 'สถานที่', 'อป', 'ems', 'ตั้งใจ', 'เพิ่มขึ้น', 'อาหาร', 'แก้บน', 'Card', 'Cashbee', 'SuperM', 'มีค่า', 'ยึด', 'ใบ', 'dvd', 'บ้าบอคอแตก', 'ยุ', 'คืบหน้า', 'ดาว', 'ทั้งเพ', 'รึเปล่า', 'ลฯ', 'เข้าหูซ้ายทะลุหูขวา', 'เนปจูน', 'ไม่ได้เรื่อง', '115', 'กลม', 'รม', 'สี', 'ไส้', 'ส่งสินค้า', 'เน้นย้ำ', 'หลอน', 'ฟตบ', 'ฆ่า', 'ด่วน', 'ตัดขาด', 'แบกรับ', 'ใช้เวลา', 'มั่ว', 'รักษา', 'เฮงซวย', 'ค่ารถ', 'เงี้ย', 'จังหวัด', 'ถัดไป', 'มปร', 'ลทบ', 'เห็นใจ', 'ramdom', 'สุดฤทธิ์', 'พุธ', 'โห', 'อห', 'อิเวง', 'จำกัด', 'บ้าบอ', 'หันไป', 'ใช้แล้ว', 'กรับ', 'จัน', 'สับ', 'ห้องน้ำ', 'วันทำงาน', 'วันอาทิตย์', 'แทนที่', 'ตาบอด', 'หน่วยงาน', 'เป็นธรรม', 'ไปนอก', 'นิสัย', 'พร่อง', 'การพัฒนา', 'ย้าน', 'ชั่ง', 'ลูก', 'ศูนย์', 'หมก', 'เคส', 'ดำเนิน', 'เร่งด่วน', 'แต่กลับ', 'นิดนึง', 'วุย', 'สบายใจ', 'สแตนดาร์ด', 'นคะ', 'เน้', 'ไห', 'ก้จบ', 'ข้าม', 'ยอดดี', 'รุ้', 'ลุก', 'เคลีย', 'เห็นด้วย', 'เอ้อ', 'เวงงง', 'ทีมงาน', 'บัคเคิ้ล', 'ผูก', 'เสี่ยง', 'ได่', 'แง้', 'ด้อม', 'เป็นสิบๆ', 'แร', '19', 'คิวรถ', 'ง่อย', 'ส่งออก', 'no', 'งานหนังสือ', 'ต่างกัน', 'สำหรับ', 'กระบวน', 'แทร็ค', 'เอ๊ย', 'ขี่', 'ซวย', 'ซอย', 'ทั้งสอง', 'มอ', 'ลุง', 'หมา', 'เก่าๆ', 'เลื่องลือ', 'เสียงดัง', 'เห่า', 'แก่ๆ', 'ไซ', 'ปราบ', 'ป้อม', 'สมุทรปราการ', 'สาทร', 'ninja', 'สะเปะสะปะ', 'เป็นไร', 'ลอย', 'คาน', 'ตัดปัญหา', 'มคืด', 'รับสาย', 'รำ', 'เวลาทำงาน', 'เอกชน', 'เอ้า', 'หย่าร้าง', 'คิดเงิน', 'ชำระเงิน', 'ต่อว่า', 'วิ่ง', 'วันหยุด', 'expless', 'กระเตื้อง', 'ลน', 'สัด', 'เพ', 'แฟสช', 'van', 'กลับกัน', 'ต่อมา', 'เห้', 'ทะเลาะ', 'โค๊ด', 'โหด', 'สะเหล่อ', 'ซี่', 'ตะกี้', 'นิ่ม', 'เส็ง', 'การขนส่ง', 'บ๊าบ', 'สมเหตุสมผล', 'ยบ', 'วัย', 'อิค', 'หน้าบ้าน', 'เมื่อกี้นี้', 'กุหนี', 'น้อน', 'ยังอยู่', 'ไม', 'ประตูรั้ว', 'กระจาย', 'เฮ้อ', 'ความอยาก', 'ลดลง', 'ความเจริญ', 'ติดกัน', 'ห่างไกล', 'เฉื่อย', 'เอื่อย', 'หล่อน', 'เริ่ด', 'จับฉลาก', 'นับวัน', 'ยังกะ', 'สำเหนียก', 'โชค', 'ชาวบ้าน', 'ซาก', 'นนนน', 'แตน', 'บ่าย', 'ชลบุรี', 'แม่ฮ่องสอน', '28', 'การใช้งาน', 'ตอนบ่าย', 'ต้นทาง', 'ลำปาง', 'เชียงราย', 'เดินทาง', 'แต่เช้า', 'ส่งผ่าน', 'ด้วยซ้ำ', 'นที', 'เด้', 'เว้', 'ครับผม', 'งเห้', 'รู้ทาง', 'หลืบ', 'เวียน', 'เสียที', 'thaipost', 'คุ้มค่า', 'ท้อ', 'ยกตัวอย่าง', 'ว่าง', 'ประโยค', 'เวง', 'ไม่เข้าเรื่อง', 'จอ', 'ละเลือก', 'กลายเป็น', 'ทำการ', 'บลาๆๆ', 'บิน', 'ว่าที่', 'อ้าว', 'เซิร์ช', 'กค', 'คร๊', 'ร๊', 'บ้านนอก', 'อยู๋', 'ใจร้าย', 'ากกกกก', '', 'น่าเกลียด', 'เลื่อนเวลา', 'แสดงถึง', 'มอบให้', 'คว้า', 'ต่อให้', 'ที่อื่น', 'แน่ใจ', '80', 'จตุจักร', 'นนทบุรี', 'ชำนาญ', 'ตก', 'เสร็จสรรพ', 'เส้นทาง', 'ยัดเยียด', 'น้อยลง', 'ลงมา', 'ค้น', 'นุ', 'ประวัติ', 'เส', 'วีรกรรม', 'กระดอ', 'ตะคอก', 'เจอดี', 'ตโม', 'นะเนี่ย', 'กันที่', 'ป๊ะ', 'สนิท', 'ถถถ', 'เป็นเรื่อง', 'กระดาษแข็ง', 'ตุ', 'น่าจะเป็น', 'ร้านเครื่องเขียน', 'ไม่เท่าไหร่', 'ข้อดี', 'ชุ้น', 'พละ', 'อยู่ดี', 'ถ่อ', 'ดีล', 'บี', 'ทำได้', 'มีโอกาส', 'ขั้นตอน', 'หว่ส', 'ไหนว่าจะ', 'กางเกง', 'ประเทศราช', 'ยีนส์', 'หัวเมือง', 'สัสๆ', 'ระยะเวลา', 'ผลกระทบ', 'โต๊ะ', 'ย้ายบ้าน', 'รุ', 'ฟิกลทบ', 'มิหนำซ้ำ', 'ยุ่ง', 'gif', 'เอ้', 'โอดโอย', 'ฝา', 'ส่วนบุคคล', 'ไทม์', 'เว่อร์', 'คร้าบ', 'สักพัก', 'อาบน้ำ', 'แต่งตัว', 'กิจกรรม', 'นซฟ', 'บาก', 'ปลุก', 'jd', 'ซบ', 'นายทุน', 'ยี่ห้อ', 'ที่ไหนได้', 'ตรงเวลา', 'น้ำตาไหล', 'ปริบๆ', 'มุม', 'สนุกสนาน', 'หนังสือ', 'หลบ', 'รฯ', 'ไม่งั้น', 'ยุ่งยาก', 'ร้ย', 'เดือด', 'มมาก', 'เป็นครั้งแรก', 'เพราะอะไร', 'แบ', 'นอ', 'ยุ่', 'ไม๊', 'ปาน', 'กี้', 'ว่าแล้ว', 'เซรั่ม', 'โตะ', 'บ้านเก่า', 'เหยียบ', 'วันทำการ', 'สมน้ำหน้า', 'ทรัพยากร', 'ร้อน', 'เปนงอง', 'เปลือง', 'เชียว', 'เร้ว', 'ยำ', 'รอด', 'เอากำไร', 'มิชชั่น', 'ล้างหน้า', 'โฟม', 'ลิป', 'อนิเมะ', 'เขียว', 'เจ็บปวด', 'Act', 'Again', 'Album', 'Dance', 'Gonna', 'Never', 'TAEMIN', 'The', 'rd', 'พิน', '탬니', 'studio', 'ปรากฎ', 'สมัน', 'เหลือง', 'บานปลาย', 'ฟิค', 'ด้าย', 'ตั้งตัว', 'วันดี', 'สร้อย', 'สร้อยข้อมือ', 'แดง', 'ซอง', 'เยาวราช', 'คัน', 'ตามนั้น', 'เว็บ', 'เซียมซี', 'เฮือก', 'คุณค่า', 'คั้บ', 'แฟ้ม', 'ดาม', 'แน่นหนา', 'ชาน', 'บั้ม', 'มั่นใจ', 'เหมา', 'เน่อ', 'เบย', 'โทน', 'เพส', 'วาฟเฟิล', 'บ้ง', 'กาน้ำ', 'เมาส์', 'เว่อ', 'ไร้สาย', 'ซ่า', 'บัล', 'วันเกิด', 'อ้ย', 'โป้', 'โฮป', 'ดี๋ยว', 'กระหาย', 'ขนมจาก', 'ความหิว', 'หยุดยั้ง', 'chapter', 'mbookstoreshop', 'one', 'บ้อ', 'ข้อตกลง', 'เน้ๆ', 'ทันใจ', 'ระฆัง', 'จุ', 'รดี', 'โป', 'ย์', 'หวาน', 'โลละ', 'ใจดี', 'เอ็ก', 'csm', 'บา', 'เบล', 'โตเกียว', 'เม.ย.', 'ธันวา', 'ปลาย', 'จ้าน', 'พีช', 'ฟู้ด', 'แกลลอน', 'แดรี่', 'โฮม', 'มองออก', 'ดวง', 'ตต', '42', 'หลังจากนี้', 'อินทร์', 'เปรต', 'ช่องทาง', 'เศษ', 'io', 'การตาม', 'บ.', 'ประสาทเสีย', 'วัด', 'หมั่น', 'โหนก', 'แหะ', 'ให้เหตุผล', '88', 'นว', 'ประเภท', 'พื้น', 'มาส', 'ระ', 'ยาม', 'ต้นไม้', 'หน่อ', 'หัวแม่มือ', 'ดีแล้ว', 'สุขภาพจิต', 'เสรี', 'ตกใจ', 'เทียบ', 'ซื้อหน้า', 'น่าสนใจ', 'เน้าะ', 'เล็ง', 'เป็นไปได้', 'เลยกำหนด', 'ปฏิทิน', 'ซซกต', 'กาแฟ', 'บด', 'ละเอียด', 'โหล', 'นิติ', 'การอบรม', 'ด้อย', 'มาตรฐาน', 'สำรวจ', 'ของมีค่า', 'สติ', 'หย่อน', 'หาเรื่อง', 'อนุญาต', 'คิโนะ', 'ซอก', 'อู', 'รองเท้า', 'เลิว', 'จิก', 'ห่าน', 'ได้ส่วน', 'เครือข่าย', 'ตัดสิน', '85.', 'ที่สาม', 'วัง', 'กี๊', 'ดดด', 'สั้ง', 'อ.', 'เหงื่อ', 'เห่', 'ใก้ล', 'อยุธยา', 'การปรับปรุง', 'ไม่ต้องการ', 'กรง', 'ทะลุ', 'ดีลเลอร์', 'สู่รู้', 'ตัดราคา', 'ความเสียหาย', 'ตง', 'ล่วงหน้า', 'มายัง', 'วี่แวว', 'สิทธ์', 'wabelle', '13', 'ของค้าง', 'ดาด', 'ผัก', 'เดิอน', 'เมล็ด', 'หมายความว่า', 'ว่าการ', 'กพ', 'เขต', 'airplay', 'คูปอง', 'ชำระ', 'ตั้ม', 'ที่เก็บ', 'รวมยอด', 'ประตู', 'พูดไม่รู้เรื่อง', 'ระงับ', 'ของปลอม', 'ล้น', 'chocolate', 'ice', 'pack', 'ละลาย', 'ดาวน์', 'เพ้ส', '75', 'เนี่น', 'แอ้', 'ขวัญ', 'เชียร์', 'กรุงเทพ', 'ปวดใจ', 'ฟิล', 'รด', 'แพ๊ค', 'รองเท้าแตะ', 'votive', 'คัทชู', 'ชปอพ', 'ล้าง', '59', 'ถือเป็น', 'เครื่องประดับ', 'ได้เสีย', 'คงตัว', 'จขร', 'จนใจ', 'มั่นคง', 'อัด', 'เทป', 'เทปใส', 'ว๊าก', 'สิ้', 'พุด', 'กดดัน', 'กอง', 'ขั้นดี', 'ทีแรก', 'เป็นตัว', 'เป็นหนึ่ง', 'คอนโด', 'สูบเลือด', 'สักหน่อย', 'ฉั', 'ขายส่ง', 'ชะมัด', 'JT', 'สามสิบ', 'เจ๊ง', 'ธุรกิจ', 'ตอนกลางวัน', 'ยุด', 'บื่อ', 'ส่วพน', 'เลยเวลา', 'จากไป', 'เกรงใจ', 'ใจมา', 'makeup', 'please', 'คุณแม่', 'จัดระบบ', 'บรรดา', 'มีระเบียบ', 'เป้ะ', '750', 'ไซส์', 'บุญ', 'มมมม', 'แต้ม', 'ก่อนเที่ยง', 'ตีสอง', 'สะดวกสบาย', 'หลากหลาย', 'ม๊วก', 'อุ้ย', 'คาดหวัง', 'คำนวณ', 'ต่ำกว่า', 'ปริมาตร', 'ยกเว้น', 'ย้อน', 'เรท', 'ส่า', 'เอม', '47', 'ก่อนกำหนด', 'มูน', 'เนี๊ยบ', 'adidas', 'kratop', 'เรื่อย ๆ', 'ตู', 'หมู', 'ไว้หน้า', 'Drop', 'Off', 'จำไว้', 'ประสบการณ์', 'กล', 'กำ', 'คีย์', 'แพ้', 'ๆๆก้พบ', 'แยกจาก', 'ล้อ', 'ประเมิน', 'ตรุษ', 'สั่งจ่าย', 'อติ', 'อ่', 'แน้ว', 'ไถ', 'วันหลัง', 'ติก', 'รองเท้าบูท', 'PVC', 'ล็อต', 'สต็อก', 'ให้หลัง', 'ซองขาว', 'ตามมี', 'ทั้งๆ ที่', 'ขนแมว', 'รอย', 'ลายมือ', 'ลิ', 'วันเดียวกัน', 'ขยัน', 'แต', 'พฤหัส', 'หมายเหตุ', 'ดาวอังคาร', 'ง่าว', 'ปิติ', 'โฟกัส', 'ฉอดๆ', 'บีบแตร', 'ปก', 'เรียน', 'ได้กลิ่น', 'กินใน', 'ชาติหน้า', 'คุกคาม', 'ล้ะ', 'ช่าง', 'ตามมา', 'ต่อราคา', 'ปฏิเสธ', 'มองไม่เห็น', 'วินัย', 'เปลี่ยนไป', 'ตอนเที่ยง', 'ทรมาน', 'หล่น', 'โค้ท', '385', 'บางส่วน', 'ฟอร์ม', 'STD', 'ร็ว', 'ท้อแท้', 'เคียด', 'ฟีดแบ็ค', 'พอใจ', 'ส่งตัว', 'แบล็ค', 'โท่', 'โหล่', 'code', 'ประชด', 'call', 'center', 'ดันทุรัง', 'ผิดที่', '16', 'อยู่ดีๆ', 'ชิบ', 'ถึงที่', 'อธิบาย', '225', 'return', 'กช', 'เชค', 'เบอ', 'เวป', 'คำอธิบาย', 'มัย', 'สั่งทำ', 'ยังงัย', 'Answer', 'is', 'unacceptable', 'ตามอารมณ์', 'อารมณ์', 'นั่นสิ', 'ถึงกำหนด', 'ออร์เดอร์', 'Jan', 'ได้กัน', 'เป็นผง', 'งึด', 'จบกัน', 'หรา', 'ดีละ', 'WFH', 'ญาติ', 'พึงพอใจ', 'อนุ', 'เข้าสู่', 'ของแท้', 'รับรู้', 'ของเก่า', 'บ่', 'email', 'ตัวตน', 'Security', 'Staff', 'อังคาร', '1414', '1500', '1530', 'จนได้', '170', '72', 'ชนะ', 'แพลน', 'ปทุม', '130', 'พ่อคุณ', 'ลดละ', 'มั๋ย', 'หมี', 'แล่', 'ความกระจ่าง', 'มบ', 'โลกหน้า', 'พฤ', 'เจ้าค่ะ', 'เมือง', 'คอร์น', 'ด๊อก', 'ผลักภาระ', '2564', 'กุมภาพันธ์', 'อ้างว่า', 'เข้าข้าง', 'แนว', 'ช้อปๆ', 'โกดัง', '110', '190', 'มัด', 'ย้อม', 'สงกรานต์', 'นนนนนน', 'ยอดรวม', 'ว้า', 'กดกริ่ง', 'ของสด', 'ทั่วไป', 'มอบ', 'เน่าเสีย', 'Xpress', 'ที่ไหนบ้าง', 'เพื่อนบ้าน', 'เลขที่', 'ขับเคลื่อนด้วย', 'ปะว่า', 'ยิง', 'สายทิ้ง', 'อิคน', 'เงียบหาย', 'shein', 'คัตติ้ง', 'ทาก', 'หอย', 'ขีด', 'รัน', 'มคง', 'ร๊ก', 'สัง', 'แด', 'Gateway', 'มีตำหนิ', 'คย', 'ยยยยย', 'นนจ่ะ', 'ราชบุรี', 'นำเข้า', 'พัดลม', 'ในขณะที่', 'กระโปรง', 'จอด', 'สุภาพ', 'แป๊บ', 'เพลีย', 'ต้องตาม', 'กากหมู', 'น้ำพริก', 'ปร้ะ', 'update', 'ตัวตรง', 'เนย', 'กัด', 'น้นเน', 'หวง', 'เลือด', 'เว้น', 'แกก็จำ', 'รพ', 'อุดร', 'ฮัลโหล', 'อฟช', 'ตละ', 'ฮิ', 'ต้องโทษ', 'เข้าว่า', 'น้ำหนัก', 'ปรับราคา', 'Only', 'at', 'ตระกร้า', 'มีนาคม', 'ๆช้อป', 'ARM', 'FRP', 'FSTRMAR', 'Discount', 'Max', 'Min', 'WCSPORT', 'กระหน่ำ', 'จุใจ', 'ฉ่ำ', 'ทิพย์', 'แฟชั่น', 'ที่ผ่านมา', 'Jamclub', 'Jamshop', 'Sale', 'ลาย', 'เฉพาะที่', 'เน็ต', 'แม็ก', 'มีเหตุผล', 'งู', 'ซิม', 'มัง', 'วา', 'เลี้ยง', 'เวลาว่าง', 'เสพ', 'กระปุก', 'ช้อ', 'ปลา', 'ปิ้ง', 'ลดเหลือ', 'เนจ', 'ท่าน', 'หมดเขต', 'ตอนสาย', 'หายใจออก', 'หายใจเข้า', 'มร', 'ทีนี้', 'ำด้', 'ใอะ', 'ทาย', 'ว้อย', 'qr', 'ลูป', 'ๆๆจบ', 'กลัง', 'ขะ', 'ซื้อใจ', 'ทร', 'ยยยยยย', 'เสียดาย', 'ดัก', 'พ่วง', 'โพ', 'สเปน', 'พักร้อน', 'เปิดร้าน', 'โหมด', 'ไอ่สัส', 'เก่', 'เคาะ', 'กริน', 'มิส', 'กท', 'กสิกร', 'เลขท้าย', 'คิดหนัก', 'ตัดใจ', 'นก', 'มัม', 'อีกหน่อย', 'เรื่องมาก', 'Fabricposter', 'น้องๆ', 'ชล', 'ต่อย', 'โซะ', 'ได', 'หาร', 'ภาวนา', 'ขึ้นอยู่กับ', 'ซิง', 'ลอด', 'สัสต', 'เวลาทำการ', 'ชี้', 'ลายแทง', 'งบ', 'เปอ', 'โยก', 'ตู้เสื้อผ้า', 'ราวตากผ้า', 'แขวน', 'timeline', 'ช้อง', 'ยยยยยยยยย', 'โอ๊ย', 'ครอบคลุม', 'ครัวซอง', 'ค์', 'อำเภอ', 'ส่งท้าย', 'ใช้กับ', 'สูบ', 'โถ', 'ทาน', 'พอได้', 'ศึก', 'อันตราย', 'เหิม', 'ฟาง', 'ninjavan', 'อส', 'เดียร', 'มีราคา', 'เผลอไป', 'โฮ', 'เกลี้ยง', 'โฮโลแกรม', 'diy', 'house', 'ความชื้น', 'ดูด', 'นุ้', 'บอด', 'แมะ', 'ใส', 'ไส้อั่ว', 'ช้าง', 'ตรา', 'สาเหตุ', 'อ้ะ', 'ลาจาก', 'ผู้ใช้', 'Application', 'ขอบพระคุณ', 'ทุกท่าน', 'ออกเดินทาง', 'น้ำยา', 'ยุง', 'นิ่ง', 'นส', 'รองคอ', 'ไก่โห่', 'ผ้าปูโต๊ะ', 'ถอดทิ้ง', 'คจวพ', 'คุณภาพ', 'เตียง', 'ผ้าปูที่นอน', 'รุ่นพี่', 'น่าหมั่นไส้', 'เกตุ', 'ความสุภาพ', 'รถจักรยาน', 'รถยนต์', 'รับน้อง', 'ครอบ', 'คัม', 'ขึ้นรถ', 'คุณภาพต่ำ', 'ตึก', 'รปภ', 'หน้าตาเฉย', 'เมิน', 'ดสื้อ', 'ถ้วน', 'ตกแต่ง', 'ทุกสิ่งทุกอย่าง', 'สติ้ก', 'ๆกลิ้ต', 'ไอแพด', 'นิสัยเสีย', 'ช้อปปิ้', 'เข็ด', 'นิง', 'ไมา', 'ผ้า', 'หมวก', 'พิ้น', 'หน้าจอ', 'แสบตา', '56', 'งก', 'ทำบุญ', 'ว้อททท', 'พค', 'กลางทาง', 'ทางบ้าน', 'ปากซอย', 'สีแดง', 'ความรู้สึก', 'ผี', 'เลิ้ฟ', 'กระบะ', 'ง.', 'ช่างซ่อม', 'รถกระบะ', 'รอน', 'รั้ว', 'หน้าฝน', 'หลังคา', 'เป็นระบบ', 'ๆพนง.', 'ให้คำปรึกษา', 'ลาวา', 'หัวใจ', 'อร่อย', 'เปี๊ยะ', 'ไข่เค็ม', 'ฮ่องกง', 'บดี', 'กระจ่าง', 'คล้ำ', 'คอลลาเจน', 'ซี', 'ตู้เย็น', 'บำรุง', 'ฟื้นฟู', 'ว่าน', 'สดชื่น', 'หมอง', 'หาง', 'เจล', 'เนื้อ', 'เมือก', 'เหลือบ', 'เอ๊ะ', 'pt', '950', 'mandalaki', 'คริสตัล', 'โคมไฟ', 'กลบ', 'ถู', '1600', '1651', '400', '51', 'คลัง', 'เหลืออยู่', 'หน่วง', 'หยก', 'ซัม', 'ติง', 'มน', 'มีระบบ', 'คืนนี้', 'แย่ง', 'โครงการ', 'Classic', 'Silver', 'รับเงิน', 'ล่าง', 'สิทธิพิเศษ', 'ยุติธรรม', 'รัตมา', 'เรียกร้อง', 'อั่งเปา', 'คนอื่นๆ', 'เสียหลัก', 'แฟร์', 'สื่อ', 'เซลล์', '270', 'ควรค่า', 'ไบรท์', 'ถอน', 'live', 'บบบ', 'คนละเรื่อง', 'โค้ต', 'ช็อก', 'ปกปิด', 'พกพา', 'รองพื้น', 'ล้นหลาม', 'หนักหน้า', 'คดี', 'แคมเปญ', 'เทรด', 'ของส่วนตัว', 'ทุด', 'มีอำนาจ', 'โทษทางอาญา', 'หลังจากนั้น', 'มือไว', 'เป็นหลัก', 'ปัตตานี', 'หัน', 'ก๊อก', 'ของขวัญ', 'ฉลอง', 'เพลย์', 'sliver', 'คิดได้', 'คมชัด', 'ผาย', 'ลึก', 'โหวต', 'บิล', 'ผุด', 'เครื่องราง', 'โปรด', 'Code', 'กลิ้ง', 'คลิก', 'โค้ดลับ', 'ปม', 'มะเขือ', 'หอก', 'แส', 'ด้านหน้า', 'สังเกต', 'สินค้าเข้า', 'สิ้นเดือน', 'ล้มเลิก', 'รดน้ำ', 'รางวัล', 'ฟีด', 'LAGOM', 'ดวงดี', 'ปีฉลู', 'เฮง', 'โปรโมชั่น', 'spay', 'บัตรเครดิต', 'บิต', 'ฟซ', 'เงินได้', 'พอใช้', 'โชว์', 'me', 'remind', 'ซีรีส์', 'ถอนเงิน', 'บัตร', 'รายปี', 'วิว', 'ออนแอร์', 'เนาะ', 'โมบาย', 'ทั้งปี', '700', 'เคล็ดลับ', 'ครบเครื่อง', 'ปั๊ป', 'ย้ายที่', 'ชักจะ', 'เอาใหญ่', 'ทีวี', 'เห้น', 'กระซิบ', 'นิยาม', 'เค้ส', 'สานะ', 'มั๊กกก', 'เหยื่อ', 'ใช้ชีวิต', 'ต่อเวลา', 'SMASOCIAL', 'mall', 'ของจริง', 'ชิง', 'เข้าให้', 'เทวดา', 'ห์', 'อดหลับอดนอน', 'Pay', 'กุมภา', 'หัวหมอ', 'ญญ', 'ฮอต', 'ฟพด', 'มุ', 'แมน', '31', 'ด์', 'ไข่มุก', 'innisfree', 'ฟฟ', 'ครอบจักรวาล', 'สลด', 'สติกเกอร์', 'โค้ลลด', 'รัว', 'คนโสด', 'ดูแลตัวเอง', 'เท็ม', 'ฝากเงิน', 'ด้านล่าง', 'ฟันธง', 'ราศี', 'ลิงก์', 'ทรัพย์', 'ทั้งคืน', '07', 'ทิศ', 'ผู้ชนะ', 'มกรา', 'เริ่มใหม่', 'แหลก', 'ชุ้นน', 'หน้ามืดตามัว', 'หลักการ', 'เสียเปล่า', 'ดี้', 'เบ', '179', 'FASH', 'Season', 'TR', 'sweater', 'Rewards', 'ความคุ้มค่า', 'บิ๊ก', 'ยืน', 'วาระ', 'สิทธิประโยชน์', 'เซอร์ไพร์ส', 'เหนือกว่า', 'เล้ว', 'แลก', 'โลชั่น', 'Ig', 'doubletttt', '️️', 'RE', 'Freesize', 'Tiny', 'ชมพู', 'ดำ', 'เทา', 'ส้ง', 'ตั้งเวลา', 'มละ', 'สะดุ้ง', 'นุช', 'ลั่น', '155', 'วาเลนไทน์', 'กรุ', 'ถึงขั้น', 'เริส', 'อกหัก', 'ลื', 'ส่', 'เรอะ', 'ทึก', 'ANGELS', 'FENNEC', 'STRETCH', 'follow', 'บัก', 'อักษร', 'downy', 'tinytan', 'เสียแต้ม', 'ไม่ได้ไม่เสีย', '298', 'คจ', 'นข', 'นย', 'นรา', 'สุทธิ', 'อง', 'เงิา', 'ให้ราคา', 'โต้ะ', 'man', 'peter', 'unleashia', 'ทิ้นท์', 'ซองจดหมาย', 'ร์ดมดย', 'สกา', 'โผ', 'ไบดวำ', 'แต้', 'งสัส', 'น้ำหอม', 'เสิ้จ', 'แซว', 'ข้าว', 'ละเมิด', 'หมึก', 'ไข่', 'บิ้ก', 'มือสอง', 'อิเล็กโทน', 'เปียโน', 'แป้ปๆพอ', 'โพ้ด', 'ไฟฟ้า', 'ข่อย', 'ภาษี', 'กา', 'ตูน', 'วอลเลย์', 'เนท', 'เป้', 'บอกกล่าว', 'รูปถ่าย', 'โมจิ', 'เกมส์', 'คัดสรร', 'คู่ควร', 'ทรงคุณค่า', 'แจ่ม', 'งอแง', 'จ๋อง', 'รังแก', 'เหงาหงอย', 'ตามเวลา', 'กางเกงใน', 'หน้ามืด', 'ก่า', 'จสก', 'ทะแม่งๆ', '269', 'กริบ', 'กลิ่นหอม', 'ฟุ้ง', 'หรูหรา', 'ล์', 'ได้ราคา', 'สะดุ้งตื่น', 'finnomena', 'พอร์ต', 'หยัก', 'เนอ', 'ชิน', 'ร่างกาย', 'หลับ', 'กุกะ', 'ต่อหน้าต่อตา', 'วินาที', 'บิ', 'สกิต', 'เท็กซัส', 'ลม', 'หมวดหมู่', 'จจจ', 'พ่อค้า', 'ง้อ', 'แมร่ง', 'ครั้งหน้า', 'เช่', 'เส้า', 'แล', 'อย่างงี้', 'เอ่า', 'แป', 'บีบบังคับ', 'shopaholic', 'เดี่ยว', 'สงคราม', 'บ่ายโมง', '888', 'ถาด', 'เก้', 'แปล', 'โกลด์', 'จว.', '405', '499', 'พรม', 'พรมเช็ดเท้า', 'ฟองน้ำ', 'ลิ้นชัก', 'งา', 'ชั้นลด', 'ลำโพง', 'ปุ', 'เฟ้อ', 'Wetv', 'รายเดือน', 'expo', 'gadget', 'smartphone', 'ทั้ง ๆ ที่', 'ขับถ่าย', 'ข้ามคืน', 'บิด', 'พุง', 'ยุบ', 'โล่ง', 'ใชั', 'รหัส', 'งม', '224', 'ABIDE', 'ดาวน์โหลด', '277', 'NADIA', 'ทบทวน', 'รุ่น', 'ดีเลย์', 'name', 'ตั้งสติ', 'ทิ้', 'เป๋า', 'ซ่าน', 'ผู้ใช้งาน', 'อีเมล', 'มืด', 'สว่าง', 'ปลื้ม', 'สาธุ', 'cf', 'เที่ยงตรง', 'นะจ๊ะ', 'กรุงศรี', 'อั', 'ที่นอน', 'ผ่อน', 'มองหา', 'อน', 'สะสม', 'สแปม', 'แก้ปัญหา', 'ขออนุญาต', 'แทค', 'Value', 'Dtac', 'Clarins', 'Galaxy', 'Smart', 'TV', 'มันส์', 'หายห่วง', 'หลายครั้ง', 'เจอกัน', 'sephora', 'ตู้', 'เล', 'AirPay', 'ecommerce', 'platform', 'มโหระทึก', 'หงิม', 'หลังจากที่', 'เป็นช่วง', 'เอาคืน', 'มินิมอล', 'พาย', 'บอกอ', 'เฝ้า', 'เฟอ', 'บับ', 'ยุค', 'ช้ำใจ', 'ตะกุย', 'ผนัง', 'ปๆ', 'เห็ย', 'แว้', 'ยุ่น', 'ไลฟ', 'ญี่ปุ่น', 'ad', 'หูฟัง', 'กระพริบตา', 'สมะ', 'แคน', 'เจ้าที่', 'ฟัค', '640', 'แย่งชิง', 'เซฟ', 'นิธาน', 'NCT', 'งื้ออ', 'mizumi', 'ปีศาจ', 'ช้อปยก', 'แก๊ง', 'โลโก้', 'cashback', 'ดดดดด', 'เหม่อ', 'คิ้ก', 'ด้าลง', 'อซท', 'แบ้', 'ค้ดลด', 'ถึงขนาด', 'พริก', 'applesheep', 'ยยยย้', 'ขข', 'ความอดทน', 'คว๊ายยยยย', 'ถี่', 'มาทัน', 'ขก', 'ขนาดที่', 'คบ', 'พลาย', 'มากเกินไป', 'สตอ', 'เวิด', 'ดีด', 'ดูไปก่อน', 'บ๊อก', 'หยิ่ง', 'ฝันดี', 'เหม่', '590', 'สั่งลา', '495', 'Watsons', 'ขวด', 'ซิ่ง', 'ต้ะ', 'คนจีน', 'อังกฤษ', 'เวียนหัว', 'ให้คะแนน', '550', 'เมคอัพ', 'โกะ', 'โอ้ว', 'ดิ้', 'ขายต่อ', 'แยกกัน', 'ตื่นเต้น', 'ใจเต้น', 'จริงอยู่', 'พระเอก', 'ซับเหงื่อ', 'มือใหม่', 'ลื่น', 'หยด', 'ออกกำลังกาย', 'เปาะแปะ', 'เสื่อ', 'นาฬิกาปลุก', 'แฟรช', '106', 'zoflora', 'ดม', 'สเปรย์', 'Shopback', 'ใจเสีย', 'ตามปกติ', 'เยลลี่', 'แต่บางที', 'วอเลต', 'ตัน', 'ที่สูง', 'การรอคอย', 'ก้รุ้', 'ตอนกลางคืน', 'ม่วน', 'ประชาชน', 'ทะเบียน', 'ห้ะ', 'อนุมัติ', 'ขึ้นรา', 'ไดฟุกุ', 'พูดถึง', 'น้', 'หวนคืน', 'พี่เลี้ยง', 'แย้', 'กลด', 'ขุน', 'ละลด', 'เสือ', 'ปลอกหมอน', 'ฝุ่น', 'เอิร์ธโทน', 'ชั้นวางหนังสือ', 'อัลบั้ม', 'เก๋', 'แต่ง', 'คุณภาพดี', 'สไตล์', 'shop', 'แคร์', 'ไว้ใจได้', 'love', 'คาเฟ่', 'ถ่ายรูป', 'นำเสนอ', 'คุม', 'สอย', 'แบบเสื้อ', 'สติแตก', 'เฮ', 'แชร์', 'ยาวดี', 'ส้นหนา', 'เรียว', 'กำลังดี', 'สะโพก', 'ติดกับ', 'บลูทูธ', 'สติ๊กเกอร์', 'อิ้ง', 'เชื่อมต่อ', 'แป้น', 'จ้อจี้', 'ระบายอากาศ', 'เย็บ', 'แอน', 'ชักโครก', 'ตูด', 'สาธารณะ', 'เทอะทะ', 'เลอะเทอะ', 'แฉะ', 'กาว', 'ช่วยชีวิต', 'รูด', 'แปรง', 'สมใจ', 'เจาะ', 'อล', 'จิ๋ว', 'ฝีมือ', 'เครื่องสาน', 'ข้อเสีย', 'กระชับ', 'ทน', 'ยืดหยุ่น', 'ออกกำลัง', 'น่าเชื่อ', 'อวบ', 'เว็ป', 'ชื่อเรื่อง', 'บุ๊ค', 'มีสติ', 'เกลื่อน', 'ไล่หา', 'บลูธูท', 'พิกเซล', 'แพสชั่น', 'ตามระเบียบ', 'ปากกา', 'ผู้ดี', 'สีมา', 'หลายอย่าง', 'สำลี', 'ซิลิโคน', 'ทำความสะอาด', 'เหนียว', 'งคสอ', 'ก่อนที่', 'ชาร์จ', 'ตะปู', 'พลังงานแสงอาทิตย์', 'ยาง', 'ยางใน', 'เครื่องวัด', 'แผง', 'รูขุมขน', 'แป๋ม', 'โทรม', 'ไปเที่ยว', 'ถามถึง', 'ปู', 'ผ้าห่ม', 'ฟู', 'ห่ม', 'เฟิม', 'ขาตั้ง', 'ดี๊', 'ติ๊กต๊อก', 'องศา', 'กระจก', 'ดีไซน์', 'ปจ', 'กดน้ำ', 'ดับ', 'ไฟ', 'นาฬิกา', 'รูปวาด', 'วาดรูป', 'ไม้', 'วสี', 'เชิ้ต', 'แขน', 'โอเวอร์', 'น่าอยู่', 'กรรไกร', 'รอง', 'สวยงาม', 'เขี่ย', 'แช็ค', 'โรม่า', 'สำอางค์', 'อุดตัน', 'เวช', 'Brand', 'คอกลม', 'จัดซื้อ', 'ฝ่ายค้าน', 'ราว', 'เกรด', 'ยวบ', 'เบาะ', 'แน่น', 'ด้าม', 'บาน', 'เอาไว้', 'แข็งแรง', 'วิก', 'สีม่วง', 'หน้าม้า', 'ประกัน', 'สิงหา', 'ไบร์ท', 'ความหมาย', 'ฝึก', 'ม่าย', 'ศัพท์', 'ห้าง', 'เห่อ', 'ซูม', 'คลื่น', 'มาม่า', 'ลอน', 'หนีบ', 'ฮับ', 'เลนส์', 'ชั้นวางของ', 'วัสดุ', 'ทริค', 'วิธีใช้', 'โพย', 'ข้น', 'ชุ่มชื้น', 'สำอาง', 'เซนส์', 'ทำเป็น', 'เนื้อผ้า', 'AirPods', 'ความน่าเชื่อถือ', 'บ่อย ๆ', 'วัตสัน', 'เข้มข้น', 'เห็นผล', 'เอาอยู่', 'ความมัน', 'เหนอะหนะ', 'เหลว', 'ด้านหลัง', 'รก', 'วิ้ง', 'สายตา', 'เคลือบ', 'ไกด์', 'รีพอร์ท', 'เตือนภัย', 'กระทะ', 'ผัด', 'ศรี', 'หนัม', 'หินอ่อน', 'วีค', 'สระ', 'สระผม', 'แชมพู', 'แหลม', 'มิ้นท์', 'ลูกอม', 'หอม', 'เรียบๆ', 'โซดา', 'ความชุ่มชื้น', 'จุดด่าง', 'ผสม', 'ผิวหน้า', 'วิตามิน', 'แนะนำตัว', 'ให้หน้า', 'ไฮยาลูรอน', 'ยาทาเล็บ', 'เหม็น', 'ปั่น', 'ล็อค', 'สัญญา', 'สุดกำลัง', 'เกี่ยวก้อย', 'ขนาดเล็ก', 'ขยายเวลา', 'กันกระแทก', 'ด้านใน', 'ถนัด', 'ละมุน', 'สูตร', 'ขายดี', 'ท๊อปส์', 'บิ๊กซี', 'แมคโคร', 'สคบ', '2000', 'ปริ่ม', 'กำแพง', 'เรียง', 'แพทเทิร์น', 'สอด', 'เสียงดี', 'ลืน', 'รวบรวม', 'าเธรด', 'กลืน', 'กว้างใหญ่', 'เขียนหนังสือ', 'โต๊ะทำงาน', 'ไพศาล', 'ก้อน', 'พู่กัน', 'มุตะ', 'สีน้ำ', 'สีสด', 'เกลี่ย', 'เหมาะ', 'แทงค์', 'นนื่อย', 'ระหว่างทาง', 'แวะ', 'minimall', 'คนเรา', 'ตริ', 'ชป', 'ยอดขาย', 'แห่', 'นีด', 'สนอง', 'สมราคา', 'ขอยืม', 'ดี ๆ', 'การันตี', 'ชีส', 'ต๊อก', 'หนึบหนับ', 'แป้ง', 'ตลับ', 'ผิวขาว', 'พัฟ', 'เฉด', 'กันแดด', 'คราบ', 'เลา', 'ข้อสงสัย', 'ไข', 'คุ้กกี้', 'ที่พึ่ง', 'ตรวจดู', 'ระบาย', 'วายวอด', 'หห', 'อิลู', 'พริ้ว', 'มากขึ้น', 'หลวม', 'เต่อ', 'แมท', 'ย่อมเยา', 'ฮี', 'เจ้าของ', 'ธรรมชาติ', 'ระบาด', 'คุมะมง', 'ชั่ว', 'เด๋อ', 'โน้ตบุค', 'ข่าย', 'รื่อ', 'อั้น', 'เทพ', 'การเงิน', 'กิจการ', 'ๆลง', 'ข้าวสาร', 'เพชร', 'usb', 'ชา', 'ปลั๊ก', 'ปิดไฟ', 'วิน', 'สักนิด', 'เสียบ', 'แสงสว่าง', 'ณดล', 'แต่งงาน', 'พีค', 'กุก', 'ดื่ม', 'ดูตัว', 'บูชา', 'มะนาว', 'รสชาติ', 'งาม', 'รั่ว', 'สีผม', 'กันน้ำ', 'รอยขีดข่วน', 'ตะเกียง', 'หิมาลัย', 'อุทัย', 'เป็นแนว', 'แรกเห็น', 'เอะใจ', 'ฟ้อง', 'มั่กๆ', 'อักเสบ', 'อ่อนโยน', 'เฟิร์ส', 'ใบหน้า', 'จิ้ง', 'ติดตัว', 'ปาก', 'ลอก', 'ลิปสติก', 'สัมผัส', 'นค', 'นูน', 'ปอน', 'มีหัว', 'สอ', 'เปิดใจ', 'การตัดสินใจ', 'ซ์', 'บัม', 'ในอนาคต', 'ห้องนั่งเล่น', 'เท่าๆ', 'โจมาโลน', 'มานะ', 'กุ๊ก', 'ทางจิตใจ', 'มีคุณค่า', 'ถาวร', 'ละอาย', 'xGOT', 'บ๊ะ', 'ราคาแพง', 'รูปภาพ', 'ลายน้ำ', 'โจ่งแจ้ง', 'โบ๊ะ', 'ขัดตา', 'มม', 'โปรเจคเตอร์', '172', 'ความคืบหน้า', 'ปีกนก', 'เกาะ', 'หลวง', 'เจตนา', 'สั่งสอน', 'ถา', 'ประโยชน์', 'butterscotch', 'กะปิ', 'คำแนะนำ', 'จอห์น', 'จี้', 'ล์ร', 'วอล์ค', 'อวด', 'พาสเทล', 'ภาษาไทย', 'แป้นพิมพ์', 'พาวเวอร์', 'เต้า', 'แบงค์', 'ความจุ', 'ความสูง', 'วางหน้า', 'อาการ', 'เข้ม', 'เมื่อย', 'eye', 'happy', 'ฝน', 'ชิล', 'โถ่ว', 'แม่เจ้า', 'โปรตีน', 'กระบวนการ', 'ตั้งแต่แรก', 'ถนอม', 'ผลัก', 'mart', 'พ่อบ้าน', 'แม่บ้าน', 'กินข้าว', 'ซ์เบอ', 'ต์', 'ทรัฟเฟิล', 'น่ยย', 'สุขภาพ', 'อัลมอน', 'ลุค', 'สตรีท', 'เข็มขัด', 'เมล์', 'ความสมัครใจ', 'เชื่อใจ', 'ข่าวดี', 'สาวก', 'ใช้จ่าย', 'เซ็ท', 'ซัน', 'ควง', 'จิ้น', 'มีด', 'รีพอร์ต', 'สีน้ำเงิน', 'สีเทา', 'เท่', 'เสื้อยืด', 'ซักผ้า', 'ว่าด้วย', 'หอบ', 'ปัดๆ', 'มืออาชีพ', 'ยอมรับผิด', 'หัด', 'ส่งคืน', 'จุ้บจิ้บ', 'ปลีก', 'รปฟรุ้ต', 'เครื่องกรองอากาศ', 'พักใหญ่', 'เข้าแบบ', 'เป็นไปตาม', 'แจ้งความ', 'เปนบ้งๆ', 'แคม', 'อินโด', 'ให้เงิน', 'โน้น', 'ช่างมัน', 'ดูก่อน', 'ลิ้งก์', 'สิน', 'ak', 'annywawony', 'line', 'outlet', 'th', 'เช้าตรู่', 'ฉะเชิงเทรา', 'ผู้ให้บริการ', 'ศักยภาพ', 'youus', 'ซอ', 'สส', 'หรับ', '2790', 'กินที่', 'คั่ว', 'ชงกาแฟ', 'ดัชเชส', 'ตัวเล็ก', 'บราซิล', 'ฟอง', 'สกัด', 'แป๊บเดียว', 'Nintendo', 'Switch', 'พวงกุญแจ', 'ลิงค์', '44', 'กลางๆ', 'ชนิด', 'ซม', 'สาร', 'ห้องครัว', 'เช็ด', 'เปเปอร์', 'เมตร', 'BNK', 'Photoset', 'Up', 'scale', 'ฟ้อน', 'เทียบเท่า', 'เห้ยย', '304', '419', 'link', 'ช้อน', 'ช้อนชา', 'ซ้อ', 'สแตนเลส', 'ส้อม', 'เป้า', 'โพสต์', 'แซ', 'โบราณ', 'ไอซ์', 'CC', 'PA', 'SPF', 'Sunscreen', 'Tinted', 'Zunshield', 'เยิ้ม', 'AAA', 'ตำหนิ', 'ยอง', 'เขียง', 'Line', 'website', 'ชอบแล้ว', 'LZD', 'ssktmmee', 'sticker', 'tiny', '˃̵͈̑ᴗ˂̵͈̑', 'ตามใจชอบ', 'ลิ้งปุ้', 'สต', 'เซ็ต', 'เล้ย', 'Airpods', '295', 'ขวา', 'ซ้าย', 'ร่วง', 'อาหารสัตว์', 'ฮื่อ', 'เมื่อวันก่อน', 'ให้อาหาร', 'แง๊', 'Ems', 'แจบ', 'acc', 'schwnn', 'เนื้อคู่', 'เอ็นดู', 'Oppo', 'Reno', '1000', '85', 'FB', 'ลาม', 'เฟลช', '1340', 'FOUNDATION', 'LONG', 'SKIN', 'WEAR', 'WEIGHTLESS', 'bobbi', 'brown', 'ใบเสร็จ', '2022', '2023', 'คอนเนค', 'รั้ก', 'เปร', 'ตามใจ', 'เชือก', 'สม็อค', 'หลี', 'เอี๊ยม', 'Heroine', 'make', 'mascara', 'speedy', 'ปริมาณ', 'มาสคาร่า', 'เจ้าหญิง', 'กำลังใจ', 'ทาวน์', 'ฝัด', 'เรีย', 'เวอ', '279', 'กระต่าย', 'รีโมท', 'แนบ', 'ฟิเชี่ยล', 'แวบ', 'ALBUM', 'ATEEZ', 'FEVER', 'MINI', 'ORDER', 'PRE', 'Part', 'ZERO', 'ver', 'boxbox', 'Oxe', 'acne', 'cure', 'lotion', 'powder', 'น้ำแข็ง', 'Balm', 'HOrME', 'Relaxing', 'aroma', 'ฟุ้งกระจาย', 'สปา', 'เตา', 'รู้เท่าไม่ถึงการณ์', 'สมมุติ', 'เล่นขายของ', 'china', 'in', 'made', 'ชัวร์', 'ฟีดแบค', 'มึน', 'รัด', 'lilybyredthailand', 'ปลิ่ม', 'blu', 'ray', 'มินิ', 'โปสเตอร์', 'ผลเสีย', 'ลอยตัว', 'อ้วน', 'Two', 'two', 'จมูก', 'ทนไม่ไหว', 'รึ่ม', 'รื้อ', 'สำรอง', 'หมดสภาพ', 'เต้าหู้', 'แสบ', 'แอมโมเนีย', 'แบ่งเวลา', 'วาสลีน', 'ซอส', 'ซึ้ง', 'ซุน', 'ต้ม', 'นึ่ง', 'น้ำร้อน', 'Bio', 'ประกบ', 'ปิ๊ง', 'พั้นช์', 'ออม', 'เครดิต', 'แองเจิ้ล', 'ปล่อยตัว', 'Momsta', 'dicon', 'กิ๊ก', 'รุงรัง', 'beyondsoho', 'ตลาดนัด', 'ไฮ', 'ยวนัน', 'สต็อค', 'ไฮเดรนเยีย', 'ขอบใจ', '126', 'ดูงาน', 'เทนนิส', '2017', 'เรตติ้ง', 'riverside', 'ดีเทล', 'บูธ', 'แบก', 'บี้', 'ม๊า', 'กวาน', 'ขายดิบขายดี', 'ตั้งราคา', 'บ๊อกซ์', 'สร้างบ้าน', 'แฝด', 'ดอกทอง', 'ลูกเล่น', '38', 'หัวค่ำ', 'manyo', 'low', 'stock', 'กู๊ดว์', 'ความทรงจำ', 'ดีวีดี', 'บอร์น', 'พากย์', 'ลิขสิทธิ์', 'วๆๆๆ', 'สมี', 'ความโมโห', 'บทเรียน', 'ใส่ร้าย', 'ตามิน', 'เกริ่น', 'เอ็ม', '230', '345', 'นิ้เบย', 'จุ้กจิ้ก', 'ร่า', 'อากาศ', 'คะแนน', 'ฉลาด', '134', '206', 'ยิ่งไปกว่านั้น', 'ตทินัม', 'Post', 'it', 'หมวกกันน็อก', 'เอิ่มมม', 'ชาย', 'สาปแช่ง', 'นิ้วชี้', 'ขึ้นอยู่', 'พอกันที', 'ฟาย', 'พระเจ้า', 'จำนวนเต็ม', 'อื้อ', 'ความเป็นส่วนตัว', 'บรรจุภัณฑ์', 'ปิดบัง', 'กดออด', 'เอาผิด', 'ธรรม', 'มนุษย์', 'ลักไก่', 'เอือม', 'ซุปเปอร์', 'เลิ้บ', 'เร', 'กระ', 'ร้น', 'เก็บกด', 'วั๊บ', 'ช่าย', 'แทฮัน', 'อุด', 'ตีสาม', 'ราม', 'ล้อเล่น', 'เลเซอร์', 'หน้ากาก', 'อนามัย', 'คิโน๊ะ', 'มหากาฬ', 'มีน', 'เมามัน', 'ถ้วย', 'toxic', 'คนขายของ', 'รับหน้า', 'วิจารณ์', 'คึก', 'ไบโอ', 'แจ็ค', 'กรุบ', 'บรรลุเป้าหมาย', 'รัศมี', 'เบเกอรี่', 'ก้าน', 'ที่พัก', 'บัด', 'เชียงคาน', 'กิ๊บ', 'ทดลอง', 'แมตต์', 'อดใจ', 'Marhen', 'กรุ่น', 'เบยยย', 'ไมโครเวฟ', 'คละ', 'มึ้งงง', 'สาหร่าย', 'เก่าเก็บ', 'แชต', 'เป็นเพื่อน', 'เพื่อนเล่น', 'ค้นหา', 'ดาบ', 'พิฆาต', 'อสูร', 'เสื้อเชิ้ต', 'index', 'ติดตั้ง', 'นราธิวาส', 'ครอป', '1490', 'remax', 'ราคาตลาด', 'พิ', 'วหา', 'สอน', 'เครื่องใช้ไฟฟ้า', 'ไฟเบอร์', 'เท้า', 'แล็บ', 'ขุ่น', 'ข้างหลัง', 'ๆพอ', 'apple', 'music', 'เชื่อถือได้', 'ไล่เลี่ยกัน', 'ไหนว่า', 'ซีดี', 'หุงข้าว', 'MBK', 'sony', 'รับประกัน', 'แทั', 'Dairy', 'Home', 'น้ำนม', 'ผลิต', 'หากิน', 'ละอายใจ', 'คัต', 'ร่อง', 'การศึกษา', 'ปริ๊น', 'รุ่นเก่า', 'รุ่นใหม่', 'อ่านหนังสือ', 'โน๊ต', 'insalon', 'ริ้น', 'ร้าย', 'เซต', 'ครีมกันแดด', 'แต่งหน้า', 'คาคบ', 'ชุ่มชื่น', 'สมาน', 'สัมผลัส', 'หนักปาก', 'หลาน', 'หาม', 'แผล', 'เพาะพันธุ์', 'naimx', 'ไหม้', 'Marimekko', 'กระเป๋าสตางค์', 'ipad', 'ป๊า', 'ผื่น', 'ลวก', 'กิ้ด', 'บร', 'มู๋', 'อชา', 'โปสการ์ด', 'บลู', '178', 'ผ่อง', 'รุ้ง', 'เว้า', 'แบ๊ว', 'หอบหิ้ว', 'เข้าทาง', 'เวฟ', 'แมทช์', 'ธัญพืช', 'โซ่', 'ดวก', 'ดินลูกรัง', 'ป่า', 'รายได้', 'ตอบสนอง', '91', 'ผืน', 'ผ้าม่าน', 'ซะงั้น', 'ความเสี่ยง', 'นอกรอบ', 'เน่า', 'silver', 'ดอกกุหลาบ', 'แหวน', 'ทางได้', 'สนามบิน', 'เกียด', 'ใหย่', 'บานา', 'มอลล์', 'สตู', 'เฟรก', 'จรก', 'ขำ', 'แอม', 'โฟน', 'ช่วยด้วย', 'นั้ม', 'กรีน', 'วาด', 'สทรศ', 'แค', 'น้อยใจ', 'เปิ้ล', 'เอ่', 'ความสะอาด', 'คอมพิวเตอร์', 'โทรศัพท์มือถือ', 'มีความหมาย', 'สินค้าส่งออก', 'กล้วยไม้', 'กวาว', 'ตาลุ', 'หมู่บ้าน', 'ไม้ดอก', 'เหมือนเคย', 'แว้บ', 'ยิกๆ', 'everY', 'eloop', 'เล้ก', 'แบต', 'เถา', 'เป่า', 'กอ', 'ต้อ', 'วอแว', 'นัมเบอร์', 'ยาใจ', 'เยียว', 'Lyrics', 'ฟิวเจอร์', 'รังสิต', 'เทรดดิ้ง', 'BB', 'MT', 'YG', 'ไซต์', 'รวมพวก', '1690', 'สองใจ', 'อาลัว', 'กระปรี้กระเปร่า', 'หร่อย', 'ยยวว', 'โอ้', 'จม', 'ป๊อป', 'เสย', 'เน้อ', 'ห่วง', 'เล้ออ', 'ของเหลือ', 'ไม้กวาด', 'ทิ้งท้าย', 'ปัด ๆ', 'กางเกงขายาว', 'จิน', 'อาศัย', 'เก้า', 'งง้', 'ชเว', 'จุน', 'ฟาดเคราะห์', 'hi', 'jet', 'melon', 'ท้าทาย', 'หลอกล่อ', 'อำนาจ', 'ผ้าคลุม', 'ด้าคง', 'โวย', 'เอ้างง', 'ไก่', 'โน่', 'ดินสอ', 'เดน', 'แท่ง', 'ใด', 'เชี่ย', 'หลอ', 'ขยาย', 'ถึงว่า', 'เอ็ด', 'given', 'electrolux', 'kg', 'BOL', 'synnara', 'สัน', 'เจบี', 'มีจำกัด', 'หกร้อย', 'เหนาะๆ', 'แว๊บ', 'ลายเซ็น', 'สารบัญ', 'ฮัก', 'ตุ้ก', 'สุ้', 'มัท', 'โปรง', 'สิ้นปี', 'นเน้ด', 'ตะแกรง', 'อริ', 'เว', 'บวม', 'ไม้อัด', 'ศลป', 'ความสำเร็จ', 'ะสบ', 'ครึ่งต่อครึ่ง', 'แง่', 'ปาย', 'เปนงี้', 'face', 'คนใน', 'ไวรัล', 'ทวีต', 'คับบ', 'ทคค', 'ตัวอย่าง', 'คร่อม', 'ชชั่น', 'โสด', 'จิ๊กซอว์', 'loft', 'ชัอป', 'ช่อดอกไม้', 'ป้อ', 'จู', 'บตบก', 'ออน', '730', 'Arrival', 'มี่', 'กิเลส', 'ไม้ถูพื้น', 'กวาด', 'รีดผ้า', 'ล้างจาน', 'สีด', 'กระชาก', 'ใครก็ได้', 'ชิ', 'โย', 'โลตัส', 'ปอง', 'ใส่ยา', 'อึดอัด', '811', 'จับเป็น', 'ฉี่', 'ชาเขียว', 'เม็ด', 'ผญ', 'ลูกเสือ', 'หญิง', 'โดยใช่เหตุ', 'ดูออก', 'คิดมาก', 'หมุน', 'เรื่อ', 'บู้บี้', 'วงจร', 'lomo', 'กก้', 'ๆอ้ะ', 'รายจ่าย', 'รับขวัญ', 'หว่ะ', 'ทำตาม', 'เย่', 'โรล', 'กรอบรูป', '108', 'viu', 'wetv', 'ปิดกั้น', 'มองเห็น', 'ตาข่าย', '1360', 'ตอง', 'อาร์ต', 'ลูกโลก', 'ตัวแทน', 'xxx', 'แหะๆ', 'พราก', 'รอยเปื้อน', 'ฮวบ', 'น้องสาว', 'บั้มอซท', 'ม้ะ', 'ซุ', 'แบร์', 'ที่ตั้ง', 'ส่งกลับ', 'จำยอม', 'วดฟ', 'อ่าว', 'นวด', 'Sulwhasoo', 'กือ', 'อกไก่', 'เหี่ย', 'อิ่ม', 'กุ้ง', 'เบิ้ม', 'เฟิร์น', 'ไร้จุดหมาย', 'พร้อบ', 'พลุ่งพล่าน', 'ความรัก', 'พิม', 'sos', 'ชั่งใจ', 'พอดิบพอดี', 'นขา', 'เริ้ปป', 'รอเวลา', 'หีบห่อ', 'เครื่องเขียน', 'คอมมิชชั่น', 'น้ำมันพราย', 'มก', 'แพ็กเกจ', 'isse', 'miyake', 'กี่เพ้า', 'กัว', 'เกี่ยว', 'ต้อน', 'ผง', 'เจี๊ยบ', 'โรย', 'คิ้ว', 'งู้ยย', 'น้อนนน', 'สวน', 'ท้อป', 'facebook', 'twitter', 'จดจำ', 'นำไปใช้', 'หนับ', 'หนุน', 'แรงงาน', 'เมิ่ล', 'งุ้ย', 'ละเมิดลิขสิทธิ์', 'สกรีน', 'กปน', 'จับมือ', 'น้ำประปา', 'ตื๋อ', 'บัง', 'ม่าน', 'แสง', 'ซึง', 'คำพูด', 'ผิดสี', 'เด๋ว', 'รี้', 'หนิ', 'ติดงอมแงม', 'มีประโยชน์', 'อย่างเดียวกัน', 'เฟซ', 'กิมจิ', 'ทำสำเร็จ', 'หัวเชื้อ', 'เคอะ', 'คุ้น', 'หุ่น', 'มิ้น', 'พ้น', 'น่าสงสัย', 'บังเอิญ', 'แง่ดี', 'จอง', 'กเนต', 'แพนด้า', 'บร่ะ', 'จับได้', 'ตะขิดตะขวง', 'หนิง', 'รวมไปถึง', 'ทิว', 'สังฆทาน', 'ผู้เสียหาย', 'อิเหรี้ยยยยยยย', 'ขุด', 'ข้อหา', 'ฉอด', 'ทนาย', 'บันทึกประจำวัน', 'เท็จ', 'เรียล', 'เชี่ยย', 'เชี่ยยยยย', 'ๆพส', 'การ์ตูน', 'ปุย', 'สีชมพู', 'บัดซบ', 'พูดว่า', 'อัก', 'เล้า', 'ศิลปิน', 'นี', 'ไส้กรอก', 'บอกชื่อ', 'ปล้ว', 'อึ้ง', 'เหวี่ยง', 'kookshop', 'kr', 'ซุปเปอร์สตาร์', 'เย่ฝุดๆๆ', 'แดน', 'ลวด', 'nd', 'nude', 'rom', 'shell', 'หั่น', 'ๆกด', '129', 'วอร์ม', 'เสื้อคลุม', 'แจ็คเก็ต', '176', 'size', 'ปาด', 'ออสเตรเลีย', 'ได้ตัว', 'ไหล่', 'Shein', 'USA', 'อาชีพ', 'เสริม', 'โล๊ะ', 'ค่าย', 'ตอนเย็น', 'ไร๊ๆๆๆ', 'ข้อพิพาท', 'beautysite', 'international', 'norino', 'XL', 'ปุบ', 'ยืด', 'ลัก', 'เลิ่ก', 'กระดุม', 'ตีลังกา', 'ลื่นล้ม', 'จ๊ะทิงจา', 'ฟิ้ก', 'เก้อ', 'ราน', 'สเลท', 'ออกปาก', 'คู', 'เครื่องปรับอากาศ', 'โวยวาย', 'กร', 'ชี้ทาง', 'ช่วยกัน', '58', 'คอมเพล็กซ์', 'ตอนหลัง', 'ปีก่อน', 'ริ้ว', 'งวด', 'ถูกหวย', 'เฉียด', 'เปื่อย', 'ทิป', 'มุด', 'แดด', 'ใส้รอ', 'ไซ้', 'ขุย', 'เมท', 'ถอด', 'ดิจิตอล', 'ล่อน', 'CE', 'ตี๋', 'ตู๋', 'ฟาร์ม', 'เหนอะ', 'น้าน', 'ผ้าใบ', '5555555555555', 'แพร่', 'บุ้ค', 'สามเสน', 'ads', 'ดอกไม้แห้ง', 'ทะ', 'เสียจัย', 'ยวะ', 'ปราก', 'ดัด', 'มหัศจั้นๆๆ', 'เบาหวิว', 'แตะเบาๆ', '1150', 'วาร', '3800', 'ทันทีที่', 'นึกได้', 'เสด', 'อ่านผ่านๆ', 'อีกนัยหนึ่ง', 'เขินอาย', 'เร้ยย', 'ชัค', 'ยัด', 'เลียนแบบ', 'กลี', 'ผิง', 'อัพเปน', '217', 'ร๋', 'อิ่มเอม', 'วันสุดท้าย', 'เป็นว่าเล่น', 'สยอง', 'ไหง', 'ฟิลิปปินส์', 'มัมมู×', 'ม่อน', 'พิศ', 'ลูกสาว', 'ด๋อย', 'จิ๊ก', 'จุ๊ก', 'ตระ', '207', 'ย้อย', 'ชุดชั้นใน', 'ริเวอร์', 'ร่ม', 'อีเบย์', 'เวลานอน', 'แทบตาย', 'ได้ยิน', 'คนรัก', 'ชิวๆ', 'ปลอกคอ', 'พุดดิ้ง', 'กล้ามเนื้อ', 'ขนาดใหญ่', 'คลาย', 'ผ่อนคลาย', 'หลงทาง', 'แคนเซิล', 'roomieshobby', 'ลุกขึ้น', 'เจียม', 'ตาสว่าง', 'เข้ากลุ่ม', 'เลื่อย', 'Fatal', 'Love', 'Monsta', 'คั่น', 'นฮ', 'ยอก', 'เอียง', 'บงกช', 'แบ็ค', 'น้องใหม่', 'บู', 'อซ', 'Holika', 'holika', 'ถุกจนงง', 'เสน', 'กระสอบทราย', 'แปบ', 'ผลิตภัณฑ์', 'รอคอย', 'งุนงง', 'ดง', 'ใย', 'จัม', 'กดปุ่ม', 'เป็นลม', 'เป่าผม', 'เสียว', 'ไดร์', 'เดลี่', 'ปราสาท', 'อาว', 'โหดร้าย', 'qc', 'คอนแทคเลนส์', 'อย่', 'เข้าตา', 'ซีทรู', 'เชิน', 'อัล', 'แรร์', 'ซีคอน', 'ไดโนเสาร์', 'ลูก้า', 'ในกรณีที่', 'ก้กด', 'Uki', 'stationery', 'ฟา', 'วแด๊ดดี้', 'มาลา', 'rm', 'อุ๊ย', '43', 'ซ้าด้า', 'พรีเซ็นเตอร์', 'ฟิก', 'เลเยอร์', 'บก้าด', 'เทค', 'เง้', 'ครั่ง', 'นร', 'มฮร', 'ยินดี', 'หุ้ม', 'ลูกเมียน้อย', 'อรุ้บ๋อ', 'โยง', 'กล่องดนตรี', 'หอยสังข์', 'นิพนธ์', 'ล็อกอิน', 'xl', 'กำหมัด', 'เป๋ง', 'นมะ', 'สปอยล์', 'โอบ', 'ลิบ', 'ของเล่น', 'สักครั้ง', 'มง', 'จ้ม', 'รัช', 'อัย', 'แจ้', 'เงินถึง', 'เสียโอกาส', 'กัลลล', 'น่าดู', 'สะท้อน', 'งุ่นง่าน', 'ไอเทม', 'มด', 'โรงงาน', 'อต', 'ชาต', 'ภาษาจีน', 'นิค', 'ฟิเชี่ยลบน', 'เฉลย', 'เวลาเรียน', 'พาร์ทเนอร์', 'สดี', 'บ็อก', 'เดา', 'สถานี', 'นวล', 'อาจารย์', 'ลองใน', 'สูญญากาศ', 'หนึบ', 'รวน', 'อดทน', 'คิดผิด', 'เชื่อม', 'ตี้', 'หลังบ้าน', 'แฟรต', 'โดยส่วนใหญ่', 'Member', 'ติดๆ', 'ทำงานหนัก', 'ยาย', 'จำเป็นต้อง', 'ความสุข', 'กระมัง', 'สาปส่ง', 'ปิดงาน', 'จำนวนมาก', 'ท้องตลาด', 'เจิ่น', 'เซิ่น', 'ชุดว่ายน้ำ', 'ข่มตา', 'น่าตื่นเต้น', 'กัย', 'สั่ว', 'เงิร', 'แผ่', 'ขึ้นร้าน', 'ร้อนใจ', 'เกินกำหนด', 'mamonde', 'กุหลาบ', 'พอยท์', 'ฟช', 'แนวนอน', 'ๆๆๆๆๆๆ', 'อัตรา', 'โง้ย', 'แฮ', 'ok', 'รับเอา', 'หิน', 'กินเวลา', '510', 'Midnight', 'ประจำวัน', 'มงคล', 'ติดใจ', 'ยังเลย', 'เกี่ยง', 'ทางนู้น', 'การยินยอม', 'กลางคืน', 'AtrPay', 'มัตป่ถ', 'อัต', 'เสียค่าธรรมเนียม', 'ดาร', 'สดใส', 'ประจำเดือน', 'ตัวต่อตัว', 'เข้าบัญชี', 'มันมือ', 'ap', 'ซือ', 'ตายห่า', 'อยู่รอด', 'ล็อก', 'เผือก', 'ข้อมูลรูปภาพ', 'งิ', 'ค้างชำระ', 'ไอที', 'เอ๋อ', 'หน้าเดิม', 'รองรับ', 'เสถียร', 'ติดลบ', 'พลบ', 'ตระหนัก', 'ต่อเนื่อง', 'refund', 'ทะยอย', 'เนี้ยยย', 'เผด็จการ', 'แน', 'อีเมล์', 'UX', 'เละเทะ', 'โควต้า', 'เป๋', 'แฮ็ค', 'ไผ', 'เหงา', 'Agoda', 'ผูกมิตร', 'scb', 'เทียง', '762', 'ดูดี', 'if', 'then', 'กรุงไทย', 'เน็กซ์', 'banking', 'ปร', 'ลเลท', 'สลิป', 'สุดแต่', 'หัส', '220', 'เจรจา', 'จนท.', 'เมลล์', 'เสร็จเลย', 'เอ๋า', 'ขัดข้อง', '1042', 'ที่ต่ำ', 'เข้าหน้า', 'สะเพร่า', 'กลางดึก', 'สุลต่าน', 'เร่', 'ผู้ชาย', 'มอด', 'อื้อหือ', 'ตามกำหนด', 'ลูกไม้', 'ปั้นสิบ', 'มะพร้าวแก้ว', 'สะดุด', 'กระตุก', 'สิ้นหวัง', 'เดบิต', '222', '446', 'มัลตี้', 'แก้ม', 'เฟต', 'สาแก่ใจ', 'ใจเย็น', 'ดังลั่น', 'เสียงเตือน', 'หายนะ', 'เข้าเครื่อง', 'ท้อใจ', 'ค้อ', 'ก้บั่บ', 'อ้า', 'ตัดออก', 'บั่บ', 'ชะตากรรม', 'แบ่งปัน', 'Iam', 'ทุเรียน', 'ลิต', 'สุดตัว', 'เติ้ล', 'แมร์', 'ไนท์', 'กรอ', 'งๆ', 'สำ', 'คัตเต้อ', 'ปลั๊กไฟ', 'ล้มเหลว', 'อ้าง', 'ชน', 'สรรหา', 'อยู่ตัว', 'ทำเป็นเล่น', 'สะอาด', 'สนองความต้องการ', 'เงินกู้', 'เปลียน', 'ฟิลม์', 'BTS', 'หนุ่ม', 'สว่างจ้า', 'สะกิด', 'เปิดไฟ', 'โรงหนัง', 'google', 'แง่ง', 'โด้ย', 'เผยแพร่', 'งื้อ', 'ของจำเป็น', 'มีความรู้สึก', 'อืด', 'งกิ้ง', 'ปุ้ป', 'พลาซา', 'แกล้ง', 'แห้ว', 'โก๋', 'ปิ๋ว', 'ลท', 'Scb', 'กะลา', 'ทรู', 'บล็อก', 'คค', 'จ่า', 'ขูดรีด', 'ชายแดน', 'ติ๊ก', 'คาบ', 'แอะ', 'กานน', 'ลู', 'เกิ๊น', 'โบกมือ', 'ล้ม', 'ปลายเดือน', 'ต่อสู้', 'หลอด', 'ผิดปกติ', 'ผบ', 'Update', 'การคืน', 'ก้คงลบ', 'จะจะ', 'ดาน', 'ปุ่มกด', 'แถ', 'ลำไย', 'wallet', 'แฮก', 'ได้ชื่อ', 'หมดหวัง', 'ลิมิต', 'ซ้อน', 'เสียธรรมเนียม', 'ไถ่', 'later', 'นึกไม่ออก', 'อาหารกระป๋อง', 'อาหารสำเร็จรูป', 'เงินสด', 'ฟัน', 'แผน', 'electronics', 'มองดู', 'สง', 'เขาวงกต', 'กลายร่าง', 'คั่ม', 'การบ้าน', 'จีบ', 'หวาดหวั่น', 'มีชัย', 'เย่เย่', 'ผนวก', 'ส่น', 'มัดจำ', 'เต้ม', 'เนี้ยๆๆๆๆ', '2800', 'นพเก้า', 'ยังก่อน', 'ก้ถุก', 'จื่อ', 'แต่ยังไง', 'พิ้', 'หนุ', 'หมิว', 'บช.', 'ป้ะ?', 'สังเกตว่า', 'หยอก', 'ของกินของใช้', 'ความสะดวก', 'บอย', 'list', 'wish', 'ลเล็ต', 'ถ่าน', 'ชั้ร', 'ผีเข้าผีออก', 'ฟังก์ชั่น', 'จ่อ', 'พุ่งตัว', 'พร้อมๆ กัน', 'ช้', 'ยํ', 'แน้วฟ่ะ', 'น่ากิน', 'กาน', 'จ่ายหนี้', 'กู๊ด', 'หมี่', 'คนสวย', 'ป้า', 'BCURU', 'LVBUE', 'เรียงเม็ด', 'คูณ', 'แคช', 'ชั่วขณะ', 'adapter', 'lightning', 'padair', 'type', 'แปลง', 'ตุ่ม', 'ล่วง', 'หน้าตั้ง', 'เจ้าตัว', 'แป็บ', 'มีความหวัง', 'week', 'เหล้า', 'จ๋วย', 'เกน', 'Flashsale', 'ก้รอ', 'แฟช', 'ความสัมพันธ์', 'เสิร์ท', 'ความน่ารัก', 'ตาราง', 'ทอ', 'ท้องถิ่น', 'ปิคนิค', 'เป็', 'เฟย', 'ยับเยิน', 'แอนด์'])\n"
          ],
          "name": "stdout"
        }
      ]
    },
    {
      "cell_type": "code",
      "metadata": {
        "colab": {
          "background_save": true
        },
        "id": "aTBZhFDGnL-A"
      },
      "source": [
        "gensim_corpus = [dictionary.doc2bow(text, allow_update=True) for text in texts]\n",
        "word_frequencies = [[(dictionary[id], frequence) for id, frequence in couple] for couple in gensim_corpus]"
      ],
      "execution_count": null,
      "outputs": []
    },
    {
      "cell_type": "code",
      "metadata": {
        "colab": {
          "background_save": true
        },
        "id": "DE05QtUgnPeL"
      },
      "source": [
        "num_topics = 5\n",
        "chunksize = 4000 # size of the doc looked at every pass\n",
        "passes = 20 # number of passes through documents\n",
        "iterations = 50\n",
        "eval_every = 1  # Don't evaluate model perplexity, takes too much time.\n",
        "\n",
        "# Make a index to word dictionary.\n",
        "temp = dictionary[0]  # This is only to \"load\" the dictionary.\n",
        "id2word = dictionary.id2token\n",
        "\n",
        "%time model = gensim.models.LdaModel(corpus=gensim_corpus, id2word=id2word, chunksize=chunksize, \\\n",
        "                       alpha='auto', eta='auto', \\\n",
        "                       iterations=iterations, num_topics=num_topics, \\\n",
        "                       passes=passes, eval_every=eval_every)"
      ],
      "execution_count": null,
      "outputs": []
    },
    {
      "cell_type": "code",
      "metadata": {
        "colab": {
          "base_uri": "https://localhost:8080/",
          "height": 881
        },
        "id": "WK4FNNhfnQJY",
        "outputId": "3c3699e1-927c-4bcf-9777-fca0bf55bfc4"
      },
      "source": [
        "# pyLDAvis.prepare(model, gensim_corpus, dictionary)\n",
        "gensimvis.prepare(model, gensim_corpus, dictionary)"
      ],
      "execution_count": null,
      "outputs": [
        {
          "output_type": "execute_result",
          "data": {
            "text/html": [
              "\n",
              "<link rel=\"stylesheet\" type=\"text/css\" href=\"https://cdn.jsdelivr.net/gh/bmabey/pyLDAvis@3.3.1/pyLDAvis/js/ldavis.v1.0.0.css\">\n",
              "\n",
              "\n",
              "<div id=\"ldavis_el330140073054299344620384542\"></div>\n",
              "<script type=\"text/javascript\">\n",
              "\n",
              "var ldavis_el330140073054299344620384542_data = {\"mdsDat\": {\"x\": [0.06357911687718816, -0.02266732406693203, -0.06341399013824965, 0.02161497538245928, 0.0008872219455342581], \"y\": [-0.014120925521581361, 0.05878274490515551, -0.036934065655659015, -0.0050674444973652, -0.002660309230549921], \"topics\": [1, 2, 3, 4, 5], \"cluster\": [1, 1, 1, 1, 1], \"Freq\": [31.871869305244076, 26.276029538104705, 21.60781613754924, 15.236912937442398, 5.007372081659577]}, \"tinfo\": {\"Term\": [\"shoppee\", \"\\u0e02\\u0e19\\u0e2a\\u0e48\\u0e07\", \"\\u0e23\\u0e49\\u0e32\\u0e19\", \"\\u0e40\\u0e25\\u0e37\\u0e2d\\u0e01\", \"\\u0e0b\\u0e37\\u0e49\\u0e2d\", \"\\u0e04\\u0e48\\u0e32\", \"\\u0e2a\\u0e34\\u0e19\\u0e04\\u0e49\\u0e32\", \"\\u0e02\\u0e32\\u0e22\", \"\\u0e44\\u0e21\\u0e48\\u0e44\\u0e14\\u0e49\", \"\\u0e2a\\u0e31\\u0e48\\u0e07\", \"\\u0e01\\u0e14\", \"\\u0e25\\u0e39\\u0e01\\u0e04\\u0e49\\u0e32\", \"\\u0e42\\u0e04\\u0e49\\u0e14\", \"\\u0e25\\u0e14\", \"\\u0e23\\u0e35\\u0e27\\u0e34\\u0e27\", \"\\u0e40\\u0e25\\u0e37\\u0e48\\u0e2d\\u0e19\", \"\\u0e1f\\u0e23\\u0e35\", \"\\u0e40\\u0e07\\u0e34\\u0e19\", \"\\u0e23\\u0e32\\u0e04\\u0e32\", \"\\u0e41\\u0e2d\\u0e1e\", \"\\u0e41\\u0e08\\u0e01\", \"\\u0e07\\u0e07\", \"\\u0e04\\u0e19\", \"\\u0e43\\u0e2a\\u0e48\", \"\\u0e21\\u0e32\\u0e08\\u0e32\\u0e01\", \"\\u0e14\\u0e35\", \"\\u0e0a\\u0e2d\\u0e1a\", \"\\u0e44\\u0e2b\\u0e21\", \"\\u0e40\\u0e25\\u0e34\\u0e01\", \"\\u0e15\\u0e31\\u0e27\", \"\\u0e40\\u0e25\\u0e34\\u0e01\\u0e43\\u0e0a\\u0e49\", \"\\u0e2d\\u0e32\\u0e17\\u0e34\\u0e15\\u0e22\\u0e4c\", \"\\u0e19\\u0e48\\u0e32\\u0e40\\u0e1a\\u0e37\\u0e48\\u0e2d\", \"\\u0e01\\u0e21\", \"\\u0e41\\u0e04\\u0e21\\u0e40\\u0e1b\\u0e0d\", \"\\u0e1b\\u0e13\", \"\\u0e2d\\u0e19\\u0e38\\u0e21\\u0e31\\u0e15\\u0e34\", \"\\u0e41\\u0e2b\\u0e27\\u0e19\", \"\\u0e40\\u0e2b\\u0e21\\u0e37\\u0e2d\\u0e19\\u0e40\\u0e14\\u0e34\\u0e21\", \"\\u0e25\\u0e07\\u0e21\\u0e32\", \"\\u0e2b\\u0e25\\u0e48\\u0e2d\\u0e19\", \"\\u0e0a\\u0e19\\u0e0a\\u0e31\\u0e49\\u0e19\", \"\\u0e41\\u0e1a\\u0e48\\u0e07\", \"\\u0e01\\u0e34\\u0e42\\u0e25\", \"\\u0e01\\u0e23\\u0e13\\u0e35\", \"\\u0e2a\\u0e02\\u0e04\", \"\\u0e2a\\u0e32\\u0e23\\u0e30\\u0e41\\u0e19\", \"\\u0e1b\\u0e27\\u0e14\\u0e2b\\u0e31\\u0e27\", \"\\u0e15\\u0e32\\u0e22\", \"\\u0e01\\u0e4a\\u0e2d\", \"\\u0e1e\\u0e2d\\u0e44\\u0e14\\u0e49\", \"\\u0e40\\u0e2b\\u0e2d\\u0e30\", \"\\u0e0b\\u0e49\\u0e33\\u0e46\", \"\\u0e41\\u0e17\\u0e19\\u0e17\\u0e35\\u0e48\", \"\\u0e1b\\u0e23\\u0e30\\u0e40\\u0e17\\u0e28\", \"\\u0e41\\u0e1e\\u0e25\\u0e15\\u0e1f\\u0e2d\\u0e23\\u0e4c\\u0e21\", \"\\u0e40\\u0e01\\u0e23\\u0e14\", \"\\u0e13\\u0e14\\u0e25\", \"\\u0e01\\u0e32\\u0e23\\u0e08\\u0e31\\u0e14\\u0e2a\\u0e48\\u0e07\", \"\\u0e40\\u0e23\\u0e48\\u0e07\", \"\\u0e40\\u0e25\\u0e37\\u0e2d\\u0e01\", \"\\u0e14\\u0e48\\u0e32\", \"\\u0e04\\u0e27\\u0e22\", \"\\u0e2d\\u0e35\\u0e01\\u0e41\\u0e25\\u0e49\\u0e27\", \"\\u0e02\\u0e19\\u0e2a\\u0e48\\u0e07\", \"\\u0e42\\u0e21\\u0e42\\u0e2b\", \"\\u0e1f\\u0e23\\u0e35\", \"express\", \"\\u0e02\\u0e31\\u0e49\\u0e19\\u0e15\\u0e48\\u0e33\", \"\\u0e01\\u0e25\\u0e31\\u0e1a\\u0e21\\u0e32\", \"\\u0e1a\\u0e23\\u0e34\\u0e01\\u0e32\\u0e23\", \"\\u0e25\\u0e39\\u0e01\\u0e04\\u0e49\\u0e32\", \"shoppee\", \"\\u0e44\\u0e21\\u0e48\\u0e44\\u0e14\\u0e49\", \"\\u0e19\\u0e32\\u0e17\\u0e35\", \"\\u0e2b\\u0e31\\u0e01\", \"\\u0e42\\u0e04\\u0e49\\u0e14\", \"\\u0e1e\\u0e37\\u0e49\\u0e19\\u0e17\\u0e35\\u0e48\", \"\\u0e23\\u0e30\\u0e1a\\u0e1a\", \"\\u0e42\\u0e17\\u0e23\", \"\\u0e1a\\u0e49\\u0e32\\u0e19\", \"\\u0e2a\\u0e31\\u0e48\\u0e07\", \"\\u0e04\\u0e48\\u0e32\", \"\\u0e40\\u0e08\\u0e49\\u0e32\", \"\\u0e14\\u0e35\", \"\\u0e23\\u0e39\\u0e49\", \"\\u0e04\\u0e19\", \"\\u0e41\\u0e1e\\u0e07\", \"\\u0e19\\u0e34\\u0e19\\u0e08\\u0e32\", \"\\u0e08\\u0e31\\u0e14\\u0e2a\\u0e48\\u0e07\", \"\\u0e1a\\u0e32\\u0e17\", \"\\u0e01\\u0e14\", \"\\u0e23\\u0e49\\u0e32\\u0e19\", \"\\u0e02\\u0e32\\u0e22\", \"\\u0e16\\u0e32\\u0e21\", \"\\u0e41\\u0e21\\u0e48\", \"\\u0e23\\u0e32\\u0e04\\u0e32\", \"\\u0e1a\\u0e23\\u0e34\\u0e29\\u0e31\\u0e17\", \"\\u0e0b\\u0e37\\u0e49\\u0e2d\", \"\\u0e23\\u0e2d\", \"\\u0e40\\u0e07\\u0e34\\u0e19\", \"\\u0e40\\u0e08\\u0e2d\", \"\\u0e41\\u0e07\", \"\\u0e27\\u0e48\\u0e32\\u0e07\", \"\\u0e15\\u0e34\", \"\\u0e25\\u0e32\\u0e22\", \"\\u0e25\\u0e48\\u0e32\", \"\\u0e41\\u0e1f\\u0e49\\u0e21\", \"\\u0e14\\u0e35\\u0e44\\u0e0b\\u0e19\\u0e4c\", \"\\u0e2a\\u0e34\\u0e17\\u0e18\\u0e34\\u0e4c\", \"\\u0e40\\u0e2a\\u0e35\\u0e22\\u0e14\\u0e32\\u0e22\", \"\\u0e42\\u0e19\", \"\\u0e40\\u0e01\\u0e35\\u0e22\", \"\\u0e2b\\u0e49\\u0e32\\u0e21\", \"\\u0e0a\\u0e27\\u0e19\", \"\\u0e08\\u0e2d\", \"\\u0e2b\\u0e32\\u0e23\", \"\\u0e41\\u0e21\\u0e2a\", \"\\u0e23\\u0e49\\u0e32\", \"\\u0e01\\u0e25\", \"\\u0e28\\u0e31\\u0e1e\\u0e17\\u0e4c\", \"\\u0e2d\\u0e27\\u0e22\", \"\\u0e2d\\u0e2a\", \"\\u0e1d\\u0e31\\u0e48\\u0e07\", \"\\u0e42\\u0e0b\\u0e14\\u0e32\", \"\\u0e42\\u0e1b\\u0e23\\u0e42\\u0e21\\u0e0a\\u0e31\\u0e48\\u0e19\", \"\\u0e21\\u0e2d\\u0e25\\u0e25\\u0e4c\", \"\\u0e19\\u0e19\", \"\\u0e0a\\u0e31\\u0e01\\u0e42\\u0e04\\u0e23\\u0e01\", \"\\u0e14\\u0e37\\u0e48\\u0e21\", \"\\u0e40\\u0e1e\\u0e25\\u0e34\\u0e19\", \"\\u0e08\\u0e34\\u0e49\\u0e07\", \"\\u0e17\\u0e27\\u0e34\\u0e15\", \"\\u0e17\\u0e35\\u0e48\\u0e19\\u0e35\\u0e48\", \"\\u0e23\\u0e35\", \"\\u0e0b\\u0e37\\u0e49\\u0e2d\", \"\\u0e0a\\u0e2d\\u0e1a\", \"\\u0e41\\u0e0a\\u0e17\", \"\\u0e40\\u0e17\\u0e35\\u0e48\\u0e22\\u0e07\\u0e04\\u0e37\\u0e19\", \"\\u0e41\\u0e1c\\u0e48\\u0e19\", \"\\u0e01\\u0e14\", \"\\u0e04\\u0e37\\u0e19\", \"\\u0e04\\u0e35\\u0e22\\u0e4c\\u0e1a\\u0e2d\\u0e23\\u0e4c\\u0e14\", \"\\u0e40\\u0e07\\u0e34\\u0e19\", \"\\u0e40\\u0e14\\u0e47\\u0e14\", \"\\u0e2b\\u0e32\", \"\\u0e2b\\u0e49\\u0e2d\\u0e07\", \"shoppee\", \"\\u0e04\\u0e38\\u0e49\\u0e21\", \"\\u0e42\\u0e04\\u0e49\\u0e14\", \"\\u0e41\\u0e21\\u0e48\", \"\\u0e25\\u0e2d\\u0e07\", \"\\u0e25\\u0e1a\", \"\\u0e40\\u0e04\\u0e2a\", \"\\u0e19\\u0e21\", \"\\u0e1e\\u0e31\\u0e19\", \"\\u0e19\\u0e49\\u0e2d\\u0e07\", \"\\u0e19\\u0e49\\u0e32\", \"\\u0e2a\\u0e31\\u0e48\\u0e07\", \"\\u0e08\\u0e48\\u0e32\\u0e22\", \"\\u0e19\\u0e48\\u0e32\\u0e23\\u0e31\\u0e01\", \"\\u0e04\\u0e48\\u0e32\", \"\\u0e1e\\u0e35\\u0e48\", \"\\u0e25\\u0e14\", \"\\u0e02\\u0e19\\u0e32\\u0e14\", \"\\u0e23\\u0e49\\u0e32\\u0e19\", \"\\u0e14\\u0e35\", \"\\u0e1a\\u0e32\\u0e17\", \"\\u0e17\\u0e33\", \"\\u0e42\\u0e14\\u0e19\", \"\\u0e41\\u0e1a\\u0e1a\\u0e19\\u0e35\\u0e49\", \"\\u0e15\\u0e2d\\u0e19\", \"\\u0e23\\u0e32\\u0e04\\u0e32\", \"\\u0e40\\u0e08\\u0e2d\", \"\\u0e44\\u0e21\\u0e48\\u0e44\\u0e14\\u0e49\", \"\\u0e04\\u0e19\", \"\\u0e23\\u0e2d\", \"\\u0e23\\u0e30\\u0e1a\\u0e1a\", \"\\u0e25\\u0e39\\u0e01\\u0e04\\u0e49\\u0e32\", \"\\u0e1f\\u0e23\\u0e35\", \"\\u0e43\\u0e2a\\u0e48\", \"\\u0e02\\u0e19\\u0e2a\\u0e48\\u0e07\", \"\\u0e14\\u0e39\", \"\\u0e07\\u0e07\", \"\\u0e2a\\u0e44\\u0e15\\u0e25\\u0e4c\", \"\\u0e40\\u0e25\\u0e47\\u0e1a\", \"\\u0e22\\u0e35\\u0e19\\u0e2a\\u0e4c\", \"\\u0e0a\\u0e49\\u0e2d\\u0e1b\\u0e1b\\u0e34\\u0e49\\u0e07\", \"\\u0e02\\u0e2d\\u0e07\\u0e41\\u0e17\\u0e49\", \"\\u0e08\\u0e38\\u0e01\", \"\\u0e2b\\u0e25\\u0e38\\u0e14\", \"\\u0e01\\u0e31\\u0e19\\u0e41\\u0e14\\u0e14\", \"\\u0e2b\\u0e19\\u0e32\", \"\\u0e41\\u0e23\\u0e01\\u0e40\\u0e2b\\u0e47\\u0e19\", \"\\u0e2a\\u0e30\\u0e2a\\u0e21\", \"\\u0e2b\\u0e19\\u0e31\\u0e07\\u0e2a\\u0e37\\u0e2d\", \"\\u0e02\\u0e27\\u0e14\", \"\\u0e40\\u0e2b\\u0e19\\u0e35\\u0e22\\u0e27\", \"\\u0e42\\u0e15\\u0e4a\\u0e30\", \"\\u0e41\\u0e1f\\u0e23\\u0e4c\", \"\\u0e40\\u0e01\\u0e32\\u0e2b\\u0e25\\u0e35\", \"\\u0e41\\u0e04\\u0e23\\u0e4c\", \"\\u0e01\\u0e32\\u0e27\", \"\\u0e23\\u0e2d\\u0e07\\u0e40\\u0e17\\u0e49\\u0e32\", \"\\u0e27\\u0e31\\u0e15\\u0e2a\\u0e31\\u0e19\", \"\\u0e21\\u0e32\\u0e2a\", \"\\u0e1c\\u0e49\\u0e32\", \"\\u0e41\\u0e0a\\u0e23\\u0e4c\", \"\\u0e19\\u0e38\\u0e48\\u0e21\", \"\\u0e16\\u0e48\\u0e32\\u0e22\\u0e23\\u0e39\\u0e1b\", \"\\u0e1c\\u0e49\\u0e32\\u0e2b\\u0e48\\u0e21\", \"\\u0e22\\u0e32\\u0e07\", \"\\u0e15\\u0e4a\\u0e2d\\u0e01\", \"\\u0e42\\u0e1e\\u0e2a\", \"\\u0e40\\u0e14\\u0e35\\u0e4b\\u0e22\\u0e27\", \"\\u0e01\\u0e32\\u0e07\\u0e40\\u0e01\\u0e07\", \"\\u0e40\\u0e2a\\u0e37\\u0e49\\u0e2d\\u0e1c\\u0e49\\u0e32\", \"\\u0e04\\u0e38\\u0e13\\u0e20\\u0e32\\u0e1e\\u0e14\\u0e35\", \"\\u0e08\\u0e35\\u0e19\", \"\\u0e23\\u0e35\\u0e27\\u0e34\\u0e27\", \"\\u0e41\\u0e1b\\u0e30\", \"\\u0e23\\u0e49\\u0e32\\u0e19\", \"\\u0e21\\u0e32\\u0e08\\u0e32\\u0e01\", \"\\u0e41\\u0e21\\u0e27\", \"\\u0e43\\u0e2a\\u0e48\", \"\\u0e2a\\u0e2d\\u0e22\", \"\\u0e41\\u0e19\\u0e30\\u0e19\\u0e33\", \"\\u0e40\\u0e2a\\u0e37\\u0e49\\u0e2d\", \"\\u0e23\\u0e32\\u0e04\\u0e32\", \"\\u0e14\\u0e32\\u0e27\", \"\\u0e2a\\u0e35\", \"\\u0e1e\\u0e34\\u0e01\\u0e31\\u0e14\", \"\\u0e02\\u0e32\\u0e22\", \"shoppee\", \"\\u0e14\\u0e35\\u0e21\\u0e32\\u0e01\", \"\\u0e2a\\u0e31\\u0e48\\u0e07\", \"\\u0e14\\u0e39\", \"\\u0e0b\\u0e37\\u0e49\\u0e2d\", \"\\u0e1c\\u0e21\", \"\\u0e14\\u0e35\", \"\\u0e1a\\u0e32\\u0e17\", \"\\u0e19\\u0e48\\u0e32\\u0e23\\u0e31\\u0e01\", \"\\u0e15\\u0e31\\u0e27\", \"\\u0e2a\\u0e27\\u0e22\", \"\\u0e04\\u0e19\", \"\\u0e25\\u0e14\", \"\\u0e04\\u0e48\\u0e32\", \"\\u0e01\\u0e14\", \"\\u0e0a\\u0e2d\\u0e1a\", \"\\u0e44\\u0e21\\u0e48\\u0e44\\u0e14\\u0e49\", \"\\u0e02\\u0e19\\u0e2a\\u0e48\\u0e07\", \"\\u0e0a\\u0e31\\u0e49\\u0e19\", \"\\u0e40\\u0e08\\u0e2d\", \"\\u0e17\\u0e33\", \"\\u0e40\\u0e07\\u0e34\\u0e19\", \"\\u0e42\\u0e04\\u0e49\\u0e14\", \"\\u0e14\\u0e49\\u0e32\", \"\\u0e19\\u0e31\\u0e14\", \"\\u0e40\\u0e17\\u0e35\\u0e22\\u0e19\", \"\\u0e40\\u0e25\\u0e02\", \"\\u0e15\\u0e35\\u0e01\\u0e25\\u0e31\\u0e1a\", \"\\u0e40\\u0e1e\\u0e25\\u0e22\\u0e4c\", \"\\u0e40\\u0e2d\\u0e32\\u0e40\\u0e1b\\u0e23\\u0e35\\u0e22\\u0e1a\", \"\\u0e25\\u0e19\", \"\\u0e0b\\u0e32\", \"\\u0e17\\u0e23\\u0e32\\u0e22\", \"\\u0e2d\\u0e19\\u0e32\\u0e21\\u0e31\\u0e22\", \"\\u0e2b\\u0e19\\u0e49\\u0e32\\u0e01\\u0e32\\u0e01\", \"\\u0e41\\u0e15\\u0e19\", \"\\u0e07\\u0e48\\u0e2d\\u0e22\", \"\\u0e1e\\u0e23\\u0e30\\u0e40\\u0e08\\u0e49\\u0e32\", \"\\u0e2a\\u0e31\\u0e48\\u0e07\\u0e25\\u0e32\", \"\\u0e42\\u0e15\\u0e4b\", \"\\u0e1b\\u0e35\\u0e49\", \"\\u0e23\\u0e31\\u0e49\\u0e27\", \"\\u0e25\\u0e49\\u0e32\\u0e19\", \"\\u0e19\\u0e34\\u0e22\\u0e32\\u0e22\", \"\\u0e40\\u0e2d\\u0e47\\u0e01\\u0e40\\u0e1e\\u0e25\\u0e2a\", \"\\u0e2b\\u0e25\\u0e31\\u0e07\\u0e04\\u0e32\", \"\\u0e40\\u0e1e\\u0e25\\u0e2a\", \"\\u0e01\\u0e32\\u0e01\", \"\\u0e01\\u0e14\\u0e01\\u0e23\\u0e34\\u0e48\\u0e07\", \"\\u0e16\\u0e36\\u0e07\\u0e17\\u0e35\\u0e48\", \"\\u0e43\\u0e2a\\u0e49\", \"\\u0e01\\u0e23\\u0e2d\\u0e07\", \"\\u0e41\\u0e2d\\u0e23\\u0e4c\", \"\\u0e25\\u0e32\", \"\\u0e43\\u0e0a\\u0e49\\u0e44\\u0e21\\u0e48\\u0e44\\u0e14\\u0e49\", \"\\u0e40\\u0e07\\u0e37\\u0e48\\u0e2d\\u0e19\\u0e44\\u0e02\", \"\\u0e2a\\u0e16\\u0e32\\u0e19\\u0e30\", \"\\u0e42\\u0e01\\u0e07\", \"\\u0e07\\u0e07\", \"\\u0e2a\\u0e34\\u0e19\\u0e04\\u0e49\\u0e32\", \"\\u0e2a\\u0e30\\u0e14\\u0e27\\u0e01\", \"\\u0e44\\u0e21\\u0e48\\u0e44\\u0e14\\u0e49\", \"shoppee\", \"\\u0e02\\u0e19\\u0e2a\\u0e48\\u0e07\", \"\\u0e41\\u0e25\\u0e49\\u0e27\\u0e01\\u0e47\", \"\\u0e41\\u0e22\\u0e48\\u0e21\\u0e32\\u0e01\", \"\\u0e23\\u0e49\\u0e32\\u0e19\", \"\\u0e23\\u0e2d\", \"\\u0e08\\u0e31\\u0e14\\u0e2a\\u0e48\\u0e07\", \"\\u0e43\\u0e0a\\u0e49\\u0e44\\u0e14\\u0e49\", \"\\u0e2a\\u0e31\\u0e48\\u0e07\", \"\\u0e04\\u0e48\\u0e32\", \"\\u0e1a\\u0e49\\u0e32\\u0e19\", \"\\u0e40\\u0e25\\u0e37\\u0e48\\u0e2d\\u0e19\", \"\\u0e25\\u0e14\", \"\\u0e41\\u0e1a\\u0e1a\\u0e19\\u0e35\\u0e49\", \"\\u0e42\\u0e04\\u0e49\\u0e14\", \"\\u0e25\\u0e39\\u0e01\\u0e04\\u0e49\\u0e32\", \"\\u0e42\\u0e17\\u0e23\", \"\\u0e0b\\u0e37\\u0e49\\u0e2d\", \"\\u0e40\\u0e23\\u0e37\\u0e48\\u0e2d\\u0e07\", \"\\u0e27\\u0e31\\u0e19\\u0e17\\u0e35\\u0e48\", \"\\u0e1a\\u0e32\\u0e17\", \"\\u0e23\\u0e32\\u0e04\\u0e32\", \"\\u0e40\\u0e25\\u0e37\\u0e2d\\u0e01\", \"\\u0e01\\u0e14\", \"\\u0e40\\u0e08\\u0e2d\", \"\\u0e14\\u0e35\", \"\\u0e04\\u0e19\", \"\\u0e15\\u0e2d\\u0e19\", \"\\u0e1a\\u0e23\\u0e34\\u0e29\\u0e31\\u0e17\", \"\\u0e02\\u0e32\\u0e22\", \"\\u0e1f\\u0e23\\u0e35\", \"\\u0e41\\u0e1e\\u0e07\", \"\\u0e27\\u0e34\\u0e01\", \"\\u0e2d\\u0e31\\u0e48\\u0e07\\u0e40\\u0e1b\\u0e32\", \"\\u0e41\\u0e17\\u0e49\\u0e46\", \"\\u0e40\\u0e25\\u0e35\\u0e49\\u0e22\\u0e07\", \"\\u0e04\\u0e27\\u0e32\\u0e21\\u0e2a\\u0e31\\u0e21\\u0e1e\\u0e31\\u0e19\\u0e18\\u0e4c\", \"\\u0e04\\u0e25\\u0e35\\u0e19\\u0e34\\u0e01\", \"\\u0e01\\u0e25\\u0e32\\u0e22\\u0e40\\u0e1b\\u0e47\\u0e19\", \"\\u0e2d\\u0e14\", \"\\u0e42\\u0e07\\u0e48\", \"\\u0e2d\\u0e1a\", \"\\u0e04\\u0e27\\u0e32\\u0e21\\u0e40\\u0e2a\\u0e35\\u0e48\\u0e22\\u0e07\", \"\\u0e41\\u0e01\\u0e49\\u0e1b\\u0e31\\u0e0d\\u0e2b\\u0e32\", \"\\u0e19\\u0e2d\\u0e01\\u0e23\\u0e2d\\u0e1a\", \"\\u0e1c\\u0e35\", \"\\u0e2b\\u0e19\\u0e48\\u0e27\\u0e22\\u0e07\\u0e32\\u0e19\", \"\\u0e40\\u0e1b\\u0e47\\u0e19\\u0e18\\u0e23\\u0e23\\u0e21\", \"\\u0e2a\\u0e38\\u0e20\\u0e32\\u0e1e\", \"\\u0e04\\u0e27\\u0e32\\u0e21\\u0e23\\u0e39\\u0e49\\u0e2a\\u0e36\\u0e01\", \"\\u0e40\\u0e25\\u0e34\\u0e49\\u0e1f\", \"\\u0e15\\u0e32\\u0e1a\\u0e2d\\u0e14\", \"\\u0e40\\u0e2e\\u0e07\\u0e0b\\u0e27\\u0e22\", \"\\u0e44\\u0e1b\\u0e19\\u0e2d\\u0e01\", \"\\u0e40\\u0e28\\u0e23\\u0e49\\u0e32\", \"514\", \"\\u0e1e\\u0e49\\u0e21\", \"\\u0e0a\\u0e49\\u0e2d\\u0e07\", \"\\u0e2a\\u0e15\\u0e47\\u0e2d\\u0e01\", \"\\u0e1b\\u0e32\\u0e19\\u0e19\\u0e35\\u0e49\", \"\\u0e42\\u0e25\", \"\\u0e01\\u0e2d\", \"\\u0e1c\\u0e39\\u0e49\\u0e23\\u0e31\\u0e1a\", \"shoppee\", \"\\u0e41\\u0e2d\\u0e1e\", \"\\u0e40\\u0e25\\u0e37\\u0e48\\u0e2d\\u0e19\", \"\\u0e41\\u0e08\\u0e01\", \"\\u0e2a\\u0e34\\u0e19\\u0e04\\u0e49\\u0e32\", \"dhl\", \"\\u0e44\\u0e2b\\u0e21\", \"\\u0e23\\u0e49\\u0e32\\u0e19\\u0e04\\u0e49\\u0e32\", \"\\u0e41\\u0e2d\", \"\\u0e40\\u0e25\\u0e34\\u0e01\", \"coins\", \"\\u0e02\\u0e19\\u0e2a\\u0e48\\u0e07\", \"\\u0e23\\u0e49\\u0e32\\u0e19\", \"\\u0e41\\u0e21\\u0e48\\u0e04\\u0e49\\u0e32\", \"\\u0e02\\u0e32\\u0e22\", \"\\u0e04\\u0e48\\u0e32\", \"\\u0e25\\u0e14\", \"\\u0e41\\u0e08\\u0e49\\u0e07\", \"\\u0e2a\\u0e31\\u0e48\\u0e07\", \"\\u0e0b\\u0e37\\u0e49\\u0e2d\", \"\\u0e04\\u0e19\", \"\\u0e25\\u0e39\\u0e01\\u0e04\\u0e49\\u0e32\", \"\\u0e01\\u0e14\", \"\\u0e14\\u0e35\", \"\\u0e40\\u0e07\\u0e34\\u0e19\", \"\\u0e42\\u0e04\\u0e49\\u0e14\", \"\\u0e15\\u0e31\\u0e27\", \"\\u0e44\\u0e21\\u0e48\\u0e44\\u0e14\\u0e49\", \"\\u0e44\\u0e2b\\u0e27\", \"\\u0e1a\\u0e32\\u0e17\", \"\\u0e40\\u0e2b\\u0e21\\u0e37\\u0e2d\\u0e19\", \"\\u0e42\\u0e17\\u0e23\", \"\\u0e23\\u0e32\\u0e04\\u0e32\", \"\\u0e1f\\u0e23\\u0e35\", \"\\u0e40\\u0e25\\u0e37\\u0e2d\\u0e01\", \"\\u0e40\\u0e08\\u0e2d\", \"\\u0e23\\u0e30\\u0e1a\\u0e1a\"], \"Freq\": [860.0, 211.0, 220.0, 145.0, 204.0, 137.0, 52.0, 75.0, 138.0, 236.0, 123.0, 85.0, 142.0, 68.0, 34.0, 25.0, 99.0, 77.0, 99.0, 24.0, 27.0, 50.0, 82.0, 52.0, 32.0, 119.0, 64.0, 20.0, 21.0, 45.0, 4.41083271179934, 4.418068522326783, 3.697267744487375, 2.9691947374092704, 3.7119245135710837, 2.9975371882630784, 2.9999993281032227, 2.2542296468691903, 4.410682807684633, 2.254354410325161, 2.2544620217429285, 2.254947682879447, 2.2549831617529903, 2.2521864396881717, 2.259888644679083, 2.261321192308185, 16.774048633984364, 2.261630398914696, 3.0315369922107878, 2.257681200858284, 2.255717175004313, 3.001259650472011, 2.2932152898671765, 2.2901951213868625, 2.3023636701339814, 2.303401250965557, 1.547435740337192, 1.5474641704279122, 1.5475115147525413, 1.5475332484995796, 109.20208933195032, 11.94906656708328, 10.489196915921003, 11.302067250281066, 128.29538112133596, 9.013673327864959, 61.23446057432122, 15.668850238542806, 5.213273667094197, 7.658962118047739, 8.934474143901186, 42.873828669956175, 298.04819157505534, 62.727013081840404, 5.25753250452222, 20.974384484172166, 59.76888892777383, 4.574363533459889, 26.18562669205672, 28.689173902017366, 20.455454972403544, 80.1677731887515, 52.04937776527479, 11.211499789380035, 43.89015789123823, 21.98537730693821, 30.865544808456328, 21.52478728116524, 9.607904516614981, 13.756309634149991, 29.69922688707365, 32.45915994458144, 45.80409603430546, 23.120250138227735, 15.394573640352675, 20.203664931257133, 24.669450423865, 17.32649463815845, 32.10806289167093, 18.020609899026358, 18.953635665066123, 16.383393811870057, 4.122221429555736, 3.4524228886706805, 2.785730437854349, 4.184366863171452, 2.1229034081369496, 2.1229853461537296, 2.1251544759691066, 2.118457641179215, 2.1327336456678245, 2.1378374349494416, 2.1398318411451123, 2.142365721044643, 2.1473215182581273, 2.140183419160375, 2.149372486867273, 2.153005265984756, 2.1558901427788624, 1.4571958600305916, 1.4572173614959878, 1.4572210419270015, 1.4572426402458456, 1.4572616235216007, 1.457264044857794, 1.4572743113232536, 1.4572761515387604, 1.4572869022714585, 1.4572951348145156, 1.4572976530041566, 1.4573387188659945, 1.4573467577021562, 5.628194138665223, 2.170893322953034, 7.771952224874442, 94.20116332907712, 33.31332756697092, 3.627917461820799, 6.811131156144717, 4.186184221264671, 55.35319275601784, 19.177741981708778, 2.1684361509841064, 35.63896945457016, 2.6600189242516006, 18.57762097336256, 5.977845545145405, 245.43165743232373, 12.820828700938423, 48.7185952168105, 25.82527449256745, 11.491599587040987, 6.785225570773291, 7.437346032964748, 4.418773901852038, 6.880482098857808, 8.970543083989963, 12.263263547869911, 57.85808635571157, 13.683901396080415, 12.100886030852855, 35.8229476149139, 12.333042970235761, 20.733744532950453, 13.072374925729433, 43.54138327353785, 27.91455212701436, 24.03493308747239, 16.298857704120145, 12.655780353246746, 13.152248801831567, 14.513792874857455, 21.38421538722016, 15.81636017166358, 24.47907820428276, 18.53859445772016, 15.714975532234249, 15.044721780144858, 17.385409269728374, 17.636005555904042, 14.314955071149072, 18.13167050828649, 13.753815638445507, 13.519754172866426, 5.167518508322784, 3.24345105624556, 4.548666837949739, 2.6211854220415707, 2.643207336547934, 3.2743962362372643, 2.6497874045737198, 1.9961745352870732, 3.3185451985146606, 1.996487227103056, 2.00376818355998, 2.0052825804497143, 2.010263985681204, 2.012209747541739, 2.0125764396254846, 2.010742819913932, 8.465293515351965, 2.681797616395103, 2.022166982755834, 3.352642783518234, 2.0283104291475857, 2.6796630925366367, 10.41971453386788, 2.04597345478357, 3.9630898458449804, 2.038357027636651, 1.3703281576640938, 1.3703458391676975, 1.3704904770530324, 1.3704968487660427, 7.846161171020813, 7.226564328811208, 13.755218365145232, 3.3315183247893785, 8.549833403573254, 22.811382491770953, 8.164720697514843, 85.19058284601796, 16.65116702571856, 5.451190357399958, 24.20228921165174, 4.084198587960907, 10.521402613313919, 7.639216215671642, 37.08291350557066, 4.12564785543582, 14.04704536970435, 8.02701205007871, 28.139882966471465, 168.3971773764668, 16.42147696643635, 55.93286948717798, 19.32448930805295, 49.843316318410345, 10.412892340747703, 31.0994442610549, 25.244245245493044, 11.230156924163413, 14.720865489632013, 9.427016938966972, 17.841083156058346, 15.629562243232307, 19.382349559557312, 17.37780100044639, 13.537767092213299, 16.405185770611496, 17.84217654201092, 10.732603872954003, 11.892031356539276, 10.888355300121539, 10.933436444012349, 11.052101952774459, 7.616703537315314, 3.885031695932292, 2.8151768053486914, 2.81944296678657, 2.2717696059950607, 1.7256115300323291, 3.1568287159544166, 1.7384872949954975, 8.054632310137697, 1.1688940867149582, 1.1689129575712396, 1.1689354228763362, 1.1689392419782028, 1.1690481987079222, 1.1691309833572037, 1.1681516083815096, 1.1730443271785373, 1.1769924922227708, 1.1778621241830671, 1.18109746509658, 1.1826289249450275, 1.1831370901463165, 1.1835626953513751, 1.1839451671706478, 1.1841552177733026, 1.1858861695310094, 1.1870998576388632, 1.1874390837458244, 1.1897792945777559, 1.1897045974383091, 7.722917702588481, 6.775306871076804, 2.9503083113424333, 7.1084992463952865, 3.6437062434399694, 16.49824508774071, 14.966779847620007, 5.243204514903557, 29.954270909314836, 107.8223001065222, 38.37625139533406, 7.1495685199488115, 4.457287716825952, 36.224200972771094, 14.03619322431067, 8.551283593258654, 6.77824218784075, 34.34502313203566, 23.49813941109443, 10.266718115429091, 7.365678015388305, 12.713765850891095, 8.872158241792572, 18.49437910403439, 13.578658530424224, 11.346170633656138, 20.867964393217722, 7.636153099855902, 7.4298119683785915, 13.01922660429201, 12.813785882242978, 14.46801862304436, 13.364167884870007, 9.350778871042856, 11.754198984006912, 10.426783414243648, 8.428374111849765, 8.312254544253326, 8.748032039459641, 8.546935208804122, 8.061829295278502, 0.8693095672622242, 0.8746865112026058, 0.5969937504407703, 0.597117192020728, 0.5971814599007239, 0.5979209650356797, 0.5990425705875441, 0.6054547035909499, 0.6076218342232991, 0.6093925047573392, 0.32158764897034603, 0.3215931122938609, 0.32159625001344716, 0.3215967668143202, 0.3216044080843714, 0.3216072874035211, 0.32161736502054517, 0.3216181033075066, 0.3216252646910329, 0.3216255600058175, 0.32162995281323825, 0.32163002664193435, 0.3216313924728131, 0.3216319831023823, 0.32163844311329515, 0.32163925522895276, 0.3216396243724335, 0.32164054723113533, 0.3216404364880911, 0.32164324197854466, 0.9731274059553536, 41.22300968075107, 3.2230156507921732, 3.2695176886620687, 3.250586239081286, 4.547530514572794, 0.6686452383383361, 2.4332638864978904, 2.5995559370140406, 2.454055376249399, 2.447321608531229, 1.0878364539040795, 9.302620072345247, 9.317957540997597, 2.077405141347876, 4.854287270489403, 6.775899097228008, 4.273437345720299, 2.508594553639243, 8.470723049198092, 7.3201748765554875, 4.406931440945349, 4.493164834618896, 5.180134355340902, 4.733595366491017, 3.849092148876538, 4.875129111411684, 2.8431330479159445, 4.471280237192236, 1.792012195235307, 3.701224197141249, 2.4234762685922986, 2.9491472164907493, 3.364109967313373, 3.3524098908627904, 3.1506068281295323, 2.61377209542931, 2.5613052895403112], \"Total\": [860.0, 211.0, 220.0, 145.0, 204.0, 137.0, 52.0, 75.0, 138.0, 236.0, 123.0, 85.0, 142.0, 68.0, 34.0, 25.0, 99.0, 77.0, 99.0, 24.0, 27.0, 50.0, 82.0, 52.0, 32.0, 119.0, 64.0, 20.0, 21.0, 45.0, 5.175771894837806, 5.204299402294095, 4.385597949706102, 3.5526792995594842, 4.447049621280128, 3.6664930642629434, 3.676350758996529, 2.7728313879243087, 5.42559358283771, 2.7733272633057804, 2.773755937581651, 2.775689708213858, 2.775830262202102, 2.774175918894417, 2.7953785893719125, 2.8010950629838294, 20.8672519909727, 2.8180330555101905, 3.808021355922595, 2.8366172275056925, 2.835934883856872, 3.7835879243004085, 2.9296125407116222, 2.9282543798592013, 2.966525482644461, 2.9956666975906123, 2.0256069122287426, 2.0257201197190664, 2.0259086745480066, 2.0259958190810896, 145.6349719944786, 15.668021706374432, 13.93227454832935, 15.837416089155571, 211.94809963931266, 12.598277947661986, 99.04948336465537, 23.481234051924375, 7.151285752918023, 11.228934068354711, 13.509967732023437, 85.89960056817463, 860.922336171119, 138.03682820324175, 7.510634303580363, 39.185863059081846, 142.90909431280488, 6.46135801848439, 55.94158014323038, 62.75022414862744, 41.876129521389174, 236.7744752128748, 137.52871344806846, 20.16837245658944, 119.39194862980543, 49.35338177357252, 82.07893727742382, 50.64509605863686, 17.37156872275957, 29.777347192805085, 95.69885602147234, 123.73445594125656, 220.07822066762998, 75.79504024552543, 38.35403675835091, 64.76071200913208, 99.31447516621218, 48.93265040098733, 204.3406818089316, 59.532362211706584, 77.28135931858134, 56.056336306545084, 4.7832775022253005, 4.123097328134572, 3.347029406896801, 5.051274330365676, 2.6518853798513797, 2.6522327189039823, 2.661406451082539, 2.6574567144312016, 2.6935259539666805, 2.71525446284311, 2.7237284306440217, 2.7346240949415384, 2.75564266680578, 2.749098567391285, 2.7646234646844343, 2.780771200553838, 2.791903282442794, 1.944601483984489, 1.9446925199864762, 1.9447084484289467, 1.94479972355773, 1.9448801525669817, 1.944890200313985, 1.944933229141704, 1.9449413808010916, 1.9449866325613385, 1.9450211937891613, 1.945032132470129, 1.945206540313281, 1.9452402122204255, 7.8348876643392735, 2.9538471583843386, 12.22708743651991, 204.3406818089316, 64.29879802158187, 5.37818065728781, 11.039150977182016, 6.390609035421384, 123.73445594125656, 36.72826878595506, 3.0572112864924796, 77.28135931858134, 3.8898274918737576, 38.122088918154304, 10.067876232056504, 860.922336171119, 25.41878117220583, 142.90909431280488, 64.76071200913208, 23.28656145048276, 12.06937927761344, 14.03695452377015, 7.090522883811193, 12.884821354312193, 18.438100690719356, 28.4995463270526, 236.7744752128748, 33.2662027864034, 28.931940042419935, 137.52871344806846, 30.32635530394641, 68.22975086029346, 34.40375923034618, 220.07822066762998, 119.39194862980543, 95.69885602147234, 51.81859115376207, 34.8096883670018, 37.979571113986225, 45.511817498233604, 99.31447516621218, 56.056336306545084, 138.03682820324175, 82.07893727742382, 59.532362211706584, 55.94158014323038, 85.89960056817463, 99.04948336465537, 52.919628342317, 211.94809963931266, 53.22083978602172, 50.11541022592102, 6.06451494189274, 3.849988711416155, 5.4290423841530355, 3.2361616768059993, 3.303467033060862, 4.102959971856983, 3.3275429335601427, 2.5344994162441545, 4.214506642498925, 2.5359051821490226, 2.571433746579922, 2.575528161295305, 2.5980160504166783, 2.6069097153484093, 2.6085493946264915, 2.6066437759350713, 10.986651308069343, 3.5108483778961364, 2.6521394431388305, 4.397144253710501, 2.680188435019673, 3.5656632456986928, 13.918634606824934, 2.7626046679070004, 5.373202777609492, 2.7695881738400487, 1.8668774849343976, 1.8669567530048101, 1.8676073303734009, 1.8676356981930677, 10.871904425934726, 10.082174791438725, 19.47180233124507, 4.587175197913909, 12.115999557409737, 34.84216790827084, 13.228332791535614, 220.07822066762998, 32.12912244214344, 8.614597983927437, 52.919628342317, 6.135102017837205, 19.86925327916641, 13.594215557314795, 99.31447516621218, 6.323055529398764, 29.85366255326034, 14.74114988748057, 75.79504024552543, 860.922336171119, 40.41902397336502, 236.7744752128748, 53.22083978602172, 204.3406818089316, 22.88059578288345, 119.39194862980543, 95.69885602147234, 28.931940042419935, 45.63188780848947, 23.84105973551289, 82.07893727742382, 68.22975086029346, 137.52871344806846, 123.73445594125656, 64.29879802158187, 138.03682820324175, 211.94809963931266, 36.54623990520064, 56.056336306545084, 51.81859115376207, 77.28135931858134, 142.90909431280488, 9.186411308619055, 4.899020935714528, 3.662193541901881, 3.685505041466739, 3.028729234680834, 2.385944599445364, 4.3723063520622665, 2.456985035482389, 11.492076568713804, 1.6865629530977015, 1.6866623720583207, 1.6867806943854322, 1.6868010753792886, 1.6873765322633236, 1.6878126019075514, 1.6916170011366403, 1.7084728181336455, 1.729383919352489, 1.7340102669764559, 1.7512472119145166, 1.759447172419708, 1.7621989416148132, 1.7644837198802588, 1.7665514679106005, 1.7676837734977577, 1.7770429398057754, 1.7830164903722077, 1.7847922037296233, 1.7975072199077193, 1.7979757871420459, 12.34255439258515, 11.084243267964716, 5.060740354195945, 14.81760776011966, 7.352936974038578, 50.11541022592102, 52.79000517586386, 13.026865670893303, 138.03682820324175, 860.922336171119, 211.94809963931266, 21.037002693650827, 11.003263481865092, 220.07822066762998, 59.532362211706584, 29.777347192805085, 21.267834705357156, 236.7744752128748, 137.52871344806846, 41.876129521389174, 25.651499876560656, 68.22975086029346, 37.979571113986225, 142.90909431280488, 85.89960056817463, 62.75022414862744, 204.3406818089316, 29.859797464600327, 28.385110664448348, 95.69885602147234, 99.31447516621218, 145.6349719944786, 123.73445594125656, 56.056336306545084, 119.39194862980543, 82.07893727742382, 45.511817498233604, 48.93265040098733, 75.79504024552543, 99.04948336465537, 50.64509605863686, 1.5011492854304593, 1.548313268085062, 1.1746466181478858, 1.176080562586904, 1.1765857147294196, 1.1842283525965158, 1.195837006183424, 1.2629943620705142, 1.2876625625629066, 1.3042790341868649, 0.8248628492854653, 0.8249191366949964, 0.8249516764185582, 0.8249564893416788, 0.8250355997050265, 0.8250657409889157, 0.8251702972470637, 0.8251774716957297, 0.8252512824814571, 0.8252548622462501, 0.8253000875403799, 0.8253005053540872, 0.82531491907727, 0.8253210116998334, 0.8253874744269809, 0.8253961186122039, 0.8253997949140133, 0.825409565094062, 0.8254177125581372, 0.8254374474625897, 3.6100454144053904, 860.922336171119, 24.47563425773388, 25.651499876560656, 27.46985434098618, 52.79000517586386, 2.606705247777187, 20.805536886261187, 23.317849718049374, 21.790151164667247, 21.9299287449813, 6.0159827406979804, 211.94809963931266, 220.07822066762998, 18.362844934375943, 75.79504024552543, 137.52871344806846, 68.22975086029346, 27.843799135597262, 236.7744752128748, 204.3406818089316, 82.07893727742382, 85.89960056817463, 123.73445594125656, 119.39194862980543, 77.28135931858134, 142.90909431280488, 45.63188780848947, 138.03682820324175, 16.030582098989157, 95.69885602147234, 33.51536385138002, 62.75022414862744, 99.31447516621218, 99.04948336465537, 145.6349719944786, 56.056336306545084, 55.94158014323038], \"Category\": [\"Default\", \"Default\", \"Default\", \"Default\", \"Default\", \"Default\", \"Default\", \"Default\", \"Default\", \"Default\", \"Default\", \"Default\", \"Default\", \"Default\", \"Default\", \"Default\", \"Default\", \"Default\", \"Default\", \"Default\", \"Default\", \"Default\", \"Default\", \"Default\", \"Default\", \"Default\", \"Default\", \"Default\", \"Default\", \"Default\", \"Topic1\", \"Topic1\", \"Topic1\", \"Topic1\", \"Topic1\", \"Topic1\", \"Topic1\", \"Topic1\", \"Topic1\", \"Topic1\", \"Topic1\", \"Topic1\", \"Topic1\", \"Topic1\", \"Topic1\", \"Topic1\", \"Topic1\", \"Topic1\", \"Topic1\", \"Topic1\", \"Topic1\", \"Topic1\", \"Topic1\", \"Topic1\", \"Topic1\", \"Topic1\", \"Topic1\", \"Topic1\", \"Topic1\", \"Topic1\", \"Topic1\", \"Topic1\", \"Topic1\", \"Topic1\", \"Topic1\", \"Topic1\", \"Topic1\", \"Topic1\", \"Topic1\", \"Topic1\", \"Topic1\", \"Topic1\", \"Topic1\", \"Topic1\", \"Topic1\", \"Topic1\", \"Topic1\", \"Topic1\", \"Topic1\", \"Topic1\", \"Topic1\", \"Topic1\", \"Topic1\", \"Topic1\", \"Topic1\", \"Topic1\", \"Topic1\", \"Topic1\", \"Topic1\", \"Topic1\", \"Topic1\", \"Topic1\", \"Topic1\", \"Topic1\", \"Topic1\", \"Topic1\", \"Topic1\", \"Topic1\", \"Topic1\", \"Topic1\", \"Topic1\", \"Topic1\", \"Topic2\", \"Topic2\", \"Topic2\", \"Topic2\", \"Topic2\", \"Topic2\", \"Topic2\", \"Topic2\", \"Topic2\", \"Topic2\", \"Topic2\", \"Topic2\", \"Topic2\", \"Topic2\", \"Topic2\", \"Topic2\", \"Topic2\", \"Topic2\", \"Topic2\", \"Topic2\", \"Topic2\", \"Topic2\", \"Topic2\", \"Topic2\", \"Topic2\", \"Topic2\", \"Topic2\", \"Topic2\", \"Topic2\", \"Topic2\", \"Topic2\", \"Topic2\", \"Topic2\", \"Topic2\", \"Topic2\", \"Topic2\", \"Topic2\", \"Topic2\", \"Topic2\", \"Topic2\", \"Topic2\", \"Topic2\", \"Topic2\", \"Topic2\", \"Topic2\", \"Topic2\", \"Topic2\", \"Topic2\", \"Topic2\", \"Topic2\", \"Topic2\", \"Topic2\", \"Topic2\", \"Topic2\", \"Topic2\", \"Topic2\", \"Topic2\", \"Topic2\", \"Topic2\", \"Topic2\", \"Topic2\", \"Topic2\", \"Topic2\", \"Topic2\", \"Topic2\", \"Topic2\", \"Topic2\", \"Topic2\", \"Topic2\", \"Topic2\", \"Topic2\", \"Topic2\", \"Topic2\", \"Topic2\", \"Topic2\", \"Topic2\", \"Topic2\", \"Topic2\", \"Topic2\", \"Topic2\", \"Topic2\", \"Topic2\", \"Topic3\", \"Topic3\", \"Topic3\", \"Topic3\", \"Topic3\", \"Topic3\", \"Topic3\", \"Topic3\", \"Topic3\", \"Topic3\", \"Topic3\", \"Topic3\", \"Topic3\", \"Topic3\", \"Topic3\", \"Topic3\", \"Topic3\", \"Topic3\", \"Topic3\", \"Topic3\", \"Topic3\", \"Topic3\", \"Topic3\", \"Topic3\", \"Topic3\", \"Topic3\", \"Topic3\", \"Topic3\", \"Topic3\", \"Topic3\", \"Topic3\", \"Topic3\", \"Topic3\", \"Topic3\", \"Topic3\", \"Topic3\", \"Topic3\", \"Topic3\", \"Topic3\", \"Topic3\", \"Topic3\", \"Topic3\", \"Topic3\", \"Topic3\", \"Topic3\", \"Topic3\", \"Topic3\", \"Topic3\", \"Topic3\", \"Topic3\", \"Topic3\", \"Topic3\", \"Topic3\", \"Topic3\", \"Topic3\", \"Topic3\", \"Topic3\", \"Topic3\", \"Topic3\", \"Topic3\", \"Topic3\", \"Topic3\", \"Topic3\", \"Topic3\", \"Topic3\", \"Topic3\", \"Topic3\", \"Topic3\", \"Topic3\", \"Topic3\", \"Topic3\", \"Topic3\", \"Topic4\", \"Topic4\", \"Topic4\", \"Topic4\", \"Topic4\", \"Topic4\", \"Topic4\", \"Topic4\", \"Topic4\", \"Topic4\", \"Topic4\", \"Topic4\", \"Topic4\", \"Topic4\", \"Topic4\", \"Topic4\", \"Topic4\", \"Topic4\", \"Topic4\", \"Topic4\", \"Topic4\", \"Topic4\", \"Topic4\", \"Topic4\", \"Topic4\", \"Topic4\", \"Topic4\", \"Topic4\", \"Topic4\", \"Topic4\", \"Topic4\", \"Topic4\", \"Topic4\", \"Topic4\", \"Topic4\", \"Topic4\", \"Topic4\", \"Topic4\", \"Topic4\", \"Topic4\", \"Topic4\", \"Topic4\", \"Topic4\", \"Topic4\", \"Topic4\", \"Topic4\", \"Topic4\", \"Topic4\", \"Topic4\", \"Topic4\", \"Topic4\", \"Topic4\", \"Topic4\", \"Topic4\", \"Topic4\", \"Topic4\", \"Topic4\", \"Topic4\", \"Topic4\", \"Topic4\", \"Topic4\", \"Topic4\", \"Topic4\", \"Topic4\", \"Topic4\", \"Topic4\", \"Topic4\", \"Topic4\", \"Topic4\", \"Topic4\", \"Topic4\", \"Topic5\", \"Topic5\", \"Topic5\", \"Topic5\", \"Topic5\", \"Topic5\", \"Topic5\", \"Topic5\", \"Topic5\", \"Topic5\", \"Topic5\", \"Topic5\", \"Topic5\", \"Topic5\", \"Topic5\", \"Topic5\", \"Topic5\", \"Topic5\", \"Topic5\", \"Topic5\", \"Topic5\", \"Topic5\", \"Topic5\", \"Topic5\", \"Topic5\", \"Topic5\", \"Topic5\", \"Topic5\", \"Topic5\", \"Topic5\", \"Topic5\", \"Topic5\", \"Topic5\", \"Topic5\", \"Topic5\", \"Topic5\", \"Topic5\", \"Topic5\", \"Topic5\", \"Topic5\", \"Topic5\", \"Topic5\", \"Topic5\", \"Topic5\", \"Topic5\", \"Topic5\", \"Topic5\", \"Topic5\", \"Topic5\", \"Topic5\", \"Topic5\", \"Topic5\", \"Topic5\", \"Topic5\", \"Topic5\", \"Topic5\", \"Topic5\", \"Topic5\", \"Topic5\", \"Topic5\", \"Topic5\", \"Topic5\", \"Topic5\", \"Topic5\", \"Topic5\", \"Topic5\", \"Topic5\", \"Topic5\"], \"logprob\": [30.0, 29.0, 28.0, 27.0, 26.0, 25.0, 24.0, 23.0, 22.0, 21.0, 20.0, 19.0, 18.0, 17.0, 16.0, 15.0, 14.0, 13.0, 12.0, 11.0, 10.0, 9.0, 8.0, 7.0, 6.0, 5.0, 4.0, 3.0, 2.0, 1.0, -6.8191, -6.8174, -6.9956, -7.2149, -6.9916, -7.2054, -7.2045, -7.4903, -6.8191, -7.4903, -7.4902, -7.49, -7.49, -7.4912, -7.4878, -7.4872, -5.4833, -7.4871, -7.1941, -7.4888, -7.4897, -7.2041, -7.4732, -7.4745, -7.4692, -7.4688, -7.8666, -7.8665, -7.8665, -7.8665, -3.61, -5.8225, -5.9528, -5.8782, -3.4488, -6.1044, -4.1884, -5.5515, -6.6519, -6.2673, -6.1132, -4.5449, -2.6059, -4.1644, -6.6435, -5.2598, -4.2127, -6.7827, -5.0379, -4.9466, -5.2849, -3.919, -4.351, -5.8862, -4.5215, -5.2128, -4.8735, -5.2339, -6.0406, -5.6817, -4.912, -4.8232, -4.4788, -5.1624, -5.5691, -5.2973, -5.0976, -5.4509, -4.834, -5.4116, -5.3612, -5.5069, -6.6937, -6.871, -7.0856, -6.6787, -7.3573, -7.3573, -7.3562, -7.3594, -7.3527, -7.3503, -7.3494, -7.3482, -7.3459, -7.3492, -7.3449, -7.3432, -7.3419, -7.7336, -7.7336, -7.7336, -7.7335, -7.7335, -7.7335, -7.7335, -7.7335, -7.7335, -7.7335, -7.7335, -7.7335, -7.7335, -6.3823, -7.3349, -6.0596, -3.5647, -4.6041, -6.8214, -6.1915, -6.6783, -4.0964, -5.1563, -7.3361, -4.5366, -7.1318, -5.1881, -6.322, -2.6071, -5.559, -4.224, -4.8587, -5.6685, -6.1953, -6.1036, -6.6242, -6.1814, -5.9161, -5.6035, -4.0521, -5.4939, -5.6168, -4.5315, -5.5978, -5.0783, -5.5396, -4.3364, -4.7809, -4.9306, -5.319, -5.572, -5.5335, -5.435, -5.0474, -5.349, -4.9123, -5.1902, -5.3555, -5.3991, -5.2545, -5.2401, -5.4488, -5.2124, -5.4888, -5.5059, -6.2721, -6.7378, -6.3996, -6.9509, -6.9425, -6.7283, -6.94, -7.2232, -6.715, -7.2231, -7.2195, -7.2187, -7.2162, -7.2152, -7.2151, -7.216, -5.7785, -6.928, -7.2103, -6.7047, -7.2073, -6.9288, -5.5708, -7.1986, -6.5375, -7.2023, -7.5994, -7.5994, -7.5993, -7.5993, -5.8545, -5.9367, -5.2931, -6.7111, -5.7686, -4.7872, -5.8147, -3.4696, -5.102, -6.2186, -4.728, -6.5074, -5.5611, -5.8812, -4.3013, -6.4973, -5.2721, -5.8317, -4.5773, -2.7882, -5.1159, -3.8903, -4.9531, -4.0056, -5.5714, -4.4773, -4.6859, -5.4959, -5.2252, -5.6709, -5.033, -5.1653, -4.9501, -5.0593, -5.309, -5.1169, -5.0329, -5.5412, -5.4386, -5.5268, -5.5227, -5.5119, -5.5348, -6.208, -6.5301, -6.5286, -6.7446, -7.0196, -6.4156, -7.0121, -5.4789, -7.4091, -7.4091, -7.4091, -7.4091, -7.409, -7.4089, -7.4097, -7.4055, -7.4022, -7.4014, -7.3987, -7.3974, -7.397, -7.3966, -7.3963, -7.3961, -7.3947, -7.3936, -7.3933, -7.3914, -7.3914, -5.521, -5.6519, -6.4832, -5.6039, -6.2721, -4.7619, -4.8593, -5.9082, -4.1655, -2.8847, -3.9177, -5.5981, -6.0706, -3.9754, -4.9235, -5.4191, -5.6514, -4.0287, -4.4082, -5.2362, -5.5683, -5.0225, -5.3822, -4.6477, -4.9566, -5.1363, -4.5269, -5.5323, -5.5596, -4.9987, -5.0146, -4.8932, -4.9726, -5.3297, -5.1009, -5.2208, -5.4335, -5.4474, -5.3963, -5.4196, -5.478, -6.5924, -6.5862, -6.9682, -6.968, -6.9679, -6.9666, -6.9648, -6.9541, -6.9505, -6.9476, -7.5868, -7.5868, -7.5868, -7.5868, -7.5868, -7.5868, -7.5867, -7.5867, -7.5867, -7.5867, -7.5867, -7.5867, -7.5867, -7.5867, -7.5867, -7.5867, -7.5867, -7.5867, -7.5867, -7.5867, -6.4796, -2.7333, -5.282, -5.2677, -5.2735, -4.9378, -6.8548, -5.5631, -5.497, -5.5546, -5.5573, -6.3681, -4.222, -4.2204, -5.7212, -4.8725, -4.539, -4.9999, -5.5326, -4.3157, -4.4617, -4.9692, -4.9498, -4.8075, -4.8977, -5.1045, -4.8682, -5.4074, -4.9547, -5.869, -5.1437, -5.5671, -5.3708, -5.2392, -5.2427, -5.3047, -5.4915, -5.5118], \"loglift\": [30.0, 29.0, 28.0, 27.0, 26.0, 25.0, 24.0, 23.0, 22.0, 21.0, 20.0, 19.0, 18.0, 17.0, 16.0, 15.0, 14.0, 13.0, 12.0, 11.0, 10.0, 9.0, 8.0, 7.0, 6.0, 5.0, 4.0, 3.0, 2.0, 1.0, 0.9835, 0.9797, 0.9727, 0.964, 0.9628, 0.942, 0.9401, 0.9364, 0.9363, 0.9363, 0.9362, 0.9357, 0.9356, 0.935, 0.9308, 0.9294, 0.9251, 0.9235, 0.9154, 0.9152, 0.9145, 0.9118, 0.8985, 0.8977, 0.89, 0.8807, 0.8742, 0.8741, 0.8741, 0.874, 0.8555, 0.8725, 0.8596, 0.8061, 0.6414, 0.8086, 0.6625, 0.7389, 0.8274, 0.7608, 0.7299, 0.4485, 0.0827, 0.3547, 0.7868, 0.5184, 0.2717, 0.7981, 0.3843, 0.3608, 0.427, 0.0605, 0.1718, 0.5563, 0.1427, 0.3348, 0.1654, 0.2878, 0.5512, 0.3712, -0.0266, -0.1947, -0.4262, -0.0439, 0.2306, -0.0214, -0.2493, 0.1052, -0.7072, -0.0516, -0.262, -0.0866, 1.1878, 1.159, 1.153, 1.1482, 1.114, 1.1139, 1.1115, 1.1098, 1.1031, 1.0974, 1.0952, 1.0924, 1.0871, 1.0861, 1.0848, 1.0806, 1.078, 1.048, 1.0479, 1.0479, 1.0479, 1.0479, 1.0479, 1.0479, 1.0479, 1.0478, 1.0478, 1.0478, 1.0478, 1.0477, 1.0057, 1.0285, 0.8834, 0.5622, 0.6789, 0.9428, 0.8536, 0.9135, 0.5321, 0.6867, 0.993, 0.5625, 0.9565, 0.6177, 0.8152, 0.0815, 0.6521, 0.2604, 0.4172, 0.6303, 0.7606, 0.7013, 0.8636, 0.7092, 0.616, 0.4932, -0.0726, 0.4482, 0.4648, -0.0087, 0.4368, 0.1454, 0.3688, -0.2838, -0.1168, -0.0452, 0.1799, 0.3247, 0.2761, 0.1936, -0.1991, 0.0712, -0.3932, -0.1513, 0.0046, 0.0232, -0.261, -0.3892, 0.029, -1.1222, -0.0166, 0.0263, 1.3721, 1.3607, 1.3552, 1.3214, 1.3091, 1.3065, 1.3044, 1.2934, 1.2931, 1.293, 1.2827, 1.2818, 1.2756, 1.2732, 1.2727, 1.2726, 1.2714, 1.2627, 1.2609, 1.2609, 1.2534, 1.2465, 1.2426, 1.2318, 1.2277, 1.2256, 1.2229, 1.2229, 1.2226, 1.2226, 1.206, 1.1991, 1.1846, 1.2123, 1.1835, 1.1085, 1.0496, 0.583, 0.8748, 1.0745, 0.7498, 1.1252, 0.8964, 0.9558, 0.547, 1.1051, 0.7782, 0.9243, 0.5413, -0.0996, 0.6314, 0.0892, 0.519, 0.1212, 0.7449, 0.1869, 0.1995, 0.5858, 0.4008, 0.6043, 0.0059, 0.0584, -0.4274, -0.4308, -0.0259, -0.5978, -0.9427, 0.3068, -0.0184, -0.0279, -0.4235, -1.0275, 1.6941, 1.6495, 1.6184, 1.6136, 1.5939, 1.5574, 1.5557, 1.5355, 1.526, 1.5148, 1.5148, 1.5147, 1.5147, 1.5145, 1.5143, 1.5112, 1.5055, 1.4966, 1.4947, 1.4876, 1.4842, 1.4831, 1.4821, 1.4813, 1.4808, 1.477, 1.4747, 1.4739, 1.4688, 1.4685, 1.4126, 1.3892, 1.3418, 1.1469, 1.1794, 0.7704, 0.621, 0.9714, 0.3536, -0.1961, 0.1725, 0.8022, 0.9778, 0.0772, 0.4366, 0.6338, 0.738, -0.0492, 0.1145, 0.4756, 0.6337, 0.2013, 0.4273, -0.1633, 0.0368, 0.1712, -0.4001, 0.5178, 0.5411, -0.1133, -0.1663, -0.4277, -0.3441, 0.0906, -0.4368, -0.1819, 0.1951, 0.1087, -0.2778, -0.5686, 0.0437, 2.448, 2.4232, 2.3174, 2.3164, 2.3161, 2.3109, 2.303, 2.259, 2.2432, 2.2333, 2.0523, 2.0523, 2.0522, 2.0522, 2.0522, 2.0521, 2.052, 2.052, 2.052, 2.052, 2.0519, 2.0519, 2.0519, 2.0519, 2.0518, 2.0518, 2.0518, 2.0518, 2.0518, 2.0518, 1.6833, -0.0447, 0.9669, 0.9343, 0.86, 0.5425, 1.6337, 0.8483, 0.8004, 0.8105, 0.8014, 1.284, -0.1318, -0.1678, 0.815, 0.2461, -0.0162, 0.2238, 0.5874, -0.3362, -0.3349, 0.0698, 0.0436, -0.179, -0.2335, -0.0054, -0.3838, 0.2186, -0.4356, 0.8031, -0.2583, 0.3675, -0.0634, -0.3909, -0.3917, -0.8392, -0.0713, -0.0895]}, \"token.table\": {\"Topic\": [1, 2, 3, 4, 5, 1, 5, 1, 2, 3, 4, 5, 1, 2, 3, 4, 5, 1, 2, 3, 4, 5, 4, 1, 1, 4, 2, 1, 2, 3, 4, 5, 3, 4, 1, 2, 3, 1, 3, 1, 1, 1, 2, 3, 4, 5, 1, 2, 3, 4, 5, 3, 3, 1, 2, 4, 1, 2, 3, 4, 5, 1, 2, 3, 4, 5, 5, 1, 2, 3, 4, 5, 2, 1, 2, 3, 4, 5, 3, 1, 2, 3, 4, 5, 1, 2, 3, 4, 5, 1, 2, 3, 4, 5, 4, 2, 1, 2, 3, 4, 5, 2, 1, 2, 3, 4, 5, 3, 1, 2, 3, 4, 5, 1, 2, 1, 2, 3, 4, 5, 2, 1, 2, 3, 4, 5, 3, 1, 2, 3, 4, 1, 2, 3, 4, 5, 1, 1, 1, 2, 3, 4, 1, 2, 3, 4, 5, 1, 2, 3, 4, 5, 2, 2, 1, 2, 3, 4, 5, 1, 2, 3, 4, 4, 1, 2, 3, 4, 5, 1, 2, 3, 4, 5, 1, 2, 4, 3, 1, 2, 3, 4, 5, 4, 3, 4, 1, 2, 1, 2, 3, 4, 5, 2, 2, 1, 2, 3, 4, 4, 1, 2, 4, 1, 2, 3, 4, 5, 4, 3, 1, 2, 3, 4, 5, 1, 1, 2, 3, 4, 5, 1, 2, 3, 4, 5, 1, 2, 3, 4, 5, 1, 2, 3, 4, 5, 1, 2, 3, 4, 5, 1, 2, 3, 4, 5, 1, 1, 1, 4, 1, 2, 3, 4, 5, 4, 5, 1, 2, 3, 4, 3, 2, 4, 1, 1, 2, 3, 4, 1, 2, 3, 4, 5, 1, 2, 3, 4, 5, 1, 2, 1, 2, 3, 4, 5, 2, 1, 2, 3, 4, 5, 3, 3, 3, 1, 2, 3, 4, 5, 3, 1, 2, 3, 4, 5, 4, 1, 2, 3, 4, 5, 1, 2, 3, 4, 5, 1, 2, 3, 4, 5, 1, 2, 3, 4, 5, 2, 1, 2, 3, 4, 5, 1, 2, 3, 4, 5, 1, 1, 2, 3, 4, 5, 4, 1, 2, 3, 4, 1, 2, 3, 4, 5, 1, 2, 3, 4, 2, 1, 2, 3, 4, 5, 2, 4, 3, 1, 2, 3, 4, 5, 5, 2, 2, 1, 1, 2, 3, 4, 5, 1, 2, 3, 4, 5, 2, 3, 1, 2, 3, 4, 3, 1, 2, 3, 4, 5, 4, 1, 2, 3, 4, 2, 1, 2, 3, 4, 5, 1, 2, 3, 4, 5, 3, 3, 3, 4, 4, 3, 1, 1, 2, 3, 4, 5, 1, 2, 3, 4, 5, 2, 1, 2, 3, 4, 2, 5, 4, 1, 5, 2, 2, 5, 1, 1, 2, 3, 4, 5, 1, 1, 2, 3, 2, 1, 2, 3, 4, 5, 1, 2, 3, 4, 5, 1, 4, 1, 2, 3, 4, 5, 1, 2, 3, 4, 5, 1, 2, 3, 4, 2, 3, 4, 1, 2, 3, 4, 4, 4, 2, 1, 2, 3, 4, 5, 1, 4, 1, 2, 3, 4, 5, 1, 5, 1, 2, 3, 4, 5, 1, 2, 3, 4, 5, 3, 2, 1, 2, 3, 4, 1, 2, 3, 4, 3, 1, 2, 3, 4, 5, 1, 1, 1, 4, 4, 1, 3, 2, 1, 2, 3, 4, 5, 1, 2, 3, 4, 5, 2, 3, 3, 4, 1, 5, 1, 2, 3, 4, 5, 1, 2, 3, 4, 5, 1, 1, 2, 3, 4, 5, 2, 3, 1, 2, 3, 4, 5, 1, 3, 2, 1, 2, 3, 4, 2, 1, 2, 3, 4, 5, 1, 2, 3, 4, 5, 1, 2, 3, 4, 5, 3, 1, 2, 3, 4, 5, 1, 1, 2, 3, 4, 5, 1, 2, 3, 4, 5, 4, 1, 2, 3, 4, 5, 1, 2, 3, 4, 5, 5, 2, 1, 2, 3, 4, 5, 3, 4, 1, 2, 3, 4, 5, 2, 2, 3, 1, 2, 3, 4, 1, 2, 3, 4, 5, 1, 2, 3, 4, 1, 2, 3, 4, 5, 4, 1, 2, 3, 4, 5, 1, 2, 3, 4, 5, 1, 2, 3, 4, 5], \"Freq\": [0.16622388113500122, 0.16622388113500122, 0.33244776227000244, 0.33244776227000244, 0.16622388113500122, 0.3836260355299967, 0.3836260355299967, 0.6813951926299521, 0.08517439907874401, 0.042587199539372005, 0.17034879815748802, 0.042587199539372005, 0.34614039789620327, 0.2845785150488919, 0.19513955317638304, 0.1254468556133891, 0.04762334333471253, 0.25861834326238226, 0.4445002774822195, 0.13739099485814057, 0.10506370195034279, 0.04040911613474722, 0.5627326034728776, 0.8444331016233259, 0.7154665946158569, 0.5563259990974267, 0.5142441822840739, 0.7124451841377832, 0.0890556480172229, 0.0890556480172229, 0.0890556480172229, 0.836234365410343, 0.7891104599123471, 0.5657120436316935, 0.0991849497440919, 0.0991849497440919, 0.6942946482086432, 0.9872113314516574, 0.754108161685866, 0.7209348139670441, 0.705065167272727, 0.6039214327367257, 0.08492645147860206, 0.08492645147860206, 0.17928917534371544, 0.04246322573930103, 0.3197325015080718, 0.3778656836004485, 0.11626636418475339, 0.14533295523094172, 0.029066591046188348, 0.7698181847949837, 0.9081368059605907, 0.699174969754186, 0.1398349939508372, 0.1398349939508372, 0.3034499345273164, 0.14512822955654262, 0.3694173115984721, 0.11874127872808032, 0.06596737707115573, 0.37768520193214894, 0.23148447860357513, 0.21930108499286066, 0.12183393610714481, 0.048733574442857926, 0.8444317329570936, 0.7177578912410337, 0.07177578912410337, 0.07177578912410337, 0.07177578912410337, 0.849916829246878, 0.6541909644375898, 0.2450428592877651, 0.5173127029408374, 0.13613492182653616, 0.05445396873061446, 0.02722698436530723, 0.6539972576945171, 0.11802296812249796, 0.5114328618641578, 0.23604593624499592, 0.11802296812249796, 0.03934098937416599, 0.3781028608228453, 0.2617635190312006, 0.1381529683775781, 0.16723780382548925, 0.05089846203384456, 0.2394473066448787, 0.27935519108569185, 0.11972365332243935, 0.31926307552650496, 0.03990788444081312, 0.5926359534339813, 0.7275112008435075, 0.47015605216111167, 0.13433030061746049, 0.10074772546309536, 0.3022431763892861, 0.03358257515436512, 0.5140753279300833, 0.08253549327578456, 0.08253549327578456, 0.742819439482061, 0.08253549327578456, 0.08253549327578456, 0.7311794461992307, 0.3306659335491075, 0.4208475517897732, 0.1202421576542209, 0.09018161824066567, 0.030060539413555225, 0.720541634780564, 0.7257835074524783, 0.15552390258747142, 0.5132288785386557, 0.21773346362246, 0.09331434155248286, 0.031104780517494286, 0.5141332152025893, 0.3009885566486052, 0.2736259605896411, 0.3009885566486052, 0.10945038423585644, 0.02736259605896411, 0.9270241414393473, 0.08701647557086545, 0.1740329511417309, 0.08701647557086545, 0.6961318045669236, 0.15660121967255422, 0.460016082788128, 0.24468940573836595, 0.1027695504101137, 0.03425651680337123, 0.682684133893756, 0.9873032214723555, 0.15815138667540474, 0.15815138667540474, 0.632605546701619, 0.15815138667540474, 0.3685340636865666, 0.23452167689145148, 0.25964899941553554, 0.10050929009633634, 0.04187887087347348, 0.17318577520854533, 0.2968899003575063, 0.3958532004766751, 0.07422247508937657, 0.04948165005958439, 0.7514823597073987, 0.5141303237648993, 0.20668595317597965, 0.2630548494967014, 0.3570030100312376, 0.1315274247483507, 0.03757926421381448, 0.7658912034260125, 0.06382426695216771, 0.06382426695216771, 0.06382426695216771, 0.8708514926273857, 0.28564009777250826, 0.329584728199048, 0.17577852170615893, 0.17577852170615893, 0.04394463042653973, 0.21914499882118782, 0.26297399858542536, 0.3287174982317817, 0.15340149917483148, 0.06574349964635634, 0.7878107078717183, 0.8963171921400745, 0.660342950798888, 0.5354444608011174, 0.3910931225963853, 0.18251012387831314, 0.18251012387831314, 0.20858299871807215, 0.05214574967951804, 0.5608473087039416, 0.7221290222462892, 0.5929218344108087, 0.12763424861233558, 0.7658054916740135, 0.2894713975432153, 0.308769490712763, 0.21227902486502456, 0.1543847453563815, 0.038596186339095374, 0.6770831030722446, 0.514142351036679, 0.1410333224201506, 0.5641332896806024, 0.1410333224201506, 0.1410333224201506, 0.8164896726281483, 0.6657227336466736, 0.13314454672933473, 0.13314454672933473, 0.5756532504113103, 0.05756532504113103, 0.05756532504113103, 0.28782662520565516, 0.05756532504113103, 0.5683603439054858, 0.7444349609637434, 0.1036916292374935, 0.414766516949974, 0.38020264053747616, 0.06912775282499567, 0.034563876412497835, 0.9120763111146697, 0.16270656345368706, 0.4881196903610612, 0.21694208460491607, 0.10847104230245803, 0.05423552115122902, 0.21052966707419568, 0.42105933414839136, 0.21052966707419568, 0.10526483353709784, 0.03508827784569928, 0.6661747961593419, 0.07401942179548243, 0.07401942179548243, 0.14803884359096486, 0.07401942179548243, 0.3474162928165646, 0.22479877770483592, 0.20436252518621445, 0.16349002014897157, 0.04087250503724289, 0.31348337114153985, 0.2507866969132319, 0.26123614261794986, 0.13584279416133394, 0.04179778281887198, 0.4775990577110177, 0.1432797173133053, 0.09551981154220354, 0.23879952885550884, 0.023879952885550886, 0.8182205577424363, 0.6741893881245653, 0.7097148829000909, 0.5782406028005725, 0.218525778237838, 0.1311154669427028, 0.437051556475676, 0.1311154669427028, 0.0437051556475676, 0.2770048254821497, 0.2770048254821497, 0.07184612774514929, 0.14369225549029857, 0.7184612774514929, 0.07184612774514929, 0.5356537898549567, 0.5141704997504004, 0.5924828377687241, 0.7052348103564351, 0.15522139927307999, 0.54327489745578, 0.15522139927307999, 0.07761069963653999, 0.13567462614965803, 0.20351193922448704, 0.5426985045986321, 0.06783731307482901, 0.06783731307482901, 0.16487309305346506, 0.39569542332831614, 0.13189847444277203, 0.23082233027485108, 0.03297461861069301, 0.7738311335939293, 0.15476622671878587, 0.6158537927494847, 0.18172734868017582, 0.08076771052452258, 0.09086367434008791, 0.03028789144669597, 0.5141543132719585, 0.09337323188338723, 0.2178708743945702, 0.5291149806725276, 0.12449764251118296, 0.06224882125559148, 0.8413581971373602, 0.5356310468309083, 0.9209727326120389, 0.30235655585090215, 0.2687613829785797, 0.15117827792545108, 0.23516621010625724, 0.033595172872322464, 0.6822609918854651, 0.46477056839350506, 0.2681368663808683, 0.10725474655234732, 0.10725474655234732, 0.05362737327617366, 0.5766978541272835, 0.25172564178746487, 0.21144953910147046, 0.372553949845448, 0.13089733372948173, 0.030207077014495782, 0.08178562598752638, 0.654285007900211, 0.08178562598752638, 0.08178562598752638, 0.08178562598752638, 0.11480341896436587, 0.11480341896436587, 0.6601196590451037, 0.08610256422327439, 0.028700854741091467, 0.44576479279441067, 0.2634064684694245, 0.16209628828887662, 0.08104814414443831, 0.040524072072219156, 0.7163571935235833, 0.20901659355684654, 0.19992891557611409, 0.38622631418112946, 0.16357820365318426, 0.040894550913296066, 0.38597040931409193, 0.17154240413959643, 0.17154240413959643, 0.17154240413959643, 0.12865680310469732, 0.7211554245552754, 0.2198454458776179, 0.30778362422866506, 0.23450180893612577, 0.19053271976060218, 0.05862545223403144, 0.8140057717556805, 0.082854302362908, 0.579980116540356, 0.165708604725816, 0.165708604725816, 0.12882966883622082, 0.4723754523994763, 0.25765933767244165, 0.08588644589081387, 0.042943222945406936, 0.162041011640306, 0.162041011640306, 0.081020505820153, 0.648164046561224, 0.7918793829814482, 0.5005843998759091, 0.19790546041605708, 0.09313198137226215, 0.1629809674014588, 0.04656599068613108, 0.7541804088501316, 0.5710216085978916, 0.7462161890812427, 0.211378425503722, 0.28183790067162934, 0.17614868791976834, 0.24660816308767566, 0.03522973758395367, 0.6661562642074248, 0.7276083393736671, 0.5142201092062381, 0.7140064706941887, 0.20246183112460614, 0.06748727704153537, 0.13497455408307074, 0.4724109392907476, 0.06748727704153537, 0.08388888842138435, 0.29361110947484526, 0.3774999978962296, 0.2097222210534609, 0.041944444210692176, 0.1629964745643346, 0.6519858982573384, 0.23029330890415778, 0.15352887260277187, 0.23029330890415778, 0.38382218150692965, 0.7777762124573714, 0.3378742574683149, 0.2449588366645283, 0.23651198022782044, 0.14359655942403382, 0.03378742574683149, 0.5911503604705289, 0.8146736334690501, 0.04792197843935589, 0.04792197843935589, 0.09584395687871178, 0.7525992762700849, 0.2841446965202829, 0.18942979768018858, 0.17048681791216974, 0.2841446965202829, 0.09471489884009429, 0.200980365115862, 0.200980365115862, 0.46895418527034466, 0.06699345503862067, 0.033496727519310335, 0.8244682464974677, 0.7765397521392833, 0.7118270902098276, 0.5928452959703476, 0.5667380144872416, 0.9015661284917805, 0.72104397250745, 0.5359075534035729, 0.15311644382959227, 0.20415525843945634, 0.10207762921972817, 0.025519407304932042, 0.23608360022774266, 0.4983987115919012, 0.10492604454566341, 0.13115755568207926, 0.05246302227283171, 0.7234258211102496, 0.09932581380132204, 0.5959548828079322, 0.09932581380132204, 0.19865162760264407, 0.7313619461261847, 0.7917691717646551, 0.5928868851088726, 0.8160265972060998, 0.7667071031494702, 0.5142158974050124, 0.5141917637517166, 0.6458641287991995, 0.76859528839497, 0.694557744652051, 0.12628322630037292, 0.06314161315018646, 0.06314161315018646, 0.06314161315018646, 0.9873584000557306, 0.09101954471473324, 0.09101954471473324, 0.7281563577178659, 0.7342875954513214, 0.1424810486215656, 0.4986836701754796, 0.2137215729323484, 0.0712405243107828, 0.0712405243107828, 0.24585488877952083, 0.46583031558224997, 0.14233704087235416, 0.10351784790716666, 0.05175892395358333, 0.19759954670878999, 0.59279864012637, 0.2854271444445408, 0.2854271444445408, 0.2140703583334056, 0.1605527687500542, 0.0535175895833514, 0.5454084122889183, 0.14874774880606864, 0.09916516587071243, 0.14874774880606864, 0.049582582935356216, 0.09198020519887193, 0.09198020519887193, 0.7358416415909754, 0.09198020519887193, 0.77124242817125, 0.25708080939041666, 0.8191811726154743, 0.0905866766445178, 0.6341067365116246, 0.0905866766445178, 0.1811733532890356, 0.8382424304675471, 0.5660746477897732, 0.5140842266749459, 0.3348984537438774, 0.10046953612316321, 0.2679187629951019, 0.2679187629951019, 0.06697969074877548, 0.9871688683479711, 0.8139997005148784, 0.45599783365864865, 0.18239913346345946, 0.09119956673172973, 0.13679935009759459, 0.09119956673172973, 0.7728315855630166, 0.8502818869826421, 0.7484466025381079, 0.07553130851302006, 0.05493186073674186, 0.09613075628929826, 0.020599447776278198, 0.23390445115774952, 0.19492037596479128, 0.15593630077183301, 0.27288852635070776, 0.11695222557887476, 0.7792230639804913, 0.7425211541231507, 0.14712139818349704, 0.22068209727524554, 0.5884855927339881, 0.07356069909174852, 0.10271262854752469, 0.051356314273762346, 0.7189883998326728, 0.10271262854752469, 0.7671918932308337, 0.32820768554917734, 0.23869649858121988, 0.2088594362585674, 0.14918531161326243, 0.05967412464530497, 0.7372465222335928, 0.7928981855376612, 0.2287122446322487, 0.6861367338967461, 0.5674728184115452, 0.8994727607398634, 0.8544943207709071, 0.8362466944765592, 0.36403542137023925, 0.2548247949591675, 0.1456141685480957, 0.10921062641107177, 0.10921062641107177, 0.21548783521890957, 0.32323175282836436, 0.21548783521890957, 0.1436585568126064, 0.10774391760945479, 0.7437459347111594, 0.18593648367778984, 0.7239544706609203, 0.5928381328397857, 0.6830007712978016, 0.8513198646727826, 0.10065803540272286, 0.25164508850680717, 0.5536191947149758, 0.10065803540272286, 0.05032901770136143, 0.26329944511451936, 0.34228927864887515, 0.10531977804580774, 0.2369695006030674, 0.05265988902290387, 0.7205051502008535, 0.07559531618677358, 0.15119063237354716, 0.6047625294941886, 0.07559531618677358, 0.07559531618677358, 0.6259184340379927, 0.15647960850949819, 0.4343954639661146, 0.2171977319830573, 0.17770723525886506, 0.15796198689676894, 0.039490496724192234, 0.6676310156962996, 0.7672701649777779, 0.7540816406286123, 0.11608202749167584, 0.11608202749167584, 0.5804101374583792, 0.2321640549833517, 0.719224940046008, 0.3088292172757419, 0.4014779824584645, 0.15441460863787096, 0.10809022604650967, 0.030882921727574193, 0.3267467552790675, 0.16337337763953375, 0.16337337763953375, 0.21783117018604498, 0.10891558509302249, 0.27264638395185364, 0.18176425596790244, 0.09088212798395122, 0.3635285119358049, 0.09088212798395122, 0.788673020615512, 0.2852117332195265, 0.23767644434960541, 0.09507057773984216, 0.33274702208944756, 0.04753528886992108, 0.721284391366171, 0.2753537575144961, 0.3671383433526615, 0.09178458583816537, 0.13767687875724804, 0.09178458583816537, 0.20428479798925275, 0.2451417575871033, 0.28599871718495384, 0.1634278383914022, 0.12257087879355165, 0.5561810159799425, 0.13600007772822686, 0.13600007772822686, 0.13600007772822686, 0.5440003109129075, 0.13600007772822686, 0.4198473182446298, 0.342875309899781, 0.07697200834484878, 0.12595419547338893, 0.034987276520385815, 0.7766009737905591, 0.514167843428158, 0.2872763437169866, 0.37345924683208265, 0.20109344060189066, 0.11491053748679465, 0.05745526874339733, 0.7667096525447902, 0.5853180626498998, 0.46214974358198097, 0.19123437665461282, 0.12748958443640854, 0.17529817860006175, 0.047808594163653205, 0.7365792147178074, 0.5141564682101186, 0.5354363278488932, 0.7143833496442455, 0.0793759277382495, 0.0793759277382495, 0.0793759277382495, 0.2821161666490035, 0.23509680554083626, 0.14105808332450176, 0.32913552775717075, 0.04701936110816725, 0.18043631411269442, 0.09021815705634721, 0.09021815705634721, 0.6315270993944304, 0.1700692216087085, 0.2645521225024354, 0.4535179242898893, 0.07558632071498154, 0.03779316035749077, 0.5602893143024336, 0.45639993920492344, 0.1738666435066375, 0.11591109567109167, 0.21733330438329687, 0.02897777391777292, 0.5287054143391889, 0.14419238572886972, 0.0961282571525798, 0.14419238572886972, 0.0961282571525798, 0.31190383288173207, 0.18714229972903926, 0.24952306630538568, 0.18714229972903926, 0.12476153315269284], \"Term\": [\"coins\", \"coins\", \"coins\", \"coins\", \"coins\", \"dhl\", \"dhl\", \"express\", \"express\", \"express\", \"express\", \"express\", \"shoppee\", \"shoppee\", \"shoppee\", \"shoppee\", \"shoppee\", \"\\u0e01\\u0e14\", \"\\u0e01\\u0e14\", \"\\u0e01\\u0e14\", \"\\u0e01\\u0e14\", \"\\u0e01\\u0e14\", \"\\u0e01\\u0e14\\u0e01\\u0e23\\u0e34\\u0e48\\u0e07\", \"\\u0e01\\u0e21\", \"\\u0e01\\u0e23\\u0e13\\u0e35\", \"\\u0e01\\u0e23\\u0e2d\\u0e07\", \"\\u0e01\\u0e25\", \"\\u0e01\\u0e25\\u0e31\\u0e1a\\u0e21\\u0e32\", \"\\u0e01\\u0e25\\u0e31\\u0e1a\\u0e21\\u0e32\", \"\\u0e01\\u0e25\\u0e31\\u0e1a\\u0e21\\u0e32\", \"\\u0e01\\u0e25\\u0e31\\u0e1a\\u0e21\\u0e32\", \"\\u0e01\\u0e25\\u0e32\\u0e22\\u0e40\\u0e1b\\u0e47\\u0e19\", \"\\u0e01\\u0e31\\u0e19\\u0e41\\u0e14\\u0e14\", \"\\u0e01\\u0e32\\u0e01\", \"\\u0e01\\u0e32\\u0e07\\u0e40\\u0e01\\u0e07\", \"\\u0e01\\u0e32\\u0e07\\u0e40\\u0e01\\u0e07\", \"\\u0e01\\u0e32\\u0e07\\u0e40\\u0e01\\u0e07\", \"\\u0e01\\u0e32\\u0e23\\u0e08\\u0e31\\u0e14\\u0e2a\\u0e48\\u0e07\", \"\\u0e01\\u0e32\\u0e27\", \"\\u0e01\\u0e34\\u0e42\\u0e25\", \"\\u0e01\\u0e4a\\u0e2d\", \"\\u0e02\\u0e19\\u0e2a\\u0e48\\u0e07\", \"\\u0e02\\u0e19\\u0e2a\\u0e48\\u0e07\", \"\\u0e02\\u0e19\\u0e2a\\u0e48\\u0e07\", \"\\u0e02\\u0e19\\u0e2a\\u0e48\\u0e07\", \"\\u0e02\\u0e19\\u0e2a\\u0e48\\u0e07\", \"\\u0e02\\u0e19\\u0e32\\u0e14\", \"\\u0e02\\u0e19\\u0e32\\u0e14\", \"\\u0e02\\u0e19\\u0e32\\u0e14\", \"\\u0e02\\u0e19\\u0e32\\u0e14\", \"\\u0e02\\u0e19\\u0e32\\u0e14\", \"\\u0e02\\u0e27\\u0e14\", \"\\u0e02\\u0e2d\\u0e07\\u0e41\\u0e17\\u0e49\", \"\\u0e02\\u0e31\\u0e49\\u0e19\\u0e15\\u0e48\\u0e33\", \"\\u0e02\\u0e31\\u0e49\\u0e19\\u0e15\\u0e48\\u0e33\", \"\\u0e02\\u0e31\\u0e49\\u0e19\\u0e15\\u0e48\\u0e33\", \"\\u0e02\\u0e32\\u0e22\", \"\\u0e02\\u0e32\\u0e22\", \"\\u0e02\\u0e32\\u0e22\", \"\\u0e02\\u0e32\\u0e22\", \"\\u0e02\\u0e32\\u0e22\", \"\\u0e04\\u0e19\", \"\\u0e04\\u0e19\", \"\\u0e04\\u0e19\", \"\\u0e04\\u0e19\", \"\\u0e04\\u0e19\", \"\\u0e04\\u0e25\\u0e35\\u0e19\\u0e34\\u0e01\", \"\\u0e04\\u0e27\\u0e22\", \"\\u0e04\\u0e27\\u0e22\", \"\\u0e04\\u0e27\\u0e22\", \"\\u0e04\\u0e27\\u0e22\", \"\\u0e04\\u0e27\\u0e32\\u0e21\\u0e2a\\u0e31\\u0e21\\u0e1e\\u0e31\\u0e19\\u0e18\\u0e4c\", \"\\u0e04\\u0e35\\u0e22\\u0e4c\\u0e1a\\u0e2d\\u0e23\\u0e4c\\u0e14\", \"\\u0e04\\u0e37\\u0e19\", \"\\u0e04\\u0e37\\u0e19\", \"\\u0e04\\u0e37\\u0e19\", \"\\u0e04\\u0e37\\u0e19\", \"\\u0e04\\u0e37\\u0e19\", \"\\u0e04\\u0e38\\u0e13\\u0e20\\u0e32\\u0e1e\\u0e14\\u0e35\", \"\\u0e04\\u0e38\\u0e49\\u0e21\", \"\\u0e04\\u0e38\\u0e49\\u0e21\", \"\\u0e04\\u0e38\\u0e49\\u0e21\", \"\\u0e04\\u0e38\\u0e49\\u0e21\", \"\\u0e04\\u0e38\\u0e49\\u0e21\", \"\\u0e04\\u0e48\\u0e32\", \"\\u0e04\\u0e48\\u0e32\", \"\\u0e04\\u0e48\\u0e32\", \"\\u0e04\\u0e48\\u0e32\", \"\\u0e04\\u0e48\\u0e32\", \"\\u0e07\\u0e07\", \"\\u0e07\\u0e07\", \"\\u0e07\\u0e07\", \"\\u0e07\\u0e07\", \"\\u0e07\\u0e07\", \"\\u0e07\\u0e48\\u0e2d\\u0e22\", \"\\u0e08\\u0e2d\", \"\\u0e08\\u0e31\\u0e14\\u0e2a\\u0e48\\u0e07\", \"\\u0e08\\u0e31\\u0e14\\u0e2a\\u0e48\\u0e07\", \"\\u0e08\\u0e31\\u0e14\\u0e2a\\u0e48\\u0e07\", \"\\u0e08\\u0e31\\u0e14\\u0e2a\\u0e48\\u0e07\", \"\\u0e08\\u0e31\\u0e14\\u0e2a\\u0e48\\u0e07\", \"\\u0e08\\u0e34\\u0e49\\u0e07\", \"\\u0e08\\u0e35\\u0e19\", \"\\u0e08\\u0e35\\u0e19\", \"\\u0e08\\u0e35\\u0e19\", \"\\u0e08\\u0e35\\u0e19\", \"\\u0e08\\u0e35\\u0e19\", \"\\u0e08\\u0e38\\u0e01\", \"\\u0e08\\u0e48\\u0e32\\u0e22\", \"\\u0e08\\u0e48\\u0e32\\u0e22\", \"\\u0e08\\u0e48\\u0e32\\u0e22\", \"\\u0e08\\u0e48\\u0e32\\u0e22\", \"\\u0e08\\u0e48\\u0e32\\u0e22\", \"\\u0e0a\\u0e19\\u0e0a\\u0e31\\u0e49\\u0e19\", \"\\u0e0a\\u0e27\\u0e19\", \"\\u0e0a\\u0e2d\\u0e1a\", \"\\u0e0a\\u0e2d\\u0e1a\", \"\\u0e0a\\u0e2d\\u0e1a\", \"\\u0e0a\\u0e2d\\u0e1a\", \"\\u0e0a\\u0e2d\\u0e1a\", \"\\u0e0a\\u0e31\\u0e01\\u0e42\\u0e04\\u0e23\\u0e01\", \"\\u0e0a\\u0e31\\u0e49\\u0e19\", \"\\u0e0a\\u0e31\\u0e49\\u0e19\", \"\\u0e0a\\u0e31\\u0e49\\u0e19\", \"\\u0e0a\\u0e31\\u0e49\\u0e19\", \"\\u0e0a\\u0e31\\u0e49\\u0e19\", \"\\u0e0a\\u0e49\\u0e2d\\u0e1b\\u0e1b\\u0e34\\u0e49\\u0e07\", \"\\u0e0b\\u0e32\", \"\\u0e0b\\u0e32\", \"\\u0e0b\\u0e32\", \"\\u0e0b\\u0e32\", \"\\u0e0b\\u0e37\\u0e49\\u0e2d\", \"\\u0e0b\\u0e37\\u0e49\\u0e2d\", \"\\u0e0b\\u0e37\\u0e49\\u0e2d\", \"\\u0e0b\\u0e37\\u0e49\\u0e2d\", \"\\u0e0b\\u0e37\\u0e49\\u0e2d\", \"\\u0e0b\\u0e49\\u0e33\\u0e46\", \"\\u0e13\\u0e14\\u0e25\", \"\\u0e14\\u0e32\\u0e27\", \"\\u0e14\\u0e32\\u0e27\", \"\\u0e14\\u0e32\\u0e27\", \"\\u0e14\\u0e32\\u0e27\", \"\\u0e14\\u0e35\", \"\\u0e14\\u0e35\", \"\\u0e14\\u0e35\", \"\\u0e14\\u0e35\", \"\\u0e14\\u0e35\", \"\\u0e14\\u0e35\\u0e21\\u0e32\\u0e01\", \"\\u0e14\\u0e35\\u0e21\\u0e32\\u0e01\", \"\\u0e14\\u0e35\\u0e21\\u0e32\\u0e01\", \"\\u0e14\\u0e35\\u0e21\\u0e32\\u0e01\", \"\\u0e14\\u0e35\\u0e21\\u0e32\\u0e01\", \"\\u0e14\\u0e35\\u0e44\\u0e0b\\u0e19\\u0e4c\", \"\\u0e14\\u0e37\\u0e48\\u0e21\", \"\\u0e14\\u0e39\", \"\\u0e14\\u0e39\", \"\\u0e14\\u0e39\", \"\\u0e14\\u0e39\", \"\\u0e14\\u0e39\", \"\\u0e14\\u0e48\\u0e32\", \"\\u0e14\\u0e48\\u0e32\", \"\\u0e14\\u0e48\\u0e32\", \"\\u0e14\\u0e48\\u0e32\", \"\\u0e14\\u0e49\\u0e32\", \"\\u0e15\\u0e2d\\u0e19\", \"\\u0e15\\u0e2d\\u0e19\", \"\\u0e15\\u0e2d\\u0e19\", \"\\u0e15\\u0e2d\\u0e19\", \"\\u0e15\\u0e2d\\u0e19\", \"\\u0e15\\u0e31\\u0e27\", \"\\u0e15\\u0e31\\u0e27\", \"\\u0e15\\u0e31\\u0e27\", \"\\u0e15\\u0e31\\u0e27\", \"\\u0e15\\u0e31\\u0e27\", \"\\u0e15\\u0e32\\u0e22\", \"\\u0e15\\u0e34\", \"\\u0e15\\u0e35\\u0e01\\u0e25\\u0e31\\u0e1a\", \"\\u0e15\\u0e4a\\u0e2d\\u0e01\", \"\\u0e16\\u0e32\\u0e21\", \"\\u0e16\\u0e32\\u0e21\", \"\\u0e16\\u0e32\\u0e21\", \"\\u0e16\\u0e32\\u0e21\", \"\\u0e16\\u0e32\\u0e21\", \"\\u0e16\\u0e36\\u0e07\\u0e17\\u0e35\\u0e48\", \"\\u0e16\\u0e48\\u0e32\\u0e22\\u0e23\\u0e39\\u0e1b\", \"\\u0e17\\u0e23\\u0e32\\u0e22\", \"\\u0e17\\u0e27\\u0e34\\u0e15\", \"\\u0e17\\u0e27\\u0e34\\u0e15\", \"\\u0e17\\u0e33\", \"\\u0e17\\u0e33\", \"\\u0e17\\u0e33\", \"\\u0e17\\u0e33\", \"\\u0e17\\u0e33\", \"\\u0e17\\u0e35\\u0e48\\u0e19\\u0e35\\u0e48\", \"\\u0e19\\u0e19\", \"\\u0e19\\u0e21\", \"\\u0e19\\u0e21\", \"\\u0e19\\u0e21\", \"\\u0e19\\u0e21\", \"\\u0e19\\u0e31\\u0e14\", \"\\u0e19\\u0e32\\u0e17\\u0e35\", \"\\u0e19\\u0e32\\u0e17\\u0e35\", \"\\u0e19\\u0e32\\u0e17\\u0e35\", \"\\u0e19\\u0e34\\u0e19\\u0e08\\u0e32\", \"\\u0e19\\u0e34\\u0e19\\u0e08\\u0e32\", \"\\u0e19\\u0e34\\u0e19\\u0e08\\u0e32\", \"\\u0e19\\u0e34\\u0e19\\u0e08\\u0e32\", \"\\u0e19\\u0e34\\u0e19\\u0e08\\u0e32\", \"\\u0e19\\u0e34\\u0e22\\u0e32\\u0e22\", \"\\u0e19\\u0e38\\u0e48\\u0e21\", \"\\u0e19\\u0e48\\u0e32\\u0e23\\u0e31\\u0e01\", \"\\u0e19\\u0e48\\u0e32\\u0e23\\u0e31\\u0e01\", \"\\u0e19\\u0e48\\u0e32\\u0e23\\u0e31\\u0e01\", \"\\u0e19\\u0e48\\u0e32\\u0e23\\u0e31\\u0e01\", \"\\u0e19\\u0e48\\u0e32\\u0e23\\u0e31\\u0e01\", \"\\u0e19\\u0e48\\u0e32\\u0e40\\u0e1a\\u0e37\\u0e48\\u0e2d\", \"\\u0e19\\u0e49\\u0e2d\\u0e07\", \"\\u0e19\\u0e49\\u0e2d\\u0e07\", \"\\u0e19\\u0e49\\u0e2d\\u0e07\", \"\\u0e19\\u0e49\\u0e2d\\u0e07\", \"\\u0e19\\u0e49\\u0e2d\\u0e07\", \"\\u0e19\\u0e49\\u0e32\", \"\\u0e19\\u0e49\\u0e32\", \"\\u0e19\\u0e49\\u0e32\", \"\\u0e19\\u0e49\\u0e32\", \"\\u0e19\\u0e49\\u0e32\", \"\\u0e1a\\u0e23\\u0e34\\u0e01\\u0e32\\u0e23\", \"\\u0e1a\\u0e23\\u0e34\\u0e01\\u0e32\\u0e23\", \"\\u0e1a\\u0e23\\u0e34\\u0e01\\u0e32\\u0e23\", \"\\u0e1a\\u0e23\\u0e34\\u0e01\\u0e32\\u0e23\", \"\\u0e1a\\u0e23\\u0e34\\u0e01\\u0e32\\u0e23\", \"\\u0e1a\\u0e23\\u0e34\\u0e29\\u0e31\\u0e17\", \"\\u0e1a\\u0e23\\u0e34\\u0e29\\u0e31\\u0e17\", \"\\u0e1a\\u0e23\\u0e34\\u0e29\\u0e31\\u0e17\", \"\\u0e1a\\u0e23\\u0e34\\u0e29\\u0e31\\u0e17\", \"\\u0e1a\\u0e23\\u0e34\\u0e29\\u0e31\\u0e17\", \"\\u0e1a\\u0e32\\u0e17\", \"\\u0e1a\\u0e32\\u0e17\", \"\\u0e1a\\u0e32\\u0e17\", \"\\u0e1a\\u0e32\\u0e17\", \"\\u0e1a\\u0e32\\u0e17\", \"\\u0e1a\\u0e49\\u0e32\\u0e19\", \"\\u0e1a\\u0e49\\u0e32\\u0e19\", \"\\u0e1a\\u0e49\\u0e32\\u0e19\", \"\\u0e1a\\u0e49\\u0e32\\u0e19\", \"\\u0e1a\\u0e49\\u0e32\\u0e19\", \"\\u0e1b\\u0e13\", \"\\u0e1b\\u0e23\\u0e30\\u0e40\\u0e17\\u0e28\", \"\\u0e1b\\u0e27\\u0e14\\u0e2b\\u0e31\\u0e27\", \"\\u0e1b\\u0e35\\u0e49\", \"\\u0e1c\\u0e21\", \"\\u0e1c\\u0e21\", \"\\u0e1c\\u0e21\", \"\\u0e1c\\u0e21\", \"\\u0e1c\\u0e21\", \"\\u0e1c\\u0e39\\u0e49\\u0e23\\u0e31\\u0e1a\", \"\\u0e1c\\u0e39\\u0e49\\u0e23\\u0e31\\u0e1a\", \"\\u0e1c\\u0e49\\u0e32\", \"\\u0e1c\\u0e49\\u0e32\", \"\\u0e1c\\u0e49\\u0e32\", \"\\u0e1c\\u0e49\\u0e32\", \"\\u0e1c\\u0e49\\u0e32\\u0e2b\\u0e48\\u0e21\", \"\\u0e1d\\u0e31\\u0e48\\u0e07\", \"\\u0e1e\\u0e23\\u0e30\\u0e40\\u0e08\\u0e49\\u0e32\", \"\\u0e1e\\u0e2d\\u0e44\\u0e14\\u0e49\", \"\\u0e1e\\u0e31\\u0e19\", \"\\u0e1e\\u0e31\\u0e19\", \"\\u0e1e\\u0e31\\u0e19\", \"\\u0e1e\\u0e31\\u0e19\", \"\\u0e1e\\u0e34\\u0e01\\u0e31\\u0e14\", \"\\u0e1e\\u0e34\\u0e01\\u0e31\\u0e14\", \"\\u0e1e\\u0e34\\u0e01\\u0e31\\u0e14\", \"\\u0e1e\\u0e34\\u0e01\\u0e31\\u0e14\", \"\\u0e1e\\u0e34\\u0e01\\u0e31\\u0e14\", \"\\u0e1e\\u0e35\\u0e48\", \"\\u0e1e\\u0e35\\u0e48\", \"\\u0e1e\\u0e35\\u0e48\", \"\\u0e1e\\u0e35\\u0e48\", \"\\u0e1e\\u0e35\\u0e48\", \"\\u0e1e\\u0e37\\u0e49\\u0e19\\u0e17\\u0e35\\u0e48\", \"\\u0e1e\\u0e37\\u0e49\\u0e19\\u0e17\\u0e35\\u0e48\", \"\\u0e1f\\u0e23\\u0e35\", \"\\u0e1f\\u0e23\\u0e35\", \"\\u0e1f\\u0e23\\u0e35\", \"\\u0e1f\\u0e23\\u0e35\", \"\\u0e1f\\u0e23\\u0e35\", \"\\u0e21\\u0e2d\\u0e25\\u0e25\\u0e4c\", \"\\u0e21\\u0e32\\u0e08\\u0e32\\u0e01\", \"\\u0e21\\u0e32\\u0e08\\u0e32\\u0e01\", \"\\u0e21\\u0e32\\u0e08\\u0e32\\u0e01\", \"\\u0e21\\u0e32\\u0e08\\u0e32\\u0e01\", \"\\u0e21\\u0e32\\u0e08\\u0e32\\u0e01\", \"\\u0e21\\u0e32\\u0e2a\", \"\\u0e22\\u0e32\\u0e07\", \"\\u0e22\\u0e35\\u0e19\\u0e2a\\u0e4c\", \"\\u0e23\\u0e2d\", \"\\u0e23\\u0e2d\", \"\\u0e23\\u0e2d\", \"\\u0e23\\u0e2d\", \"\\u0e23\\u0e2d\", \"\\u0e23\\u0e2d\\u0e07\\u0e40\\u0e17\\u0e49\\u0e32\", \"\\u0e23\\u0e30\\u0e1a\\u0e1a\", \"\\u0e23\\u0e30\\u0e1a\\u0e1a\", \"\\u0e23\\u0e30\\u0e1a\\u0e1a\", \"\\u0e23\\u0e30\\u0e1a\\u0e1a\", \"\\u0e23\\u0e30\\u0e1a\\u0e1a\", \"\\u0e23\\u0e31\\u0e49\\u0e27\", \"\\u0e23\\u0e32\\u0e04\\u0e32\", \"\\u0e23\\u0e32\\u0e04\\u0e32\", \"\\u0e23\\u0e32\\u0e04\\u0e32\", \"\\u0e23\\u0e32\\u0e04\\u0e32\", \"\\u0e23\\u0e32\\u0e04\\u0e32\", \"\\u0e23\\u0e35\", \"\\u0e23\\u0e35\", \"\\u0e23\\u0e35\", \"\\u0e23\\u0e35\", \"\\u0e23\\u0e35\", \"\\u0e23\\u0e35\\u0e27\\u0e34\\u0e27\", \"\\u0e23\\u0e35\\u0e27\\u0e34\\u0e27\", \"\\u0e23\\u0e35\\u0e27\\u0e34\\u0e27\", \"\\u0e23\\u0e35\\u0e27\\u0e34\\u0e27\", \"\\u0e23\\u0e35\\u0e27\\u0e34\\u0e27\", \"\\u0e23\\u0e39\\u0e49\", \"\\u0e23\\u0e39\\u0e49\", \"\\u0e23\\u0e39\\u0e49\", \"\\u0e23\\u0e39\\u0e49\", \"\\u0e23\\u0e39\\u0e49\", \"\\u0e23\\u0e49\\u0e32\", \"\\u0e23\\u0e49\\u0e32\\u0e19\", \"\\u0e23\\u0e49\\u0e32\\u0e19\", \"\\u0e23\\u0e49\\u0e32\\u0e19\", \"\\u0e23\\u0e49\\u0e32\\u0e19\", \"\\u0e23\\u0e49\\u0e32\\u0e19\", \"\\u0e23\\u0e49\\u0e32\\u0e19\\u0e04\\u0e49\\u0e32\", \"\\u0e23\\u0e49\\u0e32\\u0e19\\u0e04\\u0e49\\u0e32\", \"\\u0e23\\u0e49\\u0e32\\u0e19\\u0e04\\u0e49\\u0e32\", \"\\u0e23\\u0e49\\u0e32\\u0e19\\u0e04\\u0e49\\u0e32\", \"\\u0e23\\u0e49\\u0e32\\u0e19\\u0e04\\u0e49\\u0e32\", \"\\u0e25\\u0e07\\u0e21\\u0e32\", \"\\u0e25\\u0e14\", \"\\u0e25\\u0e14\", \"\\u0e25\\u0e14\", \"\\u0e25\\u0e14\", \"\\u0e25\\u0e14\", \"\\u0e25\\u0e19\", \"\\u0e25\\u0e1a\", \"\\u0e25\\u0e1a\", \"\\u0e25\\u0e1a\", \"\\u0e25\\u0e1a\", \"\\u0e25\\u0e2d\\u0e07\", \"\\u0e25\\u0e2d\\u0e07\", \"\\u0e25\\u0e2d\\u0e07\", \"\\u0e25\\u0e2d\\u0e07\", \"\\u0e25\\u0e2d\\u0e07\", \"\\u0e25\\u0e32\", \"\\u0e25\\u0e32\", \"\\u0e25\\u0e32\", \"\\u0e25\\u0e32\", \"\\u0e25\\u0e32\\u0e22\", \"\\u0e25\\u0e39\\u0e01\\u0e04\\u0e49\\u0e32\", \"\\u0e25\\u0e39\\u0e01\\u0e04\\u0e49\\u0e32\", \"\\u0e25\\u0e39\\u0e01\\u0e04\\u0e49\\u0e32\", \"\\u0e25\\u0e39\\u0e01\\u0e04\\u0e49\\u0e32\", \"\\u0e25\\u0e39\\u0e01\\u0e04\\u0e49\\u0e32\", \"\\u0e25\\u0e48\\u0e32\", \"\\u0e25\\u0e49\\u0e32\\u0e19\", \"\\u0e27\\u0e31\\u0e15\\u0e2a\\u0e31\\u0e19\", \"\\u0e27\\u0e31\\u0e19\\u0e17\\u0e35\\u0e48\", \"\\u0e27\\u0e31\\u0e19\\u0e17\\u0e35\\u0e48\", \"\\u0e27\\u0e31\\u0e19\\u0e17\\u0e35\\u0e48\", \"\\u0e27\\u0e31\\u0e19\\u0e17\\u0e35\\u0e48\", \"\\u0e27\\u0e31\\u0e19\\u0e17\\u0e35\\u0e48\", \"\\u0e27\\u0e34\\u0e01\", \"\\u0e27\\u0e48\\u0e32\\u0e07\", \"\\u0e28\\u0e31\\u0e1e\\u0e17\\u0e4c\", \"\\u0e2a\\u0e02\\u0e04\", \"\\u0e2a\\u0e16\\u0e32\\u0e19\\u0e30\", \"\\u0e2a\\u0e16\\u0e32\\u0e19\\u0e30\", \"\\u0e2a\\u0e16\\u0e32\\u0e19\\u0e30\", \"\\u0e2a\\u0e16\\u0e32\\u0e19\\u0e30\", \"\\u0e2a\\u0e16\\u0e32\\u0e19\\u0e30\", \"\\u0e2a\\u0e27\\u0e22\", \"\\u0e2a\\u0e27\\u0e22\", \"\\u0e2a\\u0e27\\u0e22\", \"\\u0e2a\\u0e27\\u0e22\", \"\\u0e2a\\u0e27\\u0e22\", \"\\u0e2a\\u0e2d\\u0e22\", \"\\u0e2a\\u0e2d\\u0e22\", \"\\u0e2a\\u0e30\\u0e14\\u0e27\\u0e01\", \"\\u0e2a\\u0e30\\u0e14\\u0e27\\u0e01\", \"\\u0e2a\\u0e30\\u0e14\\u0e27\\u0e01\", \"\\u0e2a\\u0e30\\u0e14\\u0e27\\u0e01\", \"\\u0e2a\\u0e30\\u0e2a\\u0e21\", \"\\u0e2a\\u0e31\\u0e48\\u0e07\", \"\\u0e2a\\u0e31\\u0e48\\u0e07\", \"\\u0e2a\\u0e31\\u0e48\\u0e07\", \"\\u0e2a\\u0e31\\u0e48\\u0e07\", \"\\u0e2a\\u0e31\\u0e48\\u0e07\", \"\\u0e2a\\u0e31\\u0e48\\u0e07\\u0e25\\u0e32\", \"\\u0e2a\\u0e32\\u0e23\\u0e30\\u0e41\\u0e19\", \"\\u0e2a\\u0e32\\u0e23\\u0e30\\u0e41\\u0e19\", \"\\u0e2a\\u0e32\\u0e23\\u0e30\\u0e41\\u0e19\", \"\\u0e2a\\u0e32\\u0e23\\u0e30\\u0e41\\u0e19\", \"\\u0e2a\\u0e34\\u0e17\\u0e18\\u0e34\\u0e4c\", \"\\u0e2a\\u0e34\\u0e19\\u0e04\\u0e49\\u0e32\", \"\\u0e2a\\u0e34\\u0e19\\u0e04\\u0e49\\u0e32\", \"\\u0e2a\\u0e34\\u0e19\\u0e04\\u0e49\\u0e32\", \"\\u0e2a\\u0e34\\u0e19\\u0e04\\u0e49\\u0e32\", \"\\u0e2a\\u0e34\\u0e19\\u0e04\\u0e49\\u0e32\", \"\\u0e2a\\u0e35\", \"\\u0e2a\\u0e35\", \"\\u0e2a\\u0e35\", \"\\u0e2a\\u0e35\", \"\\u0e2a\\u0e35\", \"\\u0e2a\\u0e44\\u0e15\\u0e25\\u0e4c\", \"\\u0e2b\\u0e19\\u0e31\\u0e07\\u0e2a\\u0e37\\u0e2d\", \"\\u0e2b\\u0e19\\u0e32\", \"\\u0e2b\\u0e19\\u0e49\\u0e32\\u0e01\\u0e32\\u0e01\", \"\\u0e2b\\u0e25\\u0e31\\u0e07\\u0e04\\u0e32\", \"\\u0e2b\\u0e25\\u0e38\\u0e14\", \"\\u0e2b\\u0e25\\u0e48\\u0e2d\\u0e19\", \"\\u0e2b\\u0e31\\u0e01\", \"\\u0e2b\\u0e31\\u0e01\", \"\\u0e2b\\u0e31\\u0e01\", \"\\u0e2b\\u0e31\\u0e01\", \"\\u0e2b\\u0e31\\u0e01\", \"\\u0e2b\\u0e32\", \"\\u0e2b\\u0e32\", \"\\u0e2b\\u0e32\", \"\\u0e2b\\u0e32\", \"\\u0e2b\\u0e32\", \"\\u0e2b\\u0e32\\u0e23\", \"\\u0e2b\\u0e49\\u0e2d\\u0e07\", \"\\u0e2b\\u0e49\\u0e2d\\u0e07\", \"\\u0e2b\\u0e49\\u0e2d\\u0e07\", \"\\u0e2b\\u0e49\\u0e2d\\u0e07\", \"\\u0e2b\\u0e49\\u0e32\\u0e21\", \"\\u0e2d\\u0e14\", \"\\u0e2d\\u0e19\\u0e32\\u0e21\\u0e31\\u0e22\", \"\\u0e2d\\u0e19\\u0e38\\u0e21\\u0e31\\u0e15\\u0e34\", \"\\u0e2d\\u0e1a\", \"\\u0e2d\\u0e27\\u0e22\", \"\\u0e2d\\u0e2a\", \"\\u0e2d\\u0e31\\u0e48\\u0e07\\u0e40\\u0e1b\\u0e32\", \"\\u0e2d\\u0e32\\u0e17\\u0e34\\u0e15\\u0e22\\u0e4c\", \"\\u0e2d\\u0e35\\u0e01\\u0e41\\u0e25\\u0e49\\u0e27\", \"\\u0e2d\\u0e35\\u0e01\\u0e41\\u0e25\\u0e49\\u0e27\", \"\\u0e2d\\u0e35\\u0e01\\u0e41\\u0e25\\u0e49\\u0e27\", \"\\u0e2d\\u0e35\\u0e01\\u0e41\\u0e25\\u0e49\\u0e27\", \"\\u0e2d\\u0e35\\u0e01\\u0e41\\u0e25\\u0e49\\u0e27\", \"\\u0e40\\u0e01\\u0e23\\u0e14\", \"\\u0e40\\u0e01\\u0e32\\u0e2b\\u0e25\\u0e35\", \"\\u0e40\\u0e01\\u0e32\\u0e2b\\u0e25\\u0e35\", \"\\u0e40\\u0e01\\u0e32\\u0e2b\\u0e25\\u0e35\", \"\\u0e40\\u0e01\\u0e35\\u0e22\", \"\\u0e40\\u0e04\\u0e2a\", \"\\u0e40\\u0e04\\u0e2a\", \"\\u0e40\\u0e04\\u0e2a\", \"\\u0e40\\u0e04\\u0e2a\", \"\\u0e40\\u0e04\\u0e2a\", \"\\u0e40\\u0e07\\u0e34\\u0e19\", \"\\u0e40\\u0e07\\u0e34\\u0e19\", \"\\u0e40\\u0e07\\u0e34\\u0e19\", \"\\u0e40\\u0e07\\u0e34\\u0e19\", \"\\u0e40\\u0e07\\u0e34\\u0e19\", \"\\u0e40\\u0e07\\u0e37\\u0e48\\u0e2d\\u0e19\\u0e44\\u0e02\", \"\\u0e40\\u0e07\\u0e37\\u0e48\\u0e2d\\u0e19\\u0e44\\u0e02\", \"\\u0e40\\u0e08\\u0e2d\", \"\\u0e40\\u0e08\\u0e2d\", \"\\u0e40\\u0e08\\u0e2d\", \"\\u0e40\\u0e08\\u0e2d\", \"\\u0e40\\u0e08\\u0e2d\", \"\\u0e40\\u0e08\\u0e49\\u0e32\", \"\\u0e40\\u0e08\\u0e49\\u0e32\", \"\\u0e40\\u0e08\\u0e49\\u0e32\", \"\\u0e40\\u0e08\\u0e49\\u0e32\", \"\\u0e40\\u0e08\\u0e49\\u0e32\", \"\\u0e40\\u0e14\\u0e35\\u0e4b\\u0e22\\u0e27\", \"\\u0e40\\u0e14\\u0e35\\u0e4b\\u0e22\\u0e27\", \"\\u0e40\\u0e14\\u0e35\\u0e4b\\u0e22\\u0e27\", \"\\u0e40\\u0e14\\u0e35\\u0e4b\\u0e22\\u0e27\", \"\\u0e40\\u0e14\\u0e47\\u0e14\", \"\\u0e40\\u0e14\\u0e47\\u0e14\", \"\\u0e40\\u0e17\\u0e35\\u0e22\\u0e19\", \"\\u0e40\\u0e17\\u0e35\\u0e48\\u0e22\\u0e07\\u0e04\\u0e37\\u0e19\", \"\\u0e40\\u0e17\\u0e35\\u0e48\\u0e22\\u0e07\\u0e04\\u0e37\\u0e19\", \"\\u0e40\\u0e17\\u0e35\\u0e48\\u0e22\\u0e07\\u0e04\\u0e37\\u0e19\", \"\\u0e40\\u0e17\\u0e35\\u0e48\\u0e22\\u0e07\\u0e04\\u0e37\\u0e19\", \"\\u0e40\\u0e1e\\u0e25\\u0e22\\u0e4c\", \"\\u0e40\\u0e1e\\u0e25\\u0e2a\", \"\\u0e40\\u0e1e\\u0e25\\u0e34\\u0e19\", \"\\u0e40\\u0e23\\u0e37\\u0e48\\u0e2d\\u0e07\", \"\\u0e40\\u0e23\\u0e37\\u0e48\\u0e2d\\u0e07\", \"\\u0e40\\u0e23\\u0e37\\u0e48\\u0e2d\\u0e07\", \"\\u0e40\\u0e23\\u0e37\\u0e48\\u0e2d\\u0e07\", \"\\u0e40\\u0e23\\u0e37\\u0e48\\u0e2d\\u0e07\", \"\\u0e40\\u0e23\\u0e48\\u0e07\", \"\\u0e40\\u0e25\\u0e02\", \"\\u0e40\\u0e25\\u0e34\\u0e01\", \"\\u0e40\\u0e25\\u0e34\\u0e01\", \"\\u0e40\\u0e25\\u0e34\\u0e01\", \"\\u0e40\\u0e25\\u0e34\\u0e01\", \"\\u0e40\\u0e25\\u0e34\\u0e01\", \"\\u0e40\\u0e25\\u0e34\\u0e01\\u0e43\\u0e0a\\u0e49\", \"\\u0e40\\u0e25\\u0e35\\u0e49\\u0e22\\u0e07\", \"\\u0e40\\u0e25\\u0e37\\u0e2d\\u0e01\", \"\\u0e40\\u0e25\\u0e37\\u0e2d\\u0e01\", \"\\u0e40\\u0e25\\u0e37\\u0e2d\\u0e01\", \"\\u0e40\\u0e25\\u0e37\\u0e2d\\u0e01\", \"\\u0e40\\u0e25\\u0e37\\u0e2d\\u0e01\", \"\\u0e40\\u0e25\\u0e37\\u0e48\\u0e2d\\u0e19\", \"\\u0e40\\u0e25\\u0e37\\u0e48\\u0e2d\\u0e19\", \"\\u0e40\\u0e25\\u0e37\\u0e48\\u0e2d\\u0e19\", \"\\u0e40\\u0e25\\u0e37\\u0e48\\u0e2d\\u0e19\", \"\\u0e40\\u0e25\\u0e37\\u0e48\\u0e2d\\u0e19\", \"\\u0e40\\u0e25\\u0e47\\u0e1a\", \"\\u0e40\\u0e2a\\u0e35\\u0e22\\u0e14\\u0e32\\u0e22\", \"\\u0e40\\u0e2a\\u0e37\\u0e49\\u0e2d\", \"\\u0e40\\u0e2a\\u0e37\\u0e49\\u0e2d\", \"\\u0e40\\u0e2a\\u0e37\\u0e49\\u0e2d\", \"\\u0e40\\u0e2a\\u0e37\\u0e49\\u0e2d\", \"\\u0e40\\u0e2a\\u0e37\\u0e49\\u0e2d\\u0e1c\\u0e49\\u0e32\", \"\\u0e40\\u0e2a\\u0e37\\u0e49\\u0e2d\\u0e1c\\u0e49\\u0e32\", \"\\u0e40\\u0e2a\\u0e37\\u0e49\\u0e2d\\u0e1c\\u0e49\\u0e32\", \"\\u0e40\\u0e2a\\u0e37\\u0e49\\u0e2d\\u0e1c\\u0e49\\u0e32\", \"\\u0e40\\u0e2b\\u0e19\\u0e35\\u0e22\\u0e27\", \"\\u0e40\\u0e2b\\u0e21\\u0e37\\u0e2d\\u0e19\", \"\\u0e40\\u0e2b\\u0e21\\u0e37\\u0e2d\\u0e19\", \"\\u0e40\\u0e2b\\u0e21\\u0e37\\u0e2d\\u0e19\", \"\\u0e40\\u0e2b\\u0e21\\u0e37\\u0e2d\\u0e19\", \"\\u0e40\\u0e2b\\u0e21\\u0e37\\u0e2d\\u0e19\", \"\\u0e40\\u0e2b\\u0e21\\u0e37\\u0e2d\\u0e19\\u0e40\\u0e14\\u0e34\\u0e21\", \"\\u0e40\\u0e2b\\u0e2d\\u0e30\", \"\\u0e40\\u0e2d\\u0e32\\u0e40\\u0e1b\\u0e23\\u0e35\\u0e22\\u0e1a\", \"\\u0e40\\u0e2d\\u0e32\\u0e40\\u0e1b\\u0e23\\u0e35\\u0e22\\u0e1a\", \"\\u0e40\\u0e2d\\u0e47\\u0e01\\u0e40\\u0e1e\\u0e25\\u0e2a\", \"\\u0e41\\u0e04\\u0e21\\u0e40\\u0e1b\\u0e0d\", \"\\u0e41\\u0e04\\u0e23\\u0e4c\", \"\\u0e41\\u0e07\", \"\\u0e41\\u0e08\\u0e01\", \"\\u0e41\\u0e08\\u0e01\", \"\\u0e41\\u0e08\\u0e01\", \"\\u0e41\\u0e08\\u0e01\", \"\\u0e41\\u0e08\\u0e01\", \"\\u0e41\\u0e08\\u0e49\\u0e07\", \"\\u0e41\\u0e08\\u0e49\\u0e07\", \"\\u0e41\\u0e08\\u0e49\\u0e07\", \"\\u0e41\\u0e08\\u0e49\\u0e07\", \"\\u0e41\\u0e08\\u0e49\\u0e07\", \"\\u0e41\\u0e0a\\u0e17\", \"\\u0e41\\u0e0a\\u0e17\", \"\\u0e41\\u0e0a\\u0e23\\u0e4c\", \"\\u0e41\\u0e15\\u0e19\", \"\\u0e41\\u0e17\\u0e19\\u0e17\\u0e35\\u0e48\", \"\\u0e41\\u0e17\\u0e49\\u0e46\", \"\\u0e41\\u0e19\\u0e30\\u0e19\\u0e33\", \"\\u0e41\\u0e19\\u0e30\\u0e19\\u0e33\", \"\\u0e41\\u0e19\\u0e30\\u0e19\\u0e33\", \"\\u0e41\\u0e19\\u0e30\\u0e19\\u0e33\", \"\\u0e41\\u0e19\\u0e30\\u0e19\\u0e33\", \"\\u0e41\\u0e1a\\u0e1a\\u0e19\\u0e35\\u0e49\", \"\\u0e41\\u0e1a\\u0e1a\\u0e19\\u0e35\\u0e49\", \"\\u0e41\\u0e1a\\u0e1a\\u0e19\\u0e35\\u0e49\", \"\\u0e41\\u0e1a\\u0e1a\\u0e19\\u0e35\\u0e49\", \"\\u0e41\\u0e1a\\u0e1a\\u0e19\\u0e35\\u0e49\", \"\\u0e41\\u0e1a\\u0e48\\u0e07\", \"\\u0e41\\u0e1b\\u0e30\", \"\\u0e41\\u0e1b\\u0e30\", \"\\u0e41\\u0e1b\\u0e30\", \"\\u0e41\\u0e1b\\u0e30\", \"\\u0e41\\u0e1b\\u0e30\", \"\\u0e41\\u0e1c\\u0e48\\u0e19\", \"\\u0e41\\u0e1c\\u0e48\\u0e19\", \"\\u0e41\\u0e1e\\u0e07\", \"\\u0e41\\u0e1e\\u0e07\", \"\\u0e41\\u0e1e\\u0e07\", \"\\u0e41\\u0e1e\\u0e07\", \"\\u0e41\\u0e1e\\u0e07\", \"\\u0e41\\u0e1e\\u0e25\\u0e15\\u0e1f\\u0e2d\\u0e23\\u0e4c\\u0e21\", \"\\u0e41\\u0e1f\\u0e23\\u0e4c\", \"\\u0e41\\u0e1f\\u0e49\\u0e21\", \"\\u0e41\\u0e21\\u0e27\", \"\\u0e41\\u0e21\\u0e27\", \"\\u0e41\\u0e21\\u0e27\", \"\\u0e41\\u0e21\\u0e27\", \"\\u0e41\\u0e21\\u0e2a\", \"\\u0e41\\u0e21\\u0e48\", \"\\u0e41\\u0e21\\u0e48\", \"\\u0e41\\u0e21\\u0e48\", \"\\u0e41\\u0e21\\u0e48\", \"\\u0e41\\u0e21\\u0e48\", \"\\u0e41\\u0e21\\u0e48\\u0e04\\u0e49\\u0e32\", \"\\u0e41\\u0e21\\u0e48\\u0e04\\u0e49\\u0e32\", \"\\u0e41\\u0e21\\u0e48\\u0e04\\u0e49\\u0e32\", \"\\u0e41\\u0e21\\u0e48\\u0e04\\u0e49\\u0e32\", \"\\u0e41\\u0e21\\u0e48\\u0e04\\u0e49\\u0e32\", \"\\u0e41\\u0e22\\u0e48\\u0e21\\u0e32\\u0e01\", \"\\u0e41\\u0e22\\u0e48\\u0e21\\u0e32\\u0e01\", \"\\u0e41\\u0e22\\u0e48\\u0e21\\u0e32\\u0e01\", \"\\u0e41\\u0e22\\u0e48\\u0e21\\u0e32\\u0e01\", \"\\u0e41\\u0e22\\u0e48\\u0e21\\u0e32\\u0e01\", \"\\u0e41\\u0e23\\u0e01\\u0e40\\u0e2b\\u0e47\\u0e19\", \"\\u0e41\\u0e25\\u0e49\\u0e27\\u0e01\\u0e47\", \"\\u0e41\\u0e25\\u0e49\\u0e27\\u0e01\\u0e47\", \"\\u0e41\\u0e25\\u0e49\\u0e27\\u0e01\\u0e47\", \"\\u0e41\\u0e25\\u0e49\\u0e27\\u0e01\\u0e47\", \"\\u0e41\\u0e25\\u0e49\\u0e27\\u0e01\\u0e47\", \"\\u0e41\\u0e2b\\u0e27\\u0e19\", \"\\u0e41\\u0e2d\", \"\\u0e41\\u0e2d\", \"\\u0e41\\u0e2d\", \"\\u0e41\\u0e2d\", \"\\u0e41\\u0e2d\", \"\\u0e41\\u0e2d\\u0e1e\", \"\\u0e41\\u0e2d\\u0e1e\", \"\\u0e41\\u0e2d\\u0e1e\", \"\\u0e41\\u0e2d\\u0e1e\", \"\\u0e41\\u0e2d\\u0e1e\", \"\\u0e41\\u0e2d\\u0e23\\u0e4c\", \"\\u0e42\\u0e01\\u0e07\", \"\\u0e42\\u0e01\\u0e07\", \"\\u0e42\\u0e01\\u0e07\", \"\\u0e42\\u0e01\\u0e07\", \"\\u0e42\\u0e01\\u0e07\", \"\\u0e42\\u0e04\\u0e49\\u0e14\", \"\\u0e42\\u0e04\\u0e49\\u0e14\", \"\\u0e42\\u0e04\\u0e49\\u0e14\", \"\\u0e42\\u0e04\\u0e49\\u0e14\", \"\\u0e42\\u0e04\\u0e49\\u0e14\", \"\\u0e42\\u0e07\\u0e48\", \"\\u0e42\\u0e0b\\u0e14\\u0e32\", \"\\u0e42\\u0e14\\u0e19\", \"\\u0e42\\u0e14\\u0e19\", \"\\u0e42\\u0e14\\u0e19\", \"\\u0e42\\u0e14\\u0e19\", \"\\u0e42\\u0e14\\u0e19\", \"\\u0e42\\u0e15\\u0e4a\\u0e30\", \"\\u0e42\\u0e15\\u0e4b\", \"\\u0e42\\u0e17\\u0e23\", \"\\u0e42\\u0e17\\u0e23\", \"\\u0e42\\u0e17\\u0e23\", \"\\u0e42\\u0e17\\u0e23\", \"\\u0e42\\u0e17\\u0e23\", \"\\u0e42\\u0e19\", \"\\u0e42\\u0e1b\\u0e23\\u0e42\\u0e21\\u0e0a\\u0e31\\u0e48\\u0e19\", \"\\u0e42\\u0e1e\\u0e2a\", \"\\u0e42\\u0e21\\u0e42\\u0e2b\", \"\\u0e42\\u0e21\\u0e42\\u0e2b\", \"\\u0e42\\u0e21\\u0e42\\u0e2b\", \"\\u0e42\\u0e21\\u0e42\\u0e2b\", \"\\u0e43\\u0e0a\\u0e49\\u0e44\\u0e14\\u0e49\", \"\\u0e43\\u0e0a\\u0e49\\u0e44\\u0e14\\u0e49\", \"\\u0e43\\u0e0a\\u0e49\\u0e44\\u0e14\\u0e49\", \"\\u0e43\\u0e0a\\u0e49\\u0e44\\u0e14\\u0e49\", \"\\u0e43\\u0e0a\\u0e49\\u0e44\\u0e14\\u0e49\", \"\\u0e43\\u0e0a\\u0e49\\u0e44\\u0e21\\u0e48\\u0e44\\u0e14\\u0e49\", \"\\u0e43\\u0e0a\\u0e49\\u0e44\\u0e21\\u0e48\\u0e44\\u0e14\\u0e49\", \"\\u0e43\\u0e0a\\u0e49\\u0e44\\u0e21\\u0e48\\u0e44\\u0e14\\u0e49\", \"\\u0e43\\u0e0a\\u0e49\\u0e44\\u0e21\\u0e48\\u0e44\\u0e14\\u0e49\", \"\\u0e43\\u0e2a\\u0e48\", \"\\u0e43\\u0e2a\\u0e48\", \"\\u0e43\\u0e2a\\u0e48\", \"\\u0e43\\u0e2a\\u0e48\", \"\\u0e43\\u0e2a\\u0e48\", \"\\u0e43\\u0e2a\\u0e49\", \"\\u0e44\\u0e21\\u0e48\\u0e44\\u0e14\\u0e49\", \"\\u0e44\\u0e21\\u0e48\\u0e44\\u0e14\\u0e49\", \"\\u0e44\\u0e21\\u0e48\\u0e44\\u0e14\\u0e49\", \"\\u0e44\\u0e21\\u0e48\\u0e44\\u0e14\\u0e49\", \"\\u0e44\\u0e21\\u0e48\\u0e44\\u0e14\\u0e49\", \"\\u0e44\\u0e2b\\u0e21\", \"\\u0e44\\u0e2b\\u0e21\", \"\\u0e44\\u0e2b\\u0e21\", \"\\u0e44\\u0e2b\\u0e21\", \"\\u0e44\\u0e2b\\u0e21\", \"\\u0e44\\u0e2b\\u0e27\", \"\\u0e44\\u0e2b\\u0e27\", \"\\u0e44\\u0e2b\\u0e27\", \"\\u0e44\\u0e2b\\u0e27\", \"\\u0e44\\u0e2b\\u0e27\"]}, \"R\": 30, \"lambda.step\": 0.01, \"plot.opts\": {\"xlab\": \"PC1\", \"ylab\": \"PC2\"}, \"topic.order\": [5, 4, 1, 3, 2]};\n",
              "\n",
              "function LDAvis_load_lib(url, callback){\n",
              "  var s = document.createElement('script');\n",
              "  s.src = url;\n",
              "  s.async = true;\n",
              "  s.onreadystatechange = s.onload = callback;\n",
              "  s.onerror = function(){console.warn(\"failed to load library \" + url);};\n",
              "  document.getElementsByTagName(\"head\")[0].appendChild(s);\n",
              "}\n",
              "\n",
              "if(typeof(LDAvis) !== \"undefined\"){\n",
              "   // already loaded: just create the visualization\n",
              "   !function(LDAvis){\n",
              "       new LDAvis(\"#\" + \"ldavis_el330140073054299344620384542\", ldavis_el330140073054299344620384542_data);\n",
              "   }(LDAvis);\n",
              "}else if(typeof define === \"function\" && define.amd){\n",
              "   // require.js is available: use it to load d3/LDAvis\n",
              "   require.config({paths: {d3: \"https://d3js.org/d3.v5\"}});\n",
              "   require([\"d3\"], function(d3){\n",
              "      window.d3 = d3;\n",
              "      LDAvis_load_lib(\"https://cdn.jsdelivr.net/gh/bmabey/pyLDAvis@3.3.1/pyLDAvis/js/ldavis.v3.0.0.js\", function(){\n",
              "        new LDAvis(\"#\" + \"ldavis_el330140073054299344620384542\", ldavis_el330140073054299344620384542_data);\n",
              "      });\n",
              "    });\n",
              "}else{\n",
              "    // require.js not available: dynamically load d3 & LDAvis\n",
              "    LDAvis_load_lib(\"https://d3js.org/d3.v5.js\", function(){\n",
              "         LDAvis_load_lib(\"https://cdn.jsdelivr.net/gh/bmabey/pyLDAvis@3.3.1/pyLDAvis/js/ldavis.v3.0.0.js\", function(){\n",
              "                 new LDAvis(\"#\" + \"ldavis_el330140073054299344620384542\", ldavis_el330140073054299344620384542_data);\n",
              "            })\n",
              "         });\n",
              "}\n",
              "</script>"
            ],
            "text/plain": [
              "PreparedData(topic_coordinates=              x         y  topics  cluster       Freq\n",
              "topic                                                \n",
              "4      0.063579 -0.014121       1        1  31.871869\n",
              "3     -0.022667  0.058783       2        1  26.276030\n",
              "0     -0.063414 -0.036934       3        1  21.607816\n",
              "2      0.021615 -0.005067       4        1  15.236913\n",
              "1      0.000887 -0.002660       5        1   5.007372, topic_info=       Term        Freq       Total Category  logprob  loglift\n",
              "2   shoppee  860.000000  860.000000  Default  30.0000  30.0000\n",
              "4     ขนส่ง  211.000000  211.000000  Default  29.0000  29.0000\n",
              "14     ร้าน  220.000000  220.000000  Default  28.0000  28.0000\n",
              "19    เลือก  145.000000  145.000000  Default  27.0000  27.0000\n",
              "23     ซื้อ  204.000000  204.000000  Default  26.0000  26.0000\n",
              "..      ...         ...         ...      ...      ...      ...\n",
              "26     ราคา    3.364110   99.314475   Topic5  -5.2392  -0.3909\n",
              "38      ฟรี    3.352410   99.049483   Topic5  -5.2427  -0.3917\n",
              "19    เลือก    3.150607  145.634972   Topic5  -5.3047  -0.8392\n",
              "29      เจอ    2.613772   56.056336   Topic5  -5.4915  -0.0713\n",
              "13     ระบบ    2.561305   55.941580   Topic5  -5.5118  -0.0895\n",
              "\n",
              "[395 rows x 6 columns], token_table=      Topic      Freq   Term\n",
              "term                        \n",
              "301       1  0.166224  coins\n",
              "301       2  0.166224  coins\n",
              "301       3  0.332448  coins\n",
              "301       4  0.332448  coins\n",
              "301       5  0.166224  coins\n",
              "...     ...       ...    ...\n",
              "803       1  0.311904    ไหว\n",
              "803       2  0.187142    ไหว\n",
              "803       3  0.249523    ไหว\n",
              "803       4  0.187142    ไหว\n",
              "803       5  0.124762    ไหว\n",
              "\n",
              "[680 rows x 3 columns], R=30, lambda_step=0.01, plot_opts={'xlab': 'PC1', 'ylab': 'PC2'}, topic_order=[5, 4, 1, 3, 2])"
            ]
          },
          "metadata": {
            "tags": []
          },
          "execution_count": 63
        }
      ]
    },
    {
      "cell_type": "code",
      "metadata": {
        "colab": {
          "base_uri": "https://localhost:8080/"
        },
        "id": "JNjzqMn8wLrm",
        "outputId": "9b830245-6d76-4098-9e0f-28eeb0f49e2e"
      },
      "source": [
        "model.show_topic(0)"
      ],
      "execution_count": null,
      "outputs": [
        {
          "output_type": "execute_result",
          "data": {
            "text/plain": [
              "[('shoppee', 0.06153451),\n",
              " ('ร้าน', 0.031129742),\n",
              " ('สั่ง', 0.020438595),\n",
              " ('ซื้อ', 0.018213393),\n",
              " ('ราคา', 0.013550577),\n",
              " ('ดี', 0.01136414),\n",
              " ('ขาย', 0.010282678),\n",
              " ('บาท', 0.009224574),\n",
              " ('ใส่', 0.00884383),\n",
              " ('รีวิว', 0.0083355745)]"
            ]
          },
          "metadata": {
            "tags": []
          },
          "execution_count": 64
        }
      ]
    },
    {
      "cell_type": "code",
      "metadata": {
        "colab": {
          "base_uri": "https://localhost:8080/"
        },
        "id": "yl0VhHj1bTDa",
        "outputId": "6128fb62-a7d8-4595-b9a0-da2878d7d8b1"
      },
      "source": [
        "model.show_topic(1)"
      ],
      "execution_count": null,
      "outputs": [
        {
          "output_type": "execute_result",
          "data": {
            "text/plain": [
              "[('shoppee', 0.0650017),\n",
              " ('ร้าน', 0.014692838),\n",
              " ('ขนส่ง', 0.014668654),\n",
              " ('สั่ง', 0.013356893),\n",
              " ('ซื้อ', 0.011542674),\n",
              " ('ค่า', 0.010684444),\n",
              " ('กด', 0.0081681935),\n",
              " ('โค้ด', 0.0076872515),\n",
              " ('ขาย', 0.0076543875),\n",
              " ('ดี', 0.007464077)]"
            ]
          },
          "metadata": {
            "tags": []
          },
          "execution_count": 65
        }
      ]
    },
    {
      "cell_type": "code",
      "metadata": {
        "colab": {
          "base_uri": "https://localhost:8080/"
        },
        "id": "Sq5EE4SAbVRE",
        "outputId": "3d0a38dd-8534-4bcc-ce8d-472af2d93290"
      },
      "source": [
        "model.show_topic(2)"
      ],
      "execution_count": null,
      "outputs": [
        {
          "output_type": "execute_result",
          "data": {
            "text/plain": [
              "[('shoppee', 0.05587356),\n",
              " ('ขนส่ง', 0.01988659),\n",
              " ('ร้าน', 0.018771397),\n",
              " ('สั่ง', 0.017797606),\n",
              " ('ไม่ได้', 0.015522316),\n",
              " ('ค่า', 0.012176746),\n",
              " ('ซื้อ', 0.0108137885),\n",
              " ('โค้ด', 0.009583795),\n",
              " ('งง', 0.008549398),\n",
              " ('สินค้า', 0.007755792)]"
            ]
          },
          "metadata": {
            "tags": []
          },
          "execution_count": 66
        }
      ]
    },
    {
      "cell_type": "code",
      "metadata": {
        "colab": {
          "base_uri": "https://localhost:8080/"
        },
        "id": "y35lyn42bYc8",
        "outputId": "0d368967-48ad-48ae-c64a-861c54ef9154"
      },
      "source": [
        "model.show_topic(3)"
      ],
      "execution_count": null,
      "outputs": [
        {
          "output_type": "execute_result",
          "data": {
            "text/plain": [
              "[('shoppee', 0.07375061),\n",
              " ('ซื้อ', 0.028306833),\n",
              " ('สั่ง', 0.017385976),\n",
              " ('กด', 0.016633272),\n",
              " ('โค้ด', 0.014639619),\n",
              " ('ร้าน', 0.0130839),\n",
              " ('ค่า', 0.010764562),\n",
              " ('เงิน', 0.010709277),\n",
              " ('ชอบ', 0.010010437),\n",
              " ('ดี', 0.00838814)]"
            ]
          },
          "metadata": {
            "tags": []
          },
          "execution_count": 67
        }
      ]
    },
    {
      "cell_type": "code",
      "metadata": {
        "colab": {
          "base_uri": "https://localhost:8080/"
        },
        "id": "ANaGJ57cbr99",
        "outputId": "c45756d4-9df6-49e2-a13c-1f3e7d57ab61"
      },
      "source": [
        "model.show_topic(4)"
      ],
      "execution_count": null,
      "outputs": [
        {
          "output_type": "execute_result",
          "data": {
            "text/plain": [
              "[('shoppee', 0.07383695),\n",
              " ('ขนส่ง', 0.03178325),\n",
              " ('เลือก', 0.027053174),\n",
              " ('สั่ง', 0.019860359),\n",
              " ('ไม่ได้', 0.015539673),\n",
              " ('ฟรี', 0.015169916),\n",
              " ('โค้ด', 0.014806842),\n",
              " ('ค่า', 0.01289445),\n",
              " ('ร้าน', 0.011347275),\n",
              " ('ดี', 0.010873126)]"
            ]
          },
          "metadata": {
            "tags": []
          },
          "execution_count": 68
        }
      ]
    },
    {
      "cell_type": "code",
      "metadata": {
        "id": "MNoRp6GFbw2J"
      },
      "source": [
        ""
      ],
      "execution_count": null,
      "outputs": []
    }
  ]
}